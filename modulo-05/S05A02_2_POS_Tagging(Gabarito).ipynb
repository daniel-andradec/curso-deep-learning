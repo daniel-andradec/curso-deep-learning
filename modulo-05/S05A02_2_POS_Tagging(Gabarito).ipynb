{
  "nbformat": 4,
  "nbformat_minor": 0,
  "metadata": {
    "kernelspec": {
      "display_name": "Python 3",
      "language": "python",
      "name": "python3"
    },
    "language_info": {
      "codemirror_mode": {
        "name": "ipython",
        "version": 3
      },
      "file_extension": ".py",
      "mimetype": "text/x-python",
      "name": "python",
      "nbconvert_exporter": "python",
      "pygments_lexer": "ipython3",
      "version": "3.6.9"
    },
    "colab": {
      "name": "S05A02_2_POS_Tagging(Gabarito).ipynb",
      "provenance": [],
      "collapsed_sections": []
    },
    "accelerator": "GPU"
  },
  "cells": [
    {
      "cell_type": "markdown",
      "metadata": {
        "id": "JwQ8q2eQ50GI"
      },
      "source": [
        "# Preâmbulo\r\n",
        "\r\n"
      ]
    },
    {
      "cell_type": "code",
      "metadata": {
        "colab": {
          "base_uri": "https://localhost:8080/"
        },
        "id": "zCa4ECYE6e2J",
        "outputId": "2d5a7777-e534-4acd-8499-a148cd3790b0"
      },
      "source": [
        "!wget https://www.dropbox.com/s/89xxqp80qhb550l/macmorpho.zip\r\n",
        "!unzip macmorpho.zip\r\n",
        "\r\n",
        "!pip install unidecode\r\n",
        "!pip install torchtext==0.6"
      ],
      "execution_count": 1,
      "outputs": [
        {
          "output_type": "stream",
          "text": [
            "--2021-03-16 00:15:45--  https://www.dropbox.com/s/89xxqp80qhb550l/macmorpho.zip\n",
            "Resolving www.dropbox.com (www.dropbox.com)... 162.125.6.18, 2620:100:6019:18::a27d:412\n",
            "Connecting to www.dropbox.com (www.dropbox.com)|162.125.6.18|:443... connected.\n",
            "HTTP request sent, awaiting response... 301 Moved Permanently\n",
            "Location: /s/raw/89xxqp80qhb550l/macmorpho.zip [following]\n",
            "--2021-03-16 00:15:45--  https://www.dropbox.com/s/raw/89xxqp80qhb550l/macmorpho.zip\n",
            "Reusing existing connection to www.dropbox.com:443.\n",
            "HTTP request sent, awaiting response... 302 Found\n",
            "Location: https://ucb6657df5ec4b9a0572f80e9fd6.dl.dropboxusercontent.com/cd/0/inline/BKyXn-FeycFqonW8nf58x3cbXAvyEWA6XAtBLYZp6dcgVqiKX8yWKpvvA1qhf1IKjYOgoTNpcajC9GCpQXegF0SGMHIIJYuYWHJ2yeheEJ17P-gdPvFI7vdmXz8QmnV2W0KsdTKAiCkvo57YLYeoWVkk/file# [following]\n",
            "--2021-03-16 00:15:46--  https://ucb6657df5ec4b9a0572f80e9fd6.dl.dropboxusercontent.com/cd/0/inline/BKyXn-FeycFqonW8nf58x3cbXAvyEWA6XAtBLYZp6dcgVqiKX8yWKpvvA1qhf1IKjYOgoTNpcajC9GCpQXegF0SGMHIIJYuYWHJ2yeheEJ17P-gdPvFI7vdmXz8QmnV2W0KsdTKAiCkvo57YLYeoWVkk/file\n",
            "Resolving ucb6657df5ec4b9a0572f80e9fd6.dl.dropboxusercontent.com (ucb6657df5ec4b9a0572f80e9fd6.dl.dropboxusercontent.com)... 162.125.6.15, 2620:100:6019:15::a27d:40f\n",
            "Connecting to ucb6657df5ec4b9a0572f80e9fd6.dl.dropboxusercontent.com (ucb6657df5ec4b9a0572f80e9fd6.dl.dropboxusercontent.com)|162.125.6.15|:443... connected.\n",
            "HTTP request sent, awaiting response... 302 Found\n",
            "Location: /cd/0/inline2/BKwKzBloWl5bQsGfe9yn-P0XOt-UbX8P71q91iUHtibuSda1Hccr3VT2Icq6_9Z8V26WixNM-6aOQYSclNv-1U_rdt8vtGcQJSHRJwLOtzmivobQ9olda09eQ0nhip5hLnU-0yqgefiheGhDXMJBMqttEFY4ut1hy2T5IfoQsDm1lBfF-dQx_HO2sY4rUnS1Ih3SCb5rdwqOmsbsm152SHt6XNXIxOurAUDyPjkVaOroP4k5yjUcydKFKbx87lWU1AyUm5UGpn-zpqlyQysBxEZjgAX9HejiXHvmbkUCZyOvqgDM8i4GHchRAaGl9S-fuStB77MSoAEbrrok7axIRRqI-9j9H8b7N_syKvPMEfKJP2fe05kd8nBjSaPmZq7mBUA/file [following]\n",
            "--2021-03-16 00:15:46--  https://ucb6657df5ec4b9a0572f80e9fd6.dl.dropboxusercontent.com/cd/0/inline2/BKwKzBloWl5bQsGfe9yn-P0XOt-UbX8P71q91iUHtibuSda1Hccr3VT2Icq6_9Z8V26WixNM-6aOQYSclNv-1U_rdt8vtGcQJSHRJwLOtzmivobQ9olda09eQ0nhip5hLnU-0yqgefiheGhDXMJBMqttEFY4ut1hy2T5IfoQsDm1lBfF-dQx_HO2sY4rUnS1Ih3SCb5rdwqOmsbsm152SHt6XNXIxOurAUDyPjkVaOroP4k5yjUcydKFKbx87lWU1AyUm5UGpn-zpqlyQysBxEZjgAX9HejiXHvmbkUCZyOvqgDM8i4GHchRAaGl9S-fuStB77MSoAEbrrok7axIRRqI-9j9H8b7N_syKvPMEfKJP2fe05kd8nBjSaPmZq7mBUA/file\n",
            "Reusing existing connection to ucb6657df5ec4b9a0572f80e9fd6.dl.dropboxusercontent.com:443.\n",
            "HTTP request sent, awaiting response... 200 OK\n",
            "Length: 2463669 (2.3M) [application/zip]\n",
            "Saving to: ‘macmorpho.zip’\n",
            "\n",
            "macmorpho.zip       100%[===================>]   2.35M  --.-KB/s    in 0.02s   \n",
            "\n",
            "2021-03-16 00:15:47 (151 MB/s) - ‘macmorpho.zip’ saved [2463669/2463669]\n",
            "\n",
            "Archive:  macmorpho.zip\n",
            "  inflating: macmorpho-dev.txt       \n",
            "  inflating: macmorpho-test.txt      \n",
            "  inflating: macmorpho-train.txt     \n",
            "Collecting unidecode\n",
            "\u001b[?25l  Downloading https://files.pythonhosted.org/packages/9e/25/723487ca2a52ebcee88a34d7d1f5a4b80b793f179ee0f62d5371938dfa01/Unidecode-1.2.0-py2.py3-none-any.whl (241kB)\n",
            "\u001b[K     |████████████████████████████████| 245kB 25.8MB/s \n",
            "\u001b[?25hInstalling collected packages: unidecode\n",
            "Successfully installed unidecode-1.2.0\n",
            "Collecting torchtext==0.6\n",
            "\u001b[?25l  Downloading https://files.pythonhosted.org/packages/f2/17/e7c588245aece7aa93f360894179374830daf60d7ed0bbb59332de3b3b61/torchtext-0.6.0-py3-none-any.whl (64kB)\n",
            "\u001b[K     |████████████████████████████████| 71kB 10.1MB/s \n",
            "\u001b[?25hRequirement already satisfied: requests in /usr/local/lib/python3.7/dist-packages (from torchtext==0.6) (2.23.0)\n",
            "Requirement already satisfied: numpy in /usr/local/lib/python3.7/dist-packages (from torchtext==0.6) (1.19.5)\n",
            "Requirement already satisfied: tqdm in /usr/local/lib/python3.7/dist-packages (from torchtext==0.6) (4.41.1)\n",
            "Collecting sentencepiece\n",
            "\u001b[?25l  Downloading https://files.pythonhosted.org/packages/f5/99/e0808cb947ba10f575839c43e8fafc9cc44e4a7a2c8f79c60db48220a577/sentencepiece-0.1.95-cp37-cp37m-manylinux2014_x86_64.whl (1.2MB)\n",
            "\u001b[K     |████████████████████████████████| 1.2MB 31.4MB/s \n",
            "\u001b[?25hRequirement already satisfied: torch in /usr/local/lib/python3.7/dist-packages (from torchtext==0.6) (1.8.0+cu101)\n",
            "Requirement already satisfied: six in /usr/local/lib/python3.7/dist-packages (from torchtext==0.6) (1.15.0)\n",
            "Requirement already satisfied: idna<3,>=2.5 in /usr/local/lib/python3.7/dist-packages (from requests->torchtext==0.6) (2.10)\n",
            "Requirement already satisfied: certifi>=2017.4.17 in /usr/local/lib/python3.7/dist-packages (from requests->torchtext==0.6) (2020.12.5)\n",
            "Requirement already satisfied: urllib3!=1.25.0,!=1.25.1,<1.26,>=1.21.1 in /usr/local/lib/python3.7/dist-packages (from requests->torchtext==0.6) (1.24.3)\n",
            "Requirement already satisfied: chardet<4,>=3.0.2 in /usr/local/lib/python3.7/dist-packages (from requests->torchtext==0.6) (3.0.4)\n",
            "Requirement already satisfied: typing-extensions in /usr/local/lib/python3.7/dist-packages (from torch->torchtext==0.6) (3.7.4.3)\n",
            "Installing collected packages: sentencepiece, torchtext\n",
            "  Found existing installation: torchtext 0.9.0\n",
            "    Uninstalling torchtext-0.9.0:\n",
            "      Successfully uninstalled torchtext-0.9.0\n",
            "Successfully installed sentencepiece-0.1.95 torchtext-0.6.0\n"
          ],
          "name": "stdout"
        }
      ]
    },
    {
      "cell_type": "code",
      "metadata": {
        "colab": {
          "base_uri": "https://localhost:8080/"
        },
        "id": "ctFqKwZJmkS2",
        "outputId": "2e0bb419-8728-4df2-ec70-f1586dc8e171"
      },
      "source": [
        "import matplotlib.pyplot as plt\n",
        "import numpy as np\n",
        "import os, unidecode\n",
        "\n",
        "import torch\n",
        "from torch import nn, optim\n",
        "import torch.nn.functional as F\n",
        "\n",
        "from torchtext import data\n",
        "import torchtext\n",
        "\n",
        "device = torch.device('cuda' if torch.cuda.is_available() else 'cpu')\n",
        "print(device)"
      ],
      "execution_count": 2,
      "outputs": [
        {
          "output_type": "stream",
          "text": [
            "cuda\n"
          ],
          "name": "stdout"
        }
      ]
    },
    {
      "cell_type": "markdown",
      "metadata": {
        "id": "dV4Dgo3KmkSu"
      },
      "source": [
        "# POS Tagging\n",
        "\n",
        "**P**art-**o**f-**S**peech tagging, ou classificação sintática de sentenças, é uma área de pesquisa cujo objetivo é rotular palavras de uma frase de acordo com a sua categoria sintática.\n",
        "\n",
        "Em linguagens naturais se trata de um problema fortemente dependente de contexto, visto palavras de escrita e fala idênticas podem ter significados completamente diferentes. Ex:\n",
        "\n",
        "* \"*O **começo** da aula foi essencial.*\" $\\rightarrow$ **N**ome  \n",
        "* \"*Eu **começo** a trabalhar às 8:00.*\" $\\rightarrow$ **V**erbo\n",
        "\n",
        "Usaremos o conjunto de dados intitulado [MAC-MORPHO](http://www.nilc.icmc.usp.br/macmorpho/#ref1), com textos jornalísticos em português, extraídos da Folha de S. Paulo. Uma amostra do MAC-MORPHO é aparesentada na imagem a seguir. Para conhecer melhor as categorias desse conjunto, consulte [o manual](http://nilc.icmc.usp.br/macmorpho/macmorpho-manual.pdf) construído pelos autores. <br><br>\n",
        "\n",
        "<img width=650 src=\"https://www.dropbox.com/s/nesqjcl2opd7vo3/MAC-MORPHO.png?dl=1\">\n",
        "\n",
        "\n"
      ]
    },
    {
      "cell_type": "markdown",
      "metadata": {
        "id": "O0MpAF87mkS4"
      },
      "source": [
        "## Carregamento de dados\n",
        "\n",
        "Para criar o dataset, exploramos as vantagens do pacote [Torchtext](https://torchtext.readthedocs.io/en/latest/). Como vimos anteriormente, suas ferramentas facilitam tarefas essenciais como construção de vocabulário e carregamento de sequências de tamanho variável.\n",
        "\n",
        "Uma novidade aqui é a construção de um Dataset customizado, sem o recurso de carregamento de dados tabulares. Podemos criar uma classe que herda as característica da classe [`data.Dataset`](https://torchtext.readthedocs.io/en/latest/data.html#torchtext.data.Dataset) do torchtext, ganhando liberdade para construir nosso conjunto de dados.\n",
        "\n",
        "Para incializar nosso conjunto, basta construir no método `__init__()` as seguintes estruturas de dados:\n",
        "* `examples`: uma lista de objetos tipo `data.Example`.\n",
        "  * Cada exemplo é uma tupla `([amostra, rotulo], fields)`\n",
        "* `fields`: uma lista de tuplas `(str, data.Field)`\n",
        "\n",
        "Ao final do nosso `__init__()` customizado, devemos inicializar a classe \"mãe\" `data.Dataset` com a lista de exemplos e os fields definidos:\n",
        "```python\n",
        "super().__init__(self.examples, self.fields)\n",
        "```\n"
      ]
    },
    {
      "cell_type": "code",
      "metadata": {
        "id": "9Y48SxRLmkS4"
      },
      "source": [
        "class MacMorpho(data.Dataset):\n",
        "    \n",
        "    def __init__(self, path, fields):\n",
        "        \n",
        "        fields = fields\n",
        "        lines = open(path).read().split('\\n')\n",
        "        samples, labels = [], []\n",
        "        \n",
        "        examples = [] \n",
        "        for line in lines[:-1]:\n",
        "\n",
        "            sample, label = [], []\n",
        "            for word_cat in line.split():\n",
        "                \n",
        "                word, lab = word_cat.split('_')\n",
        "                word = unidecode.unidecode(word.lower())\n",
        "                sample.append(word)\n",
        "                \n",
        "                label.append(lab.split('+')[0])\n",
        "                \n",
        "            samples.append(sample)\n",
        "            labels.append(label)\n",
        "        \n",
        "            examples.append(data.Example.fromlist([' '.join(sample), ' '.join(label)], fields))\n",
        "        super().__init__(examples, fields)\n",
        "\n",
        "\n",
        "### Defina os fields\n",
        "TEXT = data.Field(include_lengths=True)\n",
        "TARGET = data.Field()\n",
        "\n",
        "### Carregue os dados\n",
        "trainset, devset, testset = MacMorpho.splits(path='.',\n",
        "                                             root='.',\n",
        "                                             train='macmorpho-train.txt',\n",
        "                                             validation='macmorpho-test.txt',\n",
        "                                             test='macmorpho-dev.txt',\n",
        "                                             fields=[('text', TEXT), ('target', TARGET)]\n",
        "                                             )\n",
        "\n",
        "### Construa o vocabulário\n",
        "TEXT.build_vocab(trainset, max_size=20_000)\n",
        "TARGET.build_vocab(trainset)"
      ],
      "execution_count": 3,
      "outputs": []
    },
    {
      "cell_type": "code",
      "metadata": {
        "colab": {
          "base_uri": "https://localhost:8080/"
        },
        "id": "BGqGJg1-Hhe7",
        "outputId": "31571319-6958-4451-8110-93cdb21c2aea"
      },
      "source": [
        "for sample in testset:\r\n",
        "  print(sample.text )\r\n",
        "  print(sample.target)\r\n",
        "\r\n",
        "  break"
      ],
      "execution_count": 4,
      "outputs": [
        {
          "output_type": "stream",
          "text": [
            "['ainda', 'em', 'dezembro', 'de', '1990', ',', 'foi', 'editada', 'a', 'famosa', '289', ',', 'que', 'modificava', 'a', 'sistematica', 'da', 'arrecadacao', 'do', 'itr', 'e', 'alterava', 'suas', 'aliquotas', '.']\n",
            "['ADV', 'PREP', 'N', 'PREP', 'N', 'PU', 'V', 'PCP', 'ART', 'ADJ', 'N', 'PU', 'PRO-KS', 'V', 'ART', 'N', 'PREP', 'N', 'PREP', 'NPROP', 'KC', 'V', 'PROADJ', 'N', 'PU']\n"
          ],
          "name": "stdout"
        }
      ]
    },
    {
      "cell_type": "markdown",
      "metadata": {
        "id": "DePhh6McKv-z"
      },
      "source": [
        "### BucketIterator\r\n",
        "\r\n",
        "Essa classe do Torchtext funciona de forma análoga ao DataLoader do PyTorch,  porém leva em consideração a construção de **batches com sequências de comprimento variável**. Internamente ele agrega sequências de comprimento similar, **minimizando a quantidade de padding necessária**. \r\n",
        "\r\n",
        "Além disso, os dados já saem preparados para serem empacotados pela função ```pack_padded_sequence``` ordenados por comprimento de sequência e informando o comprimento real de cada amostra (sem padding).\r\n",
        "\r\n",
        "> Exemplo: Para compor um tensor com 5 amostras de frases com tamanhos variáveis, a segunda dimensão é definida pela frase de maior comprimento. Amostras menores são complementadas com tokens nulos (`<pad>`). \r\n",
        "\r\n",
        "<img src=\"https://drive.google.com/uc?export=view&id=1uOf8NpztcNyV0Dq9Ch5oJoKuPnwPptqK\" width=\"450\">\r\n",
        "\r\n",
        "\r\n",
        "Documentação: https://torchtext.readthedocs.io/en/latest/data.html?highlight=BucketIterator#torchtext.data.BucketIterator"
      ]
    },
    {
      "cell_type": "code",
      "metadata": {
        "id": "426U75dZKs8g"
      },
      "source": [
        "### Construa o iterator (nosso loader de dados)\r\n",
        "train_iterator = data.BucketIterator(trainset, \r\n",
        "                                     batch_size=32, \r\n",
        "                                     sort_key=lambda x: len(x.text), \r\n",
        "                                     sort_within_batch=True)\r\n",
        "\r\n",
        "test_iterator = data.BucketIterator(testset, batch_size=32, sort_key=lambda x: len(x.text), sort_within_batch=True)"
      ],
      "execution_count": 5,
      "outputs": []
    },
    {
      "cell_type": "code",
      "metadata": {
        "colab": {
          "base_uri": "https://localhost:8080/"
        },
        "id": "XL4bGmFdLXfO",
        "outputId": "a3f65dd5-d62c-4f97-f50e-07dae6116420"
      },
      "source": [
        "for batch in test_iterator:\r\n",
        "\r\n",
        "    inp, tam = batch.text\r\n",
        "    lab = batch.target\r\n",
        "    \r\n",
        "    print(f'Entrada (shape): {inp.shape}, comprimentos (shape): {tam.shape}')\r\n",
        "    print(f'\\nComprimentos: {tam}')\r\n",
        "    print(f'\\nRotulos (shape): {lab.shape}')\r\n",
        "\r\n",
        "    break"
      ],
      "execution_count": 6,
      "outputs": [
        {
          "output_type": "stream",
          "text": [
            "Entrada (shape): torch.Size([41, 32]), comprimentos (shape): torch.Size([32])\n",
            "\n",
            "Comprimentos: tensor([41, 41, 41, 41, 41, 41, 41, 41, 41, 41, 41, 41, 41, 41, 41, 40, 40, 40,\n",
            "        40, 40, 40, 40, 40, 40, 40, 40, 40, 39, 39, 39, 39, 39])\n",
            "\n",
            "Rotulos (shape): torch.Size([41, 32])\n"
          ],
          "name": "stdout"
        }
      ]
    },
    {
      "cell_type": "markdown",
      "metadata": {
        "id": "IEjzRR8EXUUU"
      },
      "source": [
        "## Padding and Packing (Preenchendo e empacotando)\r\n",
        "\r\n",
        "O pacote de funções de rnn, ```nn.utils.rnn```, oferece meios de processar batches contendo sequências de tamanho variável. Isso é realizado através do **padding** da sequência (ex: preenchimento com zeros),  de modo que elas aparentem ter igual comprimento, porém internamente as posições preenchidas não são processadas pela RNN.\r\n",
        "\r\n",
        "*  Vamos lembrar do nosso batch de frases com tamanhos variáveis:\r\n",
        "\r\n",
        "<img src=\"https://drive.google.com/uc?export=view&id=1uOf8NpztcNyV0Dq9Ch5oJoKuPnwPptqK\" width=\"450\">\r\n",
        "\r\n",
        "\r\n",
        "*  O empacotamento precisa receber os dados em ordem decrescente de comprimento, e internamente são criados \"mini batches\" com o seu batch. Dessa forma, apenas os timesteps que contém informação relevante sobre o dado são apresentadas à rede. Igualmente, somente esses timesteps impactam no backpropagation.\r\n",
        "\r\n",
        "<img src=\"https://drive.google.com/uc?export=view&id=1ySh4IdDO4Iw3G8p2iSdo62MW_z4kR5fd\" width=\"450\">\r\n",
        "\r\n",
        "\r\n",
        "Para isso basta realizar o padding das suas sequências, **preservando os comprimetos originais** em outra variável. Na prática, o forward recebe mais um parâmetro, aqui chamamos de **```tamanhos```**, referente ao comprimento de cada amostra dentro do batch **```X```**, ordenado de forma descrescente.\r\n",
        "\r\n",
        "Tendo em mãos (1) o batch de sequências preenchidas e ordenadas, e (2) o comprimento original de cada amostra, basta realizar as seguintes operações no forward da rede:\r\n",
        "\r\n",
        "```python\r\n",
        "## Empacote a sequência antes de alimentar a unidade recorrente\r\n",
        "packed_input = nn.utils.rnn.pack_padded_sequence(X, tamanhos)\r\n",
        "\r\n",
        "## Forward recorrente\r\n",
        "packed_output, hidden = self.rnn(packed_input, hidden )\r\n",
        "\r\n",
        "## Desempacote a sequência para continuar o fluxo na rede.\r\n",
        "output, output_lengths = nn.utils.rnn.pad_packed_sequence(packed_output)\r\n",
        "```"
      ]
    },
    {
      "cell_type": "code",
      "metadata": {
        "colab": {
          "base_uri": "https://localhost:8080/"
        },
        "id": "9H5YeH7IXUFT",
        "outputId": "88e5ab20-4008-4725-8b2e-bbbba831486d"
      },
      "source": [
        "# Simulando um init \r\n",
        "hidden_size = 128\r\n",
        "rnn = nn.RNN( 1, hidden_size ).to(device)\r\n",
        "\r\n",
        "# Simulando um forward\r\n",
        "for batch in test_iterator:\r\n",
        "\r\n",
        "  X, tamanhos = batch.text\r\n",
        "  print(X.size(), tamanhos.size())\r\n",
        "  hidden = torch.zeros(1, X.size(1), hidden_size).to(device)\r\n",
        "\r\n",
        "  ## Empacote a sequência antes de alimentar a unidade recorrente\r\n",
        "  packed_input = nn.utils.rnn.pack_padded_sequence(X.unsqueeze(-1).float().to(device), tamanhos)\r\n",
        "  print('\\npacked_input.batch_sizes:', packed_input.batch_sizes)\r\n",
        "\r\n",
        "  ## Forward recorrente\r\n",
        "  packed_output, hidden = rnn(packed_input, hidden )\r\n",
        "  print('\\npacked_output.batch_sizes:', packed_output.batch_sizes)\r\n",
        "  print('\\nhidden:', hidden.size())\r\n",
        "\r\n",
        "  ## Desempacote a sequência para continuar o fluxo na rede.\r\n",
        "  output, output_lengths = nn.utils.rnn.pad_packed_sequence(packed_output)\r\n",
        "  print('\\noutput:', output.size())\r\n",
        "  \r\n",
        "  break"
      ],
      "execution_count": null,
      "outputs": [
        {
          "output_type": "stream",
          "text": [
            "torch.Size([7, 32]) torch.Size([32])\n",
            "\n",
            "packed_input.batch_sizes: tensor([32, 32, 32, 32, 32, 32, 32])\n",
            "\n",
            "packed_output.batch_sizes: tensor([32, 32, 32, 32, 32, 32, 32])\n",
            "\n",
            "hidden: torch.Size([1, 32, 128])\n",
            "\n",
            "output: torch.Size([7, 32, 128])\n"
          ],
          "name": "stdout"
        }
      ]
    },
    {
      "cell_type": "markdown",
      "metadata": {
        "id": "R2hICTxHmkS5"
      },
      "source": [
        "## Exercício\n",
        "\n",
        "1) Vamos implementar uma RNN simples com  a seguinte arquitetura:\n",
        "* [`nn.Embedding`](https://pytorch.org/docs/stable/generated/torch.nn.Embedding.html)\n",
        "* [`nn.RNN`](https://pytorch.org/docs/stable/generated/torch.nn.RNN.html?highlight=rnn#torch.nn.RNN)\n",
        "* [`nn.Linear`](https://pytorch.org/docs/stable/generated/torch.nn.Linear.html?highlight=linear#torch.nn.Linear) com ativação [`LogSoftmax`](https://pytorch.org/docs/stable/generated/torch.nn.LogSoftmax.html#torch.nn.LogSoftmax).\n",
        "\n",
        "Note que se trata de um problema **muitos para muitos**, ou seja, precisamos realizar ambos o passo recorrente e a inferência com a camada linear em todos os elementos da sequência. Para tal, a camada `nn.Linear` suporta tensores de quaisquer dimensões `(N, *, H_in)`, aplicando a transformação linear apenas na última dimensão.\n",
        "\n",
        "2) Modifique agora o seu modelo para uma **RNN bidirecional**. \n",
        "> Note que essa arquitetura na prática dobra a quantidade de pesos em relação à RNN unidirecional. Sugiro dividir pela metade o hiperparâmetro que você definiu no passo 1 para o `hidden_size` para comparar as duas redes com igual complexidade.\n",
        "![](https://drive.google.com/uc?export=view&id=158b3Y_o-7yXsKMe5VdaifhPg0Du4A6dp) <br>\n",
        "Na implementação, o que muda em relação à camada unidirecional é:\n",
        "*  Ao instanciar a camada recorrente, defina o parâmetro **```bidirectional = True```**\n",
        "*  O hidden state tem dimensionalidade **```(num_layers * 2, batch_size, hidden_size)```**\n",
        "*  O output tem dimensionalidade **```(seq_len, batch_size, hidden_size * 2)```**\n",
        "\n"
      ]
    },
    {
      "cell_type": "code",
      "metadata": {
        "id": "-eYhV5iqmkS5"
      },
      "source": [
        "class RNN(nn.Module):\n",
        "    \n",
        "    def __init__(self, vocab_size, embed_size, hidden_size, out_size, \n",
        "                 num_layers, dropout=0.5):\n",
        "        super(RNN, self).__init__()\n",
        "        \n",
        "        self.num_layers = num_layers\n",
        "        self.hidden_size = hidden_size\n",
        "        \n",
        "        self.embed  = nn.Embedding(vocab_size, embed_size)\n",
        "\n",
        "        self.rnn    = nn.RNN(embed_size, hidden_size,  \n",
        "                              num_layers=self.num_layers)\n",
        "        \n",
        "        self.linear = nn.Linear(hidden_size, out_size)\n",
        "        \n",
        "    def forward(self, X, lengths):\n",
        "        # X: S x B x D\n",
        "        \n",
        "        # HIDDEN: L x B x H\n",
        "        hidden = torch.zeros(self.num_layers, X.size(1), self.hidden_size).to(device)\n",
        "        \n",
        "        embed = self.embed(X)\n",
        "        # EM: S x B x E\n",
        "\n",
        "        ## Empacote a sequência antes de alimentar a unidade recorrente\n",
        "        packed_input = nn.utils.rnn.pack_padded_sequence(embed, lengths)\n",
        " \n",
        "        ## Forward recorrente\n",
        "        packed_output, hidden = self.rnn(packed_input, hidden )\n",
        "        \n",
        "        ## Desempacote a sequência para continuar o fluxo na rede.\n",
        "        outputs, output_lengths = nn.utils.rnn.pad_packed_sequence(packed_output)\n",
        "        # OUT: S x B x H , HIDDEN: L x B x H\n",
        "\n",
        "        output = F.log_softmax(self.linear( outputs ), dim=-1)\n",
        "        # OUT: S x B x O\n",
        "        \n",
        "        return output\n",
        "        \n",
        "        \n",
        "net = RNN( len(TEXT.vocab), 50, 128, len(TARGET.vocab), 2).to(device)"
      ],
      "execution_count": 7,
      "outputs": []
    },
    {
      "cell_type": "code",
      "metadata": {
        "id": "9Wb7vghcMxwd"
      },
      "source": [
        "### TODO: ARQUITETURA BIDIRECIONAL\r\n",
        "\r\n"
      ],
      "execution_count": null,
      "outputs": []
    },
    {
      "cell_type": "markdown",
      "metadata": {
        "id": "Qd9bdbrzmkS6"
      },
      "source": [
        "### Definindo otimizador e função de perda"
      ]
    },
    {
      "cell_type": "code",
      "metadata": {
        "id": "LzoNBLzTmkS6"
      },
      "source": [
        "optimizer = optim.Adam(net.parameters(), lr=1e-3, weight_decay=5e-4)\n",
        "criterion = nn.NLLLoss().to(device)"
      ],
      "execution_count": 8,
      "outputs": []
    },
    {
      "cell_type": "markdown",
      "metadata": {
        "id": "WTJ0jYJkmkS6"
      },
      "source": [
        "### Fluxo de Treinamento e Validação "
      ]
    },
    {
      "cell_type": "code",
      "metadata": {
        "id": "PwNFds9SmkS6"
      },
      "source": [
        "def forward(iterator, epoch, optimizer, criterion, mode):\n",
        "    \n",
        "    acc = 0.\n",
        "    epoch_loss = []\n",
        "    for sample in iterator:\n",
        "        \n",
        "        text, lengths = sample.text\n",
        "        text = text.to(device)\n",
        "        label = sample.target\n",
        "        label = label.to(device)\n",
        "        \n",
        "        out = net(text, lengths)\n",
        "        # S x B x C\n",
        "\n",
        "        loss = criterion(out.view(out.size(0)*out.size(1), -1),\n",
        "                         label.view(label.size(0)*label.size(1)))\n",
        "        \n",
        "        epoch_loss.append(loss.detach().cpu().item())\n",
        "        \n",
        "        _, pred = torch.max(out.detach(), dim=-1)\n",
        "        acc += torch.sum(pred == label).item()/(pred.size(0)*pred.size(1)) \n",
        "\n",
        "        if mode == 'train':\n",
        "            optimizer.zero_grad()\n",
        "            loss.backward()\n",
        "            optimizer.step()\n",
        "            \n",
        "    epoch_loss = np.asarray(epoch_loss)\n",
        "    print(f'Epoch {epoch} - Loss: {epoch_loss.mean():.4f}+/-{epoch_loss.std():.4f}, Acc: {(acc/len(iterator))*100:.2f}%')\n",
        "    \n",
        "    return epoch_loss.mean()\n",
        "        "
      ],
      "execution_count": 10,
      "outputs": []
    },
    {
      "cell_type": "code",
      "metadata": {
        "colab": {
          "base_uri": "https://localhost:8080/"
        },
        "id": "3L0l2bvDY8ui",
        "outputId": "6af2566c-d303-4422-ee52-c08011c3aead"
      },
      "source": [
        "train_loss, test_loss = [], []\r\n",
        "for epoch in range(30):\r\n",
        "    \r\n",
        "    loss = forward(train_iterator, epoch, optimizer, criterion, 'train')\r\n",
        "    train_loss.append(loss)\r\n",
        "    \r\n",
        "    loss = forward(test_iterator, epoch, optimizer, criterion, 'test')\r\n",
        "    test_loss.append(loss)\r\n",
        "    \r\n",
        "    print('--'*20)\r\n"
      ],
      "execution_count": 11,
      "outputs": [
        {
          "output_type": "stream",
          "text": [
            "Epoch 0 - Loss: 1.0278+/-0.3345, Acc: 68.92%\n",
            "Epoch 0 - Loss: 0.7930+/-0.1693, Acc: 76.81%\n",
            "----------------------------------------\n",
            "Epoch 1 - Loss: 0.6485+/-0.1675, Acc: 80.20%\n",
            "Epoch 1 - Loss: 0.5364+/-0.1537, Acc: 84.40%\n",
            "----------------------------------------\n",
            "Epoch 2 - Loss: 0.4376+/-0.1303, Acc: 87.13%\n",
            "Epoch 2 - Loss: 0.3824+/-0.1300, Acc: 89.37%\n",
            "----------------------------------------\n",
            "Epoch 3 - Loss: 0.3425+/-0.1077, Acc: 90.13%\n",
            "Epoch 3 - Loss: 0.3450+/-0.0963, Acc: 90.32%\n",
            "----------------------------------------\n",
            "Epoch 4 - Loss: 0.3107+/-0.0819, Acc: 90.97%\n",
            "Epoch 4 - Loss: 0.3171+/-0.0878, Acc: 90.94%\n",
            "----------------------------------------\n",
            "Epoch 5 - Loss: 0.2969+/-0.0758, Acc: 91.27%\n",
            "Epoch 5 - Loss: 0.3222+/-0.0791, Acc: 90.22%\n",
            "----------------------------------------\n",
            "Epoch 6 - Loss: 0.2859+/-0.0662, Acc: 91.44%\n",
            "Epoch 6 - Loss: 0.3083+/-0.0789, Acc: 90.73%\n",
            "----------------------------------------\n",
            "Epoch 7 - Loss: 0.2791+/-0.0577, Acc: 91.50%\n",
            "Epoch 7 - Loss: 0.2931+/-0.0661, Acc: 91.32%\n",
            "----------------------------------------\n",
            "Epoch 8 - Loss: 0.2729+/-0.0594, Acc: 91.64%\n",
            "Epoch 8 - Loss: 0.2836+/-0.0562, Acc: 91.33%\n",
            "----------------------------------------\n",
            "Epoch 9 - Loss: 0.2674+/-0.0561, Acc: 91.74%\n",
            "Epoch 9 - Loss: 0.2848+/-0.0561, Acc: 91.34%\n",
            "----------------------------------------\n",
            "Epoch 10 - Loss: 0.2635+/-0.0542, Acc: 91.86%\n",
            "Epoch 10 - Loss: 0.2766+/-0.0594, Acc: 91.33%\n",
            "----------------------------------------\n",
            "Epoch 11 - Loss: 0.2599+/-0.0528, Acc: 91.95%\n",
            "Epoch 11 - Loss: 0.2791+/-0.0547, Acc: 91.39%\n",
            "----------------------------------------\n",
            "Epoch 12 - Loss: 0.2560+/-0.0537, Acc: 92.05%\n",
            "Epoch 12 - Loss: 0.2898+/-0.0638, Acc: 90.75%\n",
            "----------------------------------------\n",
            "Epoch 13 - Loss: 0.2541+/-0.0501, Acc: 92.05%\n",
            "Epoch 13 - Loss: 0.2704+/-0.0582, Acc: 91.29%\n",
            "----------------------------------------\n",
            "Epoch 14 - Loss: 0.2516+/-0.0507, Acc: 92.11%\n",
            "Epoch 14 - Loss: 0.2847+/-0.0646, Acc: 91.30%\n",
            "----------------------------------------\n",
            "Epoch 15 - Loss: 0.2492+/-0.0514, Acc: 92.24%\n",
            "Epoch 15 - Loss: 0.2652+/-0.0555, Acc: 91.92%\n",
            "----------------------------------------\n",
            "Epoch 16 - Loss: 0.2473+/-0.0521, Acc: 92.26%\n",
            "Epoch 16 - Loss: 0.2693+/-0.0521, Acc: 91.55%\n",
            "----------------------------------------\n",
            "Epoch 17 - Loss: 0.2454+/-0.0514, Acc: 92.33%\n",
            "Epoch 17 - Loss: 0.2659+/-0.0617, Acc: 91.76%\n",
            "----------------------------------------\n",
            "Epoch 18 - Loss: 0.2435+/-0.0510, Acc: 92.39%\n",
            "Epoch 18 - Loss: 0.2657+/-0.0632, Acc: 91.64%\n",
            "----------------------------------------\n",
            "Epoch 19 - Loss: 0.2416+/-0.0512, Acc: 92.47%\n",
            "Epoch 19 - Loss: 0.2642+/-0.0514, Acc: 91.84%\n",
            "----------------------------------------\n",
            "Epoch 20 - Loss: 0.2413+/-0.0497, Acc: 92.43%\n",
            "Epoch 20 - Loss: 0.2579+/-0.0587, Acc: 92.11%\n",
            "----------------------------------------\n",
            "Epoch 21 - Loss: 0.2386+/-0.0514, Acc: 92.57%\n",
            "Epoch 21 - Loss: 0.2600+/-0.0552, Acc: 91.68%\n",
            "----------------------------------------\n",
            "Epoch 22 - Loss: 0.2386+/-0.0503, Acc: 92.50%\n",
            "Epoch 22 - Loss: 0.2629+/-0.0575, Acc: 91.87%\n",
            "----------------------------------------\n",
            "Epoch 23 - Loss: 0.2377+/-0.0528, Acc: 92.61%\n",
            "Epoch 23 - Loss: 0.2614+/-0.0566, Acc: 91.77%\n",
            "----------------------------------------\n",
            "Epoch 24 - Loss: 0.2363+/-0.0495, Acc: 92.59%\n",
            "Epoch 24 - Loss: 0.2589+/-0.0504, Acc: 91.72%\n",
            "----------------------------------------\n",
            "Epoch 25 - Loss: 0.2347+/-0.0487, Acc: 92.66%\n",
            "Epoch 25 - Loss: 0.2613+/-0.0519, Acc: 91.86%\n",
            "----------------------------------------\n",
            "Epoch 26 - Loss: 0.2346+/-0.0489, Acc: 92.69%\n",
            "Epoch 26 - Loss: 0.2641+/-0.0543, Acc: 91.72%\n",
            "----------------------------------------\n",
            "Epoch 27 - Loss: 0.2338+/-0.0471, Acc: 92.70%\n",
            "Epoch 27 - Loss: 0.2605+/-0.0546, Acc: 91.82%\n",
            "----------------------------------------\n",
            "Epoch 28 - Loss: 0.2327+/-0.0498, Acc: 92.73%\n",
            "Epoch 28 - Loss: 0.2594+/-0.0534, Acc: 91.86%\n",
            "----------------------------------------\n",
            "Epoch 29 - Loss: 0.2316+/-0.0481, Acc: 92.80%\n",
            "Epoch 29 - Loss: 0.2584+/-0.0627, Acc: 92.05%\n",
            "----------------------------------------\n"
          ],
          "name": "stdout"
        }
      ]
    },
    {
      "cell_type": "markdown",
      "metadata": {
        "id": "bEGC-xp4mkS7"
      },
      "source": [
        "### Predizendo instâncias"
      ]
    },
    {
      "cell_type": "code",
      "metadata": {
        "colab": {
          "base_uri": "https://localhost:8080/"
        },
        "id": "bAmc7cfPmkS8",
        "outputId": "09fca83c-39e2-4954-a086-ed256657ce8f"
      },
      "source": [
        "def pred( sentence ):\n",
        "\n",
        "  text  = [unidecode.unidecode(word.split('_')[0]).lower() for word in sentence.split()]\n",
        "  label = [TARGET.vocab.stoi[word.split('_')[1].split('+')[0]] for word in sentence.split()]\n",
        "  print(text)\n",
        "  text = [TEXT.vocab.stoi[t] for t in text]\n",
        "\n",
        "  text = torch.LongTensor(text)\n",
        "  text = text.view(text.size(0), 1).to(device)\n",
        "  out = net(text, torch.LongTensor( [len(text)] ))\n",
        "\n",
        "  _, pred = torch.max(out, -1)\n",
        "  print([TARGET.vocab.itos[p] for p in pred.squeeze() ],'\\n') \n",
        "\n",
        "  return np.asarray(label), pred.detach().cpu().numpy().squeeze()\n",
        "\n",
        "with open('macmorpho-dev.txt') as fp:\n",
        "  sentences = fp.read().split('\\n')\n",
        "  for i in range(10):\n",
        "    sentence = sentences[i]\n",
        "    ytrue, ypred = pred(sentence)"
      ],
      "execution_count": null,
      "outputs": [
        {
          "output_type": "stream",
          "text": [
            "['ainda', 'em', 'dezembro', 'de', '1990', ',', 'foi', 'editada', 'a', 'famosa', '289', ',', 'que', 'modificava', 'a', 'sistematica', 'da', 'arrecadacao', 'do', 'itr', 'e', 'alterava', 'suas', 'aliquotas', '.']\n",
            "['PDEN', 'PREP', 'N', 'PREP', 'N', 'PU', 'V', 'PCP', 'ART', 'ADJ', 'N', 'PU', 'PRO-KS', 'V', 'ART', 'N', 'PREP', 'N', 'PREP', 'NPROP', 'KC', 'V', 'PROADJ', 'N', 'PU'] \n",
            "\n",
            "['porem', ',', 'como', 'a', 'previsao', 'indica', 'entrada', 'de', 'frente', 'fria', ',', 'deve', '-se', 'aguardar', 'ate', 'quarta-feira', 'e', 'irrigar', 'somente', 'se', 'o', 'total', 'de', 'chuva', 'for', 'inferior', 'a', '30', 'mm', '.']\n",
            "['KC', 'PU', 'PREP', 'ART', 'N', 'V', 'N', 'PREP', 'N', 'ADJ', 'PU', 'V', 'PROPESS', 'V', 'PREP', 'N', 'KC', 'N', 'PDEN', 'KS', 'ART', 'N', 'PREP', 'N', 'V', 'ADJ', 'PREP', 'NUM', 'N', 'PU'] \n",
            "\n",
            "['\"', 'o', 'crescimento', 'e', 'expressivo', 'mas', ',', 'mesmo', 'assim', ',', 'estamos', 'abaixo', 'da', 'media', 'historica', 'do', 'setor', ',', 'que', 'e', 'de', '45', 'mil', 'tratores', 'por', 'ano', '\"', ',', 'diz', 'pastre', '.']\n",
            "['PU', 'ART', 'N', 'V', 'V', 'KC', 'PU', 'PDEN', 'ADV', 'PU', 'V', 'PREP', 'PREP', 'N', 'ADJ', 'PREP', 'N', 'PU', 'PRO-KS', 'V', 'PREP', 'NUM', 'NUM', 'N', 'PREP', 'N', 'PU', 'PU', 'V', 'NPROP', 'PU'] \n",
            "\n",
            "['o', 'programa', 'atende', 'ainda', 'as', 'culturas', 'de', 'feijao', '(', 'primeira', 'e', 'segunda', 'safras', ')', ',', 'arroz', 'de', 'varzea', 'e', 'mamona', ',', 'cujas', 'estimativas', 'de', 'producao', 'ainda', 'nao', 'foram', 'elaboradas', '.']\n",
            "['ART', 'N', 'V', 'ADV', 'ART', 'N', 'PREP', 'N', 'PU', 'ADJ', 'KC', 'ADJ', 'N', 'PU', 'PU', 'N', 'PREP', 'N', 'KC', 'N', 'PU', 'V', 'N', 'PREP', 'N', 'ADV', 'ADV', 'V', 'PCP', 'PU'] \n",
            "\n",
            "['de', 'qualquer', 'maneira', ',', 'toda', 'essa', '\"', 'informalidade', '\"', 'na', 'producao', 'de', 'sementes', 'nao', 'foi', 'obstaculo', 'a', 'um', 'enorme', 'crescimento', 'deste', 'segmento', 'da', 'agricultura', '.']\n",
            "['PREP', 'PROADJ', 'N', 'PU', 'PROADJ', 'PROADJ', 'PU', 'N', 'PU', 'PREP', 'N', 'PREP', 'N', 'ADV', 'V', 'PCP', 'PREP', 'ART', 'ADJ', 'N', 'PREP', 'N', 'PREP', 'N', 'PU'] \n",
            "\n",
            "['e', 'divulgar', 'procedimentos', 'adequados', 'de', 'manejo', 'do', 'solo', ',', 'dar', 'assistencia', 'tecnica', 'eficaz', 'ao', 'produtor', 'e', 'implantar', 'programas', 'de', 'educacao', 'ambiental', 'nas', 'escolas', '.']\n",
            "['KC', 'V', 'N', 'N', 'PREP', 'N', 'PREP', 'N', 'PU', 'V', 'N', 'ADJ', 'ADJ', 'PREP', 'N', 'KC', 'V', 'N', 'PREP', 'N', 'ADJ', 'PREP', 'N', 'PU'] \n",
            "\n",
            "['os', 'paises', 'ricos', 'nao', 'concordam', '.']\n",
            "['ART', 'N', 'ADJ', 'ADV', 'V', 'PU'] \n",
            "\n",
            "['evita', ',', 'dessa', 'forma', ',', 'que', 'plantios', 'inadequados', 'ao', 'tipo', 'de', 'solo', 'acelerem', 'o', 'processo', 'de', 'erosao', '.']\n",
            "['V', 'PU', 'PREP', 'N', 'PU', 'PRO-KS', 'V', 'V', 'PREP', 'N', 'PREP', 'N', 'ADJ', 'ART', 'N', 'PREP', 'N', 'PU'] \n",
            "\n",
            "['um', 'exemplo', 'e', 'a', 'bacia', 'do', 'vale', 'do', 'piracicaba', '(', 'a', '170', 'quilometros', 'a', 'noroeste', 'de', 'sao', 'paulo', ')', '.']\n",
            "['ART', 'N', 'V', 'ART', 'N', 'PREP', 'NPROP', 'PREP', 'NPROP', 'PU', 'ART', 'NUM', 'N', 'PREP', 'N', 'PREP', 'NPROP', 'NPROP', 'PU', 'PU'] \n",
            "\n",
            "['a', 'terra', ',', 'que', 'escoa', 'junto', ',', 'chega', 'ao', 'rio', 'e', 'diminui', 'o', 'seu', 'leito', '(', 'assoreamento', ')', '.']\n",
            "['ART', 'NPROP', 'PU', 'PRO-KS', 'V', 'PREP', 'PU', 'V', 'PREP', 'NPROP', 'KC', 'V', 'ART', 'PROADJ', 'N', 'PU', 'N', 'PU', 'PU'] \n",
            "\n"
          ],
          "name": "stdout"
        }
      ]
    },
    {
      "cell_type": "markdown",
      "metadata": {
        "id": "ImjHiciVmkS8"
      },
      "source": [
        "### Matriz de confusão"
      ]
    },
    {
      "cell_type": "code",
      "metadata": {
        "id": "AyiEe1iYmkS9"
      },
      "source": [
        "from sklearn.metrics import confusion_matrix\n",
        "\n",
        "dev_iterator = data.BucketIterator(devset, batch_size=32, sort_key=lambda x: len(x.text), sort_within_batch=True)\n",
        "predictions, labels = [], []\n",
        "for sample in dev_iterator:\n",
        "    \n",
        "    text, lengths = sample.text\n",
        "    label = sample.target\n",
        "    \n",
        "    out = net(text.to(device), lengths)\n",
        "    _, pred = torch.max(out, -1)\n",
        "    \n",
        "    predictions.extend(list(pred.view(-1).cpu().numpy()))\n",
        "    labels.extend( list(label.view(-1).numpy() )  )"
      ],
      "execution_count": null,
      "outputs": []
    },
    {
      "cell_type": "code",
      "metadata": {
        "colab": {
          "base_uri": "https://localhost:8080/",
          "height": 384
        },
        "id": "v7xwYGW8mkS9",
        "outputId": "4803bde5-ede6-4c67-ec34-fdb08670d160"
      },
      "source": [
        "conf = confusion_matrix(y_true=labels, y_pred=predictions, normalize='true')\n",
        "plt.figure(figsize=(6,6))\n",
        "plt.imshow(conf, cmap='coolwarm')\n",
        "plt.colorbar()\n",
        "plt.xticks(np.arange(0, len(TARGET.vocab)-1), TARGET.vocab.itos[1:], rotation=90)\n",
        "plt.yticks(np.arange(0, len(TARGET.vocab)-1), TARGET.vocab.itos[1:])\n",
        "plt.show()"
      ],
      "execution_count": null,
      "outputs": [
        {
          "output_type": "display_data",
          "data": {
            "image/png": "[encoded data removed]",
            "text/plain": [
              "<Figure size 432x432 with 2 Axes>"
            ]
          },
          "metadata": {
            "tags": [],
            "needs_background": "light"
          }
        }
      ]
    }
  ]
}