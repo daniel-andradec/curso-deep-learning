{
  "nbformat": 4,
  "nbformat_minor": 0,
  "metadata": {
    "accelerator": "GPU",
    "colab": {
      "name": "04_1_Funcoes_de_Perda.ipynb",
      "provenance": [],
      "collapsed_sections": []
    },
    "kernelspec": {
      "display_name": "Python 3",
      "language": "python",
      "name": "python3"
    },
    "language_info": {
      "codemirror_mode": {
        "name": "ipython",
        "version": 3
      },
      "file_extension": ".py",
      "mimetype": "text/x-python",
      "name": "python",
      "nbconvert_exporter": "python",
      "pygments_lexer": "ipython3",
      "version": "3.6.8"
    },
    "widgets": {
      "application/vnd.jupyter.widget-state+json": {
        "0688a88ddb3344a2806312cd7bcdf4b1": {
          "model_module": "@jupyter-widgets/controls",
          "model_name": "HBoxModel",
          "state": {
            "_view_name": "HBoxView",
            "_dom_classes": [],
            "_model_name": "HBoxModel",
            "_view_module": "@jupyter-widgets/controls",
            "_model_module_version": "1.5.0",
            "_view_count": null,
            "_view_module_version": "1.5.0",
            "box_style": "",
            "layout": "IPY_MODEL_b3e1351dd1d045f4b94aaa66b73c6f4f",
            "_model_module": "@jupyter-widgets/controls",
            "children": [
              "IPY_MODEL_8e3e274d35ba4989aff64e4001fc08fb",
              "IPY_MODEL_b23d2762c4894461a41c940e9afba213"
            ]
          }
        },
        "b3e1351dd1d045f4b94aaa66b73c6f4f": {
          "model_module": "@jupyter-widgets/base",
          "model_name": "LayoutModel",
          "state": {
            "_view_name": "LayoutView",
            "grid_template_rows": null,
            "right": null,
            "justify_content": null,
            "_view_module": "@jupyter-widgets/base",
            "overflow": null,
            "_model_module_version": "1.2.0",
            "_view_count": null,
            "flex_flow": null,
            "width": null,
            "min_width": null,
            "border": null,
            "align_items": null,
            "bottom": null,
            "_model_module": "@jupyter-widgets/base",
            "top": null,
            "grid_column": null,
            "overflow_y": null,
            "overflow_x": null,
            "grid_auto_flow": null,
            "grid_area": null,
            "grid_template_columns": null,
            "flex": null,
            "_model_name": "LayoutModel",
            "justify_items": null,
            "grid_row": null,
            "max_height": null,
            "align_content": null,
            "visibility": null,
            "align_self": null,
            "height": null,
            "min_height": null,
            "padding": null,
            "grid_auto_rows": null,
            "grid_gap": null,
            "max_width": null,
            "order": null,
            "_view_module_version": "1.2.0",
            "grid_template_areas": null,
            "object_position": null,
            "object_fit": null,
            "grid_auto_columns": null,
            "margin": null,
            "display": null,
            "left": null
          }
        },
        "8e3e274d35ba4989aff64e4001fc08fb": {
          "model_module": "@jupyter-widgets/controls",
          "model_name": "FloatProgressModel",
          "state": {
            "_view_name": "ProgressView",
            "style": "IPY_MODEL_1185a33542224572a8588efede6f81f7",
            "_dom_classes": [],
            "description": "",
            "_model_name": "FloatProgressModel",
            "bar_style": "info",
            "max": 1,
            "_view_module": "@jupyter-widgets/controls",
            "_model_module_version": "1.5.0",
            "value": 1,
            "_view_count": null,
            "_view_module_version": "1.5.0",
            "orientation": "horizontal",
            "min": 0,
            "description_tooltip": null,
            "_model_module": "@jupyter-widgets/controls",
            "layout": "IPY_MODEL_1225565f2df94ceea5a26a65ac69563e"
          }
        },
        "b23d2762c4894461a41c940e9afba213": {
          "model_module": "@jupyter-widgets/controls",
          "model_name": "HTMLModel",
          "state": {
            "_view_name": "HTMLView",
            "style": "IPY_MODEL_f492e60d720c41828396596e0f1dcefa",
            "_dom_classes": [],
            "description": "",
            "_model_name": "HTMLModel",
            "placeholder": "​",
            "_view_module": "@jupyter-widgets/controls",
            "_model_module_version": "1.5.0",
            "value": " 9920512/? [00:30&lt;00:00, 1175030.38it/s]",
            "_view_count": null,
            "_view_module_version": "1.5.0",
            "description_tooltip": null,
            "_model_module": "@jupyter-widgets/controls",
            "layout": "IPY_MODEL_3c69c9e1c8504675a55650a8bd902127"
          }
        },
        "1185a33542224572a8588efede6f81f7": {
          "model_module": "@jupyter-widgets/controls",
          "model_name": "ProgressStyleModel",
          "state": {
            "_view_name": "StyleView",
            "_model_name": "ProgressStyleModel",
            "description_width": "initial",
            "_view_module": "@jupyter-widgets/base",
            "_model_module_version": "1.5.0",
            "_view_count": null,
            "_view_module_version": "1.2.0",
            "bar_color": null,
            "_model_module": "@jupyter-widgets/controls"
          }
        },
        "1225565f2df94ceea5a26a65ac69563e": {
          "model_module": "@jupyter-widgets/base",
          "model_name": "LayoutModel",
          "state": {
            "_view_name": "LayoutView",
            "grid_template_rows": null,
            "right": null,
            "justify_content": null,
            "_view_module": "@jupyter-widgets/base",
            "overflow": null,
            "_model_module_version": "1.2.0",
            "_view_count": null,
            "flex_flow": null,
            "width": null,
            "min_width": null,
            "border": null,
            "align_items": null,
            "bottom": null,
            "_model_module": "@jupyter-widgets/base",
            "top": null,
            "grid_column": null,
            "overflow_y": null,
            "overflow_x": null,
            "grid_auto_flow": null,
            "grid_area": null,
            "grid_template_columns": null,
            "flex": null,
            "_model_name": "LayoutModel",
            "justify_items": null,
            "grid_row": null,
            "max_height": null,
            "align_content": null,
            "visibility": null,
            "align_self": null,
            "height": null,
            "min_height": null,
            "padding": null,
            "grid_auto_rows": null,
            "grid_gap": null,
            "max_width": null,
            "order": null,
            "_view_module_version": "1.2.0",
            "grid_template_areas": null,
            "object_position": null,
            "object_fit": null,
            "grid_auto_columns": null,
            "margin": null,
            "display": null,
            "left": null
          }
        },
        "f492e60d720c41828396596e0f1dcefa": {
          "model_module": "@jupyter-widgets/controls",
          "model_name": "DescriptionStyleModel",
          "state": {
            "_view_name": "StyleView",
            "_model_name": "DescriptionStyleModel",
            "description_width": "",
            "_view_module": "@jupyter-widgets/base",
            "_model_module_version": "1.5.0",
            "_view_count": null,
            "_view_module_version": "1.2.0",
            "_model_module": "@jupyter-widgets/controls"
          }
        },
        "3c69c9e1c8504675a55650a8bd902127": {
          "model_module": "@jupyter-widgets/base",
          "model_name": "LayoutModel",
          "state": {
            "_view_name": "LayoutView",
            "grid_template_rows": null,
            "right": null,
            "justify_content": null,
            "_view_module": "@jupyter-widgets/base",
            "overflow": null,
            "_model_module_version": "1.2.0",
            "_view_count": null,
            "flex_flow": null,
            "width": null,
            "min_width": null,
            "border": null,
            "align_items": null,
            "bottom": null,
            "_model_module": "@jupyter-widgets/base",
            "top": null,
            "grid_column": null,
            "overflow_y": null,
            "overflow_x": null,
            "grid_auto_flow": null,
            "grid_area": null,
            "grid_template_columns": null,
            "flex": null,
            "_model_name": "LayoutModel",
            "justify_items": null,
            "grid_row": null,
            "max_height": null,
            "align_content": null,
            "visibility": null,
            "align_self": null,
            "height": null,
            "min_height": null,
            "padding": null,
            "grid_auto_rows": null,
            "grid_gap": null,
            "max_width": null,
            "order": null,
            "_view_module_version": "1.2.0",
            "grid_template_areas": null,
            "object_position": null,
            "object_fit": null,
            "grid_auto_columns": null,
            "margin": null,
            "display": null,
            "left": null
          }
        },
        "0cf61fe218cd445fa23ccea1dfff2229": {
          "model_module": "@jupyter-widgets/controls",
          "model_name": "HBoxModel",
          "state": {
            "_view_name": "HBoxView",
            "_dom_classes": [],
            "_model_name": "HBoxModel",
            "_view_module": "@jupyter-widgets/controls",
            "_model_module_version": "1.5.0",
            "_view_count": null,
            "_view_module_version": "1.5.0",
            "box_style": "",
            "layout": "IPY_MODEL_94bd74e6e2eb4bdd9b312c0b4d8f88e5",
            "_model_module": "@jupyter-widgets/controls",
            "children": [
              "IPY_MODEL_3e0d574c3e394a36b9c5953123824095",
              "IPY_MODEL_ef8f4c2416e0436192ec48e35ceabc0b"
            ]
          }
        },
        "94bd74e6e2eb4bdd9b312c0b4d8f88e5": {
          "model_module": "@jupyter-widgets/base",
          "model_name": "LayoutModel",
          "state": {
            "_view_name": "LayoutView",
            "grid_template_rows": null,
            "right": null,
            "justify_content": null,
            "_view_module": "@jupyter-widgets/base",
            "overflow": null,
            "_model_module_version": "1.2.0",
            "_view_count": null,
            "flex_flow": null,
            "width": null,
            "min_width": null,
            "border": null,
            "align_items": null,
            "bottom": null,
            "_model_module": "@jupyter-widgets/base",
            "top": null,
            "grid_column": null,
            "overflow_y": null,
            "overflow_x": null,
            "grid_auto_flow": null,
            "grid_area": null,
            "grid_template_columns": null,
            "flex": null,
            "_model_name": "LayoutModel",
            "justify_items": null,
            "grid_row": null,
            "max_height": null,
            "align_content": null,
            "visibility": null,
            "align_self": null,
            "height": null,
            "min_height": null,
            "padding": null,
            "grid_auto_rows": null,
            "grid_gap": null,
            "max_width": null,
            "order": null,
            "_view_module_version": "1.2.0",
            "grid_template_areas": null,
            "object_position": null,
            "object_fit": null,
            "grid_auto_columns": null,
            "margin": null,
            "display": null,
            "left": null
          }
        },
        "3e0d574c3e394a36b9c5953123824095": {
          "model_module": "@jupyter-widgets/controls",
          "model_name": "FloatProgressModel",
          "state": {
            "_view_name": "ProgressView",
            "style": "IPY_MODEL_e8d5eff854824c36afca357ad552166d",
            "_dom_classes": [],
            "description": "",
            "_model_name": "FloatProgressModel",
            "bar_style": "success",
            "max": 1,
            "_view_module": "@jupyter-widgets/controls",
            "_model_module_version": "1.5.0",
            "value": 1,
            "_view_count": null,
            "_view_module_version": "1.5.0",
            "orientation": "horizontal",
            "min": 0,
            "description_tooltip": null,
            "_model_module": "@jupyter-widgets/controls",
            "layout": "IPY_MODEL_bcfabb7a447340d39e1f6a6f2c627415"
          }
        },
        "ef8f4c2416e0436192ec48e35ceabc0b": {
          "model_module": "@jupyter-widgets/controls",
          "model_name": "HTMLModel",
          "state": {
            "_view_name": "HTMLView",
            "style": "IPY_MODEL_4a53fe967b4243dea309867ddcc55a32",
            "_dom_classes": [],
            "description": "",
            "_model_name": "HTMLModel",
            "placeholder": "​",
            "_view_module": "@jupyter-widgets/controls",
            "_model_module_version": "1.5.0",
            "value": " 32768/? [00:03&lt;00:00, 8271.11it/s]",
            "_view_count": null,
            "_view_module_version": "1.5.0",
            "description_tooltip": null,
            "_model_module": "@jupyter-widgets/controls",
            "layout": "IPY_MODEL_ddb02331347041f09b095f6a50c14b5e"
          }
        },
        "e8d5eff854824c36afca357ad552166d": {
          "model_module": "@jupyter-widgets/controls",
          "model_name": "ProgressStyleModel",
          "state": {
            "_view_name": "StyleView",
            "_model_name": "ProgressStyleModel",
            "description_width": "initial",
            "_view_module": "@jupyter-widgets/base",
            "_model_module_version": "1.5.0",
            "_view_count": null,
            "_view_module_version": "1.2.0",
            "bar_color": null,
            "_model_module": "@jupyter-widgets/controls"
          }
        },
        "bcfabb7a447340d39e1f6a6f2c627415": {
          "model_module": "@jupyter-widgets/base",
          "model_name": "LayoutModel",
          "state": {
            "_view_name": "LayoutView",
            "grid_template_rows": null,
            "right": null,
            "justify_content": null,
            "_view_module": "@jupyter-widgets/base",
            "overflow": null,
            "_model_module_version": "1.2.0",
            "_view_count": null,
            "flex_flow": null,
            "width": null,
            "min_width": null,
            "border": null,
            "align_items": null,
            "bottom": null,
            "_model_module": "@jupyter-widgets/base",
            "top": null,
            "grid_column": null,
            "overflow_y": null,
            "overflow_x": null,
            "grid_auto_flow": null,
            "grid_area": null,
            "grid_template_columns": null,
            "flex": null,
            "_model_name": "LayoutModel",
            "justify_items": null,
            "grid_row": null,
            "max_height": null,
            "align_content": null,
            "visibility": null,
            "align_self": null,
            "height": null,
            "min_height": null,
            "padding": null,
            "grid_auto_rows": null,
            "grid_gap": null,
            "max_width": null,
            "order": null,
            "_view_module_version": "1.2.0",
            "grid_template_areas": null,
            "object_position": null,
            "object_fit": null,
            "grid_auto_columns": null,
            "margin": null,
            "display": null,
            "left": null
          }
        },
        "4a53fe967b4243dea309867ddcc55a32": {
          "model_module": "@jupyter-widgets/controls",
          "model_name": "DescriptionStyleModel",
          "state": {
            "_view_name": "StyleView",
            "_model_name": "DescriptionStyleModel",
            "description_width": "",
            "_view_module": "@jupyter-widgets/base",
            "_model_module_version": "1.5.0",
            "_view_count": null,
            "_view_module_version": "1.2.0",
            "_model_module": "@jupyter-widgets/controls"
          }
        },
        "ddb02331347041f09b095f6a50c14b5e": {
          "model_module": "@jupyter-widgets/base",
          "model_name": "LayoutModel",
          "state": {
            "_view_name": "LayoutView",
            "grid_template_rows": null,
            "right": null,
            "justify_content": null,
            "_view_module": "@jupyter-widgets/base",
            "overflow": null,
            "_model_module_version": "1.2.0",
            "_view_count": null,
            "flex_flow": null,
            "width": null,
            "min_width": null,
            "border": null,
            "align_items": null,
            "bottom": null,
            "_model_module": "@jupyter-widgets/base",
            "top": null,
            "grid_column": null,
            "overflow_y": null,
            "overflow_x": null,
            "grid_auto_flow": null,
            "grid_area": null,
            "grid_template_columns": null,
            "flex": null,
            "_model_name": "LayoutModel",
            "justify_items": null,
            "grid_row": null,
            "max_height": null,
            "align_content": null,
            "visibility": null,
            "align_self": null,
            "height": null,
            "min_height": null,
            "padding": null,
            "grid_auto_rows": null,
            "grid_gap": null,
            "max_width": null,
            "order": null,
            "_view_module_version": "1.2.0",
            "grid_template_areas": null,
            "object_position": null,
            "object_fit": null,
            "grid_auto_columns": null,
            "margin": null,
            "display": null,
            "left": null
          }
        },
        "d413a928abe2477db5e23d70eca7069e": {
          "model_module": "@jupyter-widgets/controls",
          "model_name": "HBoxModel",
          "state": {
            "_view_name": "HBoxView",
            "_dom_classes": [],
            "_model_name": "HBoxModel",
            "_view_module": "@jupyter-widgets/controls",
            "_model_module_version": "1.5.0",
            "_view_count": null,
            "_view_module_version": "1.5.0",
            "box_style": "",
            "layout": "IPY_MODEL_1abec9644ddf46cc920f8620554d450c",
            "_model_module": "@jupyter-widgets/controls",
            "children": [
              "IPY_MODEL_5eb1bf6c795c422dbed698ad81298041",
              "IPY_MODEL_56f3868cdd09453e8665c7434f432162"
            ]
          }
        },
        "1abec9644ddf46cc920f8620554d450c": {
          "model_module": "@jupyter-widgets/base",
          "model_name": "LayoutModel",
          "state": {
            "_view_name": "LayoutView",
            "grid_template_rows": null,
            "right": null,
            "justify_content": null,
            "_view_module": "@jupyter-widgets/base",
            "overflow": null,
            "_model_module_version": "1.2.0",
            "_view_count": null,
            "flex_flow": null,
            "width": null,
            "min_width": null,
            "border": null,
            "align_items": null,
            "bottom": null,
            "_model_module": "@jupyter-widgets/base",
            "top": null,
            "grid_column": null,
            "overflow_y": null,
            "overflow_x": null,
            "grid_auto_flow": null,
            "grid_area": null,
            "grid_template_columns": null,
            "flex": null,
            "_model_name": "LayoutModel",
            "justify_items": null,
            "grid_row": null,
            "max_height": null,
            "align_content": null,
            "visibility": null,
            "align_self": null,
            "height": null,
            "min_height": null,
            "padding": null,
            "grid_auto_rows": null,
            "grid_gap": null,
            "max_width": null,
            "order": null,
            "_view_module_version": "1.2.0",
            "grid_template_areas": null,
            "object_position": null,
            "object_fit": null,
            "grid_auto_columns": null,
            "margin": null,
            "display": null,
            "left": null
          }
        },
        "5eb1bf6c795c422dbed698ad81298041": {
          "model_module": "@jupyter-widgets/controls",
          "model_name": "FloatProgressModel",
          "state": {
            "_view_name": "ProgressView",
            "style": "IPY_MODEL_0915b5f8278944de99d36dfb154f9e50",
            "_dom_classes": [],
            "description": "",
            "_model_name": "FloatProgressModel",
            "bar_style": "success",
            "max": 1,
            "_view_module": "@jupyter-widgets/controls",
            "_model_module_version": "1.5.0",
            "value": 1,
            "_view_count": null,
            "_view_module_version": "1.5.0",
            "orientation": "horizontal",
            "min": 0,
            "description_tooltip": null,
            "_model_module": "@jupyter-widgets/controls",
            "layout": "IPY_MODEL_45b7af19609d47eb90641e72cb425224"
          }
        },
        "56f3868cdd09453e8665c7434f432162": {
          "model_module": "@jupyter-widgets/controls",
          "model_name": "HTMLModel",
          "state": {
            "_view_name": "HTMLView",
            "style": "IPY_MODEL_aec061ab6a874b5b84122d732ea714a8",
            "_dom_classes": [],
            "description": "",
            "_model_name": "HTMLModel",
            "placeholder": "​",
            "_view_module": "@jupyter-widgets/controls",
            "_model_module_version": "1.5.0",
            "value": " 1654784/? [00:03&lt;00:00, 499935.47it/s]",
            "_view_count": null,
            "_view_module_version": "1.5.0",
            "description_tooltip": null,
            "_model_module": "@jupyter-widgets/controls",
            "layout": "IPY_MODEL_4e4fdc984a394269b2311123c76cb7b8"
          }
        },
        "0915b5f8278944de99d36dfb154f9e50": {
          "model_module": "@jupyter-widgets/controls",
          "model_name": "ProgressStyleModel",
          "state": {
            "_view_name": "StyleView",
            "_model_name": "ProgressStyleModel",
            "description_width": "initial",
            "_view_module": "@jupyter-widgets/base",
            "_model_module_version": "1.5.0",
            "_view_count": null,
            "_view_module_version": "1.2.0",
            "bar_color": null,
            "_model_module": "@jupyter-widgets/controls"
          }
        },
        "45b7af19609d47eb90641e72cb425224": {
          "model_module": "@jupyter-widgets/base",
          "model_name": "LayoutModel",
          "state": {
            "_view_name": "LayoutView",
            "grid_template_rows": null,
            "right": null,
            "justify_content": null,
            "_view_module": "@jupyter-widgets/base",
            "overflow": null,
            "_model_module_version": "1.2.0",
            "_view_count": null,
            "flex_flow": null,
            "width": null,
            "min_width": null,
            "border": null,
            "align_items": null,
            "bottom": null,
            "_model_module": "@jupyter-widgets/base",
            "top": null,
            "grid_column": null,
            "overflow_y": null,
            "overflow_x": null,
            "grid_auto_flow": null,
            "grid_area": null,
            "grid_template_columns": null,
            "flex": null,
            "_model_name": "LayoutModel",
            "justify_items": null,
            "grid_row": null,
            "max_height": null,
            "align_content": null,
            "visibility": null,
            "align_self": null,
            "height": null,
            "min_height": null,
            "padding": null,
            "grid_auto_rows": null,
            "grid_gap": null,
            "max_width": null,
            "order": null,
            "_view_module_version": "1.2.0",
            "grid_template_areas": null,
            "object_position": null,
            "object_fit": null,
            "grid_auto_columns": null,
            "margin": null,
            "display": null,
            "left": null
          }
        },
        "aec061ab6a874b5b84122d732ea714a8": {
          "model_module": "@jupyter-widgets/controls",
          "model_name": "DescriptionStyleModel",
          "state": {
            "_view_name": "StyleView",
            "_model_name": "DescriptionStyleModel",
            "description_width": "",
            "_view_module": "@jupyter-widgets/base",
            "_model_module_version": "1.5.0",
            "_view_count": null,
            "_view_module_version": "1.2.0",
            "_model_module": "@jupyter-widgets/controls"
          }
        },
        "4e4fdc984a394269b2311123c76cb7b8": {
          "model_module": "@jupyter-widgets/base",
          "model_name": "LayoutModel",
          "state": {
            "_view_name": "LayoutView",
            "grid_template_rows": null,
            "right": null,
            "justify_content": null,
            "_view_module": "@jupyter-widgets/base",
            "overflow": null,
            "_model_module_version": "1.2.0",
            "_view_count": null,
            "flex_flow": null,
            "width": null,
            "min_width": null,
            "border": null,
            "align_items": null,
            "bottom": null,
            "_model_module": "@jupyter-widgets/base",
            "top": null,
            "grid_column": null,
            "overflow_y": null,
            "overflow_x": null,
            "grid_auto_flow": null,
            "grid_area": null,
            "grid_template_columns": null,
            "flex": null,
            "_model_name": "LayoutModel",
            "justify_items": null,
            "grid_row": null,
            "max_height": null,
            "align_content": null,
            "visibility": null,
            "align_self": null,
            "height": null,
            "min_height": null,
            "padding": null,
            "grid_auto_rows": null,
            "grid_gap": null,
            "max_width": null,
            "order": null,
            "_view_module_version": "1.2.0",
            "grid_template_areas": null,
            "object_position": null,
            "object_fit": null,
            "grid_auto_columns": null,
            "margin": null,
            "display": null,
            "left": null
          }
        },
        "ac6e7fe8016a48569c7b6e0b87f2d25c": {
          "model_module": "@jupyter-widgets/controls",
          "model_name": "HBoxModel",
          "state": {
            "_view_name": "HBoxView",
            "_dom_classes": [],
            "_model_name": "HBoxModel",
            "_view_module": "@jupyter-widgets/controls",
            "_model_module_version": "1.5.0",
            "_view_count": null,
            "_view_module_version": "1.5.0",
            "box_style": "",
            "layout": "IPY_MODEL_a547a4775a3249e097b717d3fa3108b5",
            "_model_module": "@jupyter-widgets/controls",
            "children": [
              "IPY_MODEL_d864186c969a42ba8939dc34be754eae",
              "IPY_MODEL_3b37ef559e024b058cc0d44db1c58601"
            ]
          }
        },
        "a547a4775a3249e097b717d3fa3108b5": {
          "model_module": "@jupyter-widgets/base",
          "model_name": "LayoutModel",
          "state": {
            "_view_name": "LayoutView",
            "grid_template_rows": null,
            "right": null,
            "justify_content": null,
            "_view_module": "@jupyter-widgets/base",
            "overflow": null,
            "_model_module_version": "1.2.0",
            "_view_count": null,
            "flex_flow": null,
            "width": null,
            "min_width": null,
            "border": null,
            "align_items": null,
            "bottom": null,
            "_model_module": "@jupyter-widgets/base",
            "top": null,
            "grid_column": null,
            "overflow_y": null,
            "overflow_x": null,
            "grid_auto_flow": null,
            "grid_area": null,
            "grid_template_columns": null,
            "flex": null,
            "_model_name": "LayoutModel",
            "justify_items": null,
            "grid_row": null,
            "max_height": null,
            "align_content": null,
            "visibility": null,
            "align_self": null,
            "height": null,
            "min_height": null,
            "padding": null,
            "grid_auto_rows": null,
            "grid_gap": null,
            "max_width": null,
            "order": null,
            "_view_module_version": "1.2.0",
            "grid_template_areas": null,
            "object_position": null,
            "object_fit": null,
            "grid_auto_columns": null,
            "margin": null,
            "display": null,
            "left": null
          }
        },
        "d864186c969a42ba8939dc34be754eae": {
          "model_module": "@jupyter-widgets/controls",
          "model_name": "FloatProgressModel",
          "state": {
            "_view_name": "ProgressView",
            "style": "IPY_MODEL_5d7de525c01f4b4f854ceee27d2e39c3",
            "_dom_classes": [],
            "description": "",
            "_model_name": "FloatProgressModel",
            "bar_style": "success",
            "max": 1,
            "_view_module": "@jupyter-widgets/controls",
            "_model_module_version": "1.5.0",
            "value": 1,
            "_view_count": null,
            "_view_module_version": "1.5.0",
            "orientation": "horizontal",
            "min": 0,
            "description_tooltip": null,
            "_model_module": "@jupyter-widgets/controls",
            "layout": "IPY_MODEL_699762e7c9094aadaaeec5a00938c4ef"
          }
        },
        "3b37ef559e024b058cc0d44db1c58601": {
          "model_module": "@jupyter-widgets/controls",
          "model_name": "HTMLModel",
          "state": {
            "_view_name": "HTMLView",
            "style": "IPY_MODEL_9006120aff864341ad0c7b68bd71c499",
            "_dom_classes": [],
            "description": "",
            "_model_name": "HTMLModel",
            "placeholder": "​",
            "_view_module": "@jupyter-widgets/controls",
            "_model_module_version": "1.5.0",
            "value": " 8192/? [00:00&lt;00:00, 12259.22it/s]",
            "_view_count": null,
            "_view_module_version": "1.5.0",
            "description_tooltip": null,
            "_model_module": "@jupyter-widgets/controls",
            "layout": "IPY_MODEL_272213d662764bd3937d7356b639a767"
          }
        },
        "5d7de525c01f4b4f854ceee27d2e39c3": {
          "model_module": "@jupyter-widgets/controls",
          "model_name": "ProgressStyleModel",
          "state": {
            "_view_name": "StyleView",
            "_model_name": "ProgressStyleModel",
            "description_width": "initial",
            "_view_module": "@jupyter-widgets/base",
            "_model_module_version": "1.5.0",
            "_view_count": null,
            "_view_module_version": "1.2.0",
            "bar_color": null,
            "_model_module": "@jupyter-widgets/controls"
          }
        },
        "699762e7c9094aadaaeec5a00938c4ef": {
          "model_module": "@jupyter-widgets/base",
          "model_name": "LayoutModel",
          "state": {
            "_view_name": "LayoutView",
            "grid_template_rows": null,
            "right": null,
            "justify_content": null,
            "_view_module": "@jupyter-widgets/base",
            "overflow": null,
            "_model_module_version": "1.2.0",
            "_view_count": null,
            "flex_flow": null,
            "width": null,
            "min_width": null,
            "border": null,
            "align_items": null,
            "bottom": null,
            "_model_module": "@jupyter-widgets/base",
            "top": null,
            "grid_column": null,
            "overflow_y": null,
            "overflow_x": null,
            "grid_auto_flow": null,
            "grid_area": null,
            "grid_template_columns": null,
            "flex": null,
            "_model_name": "LayoutModel",
            "justify_items": null,
            "grid_row": null,
            "max_height": null,
            "align_content": null,
            "visibility": null,
            "align_self": null,
            "height": null,
            "min_height": null,
            "padding": null,
            "grid_auto_rows": null,
            "grid_gap": null,
            "max_width": null,
            "order": null,
            "_view_module_version": "1.2.0",
            "grid_template_areas": null,
            "object_position": null,
            "object_fit": null,
            "grid_auto_columns": null,
            "margin": null,
            "display": null,
            "left": null
          }
        },
        "9006120aff864341ad0c7b68bd71c499": {
          "model_module": "@jupyter-widgets/controls",
          "model_name": "DescriptionStyleModel",
          "state": {
            "_view_name": "StyleView",
            "_model_name": "DescriptionStyleModel",
            "description_width": "",
            "_view_module": "@jupyter-widgets/base",
            "_model_module_version": "1.5.0",
            "_view_count": null,
            "_view_module_version": "1.2.0",
            "_model_module": "@jupyter-widgets/controls"
          }
        },
        "272213d662764bd3937d7356b639a767": {
          "model_module": "@jupyter-widgets/base",
          "model_name": "LayoutModel",
          "state": {
            "_view_name": "LayoutView",
            "grid_template_rows": null,
            "right": null,
            "justify_content": null,
            "_view_module": "@jupyter-widgets/base",
            "overflow": null,
            "_model_module_version": "1.2.0",
            "_view_count": null,
            "flex_flow": null,
            "width": null,
            "min_width": null,
            "border": null,
            "align_items": null,
            "bottom": null,
            "_model_module": "@jupyter-widgets/base",
            "top": null,
            "grid_column": null,
            "overflow_y": null,
            "overflow_x": null,
            "grid_auto_flow": null,
            "grid_area": null,
            "grid_template_columns": null,
            "flex": null,
            "_model_name": "LayoutModel",
            "justify_items": null,
            "grid_row": null,
            "max_height": null,
            "align_content": null,
            "visibility": null,
            "align_self": null,
            "height": null,
            "min_height": null,
            "padding": null,
            "grid_auto_rows": null,
            "grid_gap": null,
            "max_width": null,
            "order": null,
            "_view_module_version": "1.2.0",
            "grid_template_areas": null,
            "object_position": null,
            "object_fit": null,
            "grid_auto_columns": null,
            "margin": null,
            "display": null,
            "left": null
          }
        }
      }
    }
  },
  "cells": [
    {
      "cell_type": "markdown",
      "metadata": {
        "id": "Ed03SC1Jm9Yy"
      },
      "source": [
        "# Funções de perda (*loss functions*)\n",
        "\n",
        "Neste código iremos analisar diferentes funções de perda (também conhecidas como *loss functions*) que são usadas para avaliar a rede no estado atual.\n",
        "\n",
        "Funções de perda, também conhecidas como *loss functions*, são muito importantes para o aprendizagem de máquinas, pois servem como uma forma de medir a distância ou a diferença entre a saída prevista de um modelo e o seu valor real, auxiliando então no treino no modelo.\n",
        "\n",
        "Diversas funções de perda foram propostas ao longo do tempo para diferentes tipos de problemas.\n",
        "Algumas dessas funções foram propostas para auxiliar no treino de modelos de regressão linear, como as *loss* [L1](https://pytorch.org/docs/stable/nn.html#l1loss), [L2](https://pytorch.org/docs/stable/nn.html#mseloss) e [Huber](https://pytorch.org/docs/stable/nn.html#smoothl1loss).\n",
        "Outras foram propostas para serem usadas em problemas de classificação, como a mais comum de todas [Cross-Entropy](https://pytorch.org/docs/stable/nn.html#crossentropyloss).\n",
        "\n",
        "<p align=\"center\">\n",
        "  <img src=\"https://drive.google.com/uc?export=view&id=1ITV4Ikw0NP39p1KNFkt46LWwnhzLKf7h\">\n",
        "</p>\n"
      ]
    },
    {
      "cell_type": "markdown",
      "metadata": {
        "id": "EFmg1Dxv5Bzg"
      },
      "source": [
        "## Preâmbulo"
      ]
    },
    {
      "cell_type": "code",
      "metadata": {
        "id": "6QBk4NCu5Bzl"
      },
      "source": [
        "import torch\n",
        "import torch.nn.functional as F\n",
        "import torchvision\n",
        "\n",
        "from torchvision import datasets, transforms\n",
        "from torch import optim, nn\n",
        "\n",
        "from sklearn.model_selection import train_test_split\n",
        "\n",
        "import numpy as np\n",
        "\n",
        "import os\n",
        "import sys\n",
        "import time"
      ],
      "execution_count": 2,
      "outputs": []
    },
    {
      "cell_type": "code",
      "metadata": {
        "id": "mEUbwZXN5Bzn"
      },
      "source": [
        "import matplotlib.pyplot as plt\n",
        "plt.ion()"
      ],
      "execution_count": 3,
      "outputs": []
    },
    {
      "cell_type": "code",
      "metadata": {
        "id": "rZyvGCCq5Bzq",
        "colab": {
          "base_uri": "https://localhost:8080/"
        },
        "outputId": "19929be2-03a3-473a-bed5-9024f0f2f5db"
      },
      "source": [
        "# Test if GPU is avaliable, if not, use cpu instead\n",
        "device = torch.device('cuda' if torch.cuda.is_available() else 'cpu')\n",
        "n = torch.cuda.device_count()\n",
        "devices_ids = list(range(n))\n",
        "devices_ids"
      ],
      "execution_count": 4,
      "outputs": [
        {
          "output_type": "execute_result",
          "data": {
            "text/plain": [
              "[0]"
            ]
          },
          "metadata": {
            "tags": []
          },
          "execution_count": 4
        }
      ]
    },
    {
      "cell_type": "code",
      "metadata": {
        "id": "g9u0pCOtlWLu"
      },
      "source": [
        "## carregando dados básicos\n",
        "\n",
        "# dados sintéticos somente para \n",
        "def synthetic_regression_data(w, b, num_examples):\n",
        "    \"\"\"generate y = X w + b + noise\"\"\"\n",
        "    X = np.random.normal(scale=1, size=(num_examples, len(w)))\n",
        "    y = np.dot(X, w) + b\n",
        "    y += np.random.normal(scale=0.01, size=y.shape)\n",
        "    return torch.FloatTensor(X), torch.FloatTensor(y)\n",
        "\n",
        "# código para carregar o dataset do MNIST\n",
        "# http://yann.lecun.com/exdb/mnist/\n",
        "def load_data_mnist(batch_size, resize=None, root=os.path.join(\n",
        "        '~', '.pytorch', 'datasets', 'fashion-mnist')):\n",
        "    \"\"\"Download the Fashion-MNIST dataset and then load into memory.\"\"\"\n",
        "    root = os.path.expanduser(root)\n",
        "    transformer = []\n",
        "    if resize:\n",
        "        transformer += [transforms.Resize(resize)]\n",
        "    transformer += [transforms.ToTensor()]\n",
        "    transformer = transforms.Compose(transformer)\n",
        "\n",
        "    mnist_train = datasets.MNIST(root=root, train=True,download=True, transform=transformer)\n",
        "    mnist_test = datasets.MNIST(root=root, train=False,download=True, transform=transformer)\n",
        "    num_workers = 0 if sys.platform.startswith('win32') else 4\n",
        "\n",
        "\n",
        "\n",
        "    train_iter = torch.utils.data.DataLoader(mnist_train,\n",
        "                                  batch_size, shuffle=True,\n",
        "                                  num_workers=num_workers)\n",
        "    test_iter = torch.utils.data.DataLoader(mnist_test,\n",
        "                                 batch_size, shuffle=False,\n",
        "                                 num_workers=num_workers)\n",
        "    return train_iter, test_iter"
      ],
      "execution_count": 5,
      "outputs": []
    },
    {
      "cell_type": "code",
      "metadata": {
        "id": "8oSVf8u1Oi1m"
      },
      "source": [
        "# funções básicas\n",
        "\n",
        "def load_array(features, labels, batch_size, is_train=True):\n",
        "    \"\"\"Construct a data loader\"\"\"\n",
        "    dataset = torch.utils.data.TensorDataset(features, labels)\n",
        "    return torch.utils.data.DataLoader(dataset, batch_size, shuffle=is_train)\n",
        "\n",
        "          \n",
        "# Função para inicializar pesos da rede\n",
        "def weights_init(m):\n",
        "    classname = m.__class__.__name__\n",
        "    if classname.find('Linear') != -1:\n",
        "        m.weight.data.normal_(0.0, 0.01) # valores iniciais são uma normal"
      ],
      "execution_count": 6,
      "outputs": []
    },
    {
      "cell_type": "markdown",
      "metadata": {
        "id": "Azv2ajIYkIjH"
      },
      "source": [
        "## *Loss* L2\n",
        "\n",
        "O função de custo chamada L2 (também conhecida como *Mean Squared Error* -- MSE) é, talvez, a função de perda mais simples e comum. \n",
        "Essa função é representada simplesmente pela média do quadrado da diferença entre as previsões do modelo e o *ground-truth*.\n",
        "Essa função nunca terá valores negativos, pois a diferença calculada será sempre elevado à segunda potência.\n",
        "\n",
        "Formalmente, dado a valor real $y$, e a predição feita pelo modelo $\\hat{y}$, a *loss* L2 é definida pela seguinte equação:\n",
        "\n",
        "$$\\mathcal{l}_2^i(w, b) = \\frac{1}{2} (\\hat{y}^i - y^i)^2 $$\n",
        "\n",
        "A constante $1/2$ é apenas por conveniência matemática, garantindo que depois de tomarmos a derivada dessa função, o coeficiente constante será de $1$.\n",
        "\n",
        "A grande vantagem dessa função é que ela garante que o modelo treinado não tenha previsões discrepantes com erros enormes, já que ela atribui maior peso a esses erros devido à parte quadrática da função.\n",
        "Entretanto, isso gera a desvantagem dessa função de custo, pois se o modelo faz uma única previsão muito ruim, a parte quadrática da função aumenta o erro consideravelmente.\n",
        "No entanto, em muitos casos práticos, não nos importamos muito com esses poucos valores discrepantes e buscamos um modelo mais abrangente que tenha um bom desempenho na maioria.\n",
        "\n",
        "Para tentar garantir a qualidade do modelo em todo o conjunto de dados, podemos simplesmente calcular a média das perdas no conjunto de treinamento:\n",
        "\n",
        "$$\\mathcal{L}(w, b) = \\frac{1}{n} \\sum_i^N \\mathcal{l}^{i}_2(w, b) $$\n",
        "\n",
        "### Implementação\n",
        "\n",
        "Em frameworks atuais (como no MxNet, TensorFlow, e PyTorch), a implementação de funções de custo comuns, como a L2, são diretas e muitos simples.\n",
        "\n",
        "**Um exemplo é mostrado abaixo utilizando o framework PyTorch.**"
      ]
    },
    {
      "cell_type": "code",
      "metadata": {
        "id": "T0LIS1C8S6k1",
        "colab": {
          "base_uri": "https://localhost:8080/"
        },
        "outputId": "0dff1e36-b0ee-4401-f8db-7ab2e73108aa"
      },
      "source": [
        "seed = [2, -3.4]\n",
        "seed_gt = 4.2\n",
        "features, labels = synthetic_regression_data(seed, seed_gt, 1000)\n",
        "  \n",
        "batch_size = 10\n",
        "data_iter = load_array(features, labels, batch_size)\n",
        "\n",
        "# arquitetura super simples\n",
        "net = nn.Sequential(\n",
        "    nn.Linear(2,1)\n",
        ")\n",
        "\n",
        "net.apply(weights_init)\n",
        "net.to(device) # diz para a rede que ela deve ser treinada na GPU\n",
        "\n",
        "loss = nn.MSELoss()  # loss L2\n",
        "trainer = optim.SGD(net.parameters(), lr=0.03)\n",
        "\n",
        "# treino\n",
        "num_epochs = 3\n",
        "for epoch in range(1, num_epochs + 1):\n",
        "    loss_sum = 0.0\n",
        "    for X, y in data_iter:\n",
        "        X, y = X.to(device), y.to(device)\n",
        "        y_hat = net(X).view(batch_size)\n",
        "        l = loss(y_hat, y)\n",
        "        l.backward()\n",
        "        trainer.step()\n",
        "        trainer.zero_grad()\n",
        "        loss_sum += l.item()\n",
        "    print('epoch %d, loss: %f' % (epoch, l.mean().item()))\n",
        "\n",
        "for i in range(995, 999):\n",
        "  y_hat = net(features[i:i+1, :].to(device))\n",
        "  print(y_hat, labels[i], labels[i] - y_hat)"
      ],
      "execution_count": 7,
      "outputs": [
        {
          "output_type": "stream",
          "text": [
            "epoch 1, loss: 0.000332\n",
            "epoch 2, loss: 0.000111\n",
            "epoch 3, loss: 0.000074\n",
            "tensor([[1.1949]], device='cuda:0', grad_fn=<AddmmBackward>) tensor(1.1914) tensor([[-0.0036]], device='cuda:0', grad_fn=<SubBackward0>)\n",
            "tensor([[5.7190]], device='cuda:0', grad_fn=<AddmmBackward>) tensor(5.7206) tensor([[0.0016]], device='cuda:0', grad_fn=<SubBackward0>)\n",
            "tensor([[4.5507]], device='cuda:0', grad_fn=<AddmmBackward>) tensor(4.5521) tensor([[0.0014]], device='cuda:0', grad_fn=<SubBackward0>)\n",
            "tensor([[8.3412]], device='cuda:0', grad_fn=<AddmmBackward>) tensor(8.3215) tensor([[-0.0197]], device='cuda:0', grad_fn=<SubBackward0>)\n"
          ],
          "name": "stdout"
        }
      ]
    },
    {
      "cell_type": "code",
      "metadata": {
        "id": "xaR--CY3GnP7",
        "colab": {
          "base_uri": "https://localhost:8080/"
        },
        "outputId": "4fd9673b-727f-4d15-bd15-5109eaf8e246"
      },
      "source": [
        "loss(net(features[:10, :].to(device)), labels[:10].to(device))"
      ],
      "execution_count": 8,
      "outputs": [
        {
          "output_type": "stream",
          "text": [
            "/usr/local/lib/python3.6/dist-packages/torch/nn/modules/loss.py:446: UserWarning: Using a target size (torch.Size([10])) that is different to the input size (torch.Size([10, 1])). This will likely lead to incorrect results due to broadcasting. Please ensure they have the same size.\n",
            "  return F.mse_loss(input, target, reduction=self.reduction)\n"
          ],
          "name": "stderr"
        },
        {
          "output_type": "execute_result",
          "data": {
            "text/plain": [
              "tensor(21.1225, device='cuda:0', grad_fn=<MseLossBackward>)"
            ]
          },
          "metadata": {
            "tags": []
          },
          "execution_count": 8
        }
      ]
    },
    {
      "cell_type": "markdown",
      "metadata": {
        "id": "lz_ayDVLnNFU"
      },
      "source": [
        "## *Loss* L1\n",
        "\n",
        "A função de custo L1 é apenas ligeiramente diferente da L2, mas fornece curiosamente propriedades quase exatamente opostas!\n",
        "Essa função é representada pelo valor absoluto da diferença entre as previsões do modelo e o *ground-truth*.\n",
        "\n",
        "Essa função, assim como o *loss* L2, nunca será negativo, pois neste caso estamos sempre assumindo o valor absoluto dos erros.\n",
        "Formalmente, dado a valor real (*ground-truth*) $y$, e a predição feita pelo modelo $\\hat{y}$, a *loss* L1 é definida pela seguinte equação:\n",
        "\n",
        "$$\\mathcal{l}_1^i(w, b) = \\sum_i |\\hat{y}^i - y^i| $$\n",
        "\n",
        "A grande vantagem da função de custo L1 cobre diretamente a desvantagem do *loss* L2.\n",
        "Em outras palaras, como estamos trabalhando com o valor absoluto, todos os erros serão ponderados na mesma escala linear.\n",
        "Assim, ao contrário do *loss* L2, não estamos colocando muito peso nos valores com grande discrepância e a função de perda fornece uma medida genérica e uniforme do desempenho do modelo.\n",
        "\n",
        "Por outro lado, a desvantagem desta função é, para alguns casos, não dar pesos diferentes para específico valores discrepantes. Por exemplo, os erros relativamente grandes provenientes dos *outliers* acabam sendo ponderados exatamente como erros menores. Isso pode resultar em nosso modelo sendo ótimo na maior parte do tempo, mas fazendo algumas previsões muito ruins de vez em quando.\n",
        "\n",
        "Essa função pode ser facilmente implementada no PyTorch, como pode ser visto [aqui](https://pytorch.org/docs/stable/nn.html#l1loss)."
      ]
    },
    {
      "cell_type": "code",
      "metadata": {
        "id": "gYe6ZR3L9jxc",
        "colab": {
          "base_uri": "https://localhost:8080/"
        },
        "outputId": "98007cc1-67e3-41fb-d223-3cbe347709bc"
      },
      "source": [
        "seed = [2, -3.4]\n",
        "seed_gt = 4.2\n",
        "features, labels = synthetic_regression_data(seed, seed_gt, 1000)\n",
        "  \n",
        "batch_size = 10\n",
        "data_iter = load_array(features, labels, batch_size)\n",
        "\n",
        "# arquitetura super simples\n",
        "net = nn.Sequential(\n",
        "    nn.Linear(2,1)\n",
        ")\n",
        "\n",
        "net.apply(weights_init)\n",
        "net.to(device) # diz para a rede que ela deve ser treinada na GPU\n",
        "\n",
        "loss = nn.L1Loss()  # loss L1\n",
        "trainer = optim.SGD(net.parameters(), lr=0.03)\n",
        "\n",
        "# treino\n",
        "num_epochs = 3\n",
        "for epoch in range(1, num_epochs + 1):\n",
        "    loss_sum = 0.0\n",
        "    for X, y in data_iter:\n",
        "        X, y = X.to(device), y.to(device)\n",
        "        y_hat = net(X).view(batch_size)\n",
        "        l = loss(y_hat, y)\n",
        "        l.backward()\n",
        "        trainer.step()\n",
        "        trainer.zero_grad()\n",
        "        loss_sum += l.item()\n",
        "    print('epoch %d, loss: %f' % (epoch, l.mean().item()))\n",
        "\n",
        "for i in range(995, 999):\n",
        "  y_hat = net(features[i:i+1, :].to(device))\n",
        "  print(y_hat, labels[i], labels[i] - y_hat)"
      ],
      "execution_count": 9,
      "outputs": [
        {
          "output_type": "stream",
          "text": [
            "epoch 1, loss: 2.595627\n",
            "epoch 2, loss: 0.779061\n",
            "epoch 3, loss: 0.008881\n",
            "tensor([[4.3999]], device='cuda:0', grad_fn=<AddmmBackward>) tensor(4.4242) tensor([[0.0243]], device='cuda:0', grad_fn=<SubBackward0>)\n",
            "tensor([[8.4831]], device='cuda:0', grad_fn=<AddmmBackward>) tensor(8.4762) tensor([[-0.0069]], device='cuda:0', grad_fn=<SubBackward0>)\n",
            "tensor([[7.1690]], device='cuda:0', grad_fn=<AddmmBackward>) tensor(7.1838) tensor([[0.0148]], device='cuda:0', grad_fn=<SubBackward0>)\n",
            "tensor([[1.2621]], device='cuda:0', grad_fn=<AddmmBackward>) tensor(1.2605) tensor([[-0.0017]], device='cuda:0', grad_fn=<SubBackward0>)\n"
          ],
          "name": "stdout"
        }
      ]
    },
    {
      "cell_type": "markdown",
      "metadata": {
        "id": "FfLtl5pE-TYJ"
      },
      "source": [
        "## Huber *Loss* \n",
        "\n",
        "Vimos que a função de perda L2 tem certas vantangens (como conseguir aprender *outliers*), enquanto o *loss* L1 tem outros benefícios, como ignorar os *outliers*.\n",
        "Porém, existe uma forma de combinar e agregar os benefícios das duas?\n",
        "\n",
        "Sim! A Huber *Loss* oferece o melhor dos dois mundos, equilibrando as funções de perda L1 e L2 juntos. \n",
        "Formalmente, dado a valor real (*ground-truth*) $y$, e a predição feita pelo modelo $\\hat{y}$, a Huber *Loss* é definida pela seguinte equação:\n",
        "\n",
        "$$\n",
        "l_H^i(w, b) = \\sum_i \\begin{cases}\n",
        "                                        \\frac{1}{2\\rho} (\\hat{y}^i - y^i)^2, & \\text{if } |\\hat{y}^i - y^i| < \\rho\\\\\n",
        "                                        |\\hat{y}^i - y^i| - \\frac{\\rho}{2},  & \\text{otherwise}\n",
        "\\end{cases}\n",
        "$$\n",
        ", onde $\\rho$ é uma constance que define a margem.\n",
        "O que essa equação essencialmente diz é: para valores de perda menores que $\\rho$, use o *loss& L2; para valores de perda maiores que delta, use a função de custo L1.\n",
        "Isso efetivamente combina o melhor dos dois mundos das duas funções de perda!\n",
        "\n",
        "O uso da função de custo L1 para valores maiores reduz o peso que colocamos em valores discrepantes para que possamos obter um modelo completo. Ao mesmo tempo, usamos o *loss* L2 para valores menores de perda para manter uma função quadrática próxima ao centro.\n",
        "\n",
        "Essa função pode ser facilmente implementada no PyTorch, como pode ser visto [aqui](https://pytorch.org/docs/stable/nn.html#smoothl1loss)."
      ]
    },
    {
      "cell_type": "code",
      "metadata": {
        "id": "98gc8lje-MCL",
        "colab": {
          "base_uri": "https://localhost:8080/"
        },
        "outputId": "8ecc1727-7c0d-412e-e1ba-360eff9716e7"
      },
      "source": [
        "seed = [2, -3.4]\n",
        "seed_gt = 4.2\n",
        "features, labels = synthetic_regression_data(seed, seed_gt, 1000)\n",
        "  \n",
        "batch_size = 10\n",
        "data_iter = load_array(features, labels, batch_size)\n",
        "\n",
        "# arquitetura super simples\n",
        "net = nn.Sequential(\n",
        "    nn.Linear(2,1)\n",
        ")\n",
        "\n",
        "net.apply(weights_init)\n",
        "net.to(device) # diz para a rede que ela deve ser treinada na GPU\n",
        "\n",
        "loss = nn.SmoothL1Loss()  # loss L1\n",
        "trainer = optim.SGD(net.parameters(), lr=0.03)\n",
        "\n",
        "# treino\n",
        "num_epochs = 3\n",
        "for epoch in range(1, num_epochs + 1):\n",
        "    loss_sum = 0.0\n",
        "    for X, y in data_iter:\n",
        "        X, y = X.to(device), y.to(device)\n",
        "        y_hat = net(X).view(batch_size)\n",
        "        l = loss(y_hat, y)\n",
        "        l.backward()\n",
        "        trainer.step()\n",
        "        trainer.zero_grad()\n",
        "        loss_sum += l.item()\n",
        "    print('epoch %d, loss: %f' % (epoch, l.mean().item()))\n",
        "\n",
        "for i in range(995, 999):\n",
        "  y_hat = net(features[i:i+1, :].to(device))\n",
        "  print(y_hat, labels[i], labels[i] - y_hat)"
      ],
      "execution_count": 10,
      "outputs": [
        {
          "output_type": "stream",
          "text": [
            "epoch 1, loss: 1.890950\n",
            "epoch 2, loss: 0.305951\n",
            "epoch 3, loss: 0.000719\n",
            "tensor([[7.9487]], device='cuda:0', grad_fn=<AddmmBackward>) tensor(7.9753) tensor([[0.0266]], device='cuda:0', grad_fn=<SubBackward0>)\n",
            "tensor([[5.4399]], device='cuda:0', grad_fn=<AddmmBackward>) tensor(5.4727) tensor([[0.0328]], device='cuda:0', grad_fn=<SubBackward0>)\n",
            "tensor([[6.1164]], device='cuda:0', grad_fn=<AddmmBackward>) tensor(6.1228) tensor([[0.0064]], device='cuda:0', grad_fn=<SubBackward0>)\n",
            "tensor([[6.4427]], device='cuda:0', grad_fn=<AddmmBackward>) tensor(6.4610) tensor([[0.0183]], device='cuda:0', grad_fn=<SubBackward0>)\n"
          ],
          "name": "stdout"
        }
      ]
    },
    {
      "cell_type": "markdown",
      "metadata": {
        "id": "8fG_HV8k1YOe"
      },
      "source": [
        "## *Loss Cross-Entropy*\n",
        "\n",
        "O função de custo chamada *cross-entropy* ou *log loss* é a mais usada em problemas de classificação.\n",
        "Essa função de perda, embasada pela teoria da informação, procura penalizar o *loss* baseado somente na classe correta de cada amostra.\n",
        "\n",
        "Formalmente, dado a valor real $y$, e a predição feita pelo modelo $\\hat{y}$, a *loss cross-entropy* é definida pela seguinte equação:\n",
        "\n",
        "$$\\mathcal{l}(w, b) = - \\sum_i y_i log~\\hat{y}_i $$\n",
        ", onde $\\hat{y}$ é saída normalizada (via [softmax](https://pytorch.org/docs/stable/nn.html#softmax)) da predição da rede.\n",
        "\n",
        "Em particular, no somatório apenas um termo será diferente de zero e esse termo será o $log$ da probabilidade (normalizada via [softmax](https://pytorch.org/docs/stable/nn.html#softmax)) atribuída à classe correta. Intuitivamente, isso faz sentido porque $log (x)$ está aumentando no intervalo (0,1), então $−log (x)$ está diminuindo naquele intervalo.\n",
        "Por exemplo, se tivermos uma amostra com probabilidade de 0.8 para o rótulo correto, o *loss* será penalizado em apenas 0.09.\n",
        "Já se tivermos uma probabilidade menor de 0.08, o *loss* será penalizado em 1,09. Uma discussão sobre isso pode ser encontrada [aqui](https://discuss.pytorch.org/t/logsoftmax-vs-softmax/21386/2).\n",
        "\n",
        "### Implementação\n",
        "\n",
        "Em frameworks atuais (como no MxNet, TensorFlow, e PyTorch), a implementação da função de custo *cross-entropy* é direta.\n",
        "\n",
        "**Um exemplo é mostrado abaixo utilizando o framework PyTorch.**"
      ]
    },
    {
      "cell_type": "code",
      "metadata": {
        "id": "bd2aNVTp5OLy"
      },
      "source": [
        "# Função usada para calcular acurácia\n",
        "def evaluate_accuracy(data_iter, net, loss):\n",
        "    \"\"\"Evaluate accuracy of a model on the given data set.\"\"\"\n",
        "\n",
        "    acc_sum, n, l = torch.Tensor([0]), 0, 0\n",
        "    \n",
        "    with torch.no_grad():\n",
        "      for X, y in data_iter:\n",
        "          #y = y.astype('float32')\n",
        "          X, y = X.to(device), y.to(device)\n",
        "          y_hat = net(X)\n",
        "          l += loss(y_hat, y).sum()\n",
        "          acc_sum += (y_hat.argmax(axis=1) == y).sum().item()\n",
        "          n += y.size()[0]\n",
        "\n",
        "    return acc_sum.item() / n, l.item() / len(data_iter)\n",
        "  \n",
        "# Função usada no treinamento e validação da rede\n",
        "def train_validate(net, train_iter, test_iter, batch_size, trainer, loss,\n",
        "                   num_epochs, type='regression'):\n",
        "    print('training on', device)\n",
        "    for epoch in range(num_epochs):\n",
        "        train_l_sum, train_acc_sum, n, start = 0.0, 0.0, 0, time.time()\n",
        "        for X, y in train_iter:\n",
        "            X, y = X.to(device), y.to(device)\n",
        "            y_hat = net(X)\n",
        "            l = loss(y_hat, y)\n",
        "            l.backward()\n",
        "            trainer.step()\n",
        "            trainer.zero_grad()\n",
        "            train_l_sum += l.item()\n",
        "            train_acc_sum += (y_hat.argmax(axis=1) == y).sum().item()\n",
        "            n += y.size()[0]\n",
        "        test_acc, test_loss = evaluate_accuracy(test_iter, net, loss)\n",
        "        if type == 'regression':\n",
        "          print('epoch %d, train loss %.4f, test loss %.4f, time %.1f sec'\n",
        "                % (epoch + 1, train_l_sum / len(train_iter), test_loss, time.time() - start))\n",
        "        else:\n",
        "          print('epoch %d, train loss %.4f, train acc %.3f, test loss %.4f, '\n",
        "              'test acc %.3f, time %.1f sec'\n",
        "              % (epoch + 1, train_l_sum / len(train_iter), train_acc_sum / n, test_loss, \n",
        "                 test_acc, time.time() - start))"
      ],
      "execution_count": 13,
      "outputs": []
    },
    {
      "cell_type": "code",
      "metadata": {
        "id": "EFzoRhT51mW_",
        "colab": {
          "base_uri": "https://localhost:8080/",
          "height": 826,
          "referenced_widgets": [
            "0688a88ddb3344a2806312cd7bcdf4b1",
            "b3e1351dd1d045f4b94aaa66b73c6f4f",
            "8e3e274d35ba4989aff64e4001fc08fb",
            "b23d2762c4894461a41c940e9afba213",
            "1185a33542224572a8588efede6f81f7",
            "1225565f2df94ceea5a26a65ac69563e",
            "f492e60d720c41828396596e0f1dcefa",
            "3c69c9e1c8504675a55650a8bd902127",
            "0cf61fe218cd445fa23ccea1dfff2229",
            "94bd74e6e2eb4bdd9b312c0b4d8f88e5",
            "3e0d574c3e394a36b9c5953123824095",
            "ef8f4c2416e0436192ec48e35ceabc0b",
            "e8d5eff854824c36afca357ad552166d",
            "bcfabb7a447340d39e1f6a6f2c627415",
            "4a53fe967b4243dea309867ddcc55a32",
            "ddb02331347041f09b095f6a50c14b5e",
            "d413a928abe2477db5e23d70eca7069e",
            "1abec9644ddf46cc920f8620554d450c",
            "5eb1bf6c795c422dbed698ad81298041",
            "56f3868cdd09453e8665c7434f432162",
            "0915b5f8278944de99d36dfb154f9e50",
            "45b7af19609d47eb90641e72cb425224",
            "aec061ab6a874b5b84122d732ea714a8",
            "4e4fdc984a394269b2311123c76cb7b8",
            "ac6e7fe8016a48569c7b6e0b87f2d25c",
            "a547a4775a3249e097b717d3fa3108b5",
            "d864186c969a42ba8939dc34be754eae",
            "3b37ef559e024b058cc0d44db1c58601",
            "5d7de525c01f4b4f854ceee27d2e39c3",
            "699762e7c9094aadaaeec5a00938c4ef",
            "9006120aff864341ad0c7b68bd71c499",
            "272213d662764bd3937d7356b639a767"
          ]
        },
        "outputId": "690bcbea-096e-4329-a35e-faa93804e0f1"
      },
      "source": [
        "# parâmetros: número de epochs, learning rate (ou taxa de aprendizado), e \n",
        "# tamanho do batch\n",
        "num_epochs, lr, batch_size = 20, 0.5, 256\n",
        "\n",
        "# rede simples somente com perceptrons e camadas densamente conectadas\n",
        "net = nn.Sequential(\n",
        "        nn.Flatten(),\n",
        "        nn.Linear(784, 256),\n",
        "        nn.ReLU(),\n",
        "        nn.Linear(256, 128),\n",
        "        nn.ReLU(),\n",
        "        nn.Linear(128, 64),\n",
        "        nn.ReLU(),\n",
        "        nn.Linear(64, 10))  # sem softmax\n",
        "\n",
        "net.apply(weights_init)\n",
        "net.to(device) # diz para a rede que ela deve ser treinada na GPU\n",
        "\n",
        "# função de custo (ou loss)\n",
        "loss = nn.CrossEntropyLoss()\n",
        "\n",
        "# carregamento do dado: mnist\n",
        "train_iter, test_iter = load_data_mnist(batch_size)\n",
        "\n",
        "# trainer do torch\n",
        "trainer = optim.SGD(net.parameters(), lr=lr)\n",
        "\n",
        "# treinamento e validação via pytorch\n",
        "\n",
        "train_validate(net, train_iter, test_iter, batch_size, trainer, loss, num_epochs, 'classification')"
      ],
      "execution_count": 12,
      "outputs": [
        {
          "output_type": "stream",
          "text": [
            "Downloading http://yann.lecun.com/exdb/mnist/train-images-idx3-ubyte.gz to /root/.pytorch/datasets/fashion-mnist/MNIST/raw/train-images-idx3-ubyte.gz\n"
          ],
          "name": "stdout"
        },
        {
          "output_type": "display_data",
          "data": {
            "application/vnd.jupyter.widget-view+json": {
              "model_id": "0688a88ddb3344a2806312cd7bcdf4b1",
              "version_minor": 0,
              "version_major": 2
            },
            "text/plain": [
              "HBox(children=(FloatProgress(value=1.0, bar_style='info', max=1.0), HTML(value='')))"
            ]
          },
          "metadata": {
            "tags": []
          }
        },
        {
          "output_type": "stream",
          "text": [
            "Extracting /root/.pytorch/datasets/fashion-mnist/MNIST/raw/train-images-idx3-ubyte.gz to /root/.pytorch/datasets/fashion-mnist/MNIST/raw\n",
            "Downloading http://yann.lecun.com/exdb/mnist/train-labels-idx1-ubyte.gz to /root/.pytorch/datasets/fashion-mnist/MNIST/raw/train-labels-idx1-ubyte.gz\n"
          ],
          "name": "stdout"
        },
        {
          "output_type": "display_data",
          "data": {
            "application/vnd.jupyter.widget-view+json": {
              "model_id": "0cf61fe218cd445fa23ccea1dfff2229",
              "version_minor": 0,
              "version_major": 2
            },
            "text/plain": [
              "HBox(children=(FloatProgress(value=1.0, bar_style='info', max=1.0), HTML(value='')))"
            ]
          },
          "metadata": {
            "tags": []
          }
        },
        {
          "output_type": "stream",
          "text": [
            "Extracting /root/.pytorch/datasets/fashion-mnist/MNIST/raw/train-labels-idx1-ubyte.gz to /root/.pytorch/datasets/fashion-mnist/MNIST/raw\n",
            "Downloading http://yann.lecun.com/exdb/mnist/t10k-images-idx3-ubyte.gz to /root/.pytorch/datasets/fashion-mnist/MNIST/raw/t10k-images-idx3-ubyte.gz\n"
          ],
          "name": "stdout"
        },
        {
          "output_type": "display_data",
          "data": {
            "application/vnd.jupyter.widget-view+json": {
              "model_id": "d413a928abe2477db5e23d70eca7069e",
              "version_minor": 0,
              "version_major": 2
            },
            "text/plain": [
              "HBox(children=(FloatProgress(value=1.0, bar_style='info', max=1.0), HTML(value='')))"
            ]
          },
          "metadata": {
            "tags": []
          }
        },
        {
          "output_type": "stream",
          "text": [
            "Extracting /root/.pytorch/datasets/fashion-mnist/MNIST/raw/t10k-images-idx3-ubyte.gz to /root/.pytorch/datasets/fashion-mnist/MNIST/raw\n",
            "Downloading http://yann.lecun.com/exdb/mnist/t10k-labels-idx1-ubyte.gz to /root/.pytorch/datasets/fashion-mnist/MNIST/raw/t10k-labels-idx1-ubyte.gz\n"
          ],
          "name": "stdout"
        },
        {
          "output_type": "display_data",
          "data": {
            "application/vnd.jupyter.widget-view+json": {
              "model_id": "ac6e7fe8016a48569c7b6e0b87f2d25c",
              "version_minor": 0,
              "version_major": 2
            },
            "text/plain": [
              "HBox(children=(FloatProgress(value=1.0, bar_style='info', max=1.0), HTML(value='')))"
            ]
          },
          "metadata": {
            "tags": []
          }
        },
        {
          "output_type": "stream",
          "text": [
            "Extracting /root/.pytorch/datasets/fashion-mnist/MNIST/raw/t10k-labels-idx1-ubyte.gz to /root/.pytorch/datasets/fashion-mnist/MNIST/raw\n",
            "Processing...\n",
            "Done!\n",
            "\n",
            "\n",
            "\n",
            "training on cuda\n"
          ],
          "name": "stdout"
        },
        {
          "output_type": "stream",
          "text": [
            "/usr/local/lib/python3.6/dist-packages/torchvision/datasets/mnist.py:480: UserWarning: The given NumPy array is not writeable, and PyTorch does not support non-writeable tensors. This means you can write to the underlying (supposedly non-writeable) NumPy array using the tensor. You may want to copy the array to protect its data or make it writeable before converting it to a tensor. This type of warning will be suppressed for the rest of this program. (Triggered internally at  /pytorch/torch/csrc/utils/tensor_numpy.cpp:141.)\n",
            "  return torch.from_numpy(parsed.astype(m[2], copy=False)).view(*s)\n"
          ],
          "name": "stderr"
        },
        {
          "output_type": "stream",
          "text": [
            "epoch 1, train loss 2.3019, train acc 0.111, test loss 2.3015, test acc 0.114, time 5.8 sec\n",
            "epoch 2, train loss 2.1363, train acc 0.179, test loss 1.7226, test acc 0.309, time 5.4 sec\n",
            "epoch 3, train loss 0.7102, train acc 0.754, test loss 0.4997, test acc 0.848, time 5.4 sec\n",
            "epoch 4, train loss 0.2183, train acc 0.940, test loss 0.1915, test acc 0.943, time 5.4 sec\n",
            "epoch 5, train loss 0.1388, train acc 0.960, test loss 0.1472, test acc 0.958, time 5.6 sec\n",
            "epoch 6, train loss 0.1012, train acc 0.971, test loss 0.1249, test acc 0.963, time 5.4 sec\n",
            "epoch 7, train loss 0.0773, train acc 0.977, test loss 0.1620, test acc 0.957, time 5.4 sec\n",
            "epoch 8, train loss 0.0633, train acc 0.982, test loss 0.1444, test acc 0.961, time 5.3 sec\n",
            "epoch 9, train loss 0.7980, train acc 0.840, test loss 0.2069, test acc 0.939, time 5.6 sec\n",
            "epoch 10, train loss 0.1200, train acc 0.965, test loss 0.1156, test acc 0.966, time 5.5 sec\n",
            "epoch 11, train loss 0.0871, train acc 0.974, test loss 0.1130, test acc 0.967, time 5.4 sec\n",
            "epoch 12, train loss 0.0701, train acc 0.979, test loss 0.1509, test acc 0.959, time 5.4 sec\n",
            "epoch 13, train loss 0.0559, train acc 0.983, test loss 0.1240, test acc 0.967, time 5.3 sec\n",
            "epoch 14, train loss 0.0456, train acc 0.986, test loss 0.1228, test acc 0.968, time 5.3 sec\n",
            "epoch 15, train loss 0.0399, train acc 0.988, test loss 0.0963, test acc 0.975, time 5.6 sec\n",
            "epoch 16, train loss 0.0580, train acc 0.984, test loss 0.1463, test acc 0.963, time 5.4 sec\n",
            "epoch 17, train loss 0.0443, train acc 0.986, test loss 0.1450, test acc 0.966, time 5.4 sec\n",
            "epoch 18, train loss 0.0329, train acc 0.989, test loss 0.1165, test acc 0.971, time 5.4 sec\n",
            "epoch 19, train loss 0.0235, train acc 0.993, test loss 0.1455, test acc 0.967, time 5.3 sec\n",
            "epoch 20, train loss 0.0185, train acc 0.994, test loss 0.1105, test acc 0.975, time 5.3 sec\n"
          ],
          "name": "stdout"
        }
      ]
    },
    {
      "cell_type": "code",
      "metadata": {
        "id": "n2E7r_r88VNe",
        "colab": {
          "base_uri": "https://localhost:8080/",
          "height": 370
        },
        "outputId": "5d55e91a-53fb-44fc-c595-c7e17120244b"
      },
      "source": [
        "import skimage.io as io\n",
        "\n",
        "for X, y in train_iter:\n",
        "  X, y = X.to(device), y.to(device)\n",
        "  io.imshow(X[0].cpu().numpy().squeeze())\n",
        "  print('label ', y[0].item())\n",
        "  y_hat = net(X[0])\n",
        "  print('output ', y_hat)\n",
        "  print('previsao ', y_hat.argmax().item())\n",
        "  break"
      ],
      "execution_count": 14,
      "outputs": [
        {
          "output_type": "stream",
          "text": [
            "label  4\n",
            "output  tensor([[-7.2018, -7.2667,  0.7573, -7.3692, 18.5519, -0.6341, -0.3074,  5.1038,\n",
            "         -5.6790,  3.7194]], device='cuda:0', grad_fn=<AddmmBackward>)\n",
            "previsao  4\n"
          ],
          "name": "stdout"
        },
        {
          "output_type": "display_data",
          "data": {
            "image/png": "[encoded data removed]",
            "text/plain": [
              "<Figure size 432x288 with 1 Axes>"
            ]
          },
          "metadata": {
            "tags": [],
            "needs_background": "light"
          }
        }
      ]
    }
  ]
}