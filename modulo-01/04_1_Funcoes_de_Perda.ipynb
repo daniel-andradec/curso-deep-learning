{
  "cells": [
    {
      "attachments": {},
      "cell_type": "markdown",
      "metadata": {
        "id": "Ed03SC1Jm9Yy"
      },
      "source": [
        "# Funções de perda (*loss functions*)\n",
        "\n",
        "Neste código iremos analisar diferentes funções de perda (também conhecidas como *loss functions*) que são usadas para avaliar a rede no estado atual.\n",
        "\n",
        "Funções de perda, também conhecidas como *loss functions*, são muito importantes para o aprendizagem de máquinas, pois servem como uma forma de medir a distância ou a diferença entre a saída prevista de um modelo e o seu valor real, auxiliando então no treino no modelo.\n",
        "\n",
        "Diversas funções de perda foram propostas ao longo do tempo para diferentes tipos de problemas.\n",
        "Algumas dessas funções foram propostas para auxiliar no treino de modelos de regressão linear, como as *loss* [L1](https://pytorch.org/docs/stable/nn.html#l1loss), [L2](https://pytorch.org/docs/stable/nn.html#mseloss) e [Huber](https://pytorch.org/docs/stable/nn.html#smoothl1loss).\n",
        "Outras foram propostas para serem usadas em problemas de classificação, como a mais comum de todas [Cross-Entropy](https://pytorch.org/docs/stable/nn.html#crossentropyloss).\n",
        "\n",
        "<p align=\"center\">\n",
        "  <img src=\"https://drive.google.com/uc?export=view&id=1ITV4Ikw0NP39p1KNFkt46LWwnhzLKf7h\">\n",
        "</p>\n"
      ]
    },
    {
      "attachments": {},
      "cell_type": "markdown",
      "metadata": {
        "id": "EFmg1Dxv5Bzg"
      },
      "source": [
        "## Preâmbulo"
      ]
    },
    {
      "cell_type": "code",
      "execution_count": 4,
      "metadata": {
        "id": "6QBk4NCu5Bzl"
      },
      "outputs": [],
      "source": [
        "import torch\n",
        "import torch.nn.functional as F\n",
        "import torchvision\n",
        "\n",
        "from torchvision import datasets, transforms\n",
        "from torch import optim, nn\n",
        "\n",
        "from sklearn.model_selection import train_test_split\n",
        "\n",
        "import numpy as np\n",
        "\n",
        "import os\n",
        "import sys\n",
        "import time"
      ]
    },
    {
      "cell_type": "code",
      "execution_count": 5,
      "metadata": {
        "id": "mEUbwZXN5Bzn"
      },
      "outputs": [
        {
          "data": {
            "text/plain": [
              "<contextlib.ExitStack at 0x108ca2730>"
            ]
          },
          "execution_count": 5,
          "metadata": {},
          "output_type": "execute_result"
        }
      ],
      "source": [
        "import matplotlib.pyplot as plt\n",
        "plt.ion()"
      ]
    },
    {
      "cell_type": "code",
      "execution_count": 6,
      "metadata": {
        "colab": {
          "base_uri": "https://localhost:8080/"
        },
        "id": "rZyvGCCq5Bzq",
        "outputId": "19929be2-03a3-473a-bed5-9024f0f2f5db"
      },
      "outputs": [
        {
          "data": {
            "text/plain": [
              "[]"
            ]
          },
          "execution_count": 6,
          "metadata": {},
          "output_type": "execute_result"
        }
      ],
      "source": [
        "# Test if GPU is avaliable, if not, use cpu instead\n",
        "device = torch.device('cuda' if torch.cuda.is_available() else 'mps') # mps sets mac's gpu as device, instead of cpu\n",
        "n = torch.cuda.device_count()\n",
        "devices_ids = list(range(n))\n",
        "devices_ids"
      ]
    },
    {
      "cell_type": "code",
      "execution_count": 7,
      "metadata": {
        "id": "g9u0pCOtlWLu"
      },
      "outputs": [],
      "source": [
        "## carregando dados básicos\n",
        "\n",
        "# dados sintéticos somente para \n",
        "def synthetic_regression_data(w, b, num_examples):\n",
        "    \"\"\"generate y = X w + b + noise\"\"\"\n",
        "    X = np.random.normal(scale=1, size=(num_examples, len(w)))\n",
        "    y = np.dot(X, w) + b\n",
        "    y += np.random.normal(scale=0.01, size=y.shape)\n",
        "    return torch.FloatTensor(X), torch.FloatTensor(y)\n",
        "\n",
        "# código para carregar o dataset do MNIST\n",
        "# http://yann.lecun.com/exdb/mnist/\n",
        "def load_data_mnist(batch_size, resize=None, root=os.path.join(\n",
        "        '~', '.pytorch', 'datasets', 'fashion-mnist')):\n",
        "    \"\"\"Download the Fashion-MNIST dataset and then load into memory.\"\"\"\n",
        "    root = os.path.expanduser(root)\n",
        "    transformer = []\n",
        "    if resize:\n",
        "        transformer += [transforms.Resize(resize)]\n",
        "    transformer += [transforms.ToTensor()]\n",
        "    transformer = transforms.Compose(transformer)\n",
        "\n",
        "    mnist_train = datasets.MNIST(root=root, train=True,download=True, transform=transformer)\n",
        "    mnist_test = datasets.MNIST(root=root, train=False,download=True, transform=transformer)\n",
        "    num_workers = 0 if sys.platform.startswith('win32') else 4\n",
        "\n",
        "\n",
        "\n",
        "    train_iter = torch.utils.data.DataLoader(mnist_train,\n",
        "                                  batch_size, shuffle=True,\n",
        "                                  num_workers=num_workers)\n",
        "    test_iter = torch.utils.data.DataLoader(mnist_test,\n",
        "                                 batch_size, shuffle=False,\n",
        "                                 num_workers=num_workers)\n",
        "    return train_iter, test_iter"
      ]
    },
    {
      "cell_type": "code",
      "execution_count": 8,
      "metadata": {
        "id": "8oSVf8u1Oi1m"
      },
      "outputs": [],
      "source": [
        "# funções básicas\n",
        "\n",
        "def load_array(features, labels, batch_size, is_train=True):\n",
        "    \"\"\"Construct a data loader\"\"\"\n",
        "    dataset = torch.utils.data.TensorDataset(features, labels)\n",
        "    return torch.utils.data.DataLoader(dataset, batch_size, shuffle=is_train)\n",
        "\n",
        "          \n",
        "# Função para inicializar pesos da rede\n",
        "def weights_init(m):\n",
        "    classname = m.__class__.__name__\n",
        "    if classname.find('Linear') != -1:\n",
        "        m.weight.data.normal_(0.0, 0.01) # valores iniciais são uma normal"
      ]
    },
    {
      "attachments": {},
      "cell_type": "markdown",
      "metadata": {
        "id": "Azv2ajIYkIjH"
      },
      "source": [
        "## *Loss* L2\n",
        "\n",
        "O função de custo chamada L2 (também conhecida como *Mean Squared Error* -- MSE) é, talvez, a função de perda mais simples e comum. \n",
        "Essa função é representada simplesmente pela média do quadrado da diferença entre as previsões do modelo e o *ground-truth*.\n",
        "Essa função nunca terá valores negativos, pois a diferença calculada será sempre elevado à segunda potência.\n",
        "\n",
        "Formalmente, dado a valor real $y$, e a predição feita pelo modelo $\\hat{y}$, a *loss* L2 é definida pela seguinte equação:\n",
        "\n",
        "$$\\mathcal{l}_2^i(w, b) = \\frac{1}{2} (\\hat{y}^i - y^i)^2 $$\n",
        "\n",
        "A constante $1/2$ é apenas por conveniência matemática, garantindo que depois de tomarmos a derivada dessa função, o coeficiente constante será de $1$.\n",
        "\n",
        "A grande vantagem dessa função é que ela garante que o modelo treinado não tenha previsões discrepantes com erros enormes, já que ela atribui maior peso a esses erros devido à parte quadrática da função.\n",
        "Entretanto, isso gera a desvantagem dessa função de custo, pois se o modelo faz uma única previsão muito ruim, a parte quadrática da função aumenta o erro consideravelmente.\n",
        "No entanto, em muitos casos práticos, não nos importamos muito com esses poucos valores discrepantes e buscamos um modelo mais abrangente que tenha um bom desempenho na maioria.\n",
        "\n",
        "Para tentar garantir a qualidade do modelo em todo o conjunto de dados, podemos simplesmente calcular a média das perdas no conjunto de treinamento:\n",
        "\n",
        "$$\\mathcal{L}(w, b) = \\frac{1}{n} \\sum_i^N \\mathcal{l}^{i}_2(w, b) $$\n",
        "\n",
        "### Implementação\n",
        "\n",
        "Em frameworks atuais (como no MxNet, TensorFlow, e PyTorch), a implementação de funções de custo comuns, como a L2, são diretas e muitos simples.\n",
        "\n",
        "**Um exemplo é mostrado abaixo utilizando o framework PyTorch.**"
      ]
    },
    {
      "attachments": {},
      "cell_type": "markdown",
      "metadata": {},
      "source": [
        "O lado bom da função loss L2 é que o modelo, por considerar o quadrado do erro, aprende a lidar com outliers, apesar do custo para fazê-lo."
      ]
    },
    {
      "cell_type": "code",
      "execution_count": 9,
      "metadata": {
        "colab": {
          "base_uri": "https://localhost:8080/"
        },
        "id": "T0LIS1C8S6k1",
        "outputId": "0dff1e36-b0ee-4401-f8db-7ab2e73108aa"
      },
      "outputs": [
        {
          "name": "stdout",
          "output_type": "stream",
          "text": [
            "epoch 1, loss: 0.000140\n",
            "epoch 2, loss: 0.000095\n",
            "epoch 3, loss: 0.000046\n",
            "tensor([[5.6931]], device='mps:0', grad_fn=<LinearBackward0>) tensor(5.6784) tensor([[-0.0148]], device='mps:0', grad_fn=<SubBackward0>)\n",
            "tensor([[3.0211]], device='mps:0', grad_fn=<LinearBackward0>) tensor(3.0223) tensor([[0.0012]], device='mps:0', grad_fn=<SubBackward0>)\n",
            "tensor([[7.2951]], device='mps:0', grad_fn=<LinearBackward0>) tensor(7.2903) tensor([[-0.0048]], device='mps:0', grad_fn=<SubBackward0>)\n",
            "tensor([[4.8312]], device='mps:0', grad_fn=<LinearBackward0>) tensor(4.8256) tensor([[-0.0056]], device='mps:0', grad_fn=<SubBackward0>)\n"
          ]
        }
      ],
      "source": [
        "seed = [2, -3.4]\n",
        "seed_gt = 4.2\n",
        "features, labels = synthetic_regression_data(seed, seed_gt, 1000)\n",
        "  \n",
        "batch_size = 10\n",
        "data_iter = load_array(features, labels, batch_size)\n",
        "\n",
        "# arquitetura super simples\n",
        "net = nn.Sequential(\n",
        "    nn.Linear(2,1)\n",
        ")\n",
        "\n",
        "net.apply(weights_init)\n",
        "net.to(device) # diz para a rede que ela deve ser treinada na GPU\n",
        "\n",
        "loss = nn.MSELoss()  # loss L2\n",
        "trainer = optim.SGD(net.parameters(), lr=0.03)\n",
        "\n",
        "# treino\n",
        "num_epochs = 3\n",
        "for epoch in range(1, num_epochs + 1):\n",
        "    loss_sum = 0.0\n",
        "    for X, y in data_iter:\n",
        "        X, y = X.to(device), y.to(device)\n",
        "        y_hat = net(X).view(batch_size)\n",
        "        l = loss(y_hat, y)\n",
        "        l.backward()\n",
        "        trainer.step()\n",
        "        trainer.zero_grad()\n",
        "        loss_sum += l.item()\n",
        "    print('epoch %d, loss: %f' % (epoch, l.mean().item()))\n",
        "\n",
        "for i in range(995, 999):\n",
        "  y_hat = net(features[i:i+1, :].to(device))\n",
        "  print(y_hat, labels[i], labels[i] - y_hat)"
      ]
    },
    {
      "cell_type": "code",
      "execution_count": 10,
      "metadata": {
        "colab": {
          "base_uri": "https://localhost:8080/"
        },
        "id": "xaR--CY3GnP7",
        "outputId": "4fd9673b-727f-4d15-bd15-5109eaf8e246"
      },
      "outputs": [
        {
          "name": "stderr",
          "output_type": "stream",
          "text": [
            "/Users/danielcarmo/Library/Python/3.9/lib/python/site-packages/torch/nn/modules/loss.py:536: UserWarning: Using a target size (torch.Size([10])) that is different to the input size (torch.Size([10, 1])). This will likely lead to incorrect results due to broadcasting. Please ensure they have the same size.\n",
            "  return F.mse_loss(input, target, reduction=self.reduction)\n"
          ]
        },
        {
          "data": {
            "text/plain": [
              "tensor(19.1597, device='mps:0', grad_fn=<MseLossBackward0>)"
            ]
          },
          "execution_count": 10,
          "metadata": {},
          "output_type": "execute_result"
        }
      ],
      "source": [
        "loss(net(features[:10, :].to(device)), labels[:10].to(device))"
      ]
    },
    {
      "attachments": {},
      "cell_type": "markdown",
      "metadata": {
        "id": "lz_ayDVLnNFU"
      },
      "source": [
        "## *Loss* L1\n",
        "\n",
        "A função de custo L1 é apenas ligeiramente diferente da L2, mas fornece curiosamente propriedades quase exatamente opostas!\n",
        "Essa função é representada pelo valor absoluto da diferença entre as previsões do modelo e o *ground-truth*.\n",
        "\n",
        "Essa função, assim como o *loss* L2, nunca será negativo, pois neste caso estamos sempre assumindo o valor absoluto dos erros.\n",
        "Formalmente, dado a valor real (*ground-truth*) $y$, e a predição feita pelo modelo $\\hat{y}$, a *loss* L1 é definida pela seguinte equação:\n",
        "\n",
        "$$\\mathcal{l}_1^i(w, b) = \\sum_i |\\hat{y}^i - y^i| $$\n",
        "\n",
        "A grande vantagem da função de custo L1 cobre diretamente a desvantagem do *loss* L2.\n",
        "Em outras palaras, como estamos trabalhando com o valor absoluto, todos os erros serão ponderados na mesma escala linear.\n",
        "Assim, ao contrário do *loss* L2, não estamos colocando muito peso nos valores com grande discrepância e a função de perda fornece uma medida genérica e uniforme do desempenho do modelo.\n",
        "\n",
        "Por outro lado, a desvantagem desta função é, para alguns casos, não dar pesos diferentes para específico valores discrepantes. Por exemplo, os erros relativamente grandes provenientes dos *outliers* acabam sendo ponderados exatamente como erros menores. Isso pode resultar em nosso modelo sendo ótimo na maior parte do tempo, mas fazendo algumas previsões muito ruins de vez em quando.\n",
        "\n",
        "Essa função pode ser facilmente implementada no PyTorch, como pode ser visto [aqui](https://pytorch.org/docs/stable/nn.html#l1loss)."
      ]
    },
    {
      "attachments": {},
      "cell_type": "markdown",
      "metadata": {},
      "source": [
        "A loss L1 tem o problema de \"ignorar\" outliers, por tratá-los da mesma forma como erros pequenos são tratados. "
      ]
    },
    {
      "cell_type": "code",
      "execution_count": 11,
      "metadata": {
        "colab": {
          "base_uri": "https://localhost:8080/"
        },
        "id": "gYe6ZR3L9jxc",
        "outputId": "98007cc1-67e3-41fb-d223-3cbe347709bc"
      },
      "outputs": [
        {
          "name": "stderr",
          "output_type": "stream",
          "text": [
            "/Users/danielcarmo/Library/Python/3.9/lib/python/site-packages/torch/autograd/__init__.py:200: UserWarning: The operator 'aten::sgn.out' is not currently supported on the MPS backend and will fall back to run on the CPU. This may have performance implications. (Triggered internally at /Users/runner/work/pytorch/pytorch/pytorch/aten/src/ATen/mps/MPSFallback.mm:11.)\n",
            "  Variable._execution_engine.run_backward(  # Calls into the C++ engine to run the backward pass\n"
          ]
        },
        {
          "name": "stdout",
          "output_type": "stream",
          "text": [
            "epoch 1, loss: 2.792344\n",
            "epoch 2, loss: 0.964969\n",
            "epoch 3, loss: 0.012486\n",
            "tensor([[3.8354]], device='mps:0', grad_fn=<LinearBackward0>) tensor(3.8495) tensor([[0.0141]], device='mps:0', grad_fn=<SubBackward0>)\n",
            "tensor([[-0.1316]], device='mps:0', grad_fn=<LinearBackward0>) tensor(-0.1075) tensor([[0.0241]], device='mps:0', grad_fn=<SubBackward0>)\n",
            "tensor([[3.1409]], device='mps:0', grad_fn=<LinearBackward0>) tensor(3.1357) tensor([[-0.0051]], device='mps:0', grad_fn=<SubBackward0>)\n",
            "tensor([[-1.9068]], device='mps:0', grad_fn=<LinearBackward0>) tensor(-1.8571) tensor([[0.0497]], device='mps:0', grad_fn=<SubBackward0>)\n"
          ]
        }
      ],
      "source": [
        "seed = [2, -3.4]\n",
        "seed_gt = 4.2\n",
        "features, labels = synthetic_regression_data(seed, seed_gt, 1000)\n",
        "  \n",
        "batch_size = 10\n",
        "data_iter = load_array(features, labels, batch_size)\n",
        "\n",
        "# arquitetura super simples\n",
        "net = nn.Sequential(\n",
        "    nn.Linear(2,1)\n",
        ")\n",
        "\n",
        "net.apply(weights_init)\n",
        "net.to(device) # diz para a rede que ela deve ser treinada na GPU\n",
        "\n",
        "loss = nn.L1Loss()  # loss L1\n",
        "trainer = optim.SGD(net.parameters(), lr=0.03)\n",
        "\n",
        "# treino\n",
        "num_epochs = 3\n",
        "for epoch in range(1, num_epochs + 1):\n",
        "    loss_sum = 0.0\n",
        "    for X, y in data_iter:\n",
        "        X, y = X.to(device), y.to(device)\n",
        "        y_hat = net(X).view(batch_size)\n",
        "        l = loss(y_hat, y)\n",
        "        l.backward()\n",
        "        trainer.step()\n",
        "        trainer.zero_grad()\n",
        "        loss_sum += l.item()\n",
        "    print('epoch %d, loss: %f' % (epoch, l.mean().item()))\n",
        "\n",
        "for i in range(995, 999):\n",
        "  y_hat = net(features[i:i+1, :].to(device))\n",
        "  print(y_hat, labels[i], labels[i] - y_hat)"
      ]
    },
    {
      "attachments": {},
      "cell_type": "markdown",
      "metadata": {
        "id": "FfLtl5pE-TYJ"
      },
      "source": [
        "## Huber *Loss* \n",
        "\n",
        "Vimos que a função de perda L2 tem certas vantangens (como conseguir aprender *outliers*), enquanto o *loss* L1 tem outros benefícios, como ignorar os *outliers*.\n",
        "Porém, existe uma forma de combinar e agregar os benefícios das duas?\n",
        "\n",
        "Sim! A Huber *Loss* oferece o melhor dos dois mundos, equilibrando as funções de perda L1 e L2 juntos. \n",
        "Formalmente, dado a valor real (*ground-truth*) $y$, e a predição feita pelo modelo $\\hat{y}$, a Huber *Loss* é definida pela seguinte equação:\n",
        "\n",
        "$$\n",
        "l_H^i(w, b) = \\sum_i \\begin{cases}\n",
        "                                        \\frac{1}{2\\rho} (\\hat{y}^i - y^i)^2, & \\text{if } |\\hat{y}^i - y^i| < \\rho\\\\\n",
        "                                        |\\hat{y}^i - y^i| - \\frac{\\rho}{2},  & \\text{otherwise}\n",
        "\\end{cases}\n",
        "$$\n",
        ", onde $\\rho$ é uma constance que define a margem.\n",
        "O que essa equação essencialmente diz é: para valores de perda menores que $\\rho$, use o *loss& L2; para valores de perda maiores que delta, use a função de custo L1.\n",
        "Isso efetivamente combina o melhor dos dois mundos das duas funções de perda!\n",
        "\n",
        "O uso da função de custo L1 para valores maiores reduz o peso que colocamos em valores discrepantes para que possamos obter um modelo completo. Ao mesmo tempo, usamos o *loss* L2 para valores menores de perda para manter uma função quadrática próxima ao centro.\n",
        "\n",
        "Essa função pode ser facilmente implementada no PyTorch, como pode ser visto [aqui](https://pytorch.org/docs/stable/nn.html#smoothl1loss)."
      ]
    },
    {
      "cell_type": "code",
      "execution_count": 12,
      "metadata": {
        "colab": {
          "base_uri": "https://localhost:8080/"
        },
        "id": "98gc8lje-MCL",
        "outputId": "8ecc1727-7c0d-412e-e1ba-360eff9716e7"
      },
      "outputs": [
        {
          "name": "stdout",
          "output_type": "stream",
          "text": [
            "epoch 1, loss: 2.574017\n",
            "epoch 2, loss: 0.207289\n",
            "epoch 3, loss: 0.001315\n",
            "tensor([[-7.4423]], device='mps:0', grad_fn=<LinearBackward0>) tensor(-7.5367) tensor([[-0.0943]], device='mps:0', grad_fn=<SubBackward0>)\n",
            "tensor([[0.2737]], device='mps:0', grad_fn=<LinearBackward0>) tensor(0.2316) tensor([[-0.0421]], device='mps:0', grad_fn=<SubBackward0>)\n",
            "tensor([[0.5436]], device='mps:0', grad_fn=<LinearBackward0>) tensor(0.5191) tensor([[-0.0246]], device='mps:0', grad_fn=<SubBackward0>)\n",
            "tensor([[2.7408]], device='mps:0', grad_fn=<LinearBackward0>) tensor(2.7437) tensor([[0.0030]], device='mps:0', grad_fn=<SubBackward0>)\n"
          ]
        }
      ],
      "source": [
        "seed = [2, -3.4]\n",
        "seed_gt = 4.2\n",
        "features, labels = synthetic_regression_data(seed, seed_gt, 1000)\n",
        "  \n",
        "batch_size = 10\n",
        "data_iter = load_array(features, labels, batch_size)\n",
        "\n",
        "# arquitetura super simples\n",
        "net = nn.Sequential(\n",
        "    nn.Linear(2,1)\n",
        ")\n",
        "\n",
        "net.apply(weights_init)\n",
        "net.to(device) # diz para a rede que ela deve ser treinada na GPU\n",
        "\n",
        "loss = nn.SmoothL1Loss()  # loss L1\n",
        "trainer = optim.SGD(net.parameters(), lr=0.03)\n",
        "\n",
        "# treino\n",
        "num_epochs = 3\n",
        "for epoch in range(1, num_epochs + 1):\n",
        "    loss_sum = 0.0\n",
        "    for X, y in data_iter:\n",
        "        X, y = X.to(device), y.to(device)\n",
        "        y_hat = net(X).view(batch_size)\n",
        "        l = loss(y_hat, y)\n",
        "        l.backward()\n",
        "        trainer.step()\n",
        "        trainer.zero_grad()\n",
        "        loss_sum += l.item()\n",
        "    print('epoch %d, loss: %f' % (epoch, l.mean().item()))\n",
        "\n",
        "for i in range(995, 999):\n",
        "  y_hat = net(features[i:i+1, :].to(device))\n",
        "  print(y_hat, labels[i], labels[i] - y_hat)"
      ]
    },
    {
      "attachments": {},
      "cell_type": "markdown",
      "metadata": {},
      "source": [
        "## *Loss Cross-Entropy*\n",
        "\n",
        "O função de custo chamada *cross-entropy* ou *log loss* é a mais usada em problemas de classificação.\n",
        "Essa função de perda, embasada pela teoria da informação, procura penalizar o *loss* baseado somente na classe correta de cada amostra.\n",
        "\n",
        "Formalmente, dado a valor real $y$, e a predição feita pelo modelo $\\hat{y}$, a *loss cross-entropy* é definida pela seguinte equação:\n",
        "\n",
        "$$\\mathcal{l}(w, b) = - \\sum_i y_i log~\\hat{y}_i $$\n",
        ", onde $\\hat{y}$ é saída normalizada (via [softmax](https://pytorch.org/docs/stable/nn.html#softmax)) da predição da rede.\n",
        "\n",
        "Em particular, no somatório apenas um termo será diferente de zero e esse termo será o $log$ da probabilidade (normalizada via [softmax](https://pytorch.org/docs/stable/nn.html#softmax)) atribuída à classe correta. Intuitivamente, isso faz sentido porque $log (x)$ está aumentando no intervalo (0,1), então $−log (x)$ está diminuindo naquele intervalo.\n",
        "Por exemplo, se tivermos uma amostra com probabilidade de 0.8 para o rótulo correto, o *loss* será penalizado em apenas 0.09.\n",
        "Já se tivermos uma probabilidade menor de 0.08, o *loss* será penalizado em 1,09. Uma discussão sobre isso pode ser encontrada [aqui](https://discuss.pytorch.org/t/logsoftmax-vs-softmax/21386/2).\n",
        "\n",
        "### Implementação\n",
        "\n",
        "Em frameworks atuais (como no MxNet, TensorFlow, e PyTorch), a implementação da função de custo *cross-entropy* é direta.\n",
        "\n",
        "**Um exemplo é mostrado abaixo utilizando o framework PyTorch.**"
      ]
    },
    {
      "attachments": {},
      "cell_type": "markdown",
      "metadata": {},
      "source": [
        "https://www.youtube.com/watch?v=6ArSys5qHAU&t=38s -> vídeo muito bom explicando cross-entropy loss\n",
        "Essa função de perda penaliza previsões de menor chance de serem corretas, fazendo com que a derivada da função seja maior nesses pontos, tornando o salto para a resposta correta cada vez maior quanto pior for a previsão."
      ]
    },
    {
      "cell_type": "code",
      "execution_count": 13,
      "metadata": {
        "id": "bd2aNVTp5OLy"
      },
      "outputs": [],
      "source": [
        "# Função usada para calcular acurácia\n",
        "def evaluate_accuracy(data_iter, net, loss):\n",
        "    \"\"\"Evaluate accuracy of a model on the given data set.\"\"\"\n",
        "\n",
        "    acc_sum, n, l = torch.Tensor([0]), 0, 0\n",
        "    \n",
        "    with torch.no_grad():\n",
        "      for X, y in data_iter:\n",
        "          #y = y.astype('float32')\n",
        "          X, y = X.to(device), y.to(device)\n",
        "          y_hat = net(X)\n",
        "          l += loss(y_hat, y).sum()\n",
        "          acc_sum += (y_hat.argmax(axis=1) == y).sum().item()\n",
        "          n += y.size()[0]\n",
        "\n",
        "    return acc_sum.item() / n, l.item() / len(data_iter)\n",
        "  \n",
        "# Função usada no treinamento e validação da rede\n",
        "def train_validate(net, train_iter, test_iter, batch_size, trainer, loss,\n",
        "                   num_epochs, type='regression'):\n",
        "    print('training on', device)\n",
        "    for epoch in range(num_epochs):\n",
        "        train_l_sum, train_acc_sum, n, start = 0.0, 0.0, 0, time.time()\n",
        "        for X, y in train_iter:\n",
        "            X, y = X.to(device), y.to(device)\n",
        "            y_hat = net(X)\n",
        "            l = loss(y_hat, y)\n",
        "            l.backward()\n",
        "            trainer.step()\n",
        "            trainer.zero_grad()\n",
        "            train_l_sum += l.item()\n",
        "            train_acc_sum += (y_hat.argmax(axis=1) == y).sum().item()\n",
        "            n += y.size()[0]\n",
        "        test_acc, test_loss = evaluate_accuracy(test_iter, net, loss)\n",
        "        if type == 'regression':\n",
        "          print('epoch %d, train loss %.4f, test loss %.4f, time %.1f sec'\n",
        "                % (epoch + 1, train_l_sum / len(train_iter), test_loss, time.time() - start))\n",
        "        else:\n",
        "          print('epoch %d, train loss %.4f, train acc %.3f, test loss %.4f, '\n",
        "              'test acc %.3f, time %.1f sec'\n",
        "              % (epoch + 1, train_l_sum / len(train_iter), train_acc_sum / n, test_loss, \n",
        "                 test_acc, time.time() - start))"
      ]
    },
    {
      "cell_type": "code",
      "execution_count": 25,
      "metadata": {
        "colab": {
          "base_uri": "https://localhost:8080/",
          "height": 826,
          "referenced_widgets": [
            "0688a88ddb3344a2806312cd7bcdf4b1",
            "b3e1351dd1d045f4b94aaa66b73c6f4f",
            "8e3e274d35ba4989aff64e4001fc08fb",
            "b23d2762c4894461a41c940e9afba213",
            "1185a33542224572a8588efede6f81f7",
            "1225565f2df94ceea5a26a65ac69563e",
            "f492e60d720c41828396596e0f1dcefa",
            "3c69c9e1c8504675a55650a8bd902127",
            "0cf61fe218cd445fa23ccea1dfff2229",
            "94bd74e6e2eb4bdd9b312c0b4d8f88e5",
            "3e0d574c3e394a36b9c5953123824095",
            "ef8f4c2416e0436192ec48e35ceabc0b",
            "e8d5eff854824c36afca357ad552166d",
            "bcfabb7a447340d39e1f6a6f2c627415",
            "4a53fe967b4243dea309867ddcc55a32",
            "ddb02331347041f09b095f6a50c14b5e",
            "d413a928abe2477db5e23d70eca7069e",
            "1abec9644ddf46cc920f8620554d450c",
            "5eb1bf6c795c422dbed698ad81298041",
            "56f3868cdd09453e8665c7434f432162",
            "0915b5f8278944de99d36dfb154f9e50",
            "45b7af19609d47eb90641e72cb425224",
            "aec061ab6a874b5b84122d732ea714a8",
            "4e4fdc984a394269b2311123c76cb7b8",
            "ac6e7fe8016a48569c7b6e0b87f2d25c",
            "a547a4775a3249e097b717d3fa3108b5",
            "d864186c969a42ba8939dc34be754eae",
            "3b37ef559e024b058cc0d44db1c58601",
            "5d7de525c01f4b4f854ceee27d2e39c3",
            "699762e7c9094aadaaeec5a00938c4ef",
            "9006120aff864341ad0c7b68bd71c499",
            "272213d662764bd3937d7356b639a767"
          ]
        },
        "id": "EFzoRhT51mW_",
        "outputId": "690bcbea-096e-4329-a35e-faa93804e0f1"
      },
      "outputs": [
        {
          "name": "stdout",
          "output_type": "stream",
          "text": [
            "training on mps\n",
            "epoch 1, train loss 2.3018, train acc 0.110, test loss 2.3006, test acc 0.114, time 3.1 sec\n",
            "epoch 2, train loss 1.8009, train acc 0.307, test loss 1.0966, test acc 0.575, time 3.0 sec\n",
            "epoch 3, train loss 0.5422, train acc 0.827, test loss 0.2920, test acc 0.916, time 3.0 sec\n",
            "epoch 4, train loss 0.2013, train acc 0.944, test loss 0.1779, test acc 0.947, time 3.1 sec\n",
            "epoch 5, train loss 0.1413, train acc 0.960, test loss 0.1176, test acc 0.967, time 3.0 sec\n",
            "epoch 6, train loss 0.7052, train acc 0.862, test loss 0.2412, test acc 0.930, time 3.0 sec\n",
            "epoch 7, train loss 0.1526, train acc 0.956, test loss 0.1463, test acc 0.959, time 3.2 sec\n",
            "epoch 8, train loss 0.1027, train acc 0.969, test loss 0.1168, test acc 0.969, time 3.1 sec\n",
            "epoch 9, train loss 0.0875, train acc 0.974, test loss 0.1321, test acc 0.964, time 3.1 sec\n",
            "epoch 10, train loss 0.0676, train acc 0.980, test loss 0.1835, test acc 0.950, time 3.0 sec\n",
            "epoch 11, train loss 0.0569, train acc 0.982, test loss 0.1187, test acc 0.967, time 3.1 sec\n",
            "epoch 12, train loss 0.0634, train acc 0.982, test loss 0.1260, test acc 0.965, time 3.1 sec\n",
            "epoch 13, train loss 0.0554, train acc 0.983, test loss 0.1188, test acc 0.968, time 3.0 sec\n",
            "epoch 14, train loss 0.0406, train acc 0.987, test loss 0.0999, test acc 0.974, time 3.5 sec\n",
            "epoch 15, train loss 0.0329, train acc 0.990, test loss 0.1502, test acc 0.960, time 3.1 sec\n",
            "epoch 16, train loss 0.0284, train acc 0.991, test loss 0.1059, test acc 0.973, time 3.0 sec\n",
            "epoch 17, train loss 0.0242, train acc 0.992, test loss 0.1192, test acc 0.973, time 3.0 sec\n",
            "epoch 18, train loss 0.0291, train acc 0.991, test loss 0.1016, test acc 0.975, time 3.0 sec\n",
            "epoch 19, train loss 0.0211, train acc 0.994, test loss 0.1487, test acc 0.966, time 3.1 sec\n",
            "epoch 20, train loss 0.0146, train acc 0.996, test loss 0.1274, test acc 0.974, time 3.0 sec\n"
          ]
        }
      ],
      "source": [
        "# parâmetros: número de epochs, learning rate (ou taxa de aprendizado), e \n",
        "# tamanho do batch\n",
        "num_epochs, lr, batch_size = 20, 0.5, 256\n",
        "\n",
        "# rede simples somente com perceptrons e camadas densamente conectadas\n",
        "net = nn.Sequential(\n",
        "        nn.Flatten(),\n",
        "        nn.Linear(784, 256),\n",
        "        nn.ReLU(),\n",
        "        nn.Linear(256, 128),\n",
        "        nn.ReLU(),\n",
        "        nn.Linear(128, 64),\n",
        "        nn.ReLU(),\n",
        "        nn.Linear(64, 10))  # sem softmax\n",
        "\n",
        "net.apply(weights_init)\n",
        "net.to(device) # diz para a rede que ela deve ser treinada na GPU\n",
        "\n",
        "# função de custo (ou loss)\n",
        "loss = nn.CrossEntropyLoss()\n",
        "\n",
        "# carregamento do dado: mnist\n",
        "train_iter, test_iter = load_data_mnist(batch_size)\n",
        "\n",
        "# trainer do torch\n",
        "trainer = optim.SGD(net.parameters(), lr=lr)\n",
        "\n",
        "# treinamento e validação via pytorch\n",
        "\n",
        "train_validate(net, train_iter, test_iter, batch_size, trainer, loss, num_epochs, 'classification')"
      ]
    },
    {
      "cell_type": "code",
      "execution_count": 24,
      "metadata": {
        "colab": {
          "base_uri": "https://localhost:8080/",
          "height": 370
        },
        "id": "n2E7r_r88VNe",
        "outputId": "5d55e91a-53fb-44fc-c595-c7e17120244b"
      },
      "outputs": [
        {
          "name": "stdout",
          "output_type": "stream",
          "text": [
            "label  6\n",
            "output  tensor([[ 4.1958, -3.2628, -0.6441, -4.8272, -1.5818,  5.5133, 11.7072, -3.5427,\n",
            "         -3.5579, -4.2905]], device='mps:0', grad_fn=<LinearBackward0>)\n",
            "previsao  6\n"
          ]
        },
        {
          "data": {
            "image/png": "[encoded data removed]",
            "text/plain": [
              "<Figure size 640x480 with 1 Axes>"
            ]
          },
          "metadata": {},
          "output_type": "display_data"
        }
      ],
      "source": [
        "import skimage.io as io\n",
        "\n",
        "for X, y in train_iter:\n",
        "  X, y = X.to(device), y.to(device)\n",
        "  io.imshow(X[0].cpu().numpy().squeeze())\n",
        "  print('label ', y[0].item())\n",
        "  y_hat = net(X[0])\n",
        "  print('output ', y_hat)\n",
        "  print('previsao ', y_hat.argmax().item())\n",
        "  break"
      ]
    }
  ],
  "metadata": {
    "accelerator": "GPU",
    "colab": {
      "collapsed_sections": [],
      "name": "04_1_Funcoes_de_Perda.ipynb",
      "provenance": []
    },
    "kernelspec": {
      "display_name": "Python 3",
      "language": "python",
      "name": "python3"
    },
    "language_info": {
      "codemirror_mode": {
        "name": "ipython",
        "version": 3
      },
      "file_extension": ".py",
      "mimetype": "text/x-python",
      "name": "python",
      "nbconvert_exporter": "python",
      "pygments_lexer": "ipython3",
      "version": "3.9.6"
    },
    "widgets": {
      "application/vnd.jupyter.widget-state+json": {
        "0688a88ddb3344a2806312cd7bcdf4b1": {
          "model_module": "@jupyter-widgets/controls",
          "model_name": "HBoxModel",
          "state": {
            "_dom_classes": [],
            "_model_module": "@jupyter-widgets/controls",
            "_model_module_version": "1.5.0",
            "_model_name": "HBoxModel",
            "_view_count": null,
            "_view_module": "@jupyter-widgets/controls",
            "_view_module_version": "1.5.0",
            "_view_name": "HBoxView",
            "box_style": "",
            "children": [
              "IPY_MODEL_8e3e274d35ba4989aff64e4001fc08fb",
              "IPY_MODEL_b23d2762c4894461a41c940e9afba213"
            ],
            "layout": "IPY_MODEL_b3e1351dd1d045f4b94aaa66b73c6f4f"
          }
        },
        "0915b5f8278944de99d36dfb154f9e50": {
          "model_module": "@jupyter-widgets/controls",
          "model_name": "ProgressStyleModel",
          "state": {
            "_model_module": "@jupyter-widgets/controls",
            "_model_module_version": "1.5.0",
            "_model_name": "ProgressStyleModel",
            "_view_count": null,
            "_view_module": "@jupyter-widgets/base",
            "_view_module_version": "1.2.0",
            "_view_name": "StyleView",
            "bar_color": null,
            "description_width": "initial"
          }
        },
        "0cf61fe218cd445fa23ccea1dfff2229": {
          "model_module": "@jupyter-widgets/controls",
          "model_name": "HBoxModel",
          "state": {
            "_dom_classes": [],
            "_model_module": "@jupyter-widgets/controls",
            "_model_module_version": "1.5.0",
            "_model_name": "HBoxModel",
            "_view_count": null,
            "_view_module": "@jupyter-widgets/controls",
            "_view_module_version": "1.5.0",
            "_view_name": "HBoxView",
            "box_style": "",
            "children": [
              "IPY_MODEL_3e0d574c3e394a36b9c5953123824095",
              "IPY_MODEL_ef8f4c2416e0436192ec48e35ceabc0b"
            ],
            "layout": "IPY_MODEL_94bd74e6e2eb4bdd9b312c0b4d8f88e5"
          }
        },
        "1185a33542224572a8588efede6f81f7": {
          "model_module": "@jupyter-widgets/controls",
          "model_name": "ProgressStyleModel",
          "state": {
            "_model_module": "@jupyter-widgets/controls",
            "_model_module_version": "1.5.0",
            "_model_name": "ProgressStyleModel",
            "_view_count": null,
            "_view_module": "@jupyter-widgets/base",
            "_view_module_version": "1.2.0",
            "_view_name": "StyleView",
            "bar_color": null,
            "description_width": "initial"
          }
        },
        "1225565f2df94ceea5a26a65ac69563e": {
          "model_module": "@jupyter-widgets/base",
          "model_name": "LayoutModel",
          "state": {
            "_model_module": "@jupyter-widgets/base",
            "_model_module_version": "1.2.0",
            "_model_name": "LayoutModel",
            "_view_count": null,
            "_view_module": "@jupyter-widgets/base",
            "_view_module_version": "1.2.0",
            "_view_name": "LayoutView",
            "align_content": null,
            "align_items": null,
            "align_self": null,
            "border": null,
            "bottom": null,
            "display": null,
            "flex": null,
            "flex_flow": null,
            "grid_area": null,
            "grid_auto_columns": null,
            "grid_auto_flow": null,
            "grid_auto_rows": null,
            "grid_column": null,
            "grid_gap": null,
            "grid_row": null,
            "grid_template_areas": null,
            "grid_template_columns": null,
            "grid_template_rows": null,
            "height": null,
            "justify_content": null,
            "justify_items": null,
            "left": null,
            "margin": null,
            "max_height": null,
            "max_width": null,
            "min_height": null,
            "min_width": null,
            "object_fit": null,
            "object_position": null,
            "order": null,
            "overflow": null,
            "overflow_x": null,
            "overflow_y": null,
            "padding": null,
            "right": null,
            "top": null,
            "visibility": null,
            "width": null
          }
        },
        "1abec9644ddf46cc920f8620554d450c": {
          "model_module": "@jupyter-widgets/base",
          "model_name": "LayoutModel",
          "state": {
            "_model_module": "@jupyter-widgets/base",
            "_model_module_version": "1.2.0",
            "_model_name": "LayoutModel",
            "_view_count": null,
            "_view_module": "@jupyter-widgets/base",
            "_view_module_version": "1.2.0",
            "_view_name": "LayoutView",
            "align_content": null,
            "align_items": null,
            "align_self": null,
            "border": null,
            "bottom": null,
            "display": null,
            "flex": null,
            "flex_flow": null,
            "grid_area": null,
            "grid_auto_columns": null,
            "grid_auto_flow": null,
            "grid_auto_rows": null,
            "grid_column": null,
            "grid_gap": null,
            "grid_row": null,
            "grid_template_areas": null,
            "grid_template_columns": null,
            "grid_template_rows": null,
            "height": null,
            "justify_content": null,
            "justify_items": null,
            "left": null,
            "margin": null,
            "max_height": null,
            "max_width": null,
            "min_height": null,
            "min_width": null,
            "object_fit": null,
            "object_position": null,
            "order": null,
            "overflow": null,
            "overflow_x": null,
            "overflow_y": null,
            "padding": null,
            "right": null,
            "top": null,
            "visibility": null,
            "width": null
          }
        },
        "272213d662764bd3937d7356b639a767": {
          "model_module": "@jupyter-widgets/base",
          "model_name": "LayoutModel",
          "state": {
            "_model_module": "@jupyter-widgets/base",
            "_model_module_version": "1.2.0",
            "_model_name": "LayoutModel",
            "_view_count": null,
            "_view_module": "@jupyter-widgets/base",
            "_view_module_version": "1.2.0",
            "_view_name": "LayoutView",
            "align_content": null,
            "align_items": null,
            "align_self": null,
            "border": null,
            "bottom": null,
            "display": null,
            "flex": null,
            "flex_flow": null,
            "grid_area": null,
            "grid_auto_columns": null,
            "grid_auto_flow": null,
            "grid_auto_rows": null,
            "grid_column": null,
            "grid_gap": null,
            "grid_row": null,
            "grid_template_areas": null,
            "grid_template_columns": null,
            "grid_template_rows": null,
            "height": null,
            "justify_content": null,
            "justify_items": null,
            "left": null,
            "margin": null,
            "max_height": null,
            "max_width": null,
            "min_height": null,
            "min_width": null,
            "object_fit": null,
            "object_position": null,
            "order": null,
            "overflow": null,
            "overflow_x": null,
            "overflow_y": null,
            "padding": null,
            "right": null,
            "top": null,
            "visibility": null,
            "width": null
          }
        },
        "3b37ef559e024b058cc0d44db1c58601": {
          "model_module": "@jupyter-widgets/controls",
          "model_name": "HTMLModel",
          "state": {
            "_dom_classes": [],
            "_model_module": "@jupyter-widgets/controls",
            "_model_module_version": "1.5.0",
            "_model_name": "HTMLModel",
            "_view_count": null,
            "_view_module": "@jupyter-widgets/controls",
            "_view_module_version": "1.5.0",
            "_view_name": "HTMLView",
            "description": "",
            "description_tooltip": null,
            "layout": "IPY_MODEL_272213d662764bd3937d7356b639a767",
            "placeholder": "​",
            "style": "IPY_MODEL_9006120aff864341ad0c7b68bd71c499",
            "value": " 8192/? [00:00&lt;00:00, 12259.22it/s]"
          }
        },
        "3c69c9e1c8504675a55650a8bd902127": {
          "model_module": "@jupyter-widgets/base",
          "model_name": "LayoutModel",
          "state": {
            "_model_module": "@jupyter-widgets/base",
            "_model_module_version": "1.2.0",
            "_model_name": "LayoutModel",
            "_view_count": null,
            "_view_module": "@jupyter-widgets/base",
            "_view_module_version": "1.2.0",
            "_view_name": "LayoutView",
            "align_content": null,
            "align_items": null,
            "align_self": null,
            "border": null,
            "bottom": null,
            "display": null,
            "flex": null,
            "flex_flow": null,
            "grid_area": null,
            "grid_auto_columns": null,
            "grid_auto_flow": null,
            "grid_auto_rows": null,
            "grid_column": null,
            "grid_gap": null,
            "grid_row": null,
            "grid_template_areas": null,
            "grid_template_columns": null,
            "grid_template_rows": null,
            "height": null,
            "justify_content": null,
            "justify_items": null,
            "left": null,
            "margin": null,
            "max_height": null,
            "max_width": null,
            "min_height": null,
            "min_width": null,
            "object_fit": null,
            "object_position": null,
            "order": null,
            "overflow": null,
            "overflow_x": null,
            "overflow_y": null,
            "padding": null,
            "right": null,
            "top": null,
            "visibility": null,
            "width": null
          }
        },
        "3e0d574c3e394a36b9c5953123824095": {
          "model_module": "@jupyter-widgets/controls",
          "model_name": "FloatProgressModel",
          "state": {
            "_dom_classes": [],
            "_model_module": "@jupyter-widgets/controls",
            "_model_module_version": "1.5.0",
            "_model_name": "FloatProgressModel",
            "_view_count": null,
            "_view_module": "@jupyter-widgets/controls",
            "_view_module_version": "1.5.0",
            "_view_name": "ProgressView",
            "bar_style": "success",
            "description": "",
            "description_tooltip": null,
            "layout": "IPY_MODEL_bcfabb7a447340d39e1f6a6f2c627415",
            "max": 1,
            "min": 0,
            "orientation": "horizontal",
            "style": "IPY_MODEL_e8d5eff854824c36afca357ad552166d",
            "value": 1
          }
        },
        "45b7af19609d47eb90641e72cb425224": {
          "model_module": "@jupyter-widgets/base",
          "model_name": "LayoutModel",
          "state": {
            "_model_module": "@jupyter-widgets/base",
            "_model_module_version": "1.2.0",
            "_model_name": "LayoutModel",
            "_view_count": null,
            "_view_module": "@jupyter-widgets/base",
            "_view_module_version": "1.2.0",
            "_view_name": "LayoutView",
            "align_content": null,
            "align_items": null,
            "align_self": null,
            "border": null,
            "bottom": null,
            "display": null,
            "flex": null,
            "flex_flow": null,
            "grid_area": null,
            "grid_auto_columns": null,
            "grid_auto_flow": null,
            "grid_auto_rows": null,
            "grid_column": null,
            "grid_gap": null,
            "grid_row": null,
            "grid_template_areas": null,
            "grid_template_columns": null,
            "grid_template_rows": null,
            "height": null,
            "justify_content": null,
            "justify_items": null,
            "left": null,
            "margin": null,
            "max_height": null,
            "max_width": null,
            "min_height": null,
            "min_width": null,
            "object_fit": null,
            "object_position": null,
            "order": null,
            "overflow": null,
            "overflow_x": null,
            "overflow_y": null,
            "padding": null,
            "right": null,
            "top": null,
            "visibility": null,
            "width": null
          }
        },
        "4a53fe967b4243dea309867ddcc55a32": {
          "model_module": "@jupyter-widgets/controls",
          "model_name": "DescriptionStyleModel",
          "state": {
            "_model_module": "@jupyter-widgets/controls",
            "_model_module_version": "1.5.0",
            "_model_name": "DescriptionStyleModel",
            "_view_count": null,
            "_view_module": "@jupyter-widgets/base",
            "_view_module_version": "1.2.0",
            "_view_name": "StyleView",
            "description_width": ""
          }
        },
        "4e4fdc984a394269b2311123c76cb7b8": {
          "model_module": "@jupyter-widgets/base",
          "model_name": "LayoutModel",
          "state": {
            "_model_module": "@jupyter-widgets/base",
            "_model_module_version": "1.2.0",
            "_model_name": "LayoutModel",
            "_view_count": null,
            "_view_module": "@jupyter-widgets/base",
            "_view_module_version": "1.2.0",
            "_view_name": "LayoutView",
            "align_content": null,
            "align_items": null,
            "align_self": null,
            "border": null,
            "bottom": null,
            "display": null,
            "flex": null,
            "flex_flow": null,
            "grid_area": null,
            "grid_auto_columns": null,
            "grid_auto_flow": null,
            "grid_auto_rows": null,
            "grid_column": null,
            "grid_gap": null,
            "grid_row": null,
            "grid_template_areas": null,
            "grid_template_columns": null,
            "grid_template_rows": null,
            "height": null,
            "justify_content": null,
            "justify_items": null,
            "left": null,
            "margin": null,
            "max_height": null,
            "max_width": null,
            "min_height": null,
            "min_width": null,
            "object_fit": null,
            "object_position": null,
            "order": null,
            "overflow": null,
            "overflow_x": null,
            "overflow_y": null,
            "padding": null,
            "right": null,
            "top": null,
            "visibility": null,
            "width": null
          }
        },
        "56f3868cdd09453e8665c7434f432162": {
          "model_module": "@jupyter-widgets/controls",
          "model_name": "HTMLModel",
          "state": {
            "_dom_classes": [],
            "_model_module": "@jupyter-widgets/controls",
            "_model_module_version": "1.5.0",
            "_model_name": "HTMLModel",
            "_view_count": null,
            "_view_module": "@jupyter-widgets/controls",
            "_view_module_version": "1.5.0",
            "_view_name": "HTMLView",
            "description": "",
            "description_tooltip": null,
            "layout": "IPY_MODEL_4e4fdc984a394269b2311123c76cb7b8",
            "placeholder": "​",
            "style": "IPY_MODEL_aec061ab6a874b5b84122d732ea714a8",
            "value": " 1654784/? [00:03&lt;00:00, 499935.47it/s]"
          }
        },
        "5d7de525c01f4b4f854ceee27d2e39c3": {
          "model_module": "@jupyter-widgets/controls",
          "model_name": "ProgressStyleModel",
          "state": {
            "_model_module": "@jupyter-widgets/controls",
            "_model_module_version": "1.5.0",
            "_model_name": "ProgressStyleModel",
            "_view_count": null,
            "_view_module": "@jupyter-widgets/base",
            "_view_module_version": "1.2.0",
            "_view_name": "StyleView",
            "bar_color": null,
            "description_width": "initial"
          }
        },
        "5eb1bf6c795c422dbed698ad81298041": {
          "model_module": "@jupyter-widgets/controls",
          "model_name": "FloatProgressModel",
          "state": {
            "_dom_classes": [],
            "_model_module": "@jupyter-widgets/controls",
            "_model_module_version": "1.5.0",
            "_model_name": "FloatProgressModel",
            "_view_count": null,
            "_view_module": "@jupyter-widgets/controls",
            "_view_module_version": "1.5.0",
            "_view_name": "ProgressView",
            "bar_style": "success",
            "description": "",
            "description_tooltip": null,
            "layout": "IPY_MODEL_45b7af19609d47eb90641e72cb425224",
            "max": 1,
            "min": 0,
            "orientation": "horizontal",
            "style": "IPY_MODEL_0915b5f8278944de99d36dfb154f9e50",
            "value": 1
          }
        },
        "699762e7c9094aadaaeec5a00938c4ef": {
          "model_module": "@jupyter-widgets/base",
          "model_name": "LayoutModel",
          "state": {
            "_model_module": "@jupyter-widgets/base",
            "_model_module_version": "1.2.0",
            "_model_name": "LayoutModel",
            "_view_count": null,
            "_view_module": "@jupyter-widgets/base",
            "_view_module_version": "1.2.0",
            "_view_name": "LayoutView",
            "align_content": null,
            "align_items": null,
            "align_self": null,
            "border": null,
            "bottom": null,
            "display": null,
            "flex": null,
            "flex_flow": null,
            "grid_area": null,
            "grid_auto_columns": null,
            "grid_auto_flow": null,
            "grid_auto_rows": null,
            "grid_column": null,
            "grid_gap": null,
            "grid_row": null,
            "grid_template_areas": null,
            "grid_template_columns": null,
            "grid_template_rows": null,
            "height": null,
            "justify_content": null,
            "justify_items": null,
            "left": null,
            "margin": null,
            "max_height": null,
            "max_width": null,
            "min_height": null,
            "min_width": null,
            "object_fit": null,
            "object_position": null,
            "order": null,
            "overflow": null,
            "overflow_x": null,
            "overflow_y": null,
            "padding": null,
            "right": null,
            "top": null,
            "visibility": null,
            "width": null
          }
        },
        "8e3e274d35ba4989aff64e4001fc08fb": {
          "model_module": "@jupyter-widgets/controls",
          "model_name": "FloatProgressModel",
          "state": {
            "_dom_classes": [],
            "_model_module": "@jupyter-widgets/controls",
            "_model_module_version": "1.5.0",
            "_model_name": "FloatProgressModel",
            "_view_count": null,
            "_view_module": "@jupyter-widgets/controls",
            "_view_module_version": "1.5.0",
            "_view_name": "ProgressView",
            "bar_style": "info",
            "description": "",
            "description_tooltip": null,
            "layout": "IPY_MODEL_1225565f2df94ceea5a26a65ac69563e",
            "max": 1,
            "min": 0,
            "orientation": "horizontal",
            "style": "IPY_MODEL_1185a33542224572a8588efede6f81f7",
            "value": 1
          }
        },
        "9006120aff864341ad0c7b68bd71c499": {
          "model_module": "@jupyter-widgets/controls",
          "model_name": "DescriptionStyleModel",
          "state": {
            "_model_module": "@jupyter-widgets/controls",
            "_model_module_version": "1.5.0",
            "_model_name": "DescriptionStyleModel",
            "_view_count": null,
            "_view_module": "@jupyter-widgets/base",
            "_view_module_version": "1.2.0",
            "_view_name": "StyleView",
            "description_width": ""
          }
        },
        "94bd74e6e2eb4bdd9b312c0b4d8f88e5": {
          "model_module": "@jupyter-widgets/base",
          "model_name": "LayoutModel",
          "state": {
            "_model_module": "@jupyter-widgets/base",
            "_model_module_version": "1.2.0",
            "_model_name": "LayoutModel",
            "_view_count": null,
            "_view_module": "@jupyter-widgets/base",
            "_view_module_version": "1.2.0",
            "_view_name": "LayoutView",
            "align_content": null,
            "align_items": null,
            "align_self": null,
            "border": null,
            "bottom": null,
            "display": null,
            "flex": null,
            "flex_flow": null,
            "grid_area": null,
            "grid_auto_columns": null,
            "grid_auto_flow": null,
            "grid_auto_rows": null,
            "grid_column": null,
            "grid_gap": null,
            "grid_row": null,
            "grid_template_areas": null,
            "grid_template_columns": null,
            "grid_template_rows": null,
            "height": null,
            "justify_content": null,
            "justify_items": null,
            "left": null,
            "margin": null,
            "max_height": null,
            "max_width": null,
            "min_height": null,
            "min_width": null,
            "object_fit": null,
            "object_position": null,
            "order": null,
            "overflow": null,
            "overflow_x": null,
            "overflow_y": null,
            "padding": null,
            "right": null,
            "top": null,
            "visibility": null,
            "width": null
          }
        },
        "a547a4775a3249e097b717d3fa3108b5": {
          "model_module": "@jupyter-widgets/base",
          "model_name": "LayoutModel",
          "state": {
            "_model_module": "@jupyter-widgets/base",
            "_model_module_version": "1.2.0",
            "_model_name": "LayoutModel",
            "_view_count": null,
            "_view_module": "@jupyter-widgets/base",
            "_view_module_version": "1.2.0",
            "_view_name": "LayoutView",
            "align_content": null,
            "align_items": null,
            "align_self": null,
            "border": null,
            "bottom": null,
            "display": null,
            "flex": null,
            "flex_flow": null,
            "grid_area": null,
            "grid_auto_columns": null,
            "grid_auto_flow": null,
            "grid_auto_rows": null,
            "grid_column": null,
            "grid_gap": null,
            "grid_row": null,
            "grid_template_areas": null,
            "grid_template_columns": null,
            "grid_template_rows": null,
            "height": null,
            "justify_content": null,
            "justify_items": null,
            "left": null,
            "margin": null,
            "max_height": null,
            "max_width": null,
            "min_height": null,
            "min_width": null,
            "object_fit": null,
            "object_position": null,
            "order": null,
            "overflow": null,
            "overflow_x": null,
            "overflow_y": null,
            "padding": null,
            "right": null,
            "top": null,
            "visibility": null,
            "width": null
          }
        },
        "ac6e7fe8016a48569c7b6e0b87f2d25c": {
          "model_module": "@jupyter-widgets/controls",
          "model_name": "HBoxModel",
          "state": {
            "_dom_classes": [],
            "_model_module": "@jupyter-widgets/controls",
            "_model_module_version": "1.5.0",
            "_model_name": "HBoxModel",
            "_view_count": null,
            "_view_module": "@jupyter-widgets/controls",
            "_view_module_version": "1.5.0",
            "_view_name": "HBoxView",
            "box_style": "",
            "children": [
              "IPY_MODEL_d864186c969a42ba8939dc34be754eae",
              "IPY_MODEL_3b37ef559e024b058cc0d44db1c58601"
            ],
            "layout": "IPY_MODEL_a547a4775a3249e097b717d3fa3108b5"
          }
        },
        "aec061ab6a874b5b84122d732ea714a8": {
          "model_module": "@jupyter-widgets/controls",
          "model_name": "DescriptionStyleModel",
          "state": {
            "_model_module": "@jupyter-widgets/controls",
            "_model_module_version": "1.5.0",
            "_model_name": "DescriptionStyleModel",
            "_view_count": null,
            "_view_module": "@jupyter-widgets/base",
            "_view_module_version": "1.2.0",
            "_view_name": "StyleView",
            "description_width": ""
          }
        },
        "b23d2762c4894461a41c940e9afba213": {
          "model_module": "@jupyter-widgets/controls",
          "model_name": "HTMLModel",
          "state": {
            "_dom_classes": [],
            "_model_module": "@jupyter-widgets/controls",
            "_model_module_version": "1.5.0",
            "_model_name": "HTMLModel",
            "_view_count": null,
            "_view_module": "@jupyter-widgets/controls",
            "_view_module_version": "1.5.0",
            "_view_name": "HTMLView",
            "description": "",
            "description_tooltip": null,
            "layout": "IPY_MODEL_3c69c9e1c8504675a55650a8bd902127",
            "placeholder": "​",
            "style": "IPY_MODEL_f492e60d720c41828396596e0f1dcefa",
            "value": " 9920512/? [00:30&lt;00:00, 1175030.38it/s]"
          }
        },
        "b3e1351dd1d045f4b94aaa66b73c6f4f": {
          "model_module": "@jupyter-widgets/base",
          "model_name": "LayoutModel",
          "state": {
            "_model_module": "@jupyter-widgets/base",
            "_model_module_version": "1.2.0",
            "_model_name": "LayoutModel",
            "_view_count": null,
            "_view_module": "@jupyter-widgets/base",
            "_view_module_version": "1.2.0",
            "_view_name": "LayoutView",
            "align_content": null,
            "align_items": null,
            "align_self": null,
            "border": null,
            "bottom": null,
            "display": null,
            "flex": null,
            "flex_flow": null,
            "grid_area": null,
            "grid_auto_columns": null,
            "grid_auto_flow": null,
            "grid_auto_rows": null,
            "grid_column": null,
            "grid_gap": null,
            "grid_row": null,
            "grid_template_areas": null,
            "grid_template_columns": null,
            "grid_template_rows": null,
            "height": null,
            "justify_content": null,
            "justify_items": null,
            "left": null,
            "margin": null,
            "max_height": null,
            "max_width": null,
            "min_height": null,
            "min_width": null,
            "object_fit": null,
            "object_position": null,
            "order": null,
            "overflow": null,
            "overflow_x": null,
            "overflow_y": null,
            "padding": null,
            "right": null,
            "top": null,
            "visibility": null,
            "width": null
          }
        },
        "bcfabb7a447340d39e1f6a6f2c627415": {
          "model_module": "@jupyter-widgets/base",
          "model_name": "LayoutModel",
          "state": {
            "_model_module": "@jupyter-widgets/base",
            "_model_module_version": "1.2.0",
            "_model_name": "LayoutModel",
            "_view_count": null,
            "_view_module": "@jupyter-widgets/base",
            "_view_module_version": "1.2.0",
            "_view_name": "LayoutView",
            "align_content": null,
            "align_items": null,
            "align_self": null,
            "border": null,
            "bottom": null,
            "display": null,
            "flex": null,
            "flex_flow": null,
            "grid_area": null,
            "grid_auto_columns": null,
            "grid_auto_flow": null,
            "grid_auto_rows": null,
            "grid_column": null,
            "grid_gap": null,
            "grid_row": null,
            "grid_template_areas": null,
            "grid_template_columns": null,
            "grid_template_rows": null,
            "height": null,
            "justify_content": null,
            "justify_items": null,
            "left": null,
            "margin": null,
            "max_height": null,
            "max_width": null,
            "min_height": null,
            "min_width": null,
            "object_fit": null,
            "object_position": null,
            "order": null,
            "overflow": null,
            "overflow_x": null,
            "overflow_y": null,
            "padding": null,
            "right": null,
            "top": null,
            "visibility": null,
            "width": null
          }
        },
        "d413a928abe2477db5e23d70eca7069e": {
          "model_module": "@jupyter-widgets/controls",
          "model_name": "HBoxModel",
          "state": {
            "_dom_classes": [],
            "_model_module": "@jupyter-widgets/controls",
            "_model_module_version": "1.5.0",
            "_model_name": "HBoxModel",
            "_view_count": null,
            "_view_module": "@jupyter-widgets/controls",
            "_view_module_version": "1.5.0",
            "_view_name": "HBoxView",
            "box_style": "",
            "children": [
              "IPY_MODEL_5eb1bf6c795c422dbed698ad81298041",
              "IPY_MODEL_56f3868cdd09453e8665c7434f432162"
            ],
            "layout": "IPY_MODEL_1abec9644ddf46cc920f8620554d450c"
          }
        },
        "d864186c969a42ba8939dc34be754eae": {
          "model_module": "@jupyter-widgets/controls",
          "model_name": "FloatProgressModel",
          "state": {
            "_dom_classes": [],
            "_model_module": "@jupyter-widgets/controls",
            "_model_module_version": "1.5.0",
            "_model_name": "FloatProgressModel",
            "_view_count": null,
            "_view_module": "@jupyter-widgets/controls",
            "_view_module_version": "1.5.0",
            "_view_name": "ProgressView",
            "bar_style": "success",
            "description": "",
            "description_tooltip": null,
            "layout": "IPY_MODEL_699762e7c9094aadaaeec5a00938c4ef",
            "max": 1,
            "min": 0,
            "orientation": "horizontal",
            "style": "IPY_MODEL_5d7de525c01f4b4f854ceee27d2e39c3",
            "value": 1
          }
        },
        "ddb02331347041f09b095f6a50c14b5e": {
          "model_module": "@jupyter-widgets/base",
          "model_name": "LayoutModel",
          "state": {
            "_model_module": "@jupyter-widgets/base",
            "_model_module_version": "1.2.0",
            "_model_name": "LayoutModel",
            "_view_count": null,
            "_view_module": "@jupyter-widgets/base",
            "_view_module_version": "1.2.0",
            "_view_name": "LayoutView",
            "align_content": null,
            "align_items": null,
            "align_self": null,
            "border": null,
            "bottom": null,
            "display": null,
            "flex": null,
            "flex_flow": null,
            "grid_area": null,
            "grid_auto_columns": null,
            "grid_auto_flow": null,
            "grid_auto_rows": null,
            "grid_column": null,
            "grid_gap": null,
            "grid_row": null,
            "grid_template_areas": null,
            "grid_template_columns": null,
            "grid_template_rows": null,
            "height": null,
            "justify_content": null,
            "justify_items": null,
            "left": null,
            "margin": null,
            "max_height": null,
            "max_width": null,
            "min_height": null,
            "min_width": null,
            "object_fit": null,
            "object_position": null,
            "order": null,
            "overflow": null,
            "overflow_x": null,
            "overflow_y": null,
            "padding": null,
            "right": null,
            "top": null,
            "visibility": null,
            "width": null
          }
        },
        "e8d5eff854824c36afca357ad552166d": {
          "model_module": "@jupyter-widgets/controls",
          "model_name": "ProgressStyleModel",
          "state": {
            "_model_module": "@jupyter-widgets/controls",
            "_model_module_version": "1.5.0",
            "_model_name": "ProgressStyleModel",
            "_view_count": null,
            "_view_module": "@jupyter-widgets/base",
            "_view_module_version": "1.2.0",
            "_view_name": "StyleView",
            "bar_color": null,
            "description_width": "initial"
          }
        },
        "ef8f4c2416e0436192ec48e35ceabc0b": {
          "model_module": "@jupyter-widgets/controls",
          "model_name": "HTMLModel",
          "state": {
            "_dom_classes": [],
            "_model_module": "@jupyter-widgets/controls",
            "_model_module_version": "1.5.0",
            "_model_name": "HTMLModel",
            "_view_count": null,
            "_view_module": "@jupyter-widgets/controls",
            "_view_module_version": "1.5.0",
            "_view_name": "HTMLView",
            "description": "",
            "description_tooltip": null,
            "layout": "IPY_MODEL_ddb02331347041f09b095f6a50c14b5e",
            "placeholder": "​",
            "style": "IPY_MODEL_4a53fe967b4243dea309867ddcc55a32",
            "value": " 32768/? [00:03&lt;00:00, 8271.11it/s]"
          }
        },
        "f492e60d720c41828396596e0f1dcefa": {
          "model_module": "@jupyter-widgets/controls",
          "model_name": "DescriptionStyleModel",
          "state": {
            "_model_module": "@jupyter-widgets/controls",
            "_model_module_version": "1.5.0",
            "_model_name": "DescriptionStyleModel",
            "_view_count": null,
            "_view_module": "@jupyter-widgets/base",
            "_view_module_version": "1.2.0",
            "_view_name": "StyleView",
            "description_width": ""
          }
        }
      }
    }
  },
  "nbformat": 4,
  "nbformat_minor": 0
}
