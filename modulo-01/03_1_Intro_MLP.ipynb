{
  "cells": [
    {
      "attachments": {},
      "cell_type": "markdown",
      "metadata": {
        "id": "NG-mVsVuE0if"
      },
      "source": [
        "# Preâmbulo\n",
        "\n",
        "Imports, funções, downloads e instalação do Pytorch."
      ]
    },
    {
      "cell_type": "code",
      "execution_count": 1,
      "metadata": {
        "id": "fEHmMCjR4PJw"
      },
      "outputs": [],
      "source": [
        "# Basic imports.\n",
        "import os\n",
        "import time\n",
        "import numpy as np\n",
        "import torch\n",
        "\n",
        "import torch\n",
        "from torch.autograd import Variable\n",
        "import torch.nn.functional as F\n",
        "\n",
        "from torch import nn\n",
        "from torch import optim\n",
        "\n",
        "from torch.utils.data import DataLoader\n",
        "from torch.utils import data\n",
        "from torch.backends import cudnn\n",
        "\n",
        "from torchvision import models\n",
        "from torchvision import datasets\n",
        "from torchvision import transforms\n",
        "\n",
        "from skimage import io\n",
        "\n",
        "from sklearn import metrics\n",
        "\n",
        "from matplotlib import pyplot as plt\n",
        "\n",
        "%matplotlib inline\n",
        "\n",
        "cudnn.benchmark = True"
      ]
    },
    {
      "attachments": {},
      "cell_type": "markdown",
      "metadata": {
        "id": "oQa4-lUw7Rmp"
      },
      "source": [
        "## Casting para o dispositivo correto\n",
        "\n",
        "Como usaremos processamento vetorial principalmente em GPUs para aprendizado profundo, primeiramente é possível verificar se há uma GPU disponível com o trecho de código abaixo, armazenando os tensores nos dispositivos apropriados."
      ]
    },
    {
      "cell_type": "code",
      "execution_count": 5,
      "metadata": {
        "id": "yX0bBEM863sY"
      },
      "outputs": [
        {
          "name": "stdout",
          "output_type": "stream",
          "text": [
            "cpu\n"
          ]
        }
      ],
      "source": [
        "# Checking if GPU/CUDA is available.\n",
        "if torch.cuda.is_available():\n",
        "    device = torch.device('cuda')\n",
        "else:\n",
        "    device = torch.device('cpu')\n",
        "\n",
        "print(device)"
      ]
    },
    {
      "attachments": {},
      "cell_type": "markdown",
      "metadata": {
        "id": "1x5UK0uib2tk"
      },
      "source": [
        "# Intro MLP\n",
        "\n",
        "## O perceptron e a camada `nn.Linear`\n",
        "\n",
        "A camada Linear do Pytorch ([nn.Linear](https://pytorch.org/docs/stable/nn.html#torch.nn.Linear)) é responsável por aplicar uma transformação linear no dado de entrada. Esta camada recebe como parâmetro a dimensão (número de *features*) da entrada e da saída (que na verdade, representa o número de neurônios dessa camada). Por padrão o bias já é incluído. **Um** perceptron pode ser facilmente representado como a seguir, desconsiderando a função de ativação:\n",
        "\n",
        "```\n",
        "perceptron = nn.Linear(in_dimension, 1)\n",
        "```\n",
        "Mas de uma forma geral, uma camada Linear com diversas *features* de entrada e diversas *features* de saída pode ser representada como:\n",
        "```\n",
        "nn.Linear(in_features, out_features)\n",
        "```\n",
        "![](./figs/nn_linear.png)"
      ]
    },
    {
      "cell_type": "code",
      "execution_count": 2,
      "metadata": {
        "id": "OlQA_vtGg8bf"
      },
      "outputs": [
        {
          "name": "stdout",
          "output_type": "stream",
          "text": [
            "Linear(in_features=2, out_features=3, bias=True)\n"
          ]
        }
      ],
      "source": [
        "linear = nn.Linear(2,3)\n",
        "print(linear)"
      ]
    },
    {
      "attachments": {},
      "cell_type": "markdown",
      "metadata": {
        "id": "6AhNyLrLmFcT"
      },
      "source": [
        "Como é possível ver no código abaixo, o Pytorch já inicia os pesos da camada aleatoriamente."
      ]
    },
    {
      "cell_type": "code",
      "execution_count": 6,
      "metadata": {
        "id": "fLOlOhQVmPuj"
      },
      "outputs": [
        {
          "name": "stdout",
          "output_type": "stream",
          "text": [
            "Parameter containing:\n",
            "tensor([[ 0.4579,  0.2746],\n",
            "        [-0.0900, -0.0924],\n",
            "        [ 0.2575, -0.2706]], requires_grad=True)\n",
            "Parameter containing:\n",
            "tensor([ 0.1693,  0.6911, -0.5141], requires_grad=True)\n"
          ]
        }
      ],
      "source": [
        "for p in linear.parameters():\n",
        "  print(p)"
      ]
    },
    {
      "attachments": {},
      "cell_type": "markdown",
      "metadata": {
        "id": "aAEaJGtDoZD7"
      },
      "source": [
        "O **forward** consiste em passar seu dado de entrada pela rede, gerando um resultado ao final. Considerando a camada linear instanciada anteriormente, o resultado do forward é o mesmo do somatório da multiplicação de seus pesos pelas respectivas entradas juntamente com o bias:\n",
        "\n",
        "w1\\*x1 + w2\\*x2 + ... + wn\\*xn + b\n",
        "\n",
        "No Pytorch, realizamos o **forward** chamando a função onde nossa rede/modelo está instanciada, conforme exemplo abaixo."
      ]
    },
    {
      "cell_type": "code",
      "execution_count": 7,
      "metadata": {
        "id": "Ibb8t7zpmpUI"
      },
      "outputs": [
        {
          "name": "stdout",
          "output_type": "stream",
          "text": [
            "Pytorch:  tensor([1.2907], grad_fn=<AddBackward0>)\n",
            "Manual:  tensor([1.2907], grad_fn=<AddBackward0>)\n"
          ]
        }
      ],
      "source": [
        "perceptron = nn.Linear(2,1) # o perceptron é iniciado com pesos aleatórios e um bias aleatório que, a partir do treinamento, serão ajustados para os valores de entrada\n",
        "X = torch.FloatTensor([2,3]) # dado de entrada de exemplo considerando o perceptron definido como nn.Linear(2,1)\n",
        "print('Pytorch: ', perceptron(X))\n",
        "\n",
        "# acessamos os pesos do modelo com .weight e o bias com .bias\n",
        "print('Manual: ', torch.mul(X, perceptron.weight).sum() + perceptron.bias)"
      ]
    },
    {
      "attachments": {},
      "cell_type": "markdown",
      "metadata": {
        "id": "x8LMX6OMrEbw"
      },
      "source": [
        "## Exemplo Perceptron simples\n",
        "\n",
        "O código abaixo cria um perceptron simples usando `nn.Linear` e implemente o fluxo de treinamento para esse preceptron, ou seja, faz o forward nessa camada, calcula a loss, e otimiza a camada. Invista um pouco de tempo para entender a célula abaixo pois usaremos essa ideia para implementar a função de treino mais a frente."
      ]
    },
    {
      "cell_type": "code",
      "execution_count": 10,
      "metadata": {
        "id": "YPJ9s5ckoA5T"
      },
      "outputs": [
        {
          "name": "stdout",
          "output_type": "stream",
          "text": [
            "Parametros iniciais:  [Parameter containing:\n",
            "tensor([[0.1532]], requires_grad=True), Parameter containing:\n",
            "tensor([-0.5968], requires_grad=True)]\n",
            "Epoch 0 - loss: 231.57437812164426\n",
            "Epoch 10 - loss: 8.342370045371354\n",
            "Epoch 20 - loss: 2.8830498289316893\n",
            "Epoch 30 - loss: 0.9963544034399092\n",
            "Epoch 40 - loss: 0.34433105957577936\n",
            "Epoch 50 - loss: 0.11899704654933885\n",
            "Epoch 60 - loss: 0.041124727387796156\n",
            "Epoch 70 - loss: 0.014212024714652216\n",
            "Epoch 80 - loss: 0.004911633528536186\n",
            "Epoch 90 - loss: 0.0016973704005067702\n",
            "Epoch 100 - loss: 0.0005866701494596782\n",
            "Epoch 110 - loss: 0.0002027164136961801\n",
            "Epoch 120 - loss: 7.005837233009515e-05\n",
            "Epoch 130 - loss: 2.4217420104832854e-05\n",
            "Epoch 140 - loss: 8.358614877579384e-06\n",
            "Epoch 150 - loss: 2.8903298243676545e-06\n",
            "Epoch 160 - loss: 1.0005556418946071e-06\n",
            "Epoch 170 - loss: 3.453017143328907e-07\n",
            "Epoch 180 - loss: 1.1932098686884274e-07\n",
            "Epoch 190 - loss: 4.1274972772953333e-08\n",
            "Epoch 200 - loss: 1.4299075701273978e-08\n",
            "Epoch 210 - loss: 4.611138137988746e-09\n",
            "Epoch 220 - loss: 1.5521095519943628e-09\n",
            "Epoch 230 - loss: 4.688445187639445e-10\n",
            "Epoch 240 - loss: 1.2096279533579946e-10\n",
            "Epoch 250 - loss: 9.026734915096313e-11\n",
            "Epoch 260 - loss: 9.026734915096313e-11\n",
            "Epoch 270 - loss: 9.026734915096313e-11\n",
            "Epoch 280 - loss: 9.026734915096313e-11\n",
            "Epoch 290 - loss: 9.026734915096313e-11\n",
            "Epoch 300 - loss: 9.026734915096313e-11\n",
            "Epoch 310 - loss: 9.026734915096313e-11\n",
            "Epoch 320 - loss: 9.026734915096313e-11\n",
            "Epoch 330 - loss: 9.026734915096313e-11\n",
            "Epoch 340 - loss: 9.026734915096313e-11\n",
            "Epoch 350 - loss: 9.026734915096313e-11\n",
            "Epoch 360 - loss: 9.026734915096313e-11\n",
            "Epoch 370 - loss: 9.026734915096313e-11\n",
            "Epoch 380 - loss: 9.026734915096313e-11\n",
            "Epoch 390 - loss: 9.026734915096313e-11\n",
            "Epoch 400 - loss: 9.026734915096313e-11\n",
            "Epoch 410 - loss: 9.026734915096313e-11\n",
            "Epoch 420 - loss: 9.026734915096313e-11\n",
            "Epoch 430 - loss: 9.026734915096313e-11\n",
            "Epoch 440 - loss: 9.026734915096313e-11\n",
            "Epoch 450 - loss: 9.026734915096313e-11\n",
            "Epoch 460 - loss: 9.026734915096313e-11\n",
            "Epoch 470 - loss: 9.026734915096313e-11\n",
            "Epoch 480 - loss: 9.026734915096313e-11\n",
            "Epoch 490 - loss: 9.026734915096313e-11\n",
            "Epoch 500 - loss: 9.026734915096313e-11\n",
            "Epoch 510 - loss: 9.026734915096313e-11\n",
            "Epoch 520 - loss: 9.026734915096313e-11\n",
            "Epoch 530 - loss: 9.026734915096313e-11\n",
            "Epoch 540 - loss: 9.026734915096313e-11\n",
            "Epoch 550 - loss: 9.026734915096313e-11\n",
            "Epoch 560 - loss: 9.026734915096313e-11\n",
            "Epoch 570 - loss: 9.026734915096313e-11\n",
            "Epoch 580 - loss: 9.026734915096313e-11\n",
            "Epoch 590 - loss: 9.026734915096313e-11\n",
            "Epoch 600 - loss: 9.026734915096313e-11\n",
            "Epoch 610 - loss: 9.026734915096313e-11\n",
            "Epoch 620 - loss: 9.026734915096313e-11\n",
            "Epoch 630 - loss: 9.026734915096313e-11\n",
            "Epoch 640 - loss: 9.026734915096313e-11\n",
            "Epoch 650 - loss: 9.026734915096313e-11\n",
            "Epoch 660 - loss: 9.026734915096313e-11\n",
            "Epoch 670 - loss: 9.026734915096313e-11\n",
            "Epoch 680 - loss: 9.026734915096313e-11\n",
            "Epoch 690 - loss: 9.026734915096313e-11\n",
            "Epoch 700 - loss: 9.026734915096313e-11\n",
            "Epoch 710 - loss: 9.026734915096313e-11\n",
            "Epoch 720 - loss: 9.026734915096313e-11\n",
            "Epoch 730 - loss: 9.026734915096313e-11\n",
            "Epoch 740 - loss: 9.026734915096313e-11\n",
            "Epoch 750 - loss: 9.026734915096313e-11\n",
            "Epoch 760 - loss: 9.026734915096313e-11\n",
            "Epoch 770 - loss: 9.026734915096313e-11\n",
            "Epoch 780 - loss: 9.026734915096313e-11\n",
            "Epoch 790 - loss: 9.026734915096313e-11\n",
            "Epoch 800 - loss: 9.026734915096313e-11\n",
            "Epoch 810 - loss: 9.026734915096313e-11\n",
            "Epoch 820 - loss: 9.026734915096313e-11\n",
            "Epoch 830 - loss: 9.026734915096313e-11\n",
            "Epoch 840 - loss: 9.026734915096313e-11\n",
            "Epoch 850 - loss: 9.026734915096313e-11\n",
            "Epoch 860 - loss: 9.026734915096313e-11\n",
            "Epoch 870 - loss: 9.026734915096313e-11\n",
            "Epoch 880 - loss: 9.026734915096313e-11\n",
            "Epoch 890 - loss: 9.026734915096313e-11\n",
            "Epoch 900 - loss: 9.026734915096313e-11\n",
            "Epoch 910 - loss: 9.026734915096313e-11\n",
            "Epoch 920 - loss: 9.026734915096313e-11\n",
            "Epoch 930 - loss: 9.026734915096313e-11\n",
            "Epoch 940 - loss: 9.026734915096313e-11\n",
            "Epoch 950 - loss: 9.026734915096313e-11\n",
            "Epoch 960 - loss: 9.026734915096313e-11\n",
            "Epoch 970 - loss: 9.026734915096313e-11\n",
            "Epoch 980 - loss: 9.026734915096313e-11\n",
            "Epoch 990 - loss: 9.026734915096313e-11\n",
            "Epoch 1000 - loss: 9.026734915096313e-11\n",
            "Parametros finais:  [Parameter containing:\n",
            "tensor([[2.0000]], requires_grad=True), Parameter containing:\n",
            "tensor([3.0000], requires_grad=True)]\n"
          ]
        }
      ],
      "source": [
        "def loss_fn(predict, label):  # definindo a loss\n",
        "    return torch.pow(label - predict, 2)\n",
        "\n",
        "perceptron = nn.Linear(1,1) # Camada linear com 1 feature de entrada (mais o bias) e uma de saída\n",
        "perceptron.to(device) # casting do perceptron para GPU\n",
        "learning_rate = 0.01\n",
        "print('Parametros iniciais: ', list(perceptron.parameters()))\n",
        "\n",
        "dataset = [] # dados de exemplo que seguem a função y = 2x+3\n",
        "for x in range(10):\n",
        "    dataset.append((x, 2*x+3))\n",
        "\n",
        "for epoch in range(101):\n",
        "    epoch_loss = 0\n",
        "    for iteration, data in enumerate(dataset):\n",
        "        X, y = data\n",
        "        X, y = torch.FloatTensor([X]).to(device), torch.FloatTensor([y]).to(device) # conversão para Tensor\n",
        "  \n",
        "        y_pred = perceptron(X)  # forward\n",
        "        loss = loss_fn(y_pred, y)  # calcula a loss\n",
        "\n",
        "        epoch_loss += loss.item()\n",
        "        loss.backward()\n",
        "        with torch.no_grad():\n",
        "            for param in perceptron.parameters():\n",
        "                param -= learning_rate * param.grad  # atualização dos parametros (pesos e bias) com base no gradiente\n",
        "                param.grad.zero_()  # resetando o gradiente\n",
        "\n",
        "    if epoch % 10 == 0:\n",
        "        print(\"Epoch {} - loss: {}\".format(epoch, epoch_loss))\n",
        "print('Parametros finais: ', list(perceptron.parameters()))"
      ]
    },
    {
      "cell_type": "code",
      "execution_count": 11,
      "metadata": {
        "id": "e9uRk8mAwGIB"
      },
      "outputs": [
        {
          "name": "stdout",
          "output_type": "stream",
          "text": [
            "tensor([43.0000], grad_fn=<AddBackward0>)\n"
          ]
        }
      ],
      "source": [
        "print(perceptron(torch.FloatTensor([20]).to(device))) # forward do valor 20 para conferir resultado, saida deve ser aproximadamente = 2x+3 = 2*20+3 = 43"
      ]
    },
    {
      "attachments": {},
      "cell_type": "markdown",
      "metadata": {
        "id": "3f-q6bCNzEmx"
      },
      "source": [
        "## O módulo `nn.Sequential`\n",
        "\n",
        "Na prática, criaremos redes com diversas camadas. O bloco `nn.Sequential` permite agrupar as camadas de forma sequencial para que o forward seja realizado na ordem desejada. Veja um exemplo para um *Multilayer Perceptron (MLP)* abaixo."
      ]
    },
    {
      "cell_type": "code",
      "execution_count": 12,
      "metadata": {
        "id": "LCK_OkqCzdUW"
      },
      "outputs": [
        {
          "name": "stdout",
          "output_type": "stream",
          "text": [
            "Sequential(\n",
            "  (0): Linear(in_features=28, out_features=64, bias=True)\n",
            "  (1): ReLU()\n",
            "  (2): Linear(in_features=64, out_features=32, bias=True)\n",
            "  (3): ReLU()\n",
            "  (4): Linear(in_features=32, out_features=8, bias=True)\n",
            ")\n"
          ]
        }
      ],
      "source": [
        "in_features = 28\n",
        "hidden_1 = 64\n",
        "hidden_2 = 32\n",
        "out_features = 8\n",
        "\n",
        "MLP = nn.Sequential(nn.Linear(in_features, hidden_1), nn.ReLU(), # computa a saída da camada linear, aplica a função de ativação (nesse caso, a ReLU) e passa para a próxima camada\n",
        "                    nn.Linear(hidden_1, hidden_2), nn.ReLU(), \n",
        "                    nn.Linear(hidden_2, out_features))\n",
        "print(MLP)"
      ]
    },
    {
      "cell_type": "code",
      "execution_count": 13,
      "metadata": {
        "id": "mkhjCepK0kjJ"
      },
      "outputs": [
        {
          "name": "stdout",
          "output_type": "stream",
          "text": [
            "torch.Size([10, 8])\n"
          ]
        }
      ],
      "source": [
        "test_data = torch.randn((10,28)) # 10 dados de input aleatórios com 28 features\n",
        "output = MLP(test_data) # forward da rede\n",
        "print(output.size())"
      ]
    },
    {
      "attachments": {},
      "cell_type": "markdown",
      "metadata": {
        "id": "E9LoXL0cUYMT"
      },
      "source": [
        "## Sua vez\n",
        "\n",
        "Vamos agora treinar um MLP simples em dados aleatórios. A célula abaixo define as dimensões de entrada e saída e gera os dados aleatórios."
      ]
    },
    {
      "cell_type": "code",
      "execution_count": 53,
      "metadata": {
        "id": "Vi3Zh8fQ4X_3"
      },
      "outputs": [
        {
          "name": "stdout",
          "output_type": "stream",
          "text": [
            "x:  torch.Size([64, 1000])\n",
            "y:  torch.Size([64, 10])\n"
          ]
        }
      ],
      "source": [
        "# N is batch size; D_in is input dimension;\n",
        "# H is hidden dimension; D_out is output dimension.\n",
        "N, D_in, H, D_out = 64, 1000, 100, 10\n",
        "\n",
        "# Create random Tensors to hold inputs and outputs\n",
        "x = torch.randn(N, D_in)\n",
        "y = torch.randn(N, D_out)\n",
        "\n",
        "# Casting tensors to the appropriate device.\n",
        "x = x.to(device)\n",
        "y = y.to(device)\n",
        "\n",
        "# Printing sizes of tensors.\n",
        "print('x: ', x.size())\n",
        "print('y: ', y.size())"
      ]
    },
    {
      "attachments": {},
      "cell_type": "markdown",
      "metadata": {
        "id": "ZMDN1viW-0Eg"
      },
      "source": [
        "Modifique o código abaixo para criar um módulo `nn.Sequential` de nome **model** que representa um MLP com, pelo menos, uma camada escondida (seguindo os valores N, D_in, H e D_out definidos anteriormente), **usando um ReLU como função de ativação entre as camadas**.\n"
      ]
    },
    {
      "cell_type": "code",
      "execution_count": 54,
      "metadata": {
        "id": "zYO7HWC29Ahy"
      },
      "outputs": [
        {
          "name": "stdout",
          "output_type": "stream",
          "text": [
            "Sequential(\n",
            "  (0): Linear(in_features=1000, out_features=100, bias=True)\n",
            "  (1): ReLU()\n",
            "  (2): Linear(in_features=100, out_features=100, bias=True)\n",
            "  (3): ReLU()\n",
            "  (4): Linear(in_features=100, out_features=10, bias=True)\n",
            ")\n"
          ]
        }
      ],
      "source": [
        "# Use the nn package to define our model.\n",
        "model = nn.Sequential(nn.Linear(D_in, H), nn.ReLU(), nn.Linear(H, H), nn.ReLU(), nn.Linear(H, D_out))\n",
        "\n",
        "model.to(device)  # sempre eh necessario fazer o casting da rede para joga-la para GPU\n",
        "print(model)"
      ]
    },
    {
      "attachments": {},
      "cell_type": "markdown",
      "metadata": {
        "id": "BWrn_MUHBz7o"
      },
      "source": [
        "Abaixo, definimos uma loss e um otimizador usando o Torch. Não se preocupem como isso agora, pois iremos ver em detalhes como definir e usar diferentes losses and otimizadores com o Torch."
      ]
    },
    {
      "cell_type": "code",
      "execution_count": 55,
      "metadata": {
        "id": "1oQ2T8jm9BE9"
      },
      "outputs": [],
      "source": [
        "# Use the nn package to define our loss function.\n",
        "loss_mse = nn.MSELoss(reduction='sum').to(device)"
      ]
    },
    {
      "cell_type": "code",
      "execution_count": 56,
      "metadata": {
        "id": "Oa5DcYBf82iD"
      },
      "outputs": [],
      "source": [
        "# Use the optim package to define an Optimizer that will update the weights of\n",
        "# the model for us. Here we will use SGD; the optim package contains many other\n",
        "# optimization algorithms. The first argument tells the\n",
        "# optimizer which Tensors it should update.\n",
        "learning_rate = 1e-4\n",
        "\n",
        "optimizer = optim.SGD(model.parameters(), lr=learning_rate)"
      ]
    },
    {
      "attachments": {},
      "cell_type": "markdown",
      "metadata": {
        "id": "JPQtOnNr-kAG"
      },
      "source": [
        "Implemente abaixo a forward e cálculo da loss como feito anteriormente. Estude essa função, pois usaremos esse fluxo de treino mais a frente."
      ]
    },
    {
      "cell_type": "code",
      "execution_count": 57,
      "metadata": {
        "id": "dsMFRIDv80I3"
      },
      "outputs": [
        {
          "name": "stdout",
          "output_type": "stream",
          "text": [
            "Epoch 10: loss = 595.436279296875\n",
            "Epoch 20: loss = 535.5359497070312\n",
            "Epoch 30: loss = 473.57574462890625\n",
            "Epoch 40: loss = 404.12506103515625\n",
            "Epoch 50: loss = 328.6529235839844\n",
            "Epoch 60: loss = 253.37210083007812\n",
            "Epoch 70: loss = 187.34034729003906\n",
            "Epoch 80: loss = 135.13755798339844\n",
            "Epoch 90: loss = 95.62139129638672\n",
            "Epoch 100: loss = 66.61799621582031\n",
            "Epoch 110: loss = 46.0601806640625\n",
            "Epoch 120: loss = 31.784589767456055\n",
            "Epoch 130: loss = 22.041078567504883\n",
            "Epoch 140: loss = 15.392555236816406\n",
            "Epoch 150: loss = 10.876864433288574\n",
            "Epoch 160: loss = 7.757631778717041\n",
            "Epoch 170: loss = 5.595306396484375\n",
            "Epoch 180: loss = 4.062019348144531\n",
            "Epoch 190: loss = 2.989828586578369\n",
            "Epoch 200: loss = 2.224001884460449\n",
            "Epoch 210: loss = 1.6713194847106934\n",
            "Epoch 220: loss = 1.2667899131774902\n",
            "Epoch 230: loss = 0.9691348075866699\n",
            "Epoch 240: loss = 0.7472741007804871\n",
            "Epoch 250: loss = 0.5802562236785889\n",
            "Epoch 260: loss = 0.45409247279167175\n",
            "Epoch 270: loss = 0.3580451011657715\n",
            "Epoch 280: loss = 0.28410062193870544\n",
            "Epoch 290: loss = 0.22679445147514343\n",
            "Epoch 300: loss = 0.18208849430084229\n",
            "Epoch 310: loss = 0.14698055386543274\n",
            "Epoch 320: loss = 0.11922845989465714\n",
            "Epoch 330: loss = 0.09716083854436874\n",
            "Epoch 340: loss = 0.07951224595308304\n",
            "Epoch 350: loss = 0.06532714515924454\n",
            "Epoch 360: loss = 0.05388263985514641\n",
            "Epoch 370: loss = 0.04458664357662201\n",
            "Epoch 380: loss = 0.03702225536108017\n",
            "Epoch 390: loss = 0.030842874199151993\n",
            "Epoch 400: loss = 0.0257674902677536\n",
            "Epoch 410: loss = 0.021587572991847992\n",
            "Epoch 420: loss = 0.018135132268071175\n",
            "Epoch 430: loss = 0.015263719484210014\n",
            "Epoch 440: loss = 0.012878158129751682\n",
            "Epoch 450: loss = 0.010889047756791115\n",
            "Epoch 460: loss = 0.009223856031894684\n",
            "Epoch 470: loss = 0.007825956679880619\n",
            "Epoch 480: loss = 0.0066518341191112995\n",
            "Epoch 490: loss = 0.005662012379616499\n",
            "Epoch 500: loss = 0.004826934542506933\n"
          ]
        }
      ],
      "source": [
        "# Creating list of losses for each epoch.\n",
        "loss_list = []\n",
        "\n",
        "# Iterating over epochs.\n",
        "for epoch in range(500):\n",
        "    predictions = model(x)  # Forward pass: compute predicted y by passing x to the model\n",
        "    loss = loss_mse(predictions, y)  # Computing loss\n",
        "    if (epoch + 1) % 10 == 0:\n",
        "        print('Epoch ' + str(epoch + 1) + ': loss = ' + str(loss.item()))\n",
        "    \n",
        "    # Updating list of losses for printing.\n",
        "    loss_list.append(loss.item())\n",
        "\n",
        "    # Before the backward pass, use the optimizer object to zero all of the\n",
        "    # gradients for the variables it will update (which are the learnable\n",
        "    # weights of the model). This is because by default, gradients are\n",
        "    # accumulated in buffers( i.e, not overwritten) whenever .backward()\n",
        "    # is called. Checkout docs of torch.autograd.backward for more details.\n",
        "    optimizer.zero_grad()\n",
        "\n",
        "    # Backward pass: compute gradient of the loss with respect to model\n",
        "    # parameters\n",
        "    loss.backward()\n",
        "\n",
        "    # Calling the step function on an Optimizer makes an update to its\n",
        "    # parameters\n",
        "    optimizer.step() # Updating weights and bias based on gradient computed during backward pass"
      ]
    },
    {
      "cell_type": "code",
      "execution_count": 58,
      "metadata": {
        "id": "toQyqq98-68X"
      },
      "outputs": [
        {
          "data": {
            "image/png": "[encoded data removed]",
            "text/plain": [
              "<Figure size 1600x800 with 1 Axes>"
            ]
          },
          "metadata": {},
          "output_type": "display_data"
        }
      ],
      "source": [
        "fig, ax = plt.subplots(1, 1, figsize=(16, 8))\n",
        "\n",
        "ax.plot(np.asarray(loss_list))\n",
        "\n",
        "plt.show()"
      ]
    },
    {
      "attachments": {},
      "cell_type": "markdown",
      "metadata": {
        "id": "dfb4zBjO0Lua"
      },
      "source": [
        "Informação sobre outras camadas lineares, como nn.Bilinear e nn.Identity, podem ser vistas na documentação: https://pytorch.org/docs/stable/nn.html#linear-layers"
      ]
    }
  ],
  "metadata": {
    "accelerator": "GPU",
    "colab": {
      "collapsed_sections": [
        "NG-mVsVuE0if",
        "3f-q6bCNzEmx"
      ],
      "name": "03_1_Intro_MLP.ipynb",
      "provenance": []
    },
    "kernelspec": {
      "display_name": "Python 3",
      "name": "python3"
    },
    "language_info": {
      "codemirror_mode": {
        "name": "ipython",
        "version": 3
      },
      "file_extension": ".py",
      "mimetype": "text/x-python",
      "name": "python",
      "nbconvert_exporter": "python",
      "pygments_lexer": "ipython3",
      "version": "3.9.6"
    }
  },
  "nbformat": 4,
  "nbformat_minor": 0
}
