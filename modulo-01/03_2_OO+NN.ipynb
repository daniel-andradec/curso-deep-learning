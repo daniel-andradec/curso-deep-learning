{
  "nbformat": 4,
  "nbformat_minor": 0,
  "metadata": {
    "colab": {
      "name": "03_2_OO+NN.ipynb",
      "provenance": [],
      "collapsed_sections": [
        "xQJGoF-f5PBg",
        "eOa2UImxPAxz",
        "9gocdcIdRhXm",
        "E4u-kbpgRT76",
        "OcIQslaTcdJp",
        "hL3Kokw3XCqq",
        "XZdIbgSnXgXj",
        "6zmOfuIU77j7",
        "jBCt98yt9SXW"
      ]
    },
    "kernelspec": {
      "name": "python3",
      "display_name": "Python 3"
    },
    "accelerator": "GPU"
  },
  "cells": [
    {
      "cell_type": "markdown",
      "metadata": {
        "id": "xQJGoF-f5PBg"
      },
      "source": [
        "## Mini Introdução OO\n",
        "\n",
        "Uma grande parte das bibliotecas de hoje em dia, includindo o PyTorch, exploram conceitos de Orientação a Objetos (OO). Embora não tempos tempo de ensinar um curso inteiro de OO, seria pelo menos um semestre, podemos cobrir o essencial neste notebook. Caso queira uma única palavra para sumarizar: o essencial aqui é o conceito de **estado**!.\n",
        "\n",
        "Existem dois termos importantes para entender OO:\n",
        "1. Classes\n",
        "2. Objetos\n",
        "\n",
        "Classes definem um esqueleto do que será armazenado. Objetos definem uma instância da classe na memória. Abaixo temos uma classe simples chamadas de agregador. No momento, a mesma não faz nada!"
      ]
    },
    {
      "cell_type": "code",
      "metadata": {
        "id": "BGsnuT7G5PBi"
      },
      "source": [
        "class Agregador(object):\n",
        "    pass"
      ],
      "execution_count": null,
      "outputs": []
    },
    {
      "cell_type": "markdown",
      "metadata": {
        "id": "EtbGv0kS5PBn"
      },
      "source": [
        "Podemos instanciar nossas classes, ficando assim com dois objetos na memória:"
      ]
    },
    {
      "cell_type": "code",
      "metadata": {
        "id": "R6CE4ncN5PBp"
      },
      "source": [
        "obj1 = Agregador()\n",
        "obj2 = Agregador()"
      ],
      "execution_count": null,
      "outputs": []
    },
    {
      "cell_type": "markdown",
      "metadata": {
        "id": "lECPEeAC5PBt"
      },
      "source": [
        "Cada instância, ou objeto, difere um do outro"
      ]
    },
    {
      "cell_type": "code",
      "metadata": {
        "id": "Ku4d5Kum5PBt"
      },
      "source": [
        "obj1 == obj2"
      ],
      "execution_count": null,
      "outputs": []
    },
    {
      "cell_type": "markdown",
      "metadata": {
        "id": "c-LwCgoI5PBy"
      },
      "source": [
        "Agora, vamos adicionar um **atributo**, um pouco de memória, na nossa classe. O mesmo guarda um valor simples. Se objetos são instâncias de classes, algum local tem guardar o estado desta instância. Em python, tal local é chamado de **self**. Todo objeto tem uma referência para seu estado, o self, que no fim das contas é uma referência para ele mesmo. \n",
        "\n",
        "O método `__init__(self)` é o **construtor** da classe, ou seja, quando um objeto é instanciado, esse método é chamado para definir o estado inicial do objeto. "
      ]
    },
    {
      "cell_type": "code",
      "metadata": {
        "id": "3ZKWW-CX5PBz"
      },
      "source": [
        "class Agregador(object):\n",
        "    def __init__(self):\n",
        "        self._value = 0   # Toda instância agora guarda um inteiro simples!"
      ],
      "execution_count": null,
      "outputs": []
    },
    {
      "cell_type": "code",
      "metadata": {
        "id": "-9r6iJQj5PB2"
      },
      "source": [
        "obj1 = Agregador()\n",
        "obj2 = Agregador()\n",
        "\n",
        "print(obj1._value)\n",
        "print(obj2._value)"
      ],
      "execution_count": null,
      "outputs": []
    },
    {
      "cell_type": "markdown",
      "metadata": {
        "id": "0xyS1lTd5PB6"
      },
      "source": [
        "Dois objetos podem guardar um mesmo estado. Acima, os dois tem valor = 0. Ainda assim, são dois objetos diferentes, ocupam locais diferentes da memória do computador."
      ]
    },
    {
      "cell_type": "code",
      "metadata": {
        "id": "eM2n1Z5d5PB7"
      },
      "source": [
        "hex(id(obj1))"
      ],
      "execution_count": null,
      "outputs": []
    },
    {
      "cell_type": "code",
      "metadata": {
        "id": "O9opRsAI5PB_"
      },
      "source": [
        "hex(id(obj2))"
      ],
      "execution_count": null,
      "outputs": []
    },
    {
      "cell_type": "markdown",
      "metadata": {
        "id": "jQzoNDk25PCG"
      },
      "source": [
        "Por fim, objetos funcionam através de referências. A linha abaixo não cria um objeto novo, temos duas referências para um mesmo local da memória."
      ]
    },
    {
      "cell_type": "code",
      "metadata": {
        "id": "FRKQxJwf5PCH"
      },
      "source": [
        "obj3 = obj1\n",
        "hex(id(obj3)) # note como aqui temos o mesmo endereco do obj1"
      ],
      "execution_count": null,
      "outputs": []
    },
    {
      "cell_type": "code",
      "metadata": {
        "id": "wfyAoLVZ5PCM"
      },
      "source": [
        "hex(id(obj1))"
      ],
      "execution_count": null,
      "outputs": []
    },
    {
      "cell_type": "markdown",
      "metadata": {
        "id": "4MKgk5kt5PCP"
      },
      "source": [
        "Como obj1 e obj3 são a mesma coisa, ao mudar um mudamos o outro."
      ]
    },
    {
      "cell_type": "code",
      "metadata": {
        "id": "X5NdTXxY5PCP"
      },
      "source": [
        "obj1._value = 9"
      ],
      "execution_count": null,
      "outputs": []
    },
    {
      "cell_type": "code",
      "metadata": {
        "id": "YeEJt_QC5PCS"
      },
      "source": [
        "print(obj3._value)"
      ],
      "execution_count": null,
      "outputs": []
    },
    {
      "cell_type": "markdown",
      "metadata": {
        "id": "ASB-Mxcd5PCU"
      },
      "source": [
        "Agora vamos tornar os nossos objetos um pouco mais inteligentes. Para tal, vamos adicionar um **método**, nome bonito para uma função, que altera o valor do atributo `_value`.\n",
        "\n",
        "Embora é possível acessar o estado do objeto diretamente em python (vide acima), é uma boa prática alterar o mesmo usando apenas métodos. Por isso coloco um `_` antes do atributo, para indicar que não é bom acessar o mesmo diretamente."
      ]
    },
    {
      "cell_type": "code",
      "metadata": {
        "id": "tH91OPIZ5PCW"
      },
      "source": [
        "class Agregador(object):\n",
        "    \n",
        "    def __init__(self):\n",
        "        self._value = 0 \n",
        "    \n",
        "    def adiciona(self, value):\n",
        "        self._value += value\n",
        "        \n",
        "    def get_value(self):\n",
        "        return self._value"
      ],
      "execution_count": null,
      "outputs": []
    },
    {
      "cell_type": "code",
      "metadata": {
        "id": "Mlb1NEW05PCa"
      },
      "source": [
        "agg = Agregador()"
      ],
      "execution_count": null,
      "outputs": []
    },
    {
      "cell_type": "markdown",
      "metadata": {
        "id": "8hz0y0A25PCd"
      },
      "source": [
        "Observe como temos uma chamada `get_value()`. "
      ]
    },
    {
      "cell_type": "code",
      "metadata": {
        "id": "2QD-yL0Q5PCd"
      },
      "source": [
        "print(agg.get_value())"
      ],
      "execution_count": null,
      "outputs": []
    },
    {
      "cell_type": "markdown",
      "metadata": {
        "id": "cn6aJTsk5PCg"
      },
      "source": [
        "Ao adicionar alguma coisa, temos um novo estado!"
      ]
    },
    {
      "cell_type": "code",
      "metadata": {
        "id": "5_s6_VQU5PCh"
      },
      "source": [
        "agg.adiciona(7)\n",
        "print(agg.get_value())"
      ],
      "execution_count": null,
      "outputs": []
    },
    {
      "cell_type": "markdown",
      "metadata": {
        "id": "bAyEUNWO5PCj"
      },
      "source": [
        "Abaixo temos dois objetos diferentes com o mesmo estado. É isto!"
      ]
    },
    {
      "cell_type": "code",
      "metadata": {
        "id": "pUn5xVvw5PCj"
      },
      "source": [
        "agg2 = Agregador()\n",
        "agg2.adiciona(agg.get_value())\n",
        "\n",
        "print(agg == agg2)\n",
        "print(agg.get_value() == agg2.get_value())"
      ],
      "execution_count": null,
      "outputs": []
    },
    {
      "cell_type": "markdown",
      "metadata": {
        "id": "6dvx6Bhb5PCm"
      },
      "source": [
        "No fim toda classe vai ser da forma:\n",
        "\n",
        "```\n",
        "class MinhaClasse(object):\n",
        "    <código>\n",
        "```"
      ]
    },
    {
      "cell_type": "markdown",
      "metadata": {
        "id": "eOa2UImxPAxz"
      },
      "source": [
        "# Passo à Passo das Redes Neurais\n",
        "\n",
        "A criação e treinamento de uma rede neural tem alguns passos que foram um *pipeline* completo.\n",
        "Nesta aula, vamos ver cada passo para criar e treinar uma rede neural do zero usando PyTorch.\n",
        "\n",
        "Num geral, para se utilizar uma rede neural, precisamos:\n",
        "\n",
        "1. carregar e preparar os dados\n",
        "2. definir a arquitetura/rede\n",
        "3. definir a função de custo (loss)\n",
        "4. definir o algoritmo de otimização\n",
        "5. implementar os algoritmos de treino e validação\n",
        "\n",
        "Antes de começar a analisar cada um desses passos, vamos realizar alguns imports e definir alguns hiperparamêtros."
      ]
    },
    {
      "cell_type": "markdown",
      "metadata": {
        "id": "9gocdcIdRhXm"
      },
      "source": [
        "## Imports e configurações iniciais\n",
        "\n",
        "Antes de começar, vamos importar e definir algumas coisas. Para facilitar o entendimento e manutenção do código, os imports de pacotes, a configuração de **hiperparâmetros**, e a definição do hardware padrão utilizado serão sempre definidos no começo dos notebooks.\n",
        "\n",
        "Nessa aula vamos trabalhar com dados reais, então **vamos precisar de GPU!** Então não se esqueça de mudar as configurações desse ambiente do colab. <br>\n",
        "Sugiro rodar esse mesmo código sem GPU em outro momento, só para entenderem como a GPU facilitou o uso de redes neurais.\n"
      ]
    },
    {
      "cell_type": "code",
      "metadata": {
        "id": "7DB-I9n6O-a8"
      },
      "source": [
        "# Basic imports.\n",
        "import os, sys, time\n",
        "import numpy as np\n",
        "from matplotlib import pyplot as plt\n",
        "%matplotlib inline\n",
        "\n",
        "import torch\n",
        "from torch import nn\n",
        "from torch import optim\n",
        "import torch.nn.functional as F\n",
        "\n",
        "from torch.backends import cudnn\n",
        "cudnn.benchmark = True\n",
        "\n",
        "from torch.utils.data import DataLoader\n",
        "from torch.utils import data\n",
        "\n",
        "from torchvision import datasets\n",
        "from torchvision import transforms\n",
        "\n",
        "from skimage import io\n",
        "\n",
        "from sklearn import metrics"
      ],
      "execution_count": 3,
      "outputs": []
    },
    {
      "cell_type": "markdown",
      "metadata": {
        "id": "2VfLxDw2PtQJ"
      },
      "source": [
        "Nesta célula, além da definição do hardware padrão, estão também definidos os hiperparâmetros do nosso modelo. Mais à frente conversaremos um pouco melhor sobre eles."
      ]
    },
    {
      "cell_type": "code",
      "metadata": {
        "id": "B90MLWU3Pdih",
        "colab": {
          "base_uri": "https://localhost:8080/"
        },
        "outputId": "a6bf85b2-b256-4857-8133-dc3564992505"
      },
      "source": [
        "# Setting predefined arguments.\n",
        "args = {\n",
        "    'num_epochs': 20,      # Number of epochs.\n",
        "    'num_classes': 10,     # Number of classes.\n",
        "    'lr': 1e-3,            # Learning rate.\n",
        "    'weight_decay': 5e-4,  # L2 penalty.\n",
        "    'num_workers': 3,      # Number of workers on data loader.\n",
        "    'batch_size': 50,      # Mini-batch size.\n",
        "}\n",
        "\n",
        "# Setting device (CPU | CUDA)\n",
        "if torch.cuda.is_available():\n",
        "    args['device'] = torch.device('cuda')\n",
        "else:\n",
        "    args['device'] = torch.device('cpu')\n",
        "\n",
        "print(args['device'])"
      ],
      "execution_count": 4,
      "outputs": [
        {
          "output_type": "stream",
          "text": [
            "cuda\n"
          ],
          "name": "stdout"
        }
      ]
    },
    {
      "cell_type": "markdown",
      "metadata": {
        "id": "VOOUl5wxWyk0"
      },
      "source": [
        "## 1. Carregamento de Dados\r\n",
        "\r\n",
        "Para carregar os dados em PyTorch, precisamos definir o dataset e o dataloader."
      ]
    },
    {
      "cell_type": "markdown",
      "metadata": {
        "id": "PCk5Deo8XFH9"
      },
      "source": [
        "### **Datasets**"
      ]
    },
    {
      "cell_type": "markdown",
      "metadata": {
        "id": "E4u-kbpgRT76"
      },
      "source": [
        "### Dataset pré-implementado\n",
        "\n",
        "O PyTorch possui dois pacotes que trazem datasets prontos para uso.\n",
        "\n",
        "* Torchtext: https://torchtext.readthedocs.io/en/latest/datasets.html\n",
        "* Torchvision: https://pytorch.org/docs/stable/torchvision/datasets.html\n",
        "\n",
        "Como os nomes indicam, são datasets de textos (text) e imagens (vision), duas aplicações onde redes neurais são muito bem sucedidas.\n",
        "\n",
        "Para aplicações com textos e outros tipos de séries temporais, o carregamento de dados possui nuances que dificultam o entendimento, portanto vamos concentrar no carregamento de imagens.\n",
        "\n",
        "Para trabalhar com datasets do pacote torchvision, basta\n",
        "* Importar o pacote\n",
        "``` python \n",
        "from torchvision import datasets \n",
        "```\n",
        "* Carregar o dataset do seu interesse (ex: MNIST)\n",
        "``` python \n",
        "data = datasets.MNIST(root, train=True, transform=None, target_transform=None, download=False)\n",
        "```\n",
        "\n",
        "> Note que o torch faz o carregamento das imagens no formato [Pillow](https://pillow.readthedocs.io/en/stable/). Portanto é necessário convertê-las para um tensor usando um [**Transformer**](https://pytorch.org/docs/stable/torchvision/transforms.html).\n",
        "\n",
        "* Importar o pacote transforms\n",
        "``` python \n",
        "from torchvision import transforms \n",
        "```\n",
        "* preencher o parâmetro ```transform``` do dataset com a função que converte para tensor.\n",
        "``` python \n",
        "transforms.ToTensor() \n",
        "```\n",
        "\n",
        "Pronto! Quando seu dado for carregado, ele passará pela transformação indicada no parâmetro ```transform```, que nesse caso converte o dado para um tensor. Como veremos a seguir, é possível usar outros transformers.\n"
      ]
    },
    {
      "cell_type": "code",
      "metadata": {
        "id": "3_AvEAUfR0r9",
        "colab": {
          "base_uri": "https://localhost:8080/"
        },
        "outputId": "2589c7df-aece-46b2-d746-51ff3bedf0b4"
      },
      "source": [
        "train_set = datasets.MNIST('./', \n",
        "                           train=True, \n",
        "                           transform=transforms.ToTensor(),\n",
        "                           download=True)\n",
        "\n",
        "test_set = datasets.MNIST('./', \n",
        "                           train=False, \n",
        "                           transform=transforms.ToTensor(),\n",
        "                           download=False)\n",
        "\n",
        "print('Amostras de treino: ' + str(len(train_set)) + '\\nAmostras de Teste:' + str(len(test_set)))"
      ],
      "execution_count": 56,
      "outputs": [
        {
          "output_type": "stream",
          "text": [
            "Amostras de treino: 60000\n",
            "Amostras de Teste:10000\n"
          ],
          "name": "stdout"
        }
      ]
    },
    {
      "cell_type": "markdown",
      "metadata": {
        "id": "hISPaTXvTYso"
      },
      "source": [
        "Cada dataset possui uma implementação específica internamente no pytorch. Verifique o ```type``` da variável que recebeu os dados e veja que se refere a uma classe específica do dataset."
      ]
    },
    {
      "cell_type": "code",
      "metadata": {
        "id": "Qbp9GP1YU1Ru",
        "colab": {
          "base_uri": "https://localhost:8080/"
        },
        "outputId": "d4f825a7-bca0-4200-88d2-9765963f853b"
      },
      "source": [
        "print(type(train_set))"
      ],
      "execution_count": 57,
      "outputs": [
        {
          "output_type": "stream",
          "text": [
            "torchvision.datasets.mnist.MNIST\n"
          ],
          "name": "stdout"
        }
      ]
    },
    {
      "cell_type": "markdown",
      "metadata": {
        "id": "BlSbrnrYU1rv"
      },
      "source": [
        "Por se tratar de um conjunto de dados **supervisionado**, cada elemento do dataset é definido por uma tupla `(dado, rótulo)`. Para dados não supervisionados, cada elemento do dataset comporta apenas o dado."
      ]
    },
    {
      "cell_type": "code",
      "metadata": {
        "id": "grBOLD1yU68x",
        "colab": {
          "base_uri": "https://localhost:8080/"
        },
        "outputId": "eaa22fdd-692c-4826-befd-52a7d4ce602e"
      },
      "source": [
        "print(type(train_set[0]))\r\n",
        "\r\n",
        "print(type(train_set[0][0]))  # imagem\r\n",
        "print(type(train_set[0][1]))  # classe"
      ],
      "execution_count": 58,
      "outputs": [
        {
          "output_type": "stream",
          "text": [
            "<class 'tuple'>\n",
            "<class 'torch.Tensor'>\n",
            "<class 'int'>\n"
          ],
          "name": "stdout"
        }
      ]
    },
    {
      "cell_type": "markdown",
      "metadata": {
        "id": "JHU7iIkTVYhS"
      },
      "source": [
        "Podemos então iterar no dataset para observar algumas amostras e seus rótulos."
      ]
    },
    {
      "cell_type": "code",
      "metadata": {
        "id": "VegU7Q0SVYBu",
        "colab": {
          "base_uri": "https://localhost:8080/",
          "height": 809
        },
        "outputId": "57dc8a74-153e-48ad-e71c-0a59c09c6a3f"
      },
      "source": [
        "for i in range(3):\n",
        "  dado, rotulo = train_set[i]\n",
        "  \n",
        "  plt.figure()\n",
        "  plt.imshow(dado[0])\n",
        "  plt.title('Rotulo: '+ str(rotulo))"
      ],
      "execution_count": 59,
      "outputs": [
        {
          "output_type": "display_data",
          "data": {
            "image/png": "[encoded data removed]",
            "text/plain": [
              "<Figure size 432x288 with 1 Axes>"
            ]
          },
          "metadata": {
            "tags": [],
            "needs_background": "light"
          }
        },
        {
          "output_type": "display_data",
          "data": {
            "image/png": "[encoded data removed]",
            "text/plain": [
              "<Figure size 432x288 with 1 Axes>"
            ]
          },
          "metadata": {
            "tags": [],
            "needs_background": "light"
          }
        },
        {
          "output_type": "display_data",
          "data": {
            "image/png": "[encoded data removed]",
            "text/plain": [
              "<Figure size 432x288 with 1 Axes>"
            ]
          },
          "metadata": {
            "tags": [],
            "needs_background": "light"
          }
        }
      ]
    },
    {
      "cell_type": "markdown",
      "metadata": {
        "id": "ZrfiXMDdViAs"
      },
      "source": [
        "Temos um total de 70 mil amostras, mas elas **ainda não estão carregadas na memória** (isso seria bastante custoso). A vantagem da classe ```Dataset``` do Pytorch é que as amostras só são carregadas quando necessário.\n",
        "\n",
        "Para entender melhor, vamos experimentar a transformação a seguir\n",
        "```python\n",
        "transforms.RandomCrop(12)\n",
        "```\n",
        "Essa função realiza um recorte aleatório de ```12 x 12``` (pixels) na imagem. Ao carregar a mesma amostra múltiplas vezes, um novo recorte será feito. "
      ]
    },
    {
      "cell_type": "code",
      "metadata": {
        "id": "6oXnlMnqVsKc",
        "colab": {
          "base_uri": "https://localhost:8080/",
          "height": 809
        },
        "outputId": "418e45da-86e1-4660-f400-dfad239f41e8"
      },
      "source": [
        "crop_set = datasets.MNIST('./', \n",
        "                           train=False, \n",
        "                           transform=transforms.RandomCrop(12),\n",
        "                           download=False)\n",
        "\n",
        "# Tuple (dado, rótulo)\n",
        "for i in range(3):\n",
        "  dado, rotulo = crop_set[0]\n",
        "  \n",
        "  plt.figure()\n",
        "  plt.imshow(dado)\n",
        "  plt.title('Rótulo: '+ str(rotulo))"
      ],
      "execution_count": 60,
      "outputs": [
        {
          "output_type": "display_data",
          "data": {
            "image/png": "[encoded data removed]",
            "text/plain": [
              "<Figure size 432x288 with 1 Axes>"
            ]
          },
          "metadata": {
            "tags": [],
            "needs_background": "light"
          }
        },
        {
          "output_type": "display_data",
          "data": {
            "image/png": "[encoded data removed]",
            "text/plain": [
              "<Figure size 432x288 with 1 Axes>"
            ]
          },
          "metadata": {
            "tags": [],
            "needs_background": "light"
          }
        },
        {
          "output_type": "display_data",
          "data": {
            "image/png": "[encoded data removed]",
            "text/plain": [
              "<Figure size 432x288 with 1 Axes>"
            ]
          },
          "metadata": {
            "tags": [],
            "needs_background": "light"
          }
        }
      ]
    },
    {
      "cell_type": "markdown",
      "metadata": {
        "id": "XSbsVf36Vs9E"
      },
      "source": [
        "Em resumo, cada vez que indexamos um item do dataset, as seguintes operações são realizadas:\n",
        "* Uma amostra é lida do arquivo e carregada como uma tupla ```(dado, rótulo)```\n",
        "* As transformações são aplicadas \n"
      ]
    },
    {
      "cell_type": "markdown",
      "metadata": {
        "id": "OcIQslaTcdJp"
      },
      "source": [
        "### Dataset próprio\r\n",
        "\r\n",
        "Na maioria das vezes, precisaremos carregar nosso próprio dado para processá-lo.\r\n",
        "Nesses casos, teremos que implementar uma classe que estende a classe `dataset.Dataset`.\r\n",
        "Essa nova classe tem três funções obrigatórios:\r\n",
        "\r\n",
        "- `__init__`, construtor da classe e que inicialirá os parâmetros, incluindo a lista de dados que será processado. Por exemplo, se o dataset for composto de imagens, essa função precisa criar uma lista com o nome de todas as imagens a serem processadas.\r\n",
        "- `__getitem__`, que, dado um índice, retorna um dado a ser processado. Esse função é responsável por carregar o dado e prepará-lo para processamento.\r\n",
        "- `__len__`, que retorna a quantidade de itens no dataset a ser processado.\r\n",
        "\r\n",
        "Segue abaixo um exemplo de como carregar um dataset de pontos de faces mas sobrescrevendo a classe `dataset.Dataset`."
      ]
    },
    {
      "cell_type": "code",
      "metadata": {
        "colab": {
          "base_uri": "https://localhost:8080/"
        },
        "id": "VLpKxsf9eGu5",
        "outputId": "fda4194f-f8a5-422b-f092-5ab79080f933"
      },
      "source": [
        "# baixando o dataset e definindo algumas funcoes auxiliares\r\n",
        "\r\n",
        "import subprocess\r\n",
        "import zipfile\r\n",
        "\r\n",
        "def download_dataset():\r\n",
        "    if not os.path.isdir(os.path.join(os.getcwd(), 'faces_dataset')):\r\n",
        "        os.makedirs(os.path.join(os.getcwd(), 'faces_dataset'))\r\n",
        "\r\n",
        "    url = 'https://download.pytorch.org/tutorial/faces.zip'  # voce pode baixar o dataset usando esse link\r\n",
        "\r\n",
        "    out_path = os.path.join(os.getcwd(), 'faces_dataset', 'faces.zip')\r\n",
        "\r\n",
        "    cmd = ['curl', url, '-o', out_path]\r\n",
        "    print('Downloading ', url)\r\n",
        "    subprocess.call(cmd)\r\n",
        "\r\n",
        "    with zipfile.ZipFile(out_path, \"r\") as zip_ref:\r\n",
        "        zip_ref.extractall(os.path.join(os.getcwd(), 'faces_dataset'))\r\n",
        "\r\n",
        "download_dataset()\r\n",
        "\r\n",
        "def show_landmarks(image, landmarks):\r\n",
        "    \"\"\"Show image with landmarks\"\"\"\r\n",
        "    plt.imshow(image)\r\n",
        "    plt.scatter(landmarks[:, 0], landmarks[:, 1], s=10, marker='.', c='r')\r\n",
        "    plt.pause(0.001)  # pause a bit so that plots are updated"
      ],
      "execution_count": null,
      "outputs": [
        {
          "output_type": "stream",
          "text": [
            "Downloading  https://download.pytorch.org/tutorial/faces.zip\n"
          ],
          "name": "stdout"
        }
      ]
    },
    {
      "cell_type": "markdown",
      "metadata": {
        "id": "n7cKODnzqFtK"
      },
      "source": [
        "Carregando o nosso dataset."
      ]
    },
    {
      "cell_type": "code",
      "metadata": {
        "id": "ChMBXWcYfPFw"
      },
      "source": [
        "import pandas as pd\r\n",
        "\r\n",
        "class FaceLandmarksDataset(data.Dataset):  # note que essa classe estende outra\r\n",
        "    \"\"\"Face Landmarks dataset.\"\"\"\r\n",
        "\r\n",
        "    def __init__(self, csv_file, root_dir, transform=None):\r\n",
        "        self.landmarks_frame = pd.read_csv(csv_file)  # criando lista de arquivos a serem lidos\r\n",
        "        self.root_dir = root_dir  # endereço para as imagens\r\n",
        "        self.transform = transform\r\n",
        "\r\n",
        "    def __len__(self):\r\n",
        "        return len(self.landmarks_frame)  # retorna total de imagens a serem processadas\r\n",
        "\r\n",
        "    def __getitem__(self, idx):  # idx representa o indice da imagem a ser carregada\r\n",
        "        img_name = os.path.join(self.root_dir, self.landmarks_frame.iloc[idx, 0])\r\n",
        "        image = io.imread(img_name)  # carrega as imagens de fato\r\n",
        "        landmarks = self.landmarks_frame.iloc[idx, 1:]  # label\r\n",
        "        landmarks = np.array([landmarks])\r\n",
        "        landmarks = landmarks.astype('float').reshape(-1, 2)\r\n",
        "        sample = {'image': image, 'landmarks': landmarks}\r\n",
        "\r\n",
        "        if self.transform:\r\n",
        "            sample = self.transform(sample)\r\n",
        "\r\n",
        "        return sample"
      ],
      "execution_count": null,
      "outputs": []
    },
    {
      "cell_type": "markdown",
      "metadata": {
        "id": "IcgIBAIRqIsA"
      },
      "source": [
        "Plotando alguns exemplos."
      ]
    },
    {
      "cell_type": "code",
      "metadata": {
        "colab": {
          "base_uri": "https://localhost:8080/",
          "height": 639
        },
        "id": "ZpfE19cloae5",
        "outputId": "a71770ab-416f-4773-fa48-d84d67a9fcec"
      },
      "source": [
        "face_dataset = FaceLandmarksDataset(csv_file=os.path.join(os.getcwd(), 'faces_dataset', 'faces', 'face_landmarks.csv'),\r\n",
        "                                    root_dir=os.path.join(os.getcwd(), 'faces_dataset', 'faces'))\r\n",
        "\r\n",
        "fig = plt.figure()\r\n",
        "\r\n",
        "for i in range(len(face_dataset)):\r\n",
        "    sample = face_dataset[i]\r\n",
        "\r\n",
        "    print(i, sample['image'].shape, sample['landmarks'].shape)\r\n",
        "\r\n",
        "    ax = plt.subplot(1, 4, i + 1)\r\n",
        "    plt.tight_layout()\r\n",
        "    ax.set_title('Sample #{}'.format(i))\r\n",
        "    ax.axis('off')\r\n",
        "    show_landmarks(**sample)\r\n",
        "\r\n",
        "    if i == 3:\r\n",
        "        plt.show()\r\n",
        "        break"
      ],
      "execution_count": null,
      "outputs": [
        {
          "output_type": "stream",
          "text": [
            "0 (324, 215, 3) (68, 2)\n"
          ],
          "name": "stdout"
        },
        {
          "output_type": "display_data",
          "data": {
            "image/png": "[encoded data removed]",
            "text/plain": [
              "<Figure size 432x288 with 1 Axes>"
            ]
          },
          "metadata": {
            "tags": [],
            "needs_background": "light"
          }
        },
        {
          "output_type": "stream",
          "text": [
            "1 (500, 333, 3) (68, 2)\n"
          ],
          "name": "stdout"
        },
        {
          "output_type": "display_data",
          "data": {
            "image/png": "[encoded data removed]",
            "text/plain": [
              "<Figure size 432x288 with 1 Axes>"
            ]
          },
          "metadata": {
            "tags": [],
            "needs_background": "light"
          }
        },
        {
          "output_type": "stream",
          "text": [
            "2 (250, 258, 3) (68, 2)\n"
          ],
          "name": "stdout"
        },
        {
          "output_type": "display_data",
          "data": {
            "image/png": "[encoded data removed]",
            "text/plain": [
              "<Figure size 432x288 with 1 Axes>"
            ]
          },
          "metadata": {
            "tags": [],
            "needs_background": "light"
          }
        },
        {
          "output_type": "stream",
          "text": [
            "3 (434, 290, 3) (68, 2)\n"
          ],
          "name": "stdout"
        },
        {
          "output_type": "display_data",
          "data": {
            "image/png": "[encoded data removed]",
            "text/plain": [
              "<Figure size 432x288 with 1 Axes>"
            ]
          },
          "metadata": {
            "tags": [],
            "needs_background": "light"
          }
        }
      ]
    },
    {
      "cell_type": "markdown",
      "metadata": {
        "id": "hL3Kokw3XCqq"
      },
      "source": [
        "### **Dataloader**"
      ]
    },
    {
      "cell_type": "markdown",
      "metadata": {
        "id": "fOtixwnbWcKP"
      },
      "source": [
        "\n",
        "\n",
        "O [Dataloader](https://pytorch.org/docs/stable/data.html?highlight=dataloader#torch.utils.data.DataLoader) gerencia muito bem o carregamento de dados para o treinamento de redes neurais, trazendo as funções: \n",
        "\n",
        "* Separação dos dados em batches\n",
        "* Embaralhando os dados\n",
        "* Carregando batches em paralelo utilizando threads\n",
        "\n",
        "O uso de threads no carregamento minimiza períodos ociosos de processamento, visto que a leitura de dados em arquivo é um grande gargalo de tempo.\n",
        "\n",
        "As três funcionalidades que acabamos de conhecer são controladas pelos parâmetros da chamada do DataLoader.\n",
        "```python\n",
        "loader = DataLoader(dataset, batch_size=4, shuffle=True, num_workers=4)\n",
        "```\n"
      ]
    },
    {
      "cell_type": "code",
      "metadata": {
        "id": "HIeFM-UTWMLV"
      },
      "source": [
        "train_loader = DataLoader(train_set, \n",
        "                          batch_size=args['batch_size'], \n",
        "                          shuffle=True, \n",
        "                          num_workers=args['num_workers'])\n",
        "\n",
        "test_loader = DataLoader(test_set, \n",
        "                          batch_size=args['batch_size'], \n",
        "                          shuffle=True, \n",
        "                          num_workers=args['num_workers'])"
      ],
      "execution_count": 54,
      "outputs": []
    },
    {
      "cell_type": "markdown",
      "metadata": {
        "id": "VlVojbufWkzp"
      },
      "source": [
        "O objeto retornado é um **iterador**, podendo ser utilizado para iterar em loops mas não suportando indexação."
      ]
    },
    {
      "cell_type": "code",
      "metadata": {
        "id": "7ZR7Y4BnWokd",
        "colab": {
          "base_uri": "https://localhost:8080/",
          "height": 299
        },
        "outputId": "8894e47c-c070-4606-b6b4-d603f65edaf5"
      },
      "source": [
        "for batch in train_loader:\n",
        "  \n",
        "  dado, rotulo = batch\n",
        "  print(dado.size(), rotulo.size())\n",
        "\n",
        "  plt.imshow(dado[0][0])\n",
        "  plt.title('Rotulo: '+ str(rotulo[0]))\n",
        "  break"
      ],
      "execution_count": 55,
      "outputs": [
        {
          "output_type": "stream",
          "text": [
            "torch.Size([50, 1, 28, 28]) torch.Size([50])\n"
          ],
          "name": "stdout"
        },
        {
          "output_type": "display_data",
          "data": {
            "image/png": "[encoded data removed]",
            "text/plain": [
              "<Figure size 432x288 with 1 Axes>"
            ]
          },
          "metadata": {
            "tags": [],
            "needs_background": "light"
          }
        }
      ]
    },
    {
      "cell_type": "markdown",
      "metadata": {
        "id": "cdavQcjZ5l5-"
      },
      "source": [
        "Vale a pena visitar o [tutorial de carregamento de dados do PyTorch](https://pytorch.org/tutorials/beginner/data_loading_tutorial.html) que introduz o uso das classes Dataset e Dataloader."
      ]
    },
    {
      "cell_type": "markdown",
      "metadata": {
        "id": "XZdIbgSnXgXj"
      },
      "source": [
        "## 2. Definindo a Arquitetura"
      ]
    },
    {
      "cell_type": "markdown",
      "metadata": {
        "id": "BdvZzxR8Xjsp"
      },
      "source": [
        "#### **Classe nn.Module**\n",
        "\n",
        "O [nn.Module](https://pytorch.org/docs/stable/nn.html#torch.nn.Module) é a classe base para todos os módulos de redes neurais. \n",
        "\n",
        "A forma mais organizada de definir modelos em PyTorch é implementando uma classe. Para redes pequenas, como as que estamos aprendendo até o momento, sua importância pode não se destacar, mas modelos maiores e com funcionalidades mais complexas, são mais fáceis de implementar e realizar manutenções dessa forma.\n",
        "\n",
        "Para implementar uma subclasse da ```nn.Module``` basta definir a subclasse da seguinte forma:\n",
        "```python\n",
        "class MinhaRede(nn.Module):\n",
        "  # resto do código\n",
        "```\n",
        "\n",
        "Funções obrigatórias de subclasses da ```nn.Module```.\n",
        "* ```__init()__```: definição da arquitetura da rede no estado interno da classe. Exemplo:\n",
        "```python\n",
        "# No __init__()\n",
        "self.linear2 = nn.Linear(10,10)\n",
        "```\n",
        "\n",
        "* ```forward()```: Fluxo da entrada ao longo da rede e retorno da saída. Exemplo: \n",
        "```python\n",
        "# No forward()\n",
        "saida = self.linear2(entrada)\n",
        "```\n",
        "\n",
        "Existe também a função `backward` que pode ser implementada para definir o backprogation da camada explicitamente. Entretanto, não é necessário definir esse método para a maioria das redes neurais, já que o PyTorch implementa isso internamente.\n"
      ]
    },
    {
      "cell_type": "markdown",
      "metadata": {
        "id": "IwUcDlWwDIFF"
      },
      "source": [
        "**Implemente a seguir** um Multi-Layer Perceptron (MLP) intercalando camadas do tipo [`Linear`](https://pytorch.org/docs/stable/nn.html#torch.nn.Linear) com funções de ativação `ReLU`. \n",
        "\n",
        "\n",
        "Ainda falaremos mais sobre funções de ativação, mas para entender a importância das funções de ativação não-lineares após cada camada, visite a [demo de Stanford](https://cs.stanford.edu/people/karpathy/convnetjs/demo/classify2d.html). Ao remover as ativações não-lineares a rede se torna incapaz de aprender soluções não-lineares.<br>\n",
        "A ativação pode ser definida de duas formas:\n",
        "* Definida no `__init__()` [como uma camada](https://pytorch.org/docs/stable/nn.html?highlight=relu#torch.nn.ReLU) e aplicada no `forward()`\n",
        "```python\n",
        "# No __init__()\n",
        "self.relu = nn.ReLU()\n",
        "# No forward()\n",
        "saida = self.relu(entrada)\n",
        "```\n",
        "\n",
        "* Apenas aplicada no `forward()` [como uma function](https://pytorch.org/docs/stable/nn.functional.html#torch.nn.functional.relu):\n",
        "```python\n",
        "saida = F.relu(entrada)\n",
        "```\n",
        "\n",
        "> **Lembrete**: Multi-Layer Perceptrons trabalham somente com dados unidimensionais (vetores). Sendo a imagem com dimensionalidade ```(1, 28, 28)```, precisamos linearizá-la antes de alimentar a rede (lembra da função `view`?). Isso implica que o a entrada da rede deve ser redimensionada para ```input_size = 28 x 28 x 1 = 784```\n",
        "\n",
        "> **A dimensionalidade das camadas fica a seu critério.** São fixadas apenas a dimensionalidade da entrada (`784`) e da saída (`args['num_classes'] = 10` previamente definida)."
      ]
    },
    {
      "cell_type": "code",
      "metadata": {
        "id": "GFKs6H07Y_rY"
      },
      "source": [
        "## TODO: Definir a classe que implementa o MLP ##\n",
        "\n",
        "class MinhaRede(nn.Module):\n",
        "  \n",
        "  def __init__(self,):\n",
        "    super(MinhaRede, self).__init__()\n",
        "    \n",
        "    ## Definir a arquitetura\n",
        "    \n",
        "    \n",
        "  def forward():\n",
        "    \n",
        "    ## Implementar o forward\n",
        "    \n",
        "\n",
        "\n",
        "#################################################"
      ],
      "execution_count": null,
      "outputs": []
    },
    {
      "cell_type": "markdown",
      "metadata": {
        "id": "fZtVYuIwaHZF"
      },
      "source": [
        "Instanciando a rede"
      ]
    },
    {
      "cell_type": "code",
      "metadata": {
        "id": "KLz9rYaCaA_o"
      },
      "source": [
        "## TODO: Instanciar o objeto que conterá a rede ##\n",
        "\n",
        "\n",
        "##################################################"
      ],
      "execution_count": null,
      "outputs": []
    },
    {
      "cell_type": "markdown",
      "metadata": {
        "id": "6zmOfuIU77j7"
      },
      "source": [
        "## 3. Função de Perda e Otimizador"
      ]
    },
    {
      "cell_type": "markdown",
      "metadata": {
        "id": "wN0vE_IK8B93"
      },
      "source": [
        "Por se tratar de um problema de classificação usaremos a função de custo [`CrossEntropyLoss`](https://pytorch.org/docs/stable/nn.html#torch.nn.CrossEntropyLoss).\n",
        "\n",
        "Como ainda não vimos a fundo os otimizadores e suas vantagens, usaremos o já conhecido [`SGD`](https://pytorch.org/docs/stable/optim.html#torch.optim.SGD) da biblioteca `torch.optim`\n"
      ]
    },
    {
      "cell_type": "code",
      "metadata": {
        "id": "2ZQ_Vjqy7-x6",
        "colab": {
          "base_uri": "https://localhost:8080/",
          "height": 209
        },
        "outputId": "ed006a69-4571-4227-a5c8-54a33cad5b8e"
      },
      "source": [
        "# Define Loss\n",
        "criterion = nn.CrossEntropyLoss().to(args['device'])\n",
        "\n",
        "# Define Optimizer\n",
        "optimizer = optim.SGD(params=net.parameters(), lr=args['lr'], weight_decay=args['weight_decay'])"
      ],
      "execution_count": 61,
      "outputs": [
        {
          "output_type": "error",
          "ename": "NameError",
          "evalue": "ignored",
          "traceback": [
            "\u001b[0;31m---------------------------------------------------------------------------\u001b[0m",
            "\u001b[0;31mNameError\u001b[0m                                 Traceback (most recent call last)",
            "\u001b[0;32m<ipython-input-61-e24389e48c19>\u001b[0m in \u001b[0;36m<module>\u001b[0;34m()\u001b[0m\n\u001b[1;32m      3\u001b[0m \u001b[0;34m\u001b[0m\u001b[0m\n\u001b[1;32m      4\u001b[0m \u001b[0;31m# Define Optimizer\u001b[0m\u001b[0;34m\u001b[0m\u001b[0;34m\u001b[0m\u001b[0;34m\u001b[0m\u001b[0m\n\u001b[0;32m----> 5\u001b[0;31m \u001b[0moptimizer\u001b[0m \u001b[0;34m=\u001b[0m \u001b[0moptim\u001b[0m\u001b[0;34m.\u001b[0m\u001b[0mSGD\u001b[0m\u001b[0;34m(\u001b[0m\u001b[0mparams\u001b[0m\u001b[0;34m=\u001b[0m\u001b[0mnet\u001b[0m\u001b[0;34m.\u001b[0m\u001b[0mparameters\u001b[0m\u001b[0;34m(\u001b[0m\u001b[0;34m)\u001b[0m\u001b[0;34m,\u001b[0m \u001b[0mlr\u001b[0m\u001b[0;34m=\u001b[0m\u001b[0margs\u001b[0m\u001b[0;34m[\u001b[0m\u001b[0;34m'lr'\u001b[0m\u001b[0;34m]\u001b[0m\u001b[0;34m,\u001b[0m \u001b[0mweight_decay\u001b[0m\u001b[0;34m=\u001b[0m\u001b[0margs\u001b[0m\u001b[0;34m[\u001b[0m\u001b[0;34m'weight_decay'\u001b[0m\u001b[0;34m]\u001b[0m\u001b[0;34m)\u001b[0m\u001b[0;34m\u001b[0m\u001b[0;34m\u001b[0m\u001b[0m\n\u001b[0m",
            "\u001b[0;31mNameError\u001b[0m: name 'net' is not defined"
          ]
        }
      ]
    },
    {
      "cell_type": "markdown",
      "metadata": {
        "id": "jBCt98yt9SXW"
      },
      "source": [
        "## 4. Fluxo de Treinamento e Validação\n",
        "\n",
        "Agora implemente a seguir um fluxo completo de treinamento. Já fizemos isso antes, mas apenas relembrando o passo a passo:\n",
        "\n",
        "* Iterar nas épocas (Número de épocas definido em `args['num_epochs']`)\n",
        "* Iterar nos batches (*loader* `train_loader` pré definido que retornam uma tupla `(dado, rótulo)`)\n",
        "* Cast dos dados no dispositivo de hardware (Dispositivo definido em `args['device']`)\n",
        "* Forward do batch na rede \n",
        "* Cálculo da loss (`criterion` previamente definido)\n",
        "* Cálculo do gradiente a partir da loss (autograd torch)\n",
        "* Atualização dos pesos (`optimizer.step()`)\n",
        "\n",
        "Para acompanhar a convergência do seu modelo (e garantir que tudo foi feito de forma correta), ao final de cada época podemos imprimir a média e o desvio padrão das perdas de cada iteração.\n",
        "\n",
        "Além disso, podemos usar a biblioteca [`metrics.accuracy_score`](https://scikit-learn.org/stable/modules/generated/sklearn.metrics.accuracy_score.html) para calcular a acurácia do modelo."
      ]
    },
    {
      "cell_type": "code",
      "metadata": {
        "id": "H9OufEK69T7k"
      },
      "source": [
        "## TODO: Fluxo de Treinamento ##\n",
        "\n",
        "\n",
        "\n",
        "\n",
        "################################"
      ],
      "execution_count": null,
      "outputs": []
    },
    {
      "cell_type": "markdown",
      "metadata": {
        "id": "btcI1XwQ_RPf"
      },
      "source": [
        "Agora implemente a seguir um fluxo completo de validação. O passo a passo nesse caso é:\r\n",
        "\r\n",
        "* Iterar nos batches (*loader* `test_loader` pré definido que retornam uma tupla `(dado, rótulo)`)\r\n",
        "* Cast dos dados no dispositivo de hardware (Dispositivo definido em `args['device']`)\r\n",
        "* Forward do batch na rede \r\n",
        "* Cálculo das métricas"
      ]
    },
    {
      "cell_type": "code",
      "metadata": {
        "id": "XQxLaYgS_RjN"
      },
      "source": [
        "## TODO: Fluxo de Validacao ##\r\n",
        "\r\n",
        "\r\n",
        "\r\n",
        "\r\n",
        "################################"
      ],
      "execution_count": null,
      "outputs": []
    }
  ]
}