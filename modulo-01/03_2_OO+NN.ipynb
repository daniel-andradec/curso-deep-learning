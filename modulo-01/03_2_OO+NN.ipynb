{
  "cells": [
    {
      "attachments": {},
      "cell_type": "markdown",
      "metadata": {
        "id": "xQJGoF-f5PBg"
      },
      "source": [
        "## Mini Introdução OO\n",
        "\n",
        "Uma grande parte das bibliotecas de hoje em dia, includindo o PyTorch, exploram conceitos de Orientação a Objetos (OO). Embora não tempos tempo de ensinar um curso inteiro de OO, seria pelo menos um semestre, podemos cobrir o essencial neste notebook. Caso queira uma única palavra para sumarizar: o essencial aqui é o conceito de **estado**!.\n",
        "\n",
        "Existem dois termos importantes para entender OO:\n",
        "1. Classes\n",
        "2. Objetos\n",
        "\n",
        "Classes definem um esqueleto do que será armazenado. Objetos definem uma instância da classe na memória. Abaixo temos uma classe simples chamadas de agregador. No momento, a mesma não faz nada!"
      ]
    },
    {
      "cell_type": "code",
      "execution_count": 1,
      "metadata": {
        "id": "BGsnuT7G5PBi"
      },
      "outputs": [],
      "source": [
        "class Agregador(object):\n",
        "    pass"
      ]
    },
    {
      "attachments": {},
      "cell_type": "markdown",
      "metadata": {
        "id": "EtbGv0kS5PBn"
      },
      "source": [
        "Podemos instanciar nossas classes, ficando assim com dois objetos na memória:"
      ]
    },
    {
      "cell_type": "code",
      "execution_count": 2,
      "metadata": {
        "id": "R6CE4ncN5PBp"
      },
      "outputs": [],
      "source": [
        "obj1 = Agregador()\n",
        "obj2 = Agregador()"
      ]
    },
    {
      "attachments": {},
      "cell_type": "markdown",
      "metadata": {
        "id": "lECPEeAC5PBt"
      },
      "source": [
        "Cada instância, ou objeto, difere um do outro"
      ]
    },
    {
      "cell_type": "code",
      "execution_count": 3,
      "metadata": {
        "id": "Ku4d5Kum5PBt"
      },
      "outputs": [
        {
          "data": {
            "text/plain": [
              "False"
            ]
          },
          "execution_count": 3,
          "metadata": {},
          "output_type": "execute_result"
        }
      ],
      "source": [
        "obj1 == obj2"
      ]
    },
    {
      "attachments": {},
      "cell_type": "markdown",
      "metadata": {
        "id": "c-LwCgoI5PBy"
      },
      "source": [
        "Agora, vamos adicionar um **atributo**, um pouco de memória, na nossa classe. O mesmo guarda um valor simples. Se objetos são instâncias de classes, algum local tem guardar o estado desta instância. Em python, tal local é chamado de **self**. Todo objeto tem uma referência para seu estado, o self, que no fim das contas é uma referência para ele mesmo. \n",
        "\n",
        "O método `__init__(self)` é o **construtor** da classe, ou seja, quando um objeto é instanciado, esse método é chamado para definir o estado inicial do objeto. "
      ]
    },
    {
      "cell_type": "code",
      "execution_count": 4,
      "metadata": {
        "id": "3ZKWW-CX5PBz"
      },
      "outputs": [],
      "source": [
        "class Agregador(object):\n",
        "    def __init__(self):\n",
        "        self._value = 0   # Toda instância agora guarda um inteiro simples!"
      ]
    },
    {
      "cell_type": "code",
      "execution_count": 5,
      "metadata": {
        "id": "-9r6iJQj5PB2"
      },
      "outputs": [
        {
          "name": "stdout",
          "output_type": "stream",
          "text": [
            "0\n",
            "0\n"
          ]
        }
      ],
      "source": [
        "obj1 = Agregador()\n",
        "obj2 = Agregador()\n",
        "\n",
        "print(obj1._value)\n",
        "print(obj2._value)"
      ]
    },
    {
      "attachments": {},
      "cell_type": "markdown",
      "metadata": {
        "id": "0xyS1lTd5PB6"
      },
      "source": [
        "Dois objetos podem guardar um mesmo estado. Acima, os dois tem valor = 0. Ainda assim, são dois objetos diferentes, ocupam locais diferentes da memória do computador."
      ]
    },
    {
      "cell_type": "code",
      "execution_count": 6,
      "metadata": {
        "id": "eM2n1Z5d5PB7"
      },
      "outputs": [
        {
          "data": {
            "text/plain": [
              "'0x1054bf580'"
            ]
          },
          "execution_count": 6,
          "metadata": {},
          "output_type": "execute_result"
        }
      ],
      "source": [
        "hex(id(obj1))"
      ]
    },
    {
      "cell_type": "code",
      "execution_count": 7,
      "metadata": {
        "id": "O9opRsAI5PB_"
      },
      "outputs": [
        {
          "data": {
            "text/plain": [
              "'0x105495730'"
            ]
          },
          "execution_count": 7,
          "metadata": {},
          "output_type": "execute_result"
        }
      ],
      "source": [
        "hex(id(obj2))"
      ]
    },
    {
      "attachments": {},
      "cell_type": "markdown",
      "metadata": {
        "id": "jQzoNDk25PCG"
      },
      "source": [
        "Por fim, objetos funcionam através de referências. A linha abaixo não cria um objeto novo, temos duas referências para um mesmo local da memória."
      ]
    },
    {
      "cell_type": "code",
      "execution_count": 8,
      "metadata": {
        "id": "FRKQxJwf5PCH"
      },
      "outputs": [
        {
          "data": {
            "text/plain": [
              "'0x1054bf580'"
            ]
          },
          "execution_count": 8,
          "metadata": {},
          "output_type": "execute_result"
        }
      ],
      "source": [
        "obj3 = obj1\n",
        "hex(id(obj3)) # note como aqui temos o mesmo endereco do obj1"
      ]
    },
    {
      "cell_type": "code",
      "execution_count": 9,
      "metadata": {
        "id": "wfyAoLVZ5PCM"
      },
      "outputs": [
        {
          "data": {
            "text/plain": [
              "'0x1054bf580'"
            ]
          },
          "execution_count": 9,
          "metadata": {},
          "output_type": "execute_result"
        }
      ],
      "source": [
        "hex(id(obj1))"
      ]
    },
    {
      "attachments": {},
      "cell_type": "markdown",
      "metadata": {
        "id": "4MKgk5kt5PCP"
      },
      "source": [
        "Como obj1 e obj3 são a mesma coisa, ao mudar um mudamos o outro."
      ]
    },
    {
      "cell_type": "code",
      "execution_count": 10,
      "metadata": {
        "id": "X5NdTXxY5PCP"
      },
      "outputs": [],
      "source": [
        "obj1._value = 9"
      ]
    },
    {
      "cell_type": "code",
      "execution_count": 11,
      "metadata": {
        "id": "YeEJt_QC5PCS"
      },
      "outputs": [
        {
          "name": "stdout",
          "output_type": "stream",
          "text": [
            "9\n"
          ]
        }
      ],
      "source": [
        "print(obj3._value)"
      ]
    },
    {
      "attachments": {},
      "cell_type": "markdown",
      "metadata": {
        "id": "ASB-Mxcd5PCU"
      },
      "source": [
        "Agora vamos tornar os nossos objetos um pouco mais inteligentes. Para tal, vamos adicionar um **método**, nome bonito para uma função, que altera o valor do atributo `_value`.\n",
        "\n",
        "Embora é possível acessar o estado do objeto diretamente em python (vide acima), é uma boa prática alterar o mesmo usando apenas métodos. Por isso coloco um `_` antes do atributo, para indicar que não é bom acessar o mesmo diretamente."
      ]
    },
    {
      "cell_type": "code",
      "execution_count": 12,
      "metadata": {
        "id": "tH91OPIZ5PCW"
      },
      "outputs": [],
      "source": [
        "class Agregador(object):\n",
        "    \n",
        "    def __init__(self):\n",
        "        self._value = 0 \n",
        "    \n",
        "    def adiciona(self, value):\n",
        "        self._value += value\n",
        "        \n",
        "    def get_value(self):\n",
        "        return self._value"
      ]
    },
    {
      "cell_type": "code",
      "execution_count": 13,
      "metadata": {
        "id": "Mlb1NEW05PCa"
      },
      "outputs": [],
      "source": [
        "agg = Agregador()"
      ]
    },
    {
      "attachments": {},
      "cell_type": "markdown",
      "metadata": {
        "id": "8hz0y0A25PCd"
      },
      "source": [
        "Observe como temos uma chamada `get_value()`. "
      ]
    },
    {
      "cell_type": "code",
      "execution_count": 14,
      "metadata": {
        "id": "2QD-yL0Q5PCd"
      },
      "outputs": [
        {
          "name": "stdout",
          "output_type": "stream",
          "text": [
            "0\n"
          ]
        }
      ],
      "source": [
        "print(agg.get_value())"
      ]
    },
    {
      "attachments": {},
      "cell_type": "markdown",
      "metadata": {
        "id": "cn6aJTsk5PCg"
      },
      "source": [
        "Ao adicionar alguma coisa, temos um novo estado!"
      ]
    },
    {
      "cell_type": "code",
      "execution_count": 15,
      "metadata": {
        "id": "5_s6_VQU5PCh"
      },
      "outputs": [
        {
          "name": "stdout",
          "output_type": "stream",
          "text": [
            "7\n"
          ]
        }
      ],
      "source": [
        "agg.adiciona(7)\n",
        "print(agg.get_value())"
      ]
    },
    {
      "attachments": {},
      "cell_type": "markdown",
      "metadata": {
        "id": "bAyEUNWO5PCj"
      },
      "source": [
        "Abaixo temos dois objetos diferentes com o mesmo estado. É isto!"
      ]
    },
    {
      "cell_type": "code",
      "execution_count": 16,
      "metadata": {
        "id": "pUn5xVvw5PCj"
      },
      "outputs": [
        {
          "name": "stdout",
          "output_type": "stream",
          "text": [
            "False\n",
            "True\n"
          ]
        }
      ],
      "source": [
        "agg2 = Agregador()\n",
        "agg2.adiciona(agg.get_value())\n",
        "\n",
        "print(agg == agg2)\n",
        "print(agg.get_value() == agg2.get_value())"
      ]
    },
    {
      "attachments": {},
      "cell_type": "markdown",
      "metadata": {
        "id": "6dvx6Bhb5PCm"
      },
      "source": [
        "No fim toda classe vai ser da forma:\n",
        "\n",
        "```\n",
        "class MinhaClasse(object):\n",
        "    <código>\n",
        "```"
      ]
    },
    {
      "attachments": {},
      "cell_type": "markdown",
      "metadata": {
        "id": "eOa2UImxPAxz"
      },
      "source": [
        "# Passo à Passo das Redes Neurais\n",
        "\n",
        "A criação e treinamento de uma rede neural tem alguns passos que foram um *pipeline* completo.\n",
        "Nesta aula, vamos ver cada passo para criar e treinar uma rede neural do zero usando PyTorch.\n",
        "\n",
        "Num geral, para se utilizar uma rede neural, precisamos:\n",
        "\n",
        "1. carregar e preparar os dados\n",
        "2. definir a arquitetura/rede\n",
        "3. definir a função de custo (loss)\n",
        "4. definir o algoritmo de otimização\n",
        "5. implementar os algoritmos de treino e validação\n",
        "\n",
        "Antes de começar a analisar cada um desses passos, vamos realizar alguns imports e definir alguns hiperparamêtros."
      ]
    },
    {
      "attachments": {},
      "cell_type": "markdown",
      "metadata": {
        "id": "9gocdcIdRhXm"
      },
      "source": [
        "## Imports e configurações iniciais\n",
        "\n",
        "Antes de começar, vamos importar e definir algumas coisas. Para facilitar o entendimento e manutenção do código, os imports de pacotes, a configuração de **hiperparâmetros**, e a definição do hardware padrão utilizado serão sempre definidos no começo dos notebooks.\n",
        "\n",
        "Nessa aula vamos trabalhar com dados reais, então **vamos precisar de GPU!** Então não se esqueça de mudar as configurações desse ambiente do colab. <br>\n",
        "Sugiro rodar esse mesmo código sem GPU em outro momento, só para entenderem como a GPU facilitou o uso de redes neurais.\n"
      ]
    },
    {
      "cell_type": "code",
      "execution_count": 18,
      "metadata": {
        "id": "7DB-I9n6O-a8"
      },
      "outputs": [],
      "source": [
        "# Basic imports.\n",
        "import os, sys, time\n",
        "import numpy as np\n",
        "from matplotlib import pyplot as plt\n",
        "%matplotlib inline\n",
        "\n",
        "import torch\n",
        "from torch import nn\n",
        "from torch import optim\n",
        "import torch.nn.functional as F\n",
        "\n",
        "from torch.backends import cudnn\n",
        "cudnn.benchmark = True\n",
        "\n",
        "from torch.utils.data import DataLoader\n",
        "from torch.utils import data\n",
        "\n",
        "from torchvision import datasets\n",
        "from torchvision import transforms\n",
        "\n",
        "from skimage import io\n",
        "\n",
        "from sklearn import metrics"
      ]
    },
    {
      "attachments": {},
      "cell_type": "markdown",
      "metadata": {
        "id": "2VfLxDw2PtQJ"
      },
      "source": [
        "Nesta célula, além da definição do hardware padrão, estão também definidos os hiperparâmetros do nosso modelo. Mais à frente conversaremos um pouco melhor sobre eles."
      ]
    },
    {
      "cell_type": "code",
      "execution_count": 19,
      "metadata": {
        "colab": {
          "base_uri": "https://localhost:8080/"
        },
        "id": "B90MLWU3Pdih",
        "outputId": "a6bf85b2-b256-4857-8133-dc3564992505"
      },
      "outputs": [
        {
          "name": "stdout",
          "output_type": "stream",
          "text": [
            "cpu\n"
          ]
        }
      ],
      "source": [
        "# Setting predefined arguments.\n",
        "args = {\n",
        "    'num_epochs': 20,      # Number of epochs.\n",
        "    'num_classes': 10,     # Number of classes.\n",
        "    'lr': 1e-3,            # Learning rate.\n",
        "    'weight_decay': 5e-4,  # L2 penalty.\n",
        "    'num_workers': 3,      # Number of workers on data loader.\n",
        "    'batch_size': 50,      # Mini-batch size.\n",
        "}\n",
        "\n",
        "# Setting device (CPU | CUDA)\n",
        "if torch.cuda.is_available():\n",
        "    args['device'] = torch.device('cuda')\n",
        "else:\n",
        "    args['device'] = torch.device('cpu')\n",
        "\n",
        "print(args['device'])"
      ]
    },
    {
      "attachments": {},
      "cell_type": "markdown",
      "metadata": {
        "id": "VOOUl5wxWyk0"
      },
      "source": [
        "## 1. Carregamento de Dados\n",
        "\n",
        "Para carregar os dados em PyTorch, precisamos definir o dataset e o dataloader."
      ]
    },
    {
      "attachments": {},
      "cell_type": "markdown",
      "metadata": {
        "id": "PCk5Deo8XFH9"
      },
      "source": [
        "### **Datasets**"
      ]
    },
    {
      "attachments": {},
      "cell_type": "markdown",
      "metadata": {
        "id": "E4u-kbpgRT76"
      },
      "source": [
        "### Dataset pré-implementado\n",
        "\n",
        "O PyTorch possui dois pacotes que trazem datasets prontos para uso.\n",
        "\n",
        "* Torchtext: https://torchtext.readthedocs.io/en/latest/datasets.html\n",
        "* Torchvision: https://pytorch.org/docs/stable/torchvision/datasets.html\n",
        "\n",
        "Como os nomes indicam, são datasets de textos (text) e imagens (vision), duas aplicações onde redes neurais são muito bem sucedidas.\n",
        "\n",
        "Para aplicações com textos e outros tipos de séries temporais, o carregamento de dados possui nuances que dificultam o entendimento, portanto vamos concentrar no carregamento de imagens.\n",
        "\n",
        "Para trabalhar com datasets do pacote torchvision, basta\n",
        "* Importar o pacote\n",
        "``` python \n",
        "from torchvision import datasets \n",
        "```\n",
        "* Carregar o dataset do seu interesse (ex: MNIST)\n",
        "``` python \n",
        "data = datasets.MNIST(root, train=True, transform=None, target_transform=None, download=False)\n",
        "```\n",
        "\n",
        "> Note que o torch faz o carregamento das imagens no formato [Pillow](https://pillow.readthedocs.io/en/stable/). Portanto é necessário convertê-las para um tensor usando um [**Transformer**](https://pytorch.org/docs/stable/torchvision/transforms.html).\n",
        "\n",
        "* Importar o pacote transforms\n",
        "``` python \n",
        "from torchvision import transforms \n",
        "```\n",
        "* preencher o parâmetro ```transform``` do dataset com a função que converte para tensor.\n",
        "``` python \n",
        "transforms.ToTensor() \n",
        "```\n",
        "\n",
        "Pronto! Quando seu dado for carregado, ele passará pela transformação indicada no parâmetro ```transform```, que nesse caso converte o dado para um tensor. Como veremos a seguir, é possível usar outros transformers.\n"
      ]
    },
    {
      "cell_type": "code",
      "execution_count": 20,
      "metadata": {
        "colab": {
          "base_uri": "https://localhost:8080/"
        },
        "id": "3_AvEAUfR0r9",
        "outputId": "2589c7df-aece-46b2-d746-51ff3bedf0b4"
      },
      "outputs": [
        {
          "name": "stdout",
          "output_type": "stream",
          "text": [
            "Downloading http://yann.lecun.com/exdb/mnist/train-images-idx3-ubyte.gz\n"
          ]
        },
        {
          "name": "stderr",
          "output_type": "stream",
          "text": [
            "1.0%"
          ]
        },
        {
          "name": "stdout",
          "output_type": "stream",
          "text": [
            "Downloading http://yann.lecun.com/exdb/mnist/train-images-idx3-ubyte.gz to ./MNIST/raw/train-images-idx3-ubyte.gz\n"
          ]
        },
        {
          "name": "stderr",
          "output_type": "stream",
          "text": [
            "100.0%\n"
          ]
        },
        {
          "name": "stdout",
          "output_type": "stream",
          "text": [
            "Extracting ./MNIST/raw/train-images-idx3-ubyte.gz to ./MNIST/raw\n",
            "\n",
            "Downloading http://yann.lecun.com/exdb/mnist/train-labels-idx1-ubyte.gz\n"
          ]
        },
        {
          "name": "stderr",
          "output_type": "stream",
          "text": [
            "100.0%"
          ]
        },
        {
          "name": "stdout",
          "output_type": "stream",
          "text": [
            "Downloading http://yann.lecun.com/exdb/mnist/train-labels-idx1-ubyte.gz to ./MNIST/raw/train-labels-idx1-ubyte.gz\n",
            "Extracting ./MNIST/raw/train-labels-idx1-ubyte.gz to ./MNIST/raw\n",
            "\n",
            "Downloading http://yann.lecun.com/exdb/mnist/t10k-images-idx3-ubyte.gz\n"
          ]
        },
        {
          "name": "stderr",
          "output_type": "stream",
          "text": [
            "\n",
            "4.0%"
          ]
        },
        {
          "name": "stdout",
          "output_type": "stream",
          "text": [
            "Downloading http://yann.lecun.com/exdb/mnist/t10k-images-idx3-ubyte.gz to ./MNIST/raw/t10k-images-idx3-ubyte.gz\n"
          ]
        },
        {
          "name": "stderr",
          "output_type": "stream",
          "text": [
            "100.0%\n"
          ]
        },
        {
          "name": "stdout",
          "output_type": "stream",
          "text": [
            "Extracting ./MNIST/raw/t10k-images-idx3-ubyte.gz to ./MNIST/raw\n",
            "\n",
            "Downloading http://yann.lecun.com/exdb/mnist/t10k-labels-idx1-ubyte.gz\n"
          ]
        },
        {
          "name": "stderr",
          "output_type": "stream",
          "text": [
            "100.0%"
          ]
        },
        {
          "name": "stdout",
          "output_type": "stream",
          "text": [
            "Downloading http://yann.lecun.com/exdb/mnist/t10k-labels-idx1-ubyte.gz to ./MNIST/raw/t10k-labels-idx1-ubyte.gz\n",
            "Extracting ./MNIST/raw/t10k-labels-idx1-ubyte.gz to ./MNIST/raw\n",
            "\n",
            "Amostras de treino: 60000\n",
            "Amostras de Teste:10000\n"
          ]
        },
        {
          "name": "stderr",
          "output_type": "stream",
          "text": [
            "\n"
          ]
        }
      ],
      "source": [
        "train_set = datasets.MNIST('./', \n",
        "                           train=True, \n",
        "                           transform=transforms.ToTensor(),\n",
        "                           download=True)\n",
        "\n",
        "test_set = datasets.MNIST('./', \n",
        "                           train=False, \n",
        "                           transform=transforms.ToTensor(),\n",
        "                           download=False)\n",
        "\n",
        "print('Amostras de treino: ' + str(len(train_set)) + '\\nAmostras de Teste:' + str(len(test_set)))"
      ]
    },
    {
      "attachments": {},
      "cell_type": "markdown",
      "metadata": {
        "id": "hISPaTXvTYso"
      },
      "source": [
        "Cada dataset possui uma implementação específica internamente no pytorch. Verifique o ```type``` da variável que recebeu os dados e veja que se refere a uma classe específica do dataset."
      ]
    },
    {
      "cell_type": "code",
      "execution_count": 21,
      "metadata": {
        "colab": {
          "base_uri": "https://localhost:8080/"
        },
        "id": "Qbp9GP1YU1Ru",
        "outputId": "d4f825a7-bca0-4200-88d2-9765963f853b"
      },
      "outputs": [
        {
          "name": "stdout",
          "output_type": "stream",
          "text": [
            "<class 'torchvision.datasets.mnist.MNIST'>\n"
          ]
        }
      ],
      "source": [
        "print(type(train_set))"
      ]
    },
    {
      "attachments": {},
      "cell_type": "markdown",
      "metadata": {
        "id": "BlSbrnrYU1rv"
      },
      "source": [
        "Por se tratar de um conjunto de dados **supervisionado**, cada elemento do dataset é definido por uma tupla `(dado, rótulo)`. Para dados não supervisionados, cada elemento do dataset comporta apenas o dado."
      ]
    },
    {
      "cell_type": "code",
      "execution_count": 22,
      "metadata": {
        "colab": {
          "base_uri": "https://localhost:8080/"
        },
        "id": "grBOLD1yU68x",
        "outputId": "eaa22fdd-692c-4826-befd-52a7d4ce602e"
      },
      "outputs": [
        {
          "name": "stdout",
          "output_type": "stream",
          "text": [
            "<class 'tuple'>\n",
            "<class 'torch.Tensor'>\n",
            "<class 'int'>\n"
          ]
        }
      ],
      "source": [
        "print(type(train_set[0]))\n",
        "\n",
        "print(type(train_set[0][0]))  # imagem\n",
        "print(type(train_set[0][1]))  # classe"
      ]
    },
    {
      "attachments": {},
      "cell_type": "markdown",
      "metadata": {
        "id": "JHU7iIkTVYhS"
      },
      "source": [
        "Podemos então iterar no dataset para observar algumas amostras e seus rótulos."
      ]
    },
    {
      "cell_type": "code",
      "execution_count": 25,
      "metadata": {
        "colab": {
          "base_uri": "https://localhost:8080/",
          "height": 809
        },
        "id": "VegU7Q0SVYBu",
        "outputId": "57dc8a74-153e-48ad-e71c-0a59c09c6a3f"
      },
      "outputs": [
        {
          "data": {
            "image/png": "[encoded data removed]",
            "text/plain": [
              "<Figure size 640x480 with 1 Axes>"
            ]
          },
          "metadata": {},
          "output_type": "display_data"
        },
        {
          "data": {
            "image/png": "[encoded data removed]",
            "text/plain": [
              "<Figure size 640x480 with 1 Axes>"
            ]
          },
          "metadata": {},
          "output_type": "display_data"
        },
        {
          "data": {
            "image/png": "[encoded data removed]",
            "text/plain": [
              "<Figure size 640x480 with 1 Axes>"
            ]
          },
          "metadata": {},
          "output_type": "display_data"
        }
      ],
      "source": [
        "for i in range(3):\n",
        "  dado, rotulo = train_set[i]\n",
        "  \n",
        "  plt.figure()\n",
        "  plt.imshow(dado[0])\n",
        "  plt.title('Rotulo: '+ str(rotulo))"
      ]
    },
    {
      "attachments": {},
      "cell_type": "markdown",
      "metadata": {
        "id": "ZrfiXMDdViAs"
      },
      "source": [
        "Temos um total de 70 mil amostras, mas elas **ainda não estão carregadas na memória** (isso seria bastante custoso). A vantagem da classe ```Dataset``` do Pytorch é que as amostras só são carregadas quando necessário.\n",
        "\n",
        "Para entender melhor, vamos experimentar a transformação a seguir\n",
        "```python\n",
        "transforms.RandomCrop(12)\n",
        "```\n",
        "Essa função realiza um recorte aleatório de ```12 x 12``` (pixels) na imagem. Ao carregar a mesma amostra múltiplas vezes, um novo recorte será feito. "
      ]
    },
    {
      "cell_type": "code",
      "execution_count": 26,
      "metadata": {
        "colab": {
          "base_uri": "https://localhost:8080/",
          "height": 809
        },
        "id": "6oXnlMnqVsKc",
        "outputId": "418e45da-86e1-4660-f400-dfad239f41e8"
      },
      "outputs": [
        {
          "data": {
            "image/png": "[encoded data removed]",
            "text/plain": [
              "<Figure size 640x480 with 1 Axes>"
            ]
          },
          "metadata": {},
          "output_type": "display_data"
        },
        {
          "data": {
            "image/png": "[encoded data removed]",
            "text/plain": [
              "<Figure size 640x480 with 1 Axes>"
            ]
          },
          "metadata": {},
          "output_type": "display_data"
        },
        {
          "data": {
            "image/png": "[encoded data removed]",
            "text/plain": [
              "<Figure size 640x480 with 1 Axes>"
            ]
          },
          "metadata": {},
          "output_type": "display_data"
        }
      ],
      "source": [
        "crop_set = datasets.MNIST('./', \n",
        "                           train=False, \n",
        "                           transform=transforms.RandomCrop(12),\n",
        "                           download=False)\n",
        "\n",
        "# Tuple (dado, rótulo)\n",
        "for i in range(3):\n",
        "  dado, rotulo = crop_set[0]\n",
        "  \n",
        "  plt.figure()\n",
        "  plt.imshow(dado)\n",
        "  plt.title('Rótulo: '+ str(rotulo))"
      ]
    },
    {
      "attachments": {},
      "cell_type": "markdown",
      "metadata": {
        "id": "XSbsVf36Vs9E"
      },
      "source": [
        "Em resumo, cada vez que indexamos um item do dataset, as seguintes operações são realizadas:\n",
        "* Uma amostra é lida do arquivo e carregada como uma tupla ```(dado, rótulo)```\n",
        "* As transformações são aplicadas \n"
      ]
    },
    {
      "attachments": {},
      "cell_type": "markdown",
      "metadata": {
        "id": "OcIQslaTcdJp"
      },
      "source": [
        "### Dataset próprio\n",
        "\n",
        "Na maioria das vezes, precisaremos carregar nosso próprio dado para processá-lo.\n",
        "Nesses casos, teremos que implementar uma classe que estende a classe `dataset.Dataset`.\n",
        "Essa nova classe tem três funções obrigatórios:\n",
        "\n",
        "- `__init__`, construtor da classe e que inicialirá os parâmetros, incluindo a lista de dados que será processado. Por exemplo, se o dataset for composto de imagens, essa função precisa criar uma lista com o nome de todas as imagens a serem processadas.\n",
        "- `__getitem__`, que, dado um índice, retorna um dado a ser processado. Esse função é responsável por carregar o dado e prepará-lo para processamento.\n",
        "- `__len__`, que retorna a quantidade de itens no dataset a ser processado.\n",
        "\n",
        "Segue abaixo um exemplo de como carregar um dataset de pontos de faces mas sobrescrevendo a classe `dataset.Dataset`."
      ]
    },
    {
      "cell_type": "code",
      "execution_count": 27,
      "metadata": {
        "colab": {
          "base_uri": "https://localhost:8080/"
        },
        "id": "VLpKxsf9eGu5",
        "outputId": "fda4194f-f8a5-422b-f092-5ab79080f933"
      },
      "outputs": [
        {
          "name": "stdout",
          "output_type": "stream",
          "text": [
            "Downloading  https://download.pytorch.org/tutorial/faces.zip\n"
          ]
        },
        {
          "name": "stderr",
          "output_type": "stream",
          "text": [
            "  % Total    % Received % Xferd  Average Speed   Time    Time     Time  Current\n",
            "                                 Dload  Upload   Total   Spent    Left  Speed\n",
            "100 5644k  100 5644k    0     0  2473k      0  0:00:02  0:00:02 --:--:-- 2477k\n"
          ]
        }
      ],
      "source": [
        "# baixando o dataset e definindo algumas funcoes auxiliares\n",
        "\n",
        "import subprocess\n",
        "import zipfile\n",
        "\n",
        "def download_dataset():\n",
        "    if not os.path.isdir(os.path.join(os.getcwd(), 'faces_dataset')):\n",
        "        os.makedirs(os.path.join(os.getcwd(), 'faces_dataset'))\n",
        "\n",
        "    url = 'https://download.pytorch.org/tutorial/faces.zip'  # voce pode baixar o dataset usando esse link\n",
        "\n",
        "    out_path = os.path.join(os.getcwd(), 'faces_dataset', 'faces.zip')\n",
        "\n",
        "    cmd = ['curl', url, '-o', out_path]\n",
        "    print('Downloading ', url)\n",
        "    subprocess.call(cmd)\n",
        "\n",
        "    with zipfile.ZipFile(out_path, \"r\") as zip_ref:\n",
        "        zip_ref.extractall(os.path.join(os.getcwd(), 'faces_dataset'))\n",
        "\n",
        "download_dataset()\n",
        "\n",
        "def show_landmarks(image, landmarks):\n",
        "    \"\"\"Show image with landmarks\"\"\"\n",
        "    plt.imshow(image)\n",
        "    plt.scatter(landmarks[:, 0], landmarks[:, 1], s=10, marker='.', c='r')\n",
        "    plt.pause(0.001)  # pause a bit so that plots are updated"
      ]
    },
    {
      "attachments": {},
      "cell_type": "markdown",
      "metadata": {
        "id": "n7cKODnzqFtK"
      },
      "source": [
        "Carregando o nosso dataset."
      ]
    },
    {
      "cell_type": "code",
      "execution_count": 28,
      "metadata": {
        "id": "ChMBXWcYfPFw"
      },
      "outputs": [],
      "source": [
        "import pandas as pd\n",
        "\n",
        "class FaceLandmarksDataset(data.Dataset):  # note que essa classe estende outra\n",
        "    \"\"\"Face Landmarks dataset.\"\"\"\n",
        "\n",
        "    def __init__(self, csv_file, root_dir, transform=None):\n",
        "        self.landmarks_frame = pd.read_csv(csv_file)  # criando lista de arquivos a serem lidos\n",
        "        self.root_dir = root_dir  # endereço para as imagens\n",
        "        self.transform = transform\n",
        "\n",
        "    def __len__(self):\n",
        "        return len(self.landmarks_frame)  # retorna total de imagens a serem processadas\n",
        "\n",
        "    def __getitem__(self, idx):  # idx representa o indice da imagem a ser carregada\n",
        "        img_name = os.path.join(self.root_dir, self.landmarks_frame.iloc[idx, 0])\n",
        "        image = io.imread(img_name)  # carrega as imagens de fato\n",
        "        landmarks = self.landmarks_frame.iloc[idx, 1:]  # label\n",
        "        landmarks = np.array([landmarks])\n",
        "        landmarks = landmarks.astype('float').reshape(-1, 2)\n",
        "        sample = {'image': image, 'landmarks': landmarks}\n",
        "\n",
        "        if self.transform:\n",
        "            sample = self.transform(sample)\n",
        "\n",
        "        return sample"
      ]
    },
    {
      "attachments": {},
      "cell_type": "markdown",
      "metadata": {
        "id": "IcgIBAIRqIsA"
      },
      "source": [
        "Plotando alguns exemplos."
      ]
    },
    {
      "cell_type": "code",
      "execution_count": 29,
      "metadata": {
        "colab": {
          "base_uri": "https://localhost:8080/",
          "height": 639
        },
        "id": "ZpfE19cloae5",
        "outputId": "a71770ab-416f-4773-fa48-d84d67a9fcec"
      },
      "outputs": [
        {
          "name": "stdout",
          "output_type": "stream",
          "text": [
            "0 (324, 215, 3) (68, 2)\n"
          ]
        },
        {
          "data": {
            "image/png": "[encoded data removed]",
            "text/plain": [
              "<Figure size 640x480 with 1 Axes>"
            ]
          },
          "metadata": {},
          "output_type": "display_data"
        },
        {
          "name": "stdout",
          "output_type": "stream",
          "text": [
            "1 (500, 333, 3) (68, 2)\n"
          ]
        },
        {
          "data": {
            "image/png": "[encoded data removed]",
            "text/plain": [
              "<Figure size 640x480 with 1 Axes>"
            ]
          },
          "metadata": {},
          "output_type": "display_data"
        },
        {
          "name": "stdout",
          "output_type": "stream",
          "text": [
            "2 (250, 258, 3) (68, 2)\n"
          ]
        },
        {
          "data": {
            "image/png": "[encoded data removed]",
            "text/plain": [
              "<Figure size 640x480 with 1 Axes>"
            ]
          },
          "metadata": {},
          "output_type": "display_data"
        },
        {
          "name": "stdout",
          "output_type": "stream",
          "text": [
            "3 (434, 290, 3) (68, 2)\n"
          ]
        },
        {
          "data": {
            "image/png": "[encoded data removed]",
            "text/plain": [
              "<Figure size 640x480 with 1 Axes>"
            ]
          },
          "metadata": {},
          "output_type": "display_data"
        }
      ],
      "source": [
        "face_dataset = FaceLandmarksDataset(csv_file=os.path.join(os.getcwd(), 'faces_dataset', 'faces', 'face_landmarks.csv'),\n",
        "                                    root_dir=os.path.join(os.getcwd(), 'faces_dataset', 'faces'))\n",
        "\n",
        "fig = plt.figure()\n",
        "\n",
        "for i in range(len(face_dataset)):\n",
        "    sample = face_dataset[i]\n",
        "\n",
        "    print(i, sample['image'].shape, sample['landmarks'].shape)\n",
        "\n",
        "    ax = plt.subplot(1, 4, i + 1)\n",
        "    plt.tight_layout()\n",
        "    ax.set_title('Sample #{}'.format(i))\n",
        "    ax.axis('off')\n",
        "    show_landmarks(**sample)\n",
        "\n",
        "    if i == 3:\n",
        "        plt.show()\n",
        "        break"
      ]
    },
    {
      "attachments": {},
      "cell_type": "markdown",
      "metadata": {
        "id": "hL3Kokw3XCqq"
      },
      "source": [
        "### **Dataloader**"
      ]
    },
    {
      "attachments": {},
      "cell_type": "markdown",
      "metadata": {
        "id": "fOtixwnbWcKP"
      },
      "source": [
        "\n",
        "\n",
        "O [Dataloader](https://pytorch.org/docs/stable/data.html?highlight=dataloader#torch.utils.data.DataLoader) gerencia muito bem o carregamento de dados para o treinamento de redes neurais, trazendo as funções: \n",
        "\n",
        "* Separação dos dados em batches\n",
        "* Embaralhando os dados\n",
        "* Carregando batches em paralelo utilizando threads\n",
        "\n",
        "O uso de threads no carregamento minimiza períodos ociosos de processamento, visto que a leitura de dados em arquivo é um grande gargalo de tempo.\n",
        "\n",
        "As três funcionalidades que acabamos de conhecer são controladas pelos parâmetros da chamada do DataLoader.\n",
        "```python\n",
        "loader = DataLoader(dataset, batch_size=4, shuffle=True, num_workers=4)\n",
        "```\n"
      ]
    },
    {
      "cell_type": "code",
      "execution_count": 31,
      "metadata": {
        "id": "HIeFM-UTWMLV"
      },
      "outputs": [],
      "source": [
        "train_loader = DataLoader(train_set, \n",
        "                          batch_size=args['batch_size'], \n",
        "                          shuffle=True, \n",
        "                          num_workers=args['num_workers'])\n",
        "\n",
        "test_loader = DataLoader(test_set, \n",
        "                          batch_size=args['batch_size'], \n",
        "                          shuffle=True, \n",
        "                          num_workers=args['num_workers'])"
      ]
    },
    {
      "attachments": {},
      "cell_type": "markdown",
      "metadata": {
        "id": "VlVojbufWkzp"
      },
      "source": [
        "O objeto retornado é um **iterador**, podendo ser utilizado para iterar em loops mas não suportando indexação."
      ]
    },
    {
      "cell_type": "code",
      "execution_count": 34,
      "metadata": {
        "colab": {
          "base_uri": "https://localhost:8080/",
          "height": 299
        },
        "id": "7ZR7Y4BnWokd",
        "outputId": "8894e47c-c070-4606-b6b4-d603f65edaf5"
      },
      "outputs": [
        {
          "name": "stdout",
          "output_type": "stream",
          "text": [
            "torch.Size([50, 1, 28, 28]) torch.Size([50])\n"
          ]
        },
        {
          "data": {
            "image/png": "[encoded data removed]",
            "text/plain": [
              "<Figure size 640x480 with 1 Axes>"
            ]
          },
          "metadata": {},
          "output_type": "display_data"
        }
      ],
      "source": [
        "for batch in train_loader:\n",
        "  \n",
        "  dado, rotulo = batch\n",
        "  print(dado.size(), rotulo.size())\n",
        "\n",
        "  plt.imshow(dado[0][0])\n",
        "  plt.title('Rotulo: '+ str(rotulo[0]))\n",
        "  break"
      ]
    },
    {
      "attachments": {},
      "cell_type": "markdown",
      "metadata": {
        "id": "cdavQcjZ5l5-"
      },
      "source": [
        "Vale a pena visitar o [tutorial de carregamento de dados do PyTorch](https://pytorch.org/tutorials/beginner/data_loading_tutorial.html) que introduz o uso das classes Dataset e Dataloader."
      ]
    },
    {
      "attachments": {},
      "cell_type": "markdown",
      "metadata": {
        "id": "XZdIbgSnXgXj"
      },
      "source": [
        "## 2. Definindo a Arquitetura"
      ]
    },
    {
      "attachments": {},
      "cell_type": "markdown",
      "metadata": {
        "id": "BdvZzxR8Xjsp"
      },
      "source": [
        "#### **Classe nn.Module**\n",
        "\n",
        "O [nn.Module](https://pytorch.org/docs/stable/nn.html#torch.nn.Module) é a classe base para todos os módulos de redes neurais. \n",
        "\n",
        "A forma mais organizada de definir modelos em PyTorch é implementando uma classe. Para redes pequenas, como as que estamos aprendendo até o momento, sua importância pode não se destacar, mas modelos maiores e com funcionalidades mais complexas, são mais fáceis de implementar e realizar manutenções dessa forma.\n",
        "\n",
        "Para implementar uma subclasse da ```nn.Module``` basta definir a subclasse da seguinte forma:\n",
        "```python\n",
        "class MinhaRede(nn.Module):\n",
        "  # resto do código\n",
        "```\n",
        "\n",
        "Funções obrigatórias de subclasses da ```nn.Module```.\n",
        "* ```__init()__```: definição da arquitetura da rede no estado interno da classe. Exemplo:\n",
        "```python\n",
        "# No __init__()\n",
        "self.linear2 = nn.Linear(10,10)\n",
        "```\n",
        "\n",
        "* ```forward()```: Fluxo da entrada ao longo da rede e retorno da saída. Exemplo: \n",
        "```python\n",
        "# No forward()\n",
        "saida = self.linear2(entrada)\n",
        "```\n",
        "\n",
        "Existe também a função `backward` que pode ser implementada para definir o backprogation da camada explicitamente. Entretanto, não é necessário definir esse método para a maioria das redes neurais, já que o PyTorch implementa isso internamente.\n"
      ]
    },
    {
      "attachments": {},
      "cell_type": "markdown",
      "metadata": {
        "id": "IwUcDlWwDIFF"
      },
      "source": [
        "**Implemente a seguir** um Multi-Layer Perceptron (MLP) intercalando camadas do tipo [`Linear`](https://pytorch.org/docs/stable/nn.html#torch.nn.Linear) com funções de ativação `ReLU`. \n",
        "\n",
        "\n",
        "Ainda falaremos mais sobre funções de ativação, mas para entender a importância das funções de ativação não-lineares após cada camada, visite a [demo de Stanford](https://cs.stanford.edu/people/karpathy/convnetjs/demo/classify2d.html). Ao remover as ativações não-lineares a rede se torna incapaz de aprender soluções não-lineares.<br>\n",
        "A ativação pode ser definida de duas formas:\n",
        "* Definida no `__init__()` [como uma camada](https://pytorch.org/docs/stable/nn.html?highlight=relu#torch.nn.ReLU) e aplicada no `forward()`\n",
        "```python\n",
        "# No __init__()\n",
        "self.relu = nn.ReLU()\n",
        "# No forward()\n",
        "saida = self.relu(entrada)\n",
        "```\n",
        "\n",
        "* Apenas aplicada no `forward()` [como uma function](https://pytorch.org/docs/stable/nn.functional.html#torch.nn.functional.relu):\n",
        "```python\n",
        "saida = F.relu(entrada)\n",
        "```\n",
        "\n",
        "> **Lembrete**: Multi-Layer Perceptrons trabalham somente com dados unidimensionais (vetores). Sendo a imagem com dimensionalidade ```(1, 28, 28)```, precisamos linearizá-la antes de alimentar a rede (lembra da função `view`?). Isso implica que a entrada da rede deve ser redimensionada para ```input_size = 28 x 28 x 1 = 784```\n",
        "\n",
        "> **A dimensionalidade das camadas fica a seu critério.** São fixadas apenas a dimensionalidade da entrada (`784`) e da saída (`args['num_classes'] = 10` previamente definida)."
      ]
    },
    {
      "cell_type": "code",
      "execution_count": 111,
      "metadata": {
        "id": "GFKs6H07Y_rY"
      },
      "outputs": [],
      "source": [
        "## TODO: Definir a classe que implementa o MLP ##\n",
        "\n",
        "class MinhaRede(nn.Module):\n",
        "  \n",
        "  def __init__(self,):\n",
        "    super(MinhaRede, self).__init__()\n",
        "    \n",
        "    ## Definir a arquitetura\n",
        "    self.hidden1 = nn.Linear(784, 1024)\n",
        "    self.hidden2 = nn.Linear(1024, 1024)\n",
        "    self.out = nn.Linear(1024, args['num_classes'])\n",
        "    \n",
        "    \n",
        "  def forward(self, x):\n",
        "    \n",
        "    ## Implementar o forward\n",
        "    x = x.view(x.size(0), -1)\n",
        "    h1 = F.relu(self.hidden1(x))\n",
        "    h2 = F.relu(self.hidden2(h1))\n",
        "    output = F.softmax(self.out(h2))\n",
        "    \n",
        "    return output\n",
        "\n",
        "\n",
        "#################################################"
      ]
    },
    {
      "attachments": {},
      "cell_type": "markdown",
      "metadata": {
        "id": "fZtVYuIwaHZF"
      },
      "source": [
        "Instanciando a rede"
      ]
    },
    {
      "cell_type": "code",
      "execution_count": 112,
      "metadata": {
        "id": "KLz9rYaCaA_o"
      },
      "outputs": [],
      "source": [
        "## TODO: Instanciar o objeto que conterá a rede ##\n",
        "\n",
        "net = MinhaRede().to(args['device'])\n",
        "##################################################"
      ]
    },
    {
      "attachments": {},
      "cell_type": "markdown",
      "metadata": {
        "id": "6zmOfuIU77j7"
      },
      "source": [
        "## 3. Função de Perda e Otimizador"
      ]
    },
    {
      "attachments": {},
      "cell_type": "markdown",
      "metadata": {
        "id": "wN0vE_IK8B93"
      },
      "source": [
        "Por se tratar de um problema de classificação usaremos a função de custo [`CrossEntropyLoss`](https://pytorch.org/docs/stable/nn.html#torch.nn.CrossEntropyLoss).\n",
        "\n",
        "Como ainda não vimos a fundo os otimizadores e suas vantagens, usaremos o já conhecido [`SGD`](https://pytorch.org/docs/stable/optim.html#torch.optim.SGD) da biblioteca `torch.optim`\n"
      ]
    },
    {
      "cell_type": "code",
      "execution_count": 113,
      "metadata": {
        "colab": {
          "base_uri": "https://localhost:8080/",
          "height": 209
        },
        "id": "2ZQ_Vjqy7-x6",
        "outputId": "ed006a69-4571-4227-a5c8-54a33cad5b8e"
      },
      "outputs": [],
      "source": [
        "# Define Loss\n",
        "criterion = nn.CrossEntropyLoss().to(args['device'])\n",
        "\n",
        "# Define Optimizer\n",
        "optimizer = optim.SGD(params=net.parameters(), lr=args['lr'], weight_decay=args['weight_decay'])"
      ]
    },
    {
      "attachments": {},
      "cell_type": "markdown",
      "metadata": {
        "id": "jBCt98yt9SXW"
      },
      "source": [
        "## 4. Fluxo de Treinamento e Validação\n",
        "\n",
        "Agora implemente a seguir um fluxo completo de treinamento. Já fizemos isso antes, mas apenas relembrando o passo a passo:\n",
        "\n",
        "* Iterar nas épocas (Número de épocas definido em `args['num_epochs']`)\n",
        "* Iterar nos batches (*loader* `train_loader` pré definido que retornam uma tupla `(dado, rótulo)`)\n",
        "* Cast dos dados no dispositivo de hardware (Dispositivo definido em `args['device']`)\n",
        "* Forward do batch na rede \n",
        "* Cálculo da loss (`criterion` previamente definido)\n",
        "* Cálculo do gradiente a partir da loss (autograd torch)\n",
        "* Atualização dos pesos (`optimizer.step()`)\n",
        "\n",
        "Para acompanhar a convergência do seu modelo (e garantir que tudo foi feito de forma correta), ao final de cada época podemos imprimir a média e o desvio padrão das perdas de cada iteração.\n",
        "\n",
        "Além disso, podemos usar a biblioteca [`metrics.accuracy_score`](https://scikit-learn.org/stable/modules/generated/sklearn.metrics.accuracy_score.html) para calcular a acurácia do modelo."
      ]
    },
    {
      "cell_type": "code",
      "execution_count": 119,
      "metadata": {
        "id": "H9OufEK69T7k"
      },
      "outputs": [
        {
          "name": "stderr",
          "output_type": "stream",
          "text": [
            "/var/folders/wr/4v935sxd21l4fwk_zpmjx2dm0000gn/T/ipykernel_41206/226744436.py:20: UserWarning: Implicit dimension choice for softmax has been deprecated. Change the call to include dim=X as an argument.\n",
            "  output = F.softmax(self.out(h2))\n"
          ]
        },
        {
          "name": "stdout",
          "output_type": "stream",
          "text": [
            "Epoca 0, Loss: 1.6393 +\\- 0.0464, Acc: 83.71, Tempo: 6.40\n"
          ]
        },
        {
          "name": "stderr",
          "output_type": "stream",
          "text": [
            "/var/folders/wr/4v935sxd21l4fwk_zpmjx2dm0000gn/T/ipykernel_41206/226744436.py:20: UserWarning: Implicit dimension choice for softmax has been deprecated. Change the call to include dim=X as an argument.\n",
            "  output = F.softmax(self.out(h2))\n"
          ]
        },
        {
          "name": "stdout",
          "output_type": "stream",
          "text": [
            "Epoca 1, Loss: 1.6388 +\\- 0.0474, Acc: 83.71, Tempo: 6.28\n"
          ]
        },
        {
          "name": "stderr",
          "output_type": "stream",
          "text": [
            "/var/folders/wr/4v935sxd21l4fwk_zpmjx2dm0000gn/T/ipykernel_41206/226744436.py:20: UserWarning: Implicit dimension choice for softmax has been deprecated. Change the call to include dim=X as an argument.\n",
            "  output = F.softmax(self.out(h2))\n"
          ]
        },
        {
          "name": "stdout",
          "output_type": "stream",
          "text": [
            "Epoca 2, Loss: 1.6384 +\\- 0.0470, Acc: 83.73, Tempo: 6.42\n"
          ]
        },
        {
          "name": "stderr",
          "output_type": "stream",
          "text": [
            "/var/folders/wr/4v935sxd21l4fwk_zpmjx2dm0000gn/T/ipykernel_41206/226744436.py:20: UserWarning: Implicit dimension choice for softmax has been deprecated. Change the call to include dim=X as an argument.\n",
            "  output = F.softmax(self.out(h2))\n"
          ]
        },
        {
          "name": "stdout",
          "output_type": "stream",
          "text": [
            "Epoca 3, Loss: 1.6380 +\\- 0.0484, Acc: 83.74, Tempo: 6.44\n"
          ]
        },
        {
          "name": "stderr",
          "output_type": "stream",
          "text": [
            "/var/folders/wr/4v935sxd21l4fwk_zpmjx2dm0000gn/T/ipykernel_41206/226744436.py:20: UserWarning: Implicit dimension choice for softmax has been deprecated. Change the call to include dim=X as an argument.\n",
            "  output = F.softmax(self.out(h2))\n"
          ]
        },
        {
          "name": "stdout",
          "output_type": "stream",
          "text": [
            "Epoca 4, Loss: 1.6376 +\\- 0.0476, Acc: 83.75, Tempo: 6.39\n"
          ]
        },
        {
          "name": "stderr",
          "output_type": "stream",
          "text": [
            "/var/folders/wr/4v935sxd21l4fwk_zpmjx2dm0000gn/T/ipykernel_41206/226744436.py:20: UserWarning: Implicit dimension choice for softmax has been deprecated. Change the call to include dim=X as an argument.\n",
            "  output = F.softmax(self.out(h2))\n"
          ]
        },
        {
          "name": "stdout",
          "output_type": "stream",
          "text": [
            "Epoca 5, Loss: 1.6372 +\\- 0.0460, Acc: 83.77, Tempo: 6.33\n"
          ]
        },
        {
          "name": "stderr",
          "output_type": "stream",
          "text": [
            "/var/folders/wr/4v935sxd21l4fwk_zpmjx2dm0000gn/T/ipykernel_41206/226744436.py:20: UserWarning: Implicit dimension choice for softmax has been deprecated. Change the call to include dim=X as an argument.\n",
            "  output = F.softmax(self.out(h2))\n"
          ]
        },
        {
          "name": "stdout",
          "output_type": "stream",
          "text": [
            "Epoca 6, Loss: 1.6368 +\\- 0.0465, Acc: 83.78, Tempo: 6.30\n"
          ]
        },
        {
          "name": "stderr",
          "output_type": "stream",
          "text": [
            "/var/folders/wr/4v935sxd21l4fwk_zpmjx2dm0000gn/T/ipykernel_41206/226744436.py:20: UserWarning: Implicit dimension choice for softmax has been deprecated. Change the call to include dim=X as an argument.\n",
            "  output = F.softmax(self.out(h2))\n"
          ]
        },
        {
          "name": "stdout",
          "output_type": "stream",
          "text": [
            "Epoca 7, Loss: 1.6364 +\\- 0.0469, Acc: 83.79, Tempo: 6.27\n"
          ]
        },
        {
          "name": "stderr",
          "output_type": "stream",
          "text": [
            "/var/folders/wr/4v935sxd21l4fwk_zpmjx2dm0000gn/T/ipykernel_41206/226744436.py:20: UserWarning: Implicit dimension choice for softmax has been deprecated. Change the call to include dim=X as an argument.\n",
            "  output = F.softmax(self.out(h2))\n"
          ]
        },
        {
          "name": "stdout",
          "output_type": "stream",
          "text": [
            "Epoca 8, Loss: 1.6360 +\\- 0.0489, Acc: 83.80, Tempo: 6.34\n"
          ]
        },
        {
          "name": "stderr",
          "output_type": "stream",
          "text": [
            "/var/folders/wr/4v935sxd21l4fwk_zpmjx2dm0000gn/T/ipykernel_41206/226744436.py:20: UserWarning: Implicit dimension choice for softmax has been deprecated. Change the call to include dim=X as an argument.\n",
            "  output = F.softmax(self.out(h2))\n"
          ]
        },
        {
          "name": "stdout",
          "output_type": "stream",
          "text": [
            "Epoca 9, Loss: 1.6357 +\\- 0.0461, Acc: 83.81, Tempo: 6.52\n"
          ]
        },
        {
          "name": "stderr",
          "output_type": "stream",
          "text": [
            "/var/folders/wr/4v935sxd21l4fwk_zpmjx2dm0000gn/T/ipykernel_41206/226744436.py:20: UserWarning: Implicit dimension choice for softmax has been deprecated. Change the call to include dim=X as an argument.\n",
            "  output = F.softmax(self.out(h2))\n"
          ]
        },
        {
          "name": "stdout",
          "output_type": "stream",
          "text": [
            "Epoca 10, Loss: 1.6353 +\\- 0.0483, Acc: 83.82, Tempo: 6.19\n"
          ]
        },
        {
          "name": "stderr",
          "output_type": "stream",
          "text": [
            "/var/folders/wr/4v935sxd21l4fwk_zpmjx2dm0000gn/T/ipykernel_41206/226744436.py:20: UserWarning: Implicit dimension choice for softmax has been deprecated. Change the call to include dim=X as an argument.\n",
            "  output = F.softmax(self.out(h2))\n"
          ]
        },
        {
          "name": "stdout",
          "output_type": "stream",
          "text": [
            "Epoca 11, Loss: 1.6350 +\\- 0.0469, Acc: 83.83, Tempo: 6.16\n"
          ]
        },
        {
          "name": "stderr",
          "output_type": "stream",
          "text": [
            "/var/folders/wr/4v935sxd21l4fwk_zpmjx2dm0000gn/T/ipykernel_41206/226744436.py:20: UserWarning: Implicit dimension choice for softmax has been deprecated. Change the call to include dim=X as an argument.\n",
            "  output = F.softmax(self.out(h2))\n"
          ]
        },
        {
          "name": "stdout",
          "output_type": "stream",
          "text": [
            "Epoca 12, Loss: 1.6346 +\\- 0.0476, Acc: 83.84, Tempo: 6.36\n"
          ]
        },
        {
          "name": "stderr",
          "output_type": "stream",
          "text": [
            "/var/folders/wr/4v935sxd21l4fwk_zpmjx2dm0000gn/T/ipykernel_41206/226744436.py:20: UserWarning: Implicit dimension choice for softmax has been deprecated. Change the call to include dim=X as an argument.\n",
            "  output = F.softmax(self.out(h2))\n"
          ]
        },
        {
          "name": "stdout",
          "output_type": "stream",
          "text": [
            "Epoca 13, Loss: 1.6343 +\\- 0.0465, Acc: 83.85, Tempo: 6.03\n"
          ]
        },
        {
          "name": "stderr",
          "output_type": "stream",
          "text": [
            "/var/folders/wr/4v935sxd21l4fwk_zpmjx2dm0000gn/T/ipykernel_41206/226744436.py:20: UserWarning: Implicit dimension choice for softmax has been deprecated. Change the call to include dim=X as an argument.\n",
            "  output = F.softmax(self.out(h2))\n"
          ]
        },
        {
          "name": "stdout",
          "output_type": "stream",
          "text": [
            "Epoca 14, Loss: 1.6340 +\\- 0.0478, Acc: 83.86, Tempo: 6.07\n"
          ]
        },
        {
          "name": "stderr",
          "output_type": "stream",
          "text": [
            "/var/folders/wr/4v935sxd21l4fwk_zpmjx2dm0000gn/T/ipykernel_41206/226744436.py:20: UserWarning: Implicit dimension choice for softmax has been deprecated. Change the call to include dim=X as an argument.\n",
            "  output = F.softmax(self.out(h2))\n"
          ]
        },
        {
          "name": "stdout",
          "output_type": "stream",
          "text": [
            "Epoca 15, Loss: 1.6336 +\\- 0.0481, Acc: 83.87, Tempo: 6.02\n"
          ]
        },
        {
          "name": "stderr",
          "output_type": "stream",
          "text": [
            "/var/folders/wr/4v935sxd21l4fwk_zpmjx2dm0000gn/T/ipykernel_41206/226744436.py:20: UserWarning: Implicit dimension choice for softmax has been deprecated. Change the call to include dim=X as an argument.\n",
            "  output = F.softmax(self.out(h2))\n"
          ]
        },
        {
          "name": "stdout",
          "output_type": "stream",
          "text": [
            "Epoca 16, Loss: 1.6333 +\\- 0.0488, Acc: 83.88, Tempo: 6.13\n"
          ]
        },
        {
          "name": "stderr",
          "output_type": "stream",
          "text": [
            "/var/folders/wr/4v935sxd21l4fwk_zpmjx2dm0000gn/T/ipykernel_41206/226744436.py:20: UserWarning: Implicit dimension choice for softmax has been deprecated. Change the call to include dim=X as an argument.\n",
            "  output = F.softmax(self.out(h2))\n"
          ]
        },
        {
          "name": "stdout",
          "output_type": "stream",
          "text": [
            "Epoca 17, Loss: 1.6330 +\\- 0.0483, Acc: 83.89, Tempo: 6.09\n"
          ]
        },
        {
          "name": "stderr",
          "output_type": "stream",
          "text": [
            "/var/folders/wr/4v935sxd21l4fwk_zpmjx2dm0000gn/T/ipykernel_41206/226744436.py:20: UserWarning: Implicit dimension choice for softmax has been deprecated. Change the call to include dim=X as an argument.\n",
            "  output = F.softmax(self.out(h2))\n"
          ]
        },
        {
          "name": "stdout",
          "output_type": "stream",
          "text": [
            "Epoca 18, Loss: 1.6327 +\\- 0.0498, Acc: 83.90, Tempo: 6.20\n"
          ]
        },
        {
          "name": "stderr",
          "output_type": "stream",
          "text": [
            "/var/folders/wr/4v935sxd21l4fwk_zpmjx2dm0000gn/T/ipykernel_41206/226744436.py:20: UserWarning: Implicit dimension choice for softmax has been deprecated. Change the call to include dim=X as an argument.\n",
            "  output = F.softmax(self.out(h2))\n"
          ]
        },
        {
          "name": "stdout",
          "output_type": "stream",
          "text": [
            "Epoca 19, Loss: 1.6324 +\\- 0.0471, Acc: 83.91, Tempo: 6.49\n"
          ]
        }
      ],
      "source": [
        "## TODO: Fluxo de Treinamento ##\n",
        "preds_list = []\n",
        "labels_list = []\n",
        "for epoch in range(args['num_epochs']):  #this number of epochs is small, you should probably use more epochs\n",
        "  #each time this block executes, the more accurate the model gets, that's why the accuracy from my model is not as good as the answer yet.\n",
        "  start = time.time()\n",
        "\n",
        "  epoch_loss = []\n",
        "  for batch in train_loader:\n",
        "    \n",
        "    dado, rotulo = batch\n",
        "    \n",
        "    dado = dado.to(args['device'])\n",
        "    rotulo = rotulo.to(args['device'])\n",
        "\n",
        "    optimizer.zero_grad()\n",
        "\n",
        "\n",
        "    pred = net(dado)\n",
        "    loss = criterion(pred, rotulo)\n",
        "\n",
        "    epoch_loss.append(loss.cpu().data)\n",
        "\n",
        "    preds = pred.data.max(dim=1)[1].cpu().numpy()\n",
        "    preds_list.append(preds)\n",
        "    labels_list.append(rotulo.cpu().numpy())\n",
        "\n",
        "\n",
        "    loss.backward()\n",
        "    \n",
        "    optimizer.step()\n",
        "\n",
        "  epoch_loss = np.asarray(epoch_loss)\n",
        "  acc = metrics.accuracy_score(np.asarray(labels_list).ravel(),\n",
        "                                 np.asarray(preds_list).ravel())\n",
        "\n",
        "  end = time.time()\n",
        "\n",
        "  print(\"Epoca %d, Loss: %.4f +\\- %.4f, Acc: %.2f, Tempo: %.2f\" % (epoch, epoch_loss.mean(), epoch_loss.std(), acc*100, end-start))\n",
        "\n",
        "################################"
      ]
    },
    {
      "attachments": {},
      "cell_type": "markdown",
      "metadata": {
        "id": "btcI1XwQ_RPf"
      },
      "source": [
        "Agora implemente a seguir um fluxo completo de validação. O passo a passo nesse caso é:\n",
        "\n",
        "* Iterar nos batches (*loader* `test_loader` pré definido que retornam uma tupla `(dado, rótulo)`)\n",
        "* Cast dos dados no dispositivo de hardware (Dispositivo definido em `args['device']`)\n",
        "* Forward do batch na rede \n",
        "* Cálculo das métricas"
      ]
    },
    {
      "cell_type": "code",
      "execution_count": 120,
      "metadata": {
        "id": "XQxLaYgS_RjN"
      },
      "outputs": [
        {
          "name": "stderr",
          "output_type": "stream",
          "text": [
            "/var/folders/wr/4v935sxd21l4fwk_zpmjx2dm0000gn/T/ipykernel_41206/226744436.py:20: UserWarning: Implicit dimension choice for softmax has been deprecated. Change the call to include dim=X as an argument.\n",
            "  output = F.softmax(self.out(h2))\n"
          ]
        },
        {
          "name": "stdout",
          "output_type": "stream",
          "text": [
            "Acc: 84.61\n"
          ]
        }
      ],
      "source": [
        "## TODO: Fluxo de Validacao ##\n",
        "\n",
        "preds_list = []\n",
        "labels_list = []\n",
        "\n",
        "for batch in test_loader:\n",
        "\n",
        "    dado, rotulo = batch\n",
        "\n",
        "    #casting \n",
        "    dado = dado.to(args['device'])\n",
        "    rotulo = rotulo.to(args['device'])\n",
        "\n",
        "    #foward\n",
        "    pred = net(dado)\n",
        "\n",
        "    #armazenando as predições para analisá-las posteriormente\n",
        "    preds = pred.data.max(dim=1)[1].cpu().numpy()\n",
        "    preds_list.append(preds)\n",
        "    labels_list.append(rotulo.cpu().numpy())\n",
        "\n",
        "acc = metrics.accuracy_score(np.asarray(labels_list).ravel(),\n",
        "                                np.asarray(preds_list).ravel())\n",
        "\n",
        "print(\"Acc: %.2f\" % (acc*100))\n",
        "\n",
        "################################"
      ]
    }
  ],
  "metadata": {
    "accelerator": "GPU",
    "colab": {
      "collapsed_sections": [
        "xQJGoF-f5PBg",
        "eOa2UImxPAxz",
        "9gocdcIdRhXm",
        "E4u-kbpgRT76",
        "OcIQslaTcdJp",
        "hL3Kokw3XCqq",
        "XZdIbgSnXgXj",
        "6zmOfuIU77j7",
        "jBCt98yt9SXW"
      ],
      "name": "03_2_OO+NN.ipynb",
      "provenance": []
    },
    "kernelspec": {
      "display_name": "Python 3",
      "name": "python3"
    },
    "language_info": {
      "codemirror_mode": {
        "name": "ipython",
        "version": 3
      },
      "file_extension": ".py",
      "mimetype": "text/x-python",
      "name": "python",
      "nbconvert_exporter": "python",
      "pygments_lexer": "ipython3",
      "version": "3.9.6"
    }
  },
  "nbformat": 4,
  "nbformat_minor": 0
}
