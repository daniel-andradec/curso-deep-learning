{
  "cells": [
    {
      "attachments": {},
      "cell_type": "markdown",
      "metadata": {
        "id": "GBvUmcHxonaS"
      },
      "source": [
        "# Aprendizado Profundo - UFMG\n",
        "\n",
        "## Preâmbulo\n",
        "\n",
        "O código abaixo consiste dos imports comuns. Além do mais, configuramos as imagens para ficar de um tamanho aceitável e criamos algumas funções auxiliares. No geral, você pode ignorar a próxima célula."
      ]
    },
    {
      "cell_type": "code",
      "execution_count": 10,
      "metadata": {
        "id": "W-iRUIgyouKm"
      },
      "outputs": [],
      "source": [
        "# -*- coding: utf8\n",
        "\n",
        "import matplotlib.pyplot as plt\n",
        "import torch\n",
        "import numpy as np\n",
        "\n",
        "plt.rcParams['figure.figsize']  = (18, 10)\n",
        "plt.rcParams['axes.labelsize']  = 20\n",
        "plt.rcParams['axes.titlesize']  = 20\n",
        "plt.rcParams['legend.fontsize'] = 20\n",
        "plt.rcParams['xtick.labelsize'] = 20\n",
        "plt.rcParams['ytick.labelsize'] = 20\n",
        "plt.rcParams['lines.linewidth'] = 4\n",
        "torch.set_printoptions(precision=10)"
      ]
    },
    {
      "cell_type": "code",
      "execution_count": 11,
      "metadata": {
        "id": "r5J4r1Joonac"
      },
      "outputs": [],
      "source": [
        "plt.ion()\n",
        "\n",
        "plt.style.use('seaborn-v0_8-colorblind')\n",
        "plt.rcParams['figure.figsize']  = (12, 8)"
      ]
    },
    {
      "attachments": {},
      "cell_type": "markdown",
      "metadata": {
        "id": "r1hxSo7nonag"
      },
      "source": [
        "Para testar o resultado dos seus algoritmos vamos usar o módulo testing do numpy."
      ]
    },
    {
      "cell_type": "code",
      "execution_count": 12,
      "metadata": {
        "id": "cKAN6JuJonah"
      },
      "outputs": [],
      "source": [
        "from numpy.testing import assert_equal\n",
        "from numpy.testing import assert_almost_equal\n",
        "from numpy.testing import assert_array_almost_equal"
      ]
    },
    {
      "attachments": {},
      "cell_type": "markdown",
      "metadata": {
        "id": "8FVe1G2wonak"
      },
      "source": [
        "## Regressão Linear e Logística from Scratch\n",
        "\n",
        "Para brincar um pouco mais com essa diferenciação automatica, presente em frameworks como pytorch e mxnet, nesta aula vamos implementar a regressão linear e logística do zero. Vamos fazer duas versões de cada:\n",
        "\n",
        "1. Derivando na mão, não é complicado.\n",
        "2. Derivando com autograd de pytorch"
      ]
    },
    {
      "attachments": {},
      "cell_type": "markdown",
      "metadata": {
        "id": "waN0vx9fonal"
      },
      "source": [
        "## Conjunto de Problemas 1: Mais Derivadas"
      ]
    },
    {
      "attachments": {},
      "cell_type": "markdown",
      "metadata": {
        "id": "uK0g7SKdonam"
      },
      "source": [
        "Antes de entrar na regressão, vamos brincar um pouco de derivadas dentro de funções. Dado dois números `x` e `y`, implemente a função `log_exp` que retorna:\n",
        "\n",
        "$$-\\log\\left(\\frac{e^x}{e^x+e^y}\\right)$$"
      ]
    },
    {
      "cell_type": "code",
      "execution_count": 13,
      "metadata": {
        "id": "OsgyDlAHpBdZ"
      },
      "outputs": [],
      "source": [
        "def log_exp(x, y):\n",
        "    intermediate = (torch.exp(x) / (torch.exp(x) + torch.exp(y)))\n",
        "    result = -torch.log(intermediate)\n",
        "    return result"
      ]
    },
    {
      "attachments": {},
      "cell_type": "markdown",
      "metadata": {
        "id": "EnoHouBPonap"
      },
      "source": [
        "1. Abaixo vamos testar o seu código com algumas entradas simples."
      ]
    },
    {
      "cell_type": "code",
      "execution_count": 14,
      "metadata": {
        "id": "2fd-sln-w2Op"
      },
      "outputs": [
        {
          "data": {
            "text/plain": [
              "tensor([1.3132617474])"
            ]
          },
          "execution_count": 14,
          "metadata": {},
          "output_type": "execute_result"
        }
      ],
      "source": [
        "x, y = torch.tensor([2.0]), torch.tensor([3.0])\n",
        "z = log_exp(x, y)\n",
        "z"
      ]
    },
    {
      "cell_type": "code",
      "execution_count": 15,
      "metadata": {
        "id": "LQNEAUNoonau"
      },
      "outputs": [],
      "source": [
        "# Teste. Não apague\n",
        "assert_almost_equal(1.31326175, z.numpy())"
      ]
    },
    {
      "attachments": {},
      "cell_type": "markdown",
      "metadata": {
        "id": "TdhvPzMxonax"
      },
      "source": [
        "2. A função a seguir computa $\\partial z/\\partial x$ e $\\partial z/\\partial y$ usando `autograd`."
      ]
    },
    {
      "cell_type": "code",
      "execution_count": 16,
      "metadata": {
        "id": "lHBQrZD7qsYN"
      },
      "outputs": [],
      "source": [
        "# O argumento funcao_forward é uma função python. Será a sua log_exp.\n",
        "# A ideia aqui é deixar claro a ideia de forward e backward propagation, depois\n",
        "# de avaliar a função chamamos backward e temos as derivadas.\n",
        "def grad(funcao_forward, x, y):\n",
        "    x.requires_grad_(True)\n",
        "    y.requires_grad_(True)\n",
        "    z = funcao_forward(x, y)\n",
        "    z.backward()\n",
        "    return x.grad, y.grad"
      ]
    },
    {
      "attachments": {},
      "cell_type": "markdown",
      "metadata": {
        "id": "-WFpkBMvona2"
      },
      "source": [
        "Testando"
      ]
    },
    {
      "cell_type": "code",
      "execution_count": 17,
      "metadata": {
        "id": "vMVfDIKQrAJL"
      },
      "outputs": [],
      "source": [
        "x, y = torch.tensor([2.0], dtype = torch.double) ,torch.tensor([3.0], dtype = torch.double)\n",
        "dx, dy = grad(log_exp, x, y)"
      ]
    },
    {
      "cell_type": "code",
      "execution_count": 18,
      "metadata": {
        "id": "oIkTfFH0snPD"
      },
      "outputs": [],
      "source": [
        "assert_almost_equal(-0.7310586, dx.numpy())\n",
        "assert_almost_equal(0.7310586, dy.numpy())"
      ]
    },
    {
      "attachments": {},
      "cell_type": "markdown",
      "metadata": {
        "id": "1oNpz1wIona9"
      },
      "source": [
        "4. Agora teste com números maiores, algum problema?"
      ]
    },
    {
      "cell_type": "code",
      "execution_count": 19,
      "metadata": {
        "id": "0qEsHY5VsuH_"
      },
      "outputs": [
        {
          "data": {
            "text/plain": [
              "(tensor([nan], dtype=torch.float64), tensor([nan], dtype=torch.float64))"
            ]
          },
          "execution_count": 19,
          "metadata": {},
          "output_type": "execute_result"
        }
      ],
      "source": [
        "x, y = torch.tensor([400.0]).double() ,torch.tensor([800.0]).double()\n",
        "grad(log_exp, x, y)"
      ]
    },
    {
      "attachments": {},
      "cell_type": "markdown",
      "metadata": {},
      "source": [
        "Quando o número é muito grande, podemos ter um overflow ao calcular o resultado de log_exp()."
      ]
    },
    {
      "attachments": {},
      "cell_type": "markdown",
      "metadata": {
        "id": "XGUiPmJLonbB"
      },
      "source": [
        "5. Pense um pouco sobre o motivo do erro acima. Usando as propriedade de logaritmos, é possível fazer uma função mais estável. Abaixo segue a implementação da mesma. O problema aqui é que o exponencial \"explode\" quando x ou y são muito grandes. Este [link](http://www.wolframalpha.com/input/?i=log[e%5Ex+%2F+[e%5Ex+%2B+e%5Ey]]) pode ajudar."
      ]
    },
    {
      "cell_type": "code",
      "execution_count": 20,
      "metadata": {
        "id": "rnj8B4EyttvL"
      },
      "outputs": [],
      "source": [
        "x, y = torch.tensor([400.0], dtype = torch.double) ,torch.tensor([800.0], dtype = torch.double)\n",
        "def stable_log_exp(x, y):\n",
        "    return torch.log(torch.exp(y-x))\n",
        "\n",
        "dx, dy = grad(stable_log_exp, x, y)"
      ]
    },
    {
      "cell_type": "code",
      "execution_count": 21,
      "metadata": {
        "id": "B9QIVgN1onbF"
      },
      "outputs": [
        {
          "data": {
            "text/plain": [
              "tensor([400.], dtype=torch.float64, grad_fn=<LogBackward0>)"
            ]
          },
          "execution_count": 21,
          "metadata": {},
          "output_type": "execute_result"
        }
      ],
      "source": [
        "stable_log_exp(x, y)"
      ]
    },
    {
      "cell_type": "code",
      "execution_count": 22,
      "metadata": {
        "id": "aVWzzA4-t9J2"
      },
      "outputs": [],
      "source": [
        "# Teste. Não apague\n",
        "assert_equal(-1, dx.numpy())\n",
        "assert_equal(1, dy.numpy())"
      ]
    },
    {
      "attachments": {},
      "cell_type": "markdown",
      "metadata": {
        "id": "esV2XR7jonbL"
      },
      "source": [
        "O exemplo acima mostra um pouco de problemas de estabilidade númerica. Às vezes é melhor usar versões alternativas de funções. Isto vai ocorrer quando você ver vários nans na sua frente :-) Claro, estamos assumindo que existe uma outra função equivalente que é mais estável para o computador."
      ]
    },
    {
      "attachments": {},
      "cell_type": "markdown",
      "metadata": {
        "id": "3qI91TX7onbM"
      },
      "source": [
        "## Conjunto de Problemas 2: Regressão Linear\n",
        "\n",
        "Agora, vamos explorar uma regressão linear. Embora não vamos fazer uso da logexp acima, a ideia de derivar parcialmente dentro de funções pode nos ajudar. Lembrando da regressão linear, inicialmente temos um conjunto observações representadas como tuplas $(\\mathbf{x}_i, y_i)$. Aqui, $\\mathbf{x}_i$ é um vetor de atributos. Vamo forçar $\\mathbf{x}_{i0} = 1$, capturando assim o intercepto. Além do mais, $\\mathbf{x}_{ij}$ quando $j\\neq 0$, são os outros atributos de entrada. $y_i$ um valor real representando uma resposta. Nossa regressão visa capturar:\n",
        "\n",
        "$$y_i = 1 + \\theta_1 x_{i1} + \\theta_2 x_{i2} + \\cdots + \\theta_k x_{if}$$\n",
        "\n",
        "Lembrando da regressão linear multivariada, podemos representar as equações como uma multiplicação de uma matriz com um vetor\n",
        "\n",
        "![](./figs/linear.png)\n",
        "\n",
        "7. Crie uma função de previsao. A mesma recebe uma matrix $\\mathbf{X}$ e um vetor de parâmetros $\\theta$. Sua função deve retornar um vetor de previsões para cada linha de $\\mathbf{X}$. Não use nenhum laço!!"
      ]
    },
    {
      "cell_type": "code",
      "execution_count": 23,
      "metadata": {
        "id": "HveutorucYMJ"
      },
      "outputs": [],
      "source": [
        "def previsao(X, theta):\n",
        "    return torch.matmul(X, theta.float())"
      ]
    },
    {
      "attachments": {},
      "cell_type": "markdown",
      "metadata": {
        "id": "iNRX8E0MonbP"
      },
      "source": [
        "**Erros quadrados**. Para aprender os parâmetros ótimos da regressão linear, precisamos fazer uso de um modelo de erros quadrados. Em particular nosso objetico é aprender os parâmetros que minimizam a função:\n",
        "\n",
        "$$L(\\mathbf{\\theta}) = n^{-1} \\sum_i ({\\hat{y}_i - y_i})^2$$\n",
        "\n",
        "Onde $\\hat{y}_i$ é uma previsão (vêm da sua função python acima). $y_i$ é o valor real dos dados.\n",
        "\n",
        "8. Implemente uma função para a média dos os erros quadrados."
      ]
    },
    {
      "cell_type": "code",
      "execution_count": 24,
      "metadata": {
        "id": "sS7y5Wb2cusy"
      },
      "outputs": [],
      "source": [
        "def media_erros_quadrados(X, theta, y):\n",
        "    return torch.mean((previsao(X, theta) - y) ** 2)"
      ]
    },
    {
      "attachments": {},
      "cell_type": "markdown",
      "metadata": {
        "id": "EVqJCucconbT"
      },
      "source": [
        "9. Agora, crie uma função que deriva o erro acima. A função deve usar o autograd do pytorch (função backward). Lembre-se que temos um vetor de parâmetros $\\theta$. Por sorte, você pode fazer derivadas de tais vetores também."
      ]
    },
    {
      "cell_type": "code",
      "execution_count": 25,
      "metadata": {
        "id": "_ao1G8uSc8Bp"
      },
      "outputs": [],
      "source": [
        "def derivada_torch(X, theta, y): #Lembre que o theta passado devera ser uma variavel com requires_grad == True\n",
        "    e = media_erros_quadrados(X, theta, y)\n",
        "    e.backward()\n",
        "    return theta.grad"
      ]
    },
    {
      "attachments": {},
      "cell_type": "markdown",
      "metadata": {
        "id": "rnWTcJubonba"
      },
      "source": [
        "10. A versão a seguir não usa autograd. As derivadas são implementadas do zero."
      ]
    },
    {
      "cell_type": "code",
      "execution_count": 26,
      "metadata": {
        "id": "DBpOTZjPdLrq"
      },
      "outputs": [],
      "source": [
        "def derivada_navera(X, theta, y):\n",
        "    return ((torch.matmul(X, theta) - y) * X.T).mean(axis=1)"
      ]
    },
    {
      "attachments": {},
      "cell_type": "markdown",
      "metadata": {
        "id": "Tj5LkKLzonbf"
      },
      "source": [
        "11. Por fim, otimize sua função usando o algoritmo de gradiente descendente abaixo."
      ]
    },
    {
      "cell_type": "code",
      "execution_count": 70,
      "metadata": {
        "id": "j-9buFPGfVPG"
      },
      "outputs": [],
      "source": [
        "def gd(d_fun, loss_fun, X, y, lambda_=0.01, tol=0.00001, max_iter=10000):\n",
        "    '''\n",
        "    Executa Gradiente Descendente. Aqui:\n",
        "    \n",
        "    Parâmetros\n",
        "    ----------\n",
        "    d_fun : é uma função de derivadas\n",
        "    loss_fun : é uma função de perda\n",
        "    X : é um vetor de fatores explanatórios.\n",
        "        Copie seu código de intercepto da primeira aula.\n",
        "        para adicionar o intercepto em X.\n",
        "    y : é a resposta\n",
        "    lambda : é a taxa de aprendizado\n",
        "    tol : é a tolerância, define quando o algoritmo vai parar.\n",
        "    max_ter : é a segunda forma de parada, mesmo sem convergir\n",
        "              paramos depois de max_iter iterações.\n",
        "    '''\n",
        "    theta = torch.randn(X.shape[1])\n",
        "    theta.requires_grad_(True)\n",
        "    \n",
        "    print('Iter {}; theta = '.format(0), theta)\n",
        "    \n",
        "    old_err_sq = np.inf\n",
        "    i = 0\n",
        "    while True:\n",
        "        # Computar as derivadas\n",
        "                \n",
        "        theta.requires_grad_(True)  #Necessario pois ao final, theta recebe o theta novo, que não tem requires_grad == True\n",
        "        grad = d_fun(X,theta,y)\n",
        "\n",
        "        # Atualizar\n",
        "        with torch.no_grad(): \n",
        "            theta_novo = theta - lambda_ * grad\n",
        "        \n",
        "        #Parar quando o erro convergir\n",
        "        err_sq = loss_fun(X, theta, y)\n",
        "        if torch.abs(old_err_sq - err_sq) <= tol:\n",
        "            break\n",
        "        \n",
        "         #Atualizar parâmetros e erro\n",
        "        theta = theta_novo\n",
        "        old_err_sq = err_sq\n",
        "        \n",
        "        # Informação de debug\n",
        "        print('Iter {}; theta = '.format(i+1), theta)\n",
        "        i += 1\n",
        "        if i == max_iter:\n",
        "            break\n",
        "        \n",
        "    return theta"
      ]
    },
    {
      "attachments": {},
      "cell_type": "markdown",
      "metadata": {},
      "source": [
        "Esta função acima calcula os pesos para os quais o erro quadrático da função a ser calculada é mínimo, o que é, de fato, o aprendizado da máquina."
      ]
    },
    {
      "cell_type": "code",
      "execution_count": 73,
      "metadata": {
        "id": "RVWvK5mffuqd"
      },
      "outputs": [],
      "source": [
        "# Para testes, não apague!!!\n",
        "X = torch.zeros(1000, 2)\n",
        "X[:, 0] = 1.0\n",
        "X[:, 1] = torch.randn(1000)\n",
        "theta_0_real = 7.0\n",
        "theta_1_real = 9.0\n",
        "y = theta_0_real + theta_1_real * X[:, 1] # escolhemos os pesos theta_0 e theta_1 arbitrariamente, para ver se o modelo converge para estes números."
      ]
    },
    {
      "cell_type": "code",
      "execution_count": 72,
      "metadata": {
        "id": "IxE4o8ALonbm"
      },
      "outputs": [
        {
          "name": "stdout",
          "output_type": "stream",
          "text": [
            "Iter 0; theta =  tensor([0.6083199978, 1.3785887957], requires_grad=True)\n",
            "Iter 1; theta =  tensor([0.7342270613, 1.5286618471])\n",
            "Iter 2; theta =  tensor([0.8576538563, 1.6757799387])\n",
            "Iter 3; theta =  tensor([0.9786493182, 1.8200011253])\n",
            "Iter 4; theta =  tensor([1.0972613096, 1.9613823891])\n",
            "Iter 5; theta =  tensor([1.2135368586, 2.0999798775])\n",
            "Iter 6; theta =  tensor([1.3275218010, 2.2358481884])\n",
            "Iter 7; theta =  tensor([1.4392614365, 2.3690412045])\n",
            "Iter 8; theta =  tensor([1.5487999916, 2.4996113777])\n",
            "Iter 9; theta =  tensor([1.6561808586, 2.6276106834])\n",
            "Iter 10; theta =  tensor([1.7614463568, 2.7530894279])\n",
            "Iter 11; theta =  tensor([1.8646383286, 2.8760974407])\n",
            "Iter 12; theta =  tensor([1.9657975435, 2.9966833591])\n",
            "Iter 13; theta =  tensor([2.0649640560, 3.1148948669])\n",
            "Iter 14; theta =  tensor([2.1621770859, 3.2307786942])\n",
            "Iter 15; theta =  tensor([2.2574751377, 3.3443803787])\n",
            "Iter 16; theta =  tensor([2.3508958817, 3.4557452202])\n",
            "Iter 17; theta =  tensor([2.4424765110, 3.5649170876])\n",
            "Iter 18; theta =  tensor([2.5322530270, 3.6719393730])\n",
            "Iter 19; theta =  tensor([2.6202611923, 3.7768542767])\n",
            "Iter 20; theta =  tensor([2.7065355778, 3.8797032833])\n",
            "Iter 21; theta =  tensor([2.7911105156, 3.9805271626])\n",
            "Iter 22; theta =  tensor([2.8740193844, 4.0793657303])\n",
            "Iter 23; theta =  tensor([2.9552950859, 4.1762580872])\n",
            "Iter 24; theta =  tensor([3.0349698067, 4.2712426186])\n",
            "Iter 25; theta =  tensor([3.1130750179, 4.3643565178])\n",
            "Iter 26; theta =  tensor([3.1896417141, 4.4556369781])\n",
            "Iter 27; theta =  tensor([3.2647001743, 4.5451202393])\n",
            "Iter 28; theta =  tensor([3.3382799625, 4.6328415871])\n",
            "Iter 29; theta =  tensor([3.4104104042, 4.7188353539])\n",
            "Iter 30; theta =  tensor([3.4811198711, 4.8031358719])\n",
            "Iter 31; theta =  tensor([3.5504364967, 4.8857765198])\n",
            "Iter 32; theta =  tensor([3.6183876991, 4.9667897224])\n",
            "Iter 33; theta =  tensor([3.6850004196, 5.0462079048])\n",
            "Iter 34; theta =  tensor([3.7503008842, 5.1240620613])\n",
            "Iter 35; theta =  tensor([3.8143150806, 5.2003831863])\n",
            "Iter 36; theta =  tensor([3.8770682812, 5.2752017975])\n",
            "Iter 37; theta =  tensor([3.9385852814, 5.3485469818])\n",
            "Iter 38; theta =  tensor([3.9988906384, 5.4204478264])\n",
            "Iter 39; theta =  tensor([4.0580081940, 5.4909329414])\n",
            "Iter 40; theta =  tensor([4.1159610748, 5.5600299835])\n",
            "Iter 41; theta =  tensor([4.1727724075, 5.6277666092])\n",
            "Iter 42; theta =  tensor([4.2284646034, 5.6941695213])\n",
            "Iter 43; theta =  tensor([4.2830595970, 5.7592649460])\n",
            "Iter 44; theta =  tensor([4.3365793228, 5.8230786324])\n",
            "Iter 45; theta =  tensor([4.3890447617, 5.8856353760])\n",
            "Iter 46; theta =  tensor([4.4404764175, 5.9469604492])\n",
            "Iter 47; theta =  tensor([4.4908952713, 6.0070781708])\n",
            "Iter 48; theta =  tensor([4.5403208733, 6.0660119057])\n",
            "Iter 49; theta =  tensor([4.5887727737, 6.1237854958])\n",
            "Iter 50; theta =  tensor([4.6362700462, 6.1804213524])\n",
            "Iter 51; theta =  tensor([4.6828317642, 6.2359418869])\n",
            "Iter 52; theta =  tensor([4.7284765244, 6.2903690338])\n",
            "Iter 53; theta =  tensor([4.7732219696, 6.3437247276])\n",
            "Iter 54; theta =  tensor([4.8170862198, 6.3960294724])\n",
            "Iter 55; theta =  tensor([4.8600864410, 6.4473047256])\n",
            "Iter 56; theta =  tensor([4.9022393227, 6.4975700378])\n",
            "Iter 57; theta =  tensor([4.9435620308, 6.5468454361])\n",
            "Iter 58; theta =  tensor([4.9840707779, 6.5951504707])\n",
            "Iter 59; theta =  tensor([5.0237812996, 6.6425046921])\n",
            "Iter 60; theta =  tensor([5.0627098083, 6.6889262199])\n",
            "Iter 61; theta =  tensor([5.1008715630, 6.7344336510])\n",
            "Iter 62; theta =  tensor([5.1382813454, 6.7790451050])\n",
            "Iter 63; theta =  tensor([5.1749544144, 6.8227782249])\n",
            "Iter 64; theta =  tensor([5.2109050751, 6.8656501770])\n",
            "Iter 65; theta =  tensor([5.2461476326, 6.9076776505])\n",
            "Iter 66; theta =  tensor([5.2806959152, 6.9488778114])\n",
            "Iter 67; theta =  tensor([5.3145632744, 6.9892668724])\n",
            "Iter 68; theta =  tensor([5.3477635384, 7.0288605690])\n",
            "Iter 69; theta =  tensor([5.3803100586, 7.0676746368])\n",
            "Iter 70; theta =  tensor([5.4122152328, 7.1057243347])\n",
            "Iter 71; theta =  tensor([5.4434919357, 7.1430249214])\n",
            "Iter 72; theta =  tensor([5.4741525650, 7.1795907021])\n",
            "Iter 73; theta =  tensor([5.5042095184, 7.2154364586])\n",
            "Iter 74; theta =  tensor([5.5336742401, 7.2505764961])\n",
            "Iter 75; theta =  tensor([5.5625586510, 7.2850246429])\n",
            "Iter 76; theta =  tensor([5.5908741951, 7.3187942505])\n",
            "Iter 77; theta =  tensor([5.6186318398, 7.3518991470])\n",
            "Iter 78; theta =  tensor([5.6458425522, 7.3843522072])\n",
            "Iter 79; theta =  tensor([5.6725172997, 7.4161663055])\n",
            "Iter 80; theta =  tensor([5.6986665726, 7.4473538399])\n",
            "Iter 81; theta =  tensor([5.7243008614, 7.4779272079])\n",
            "Iter 82; theta =  tensor([5.7494301796, 7.5078983307])\n",
            "Iter 83; theta =  tensor([5.7740645409, 7.5372796059])\n",
            "Iter 84; theta =  tensor([5.7982134819, 7.5660820007])\n",
            "Iter 85; theta =  tensor([5.8218865395, 7.5943174362])\n",
            "Iter 86; theta =  tensor([5.8450932503, 7.6219968796])\n",
            "Iter 87; theta =  tensor([5.8678431511, 7.6491312981])\n",
            "Iter 88; theta =  tensor([5.8901448250, 7.6757316589])\n",
            "Iter 89; theta =  tensor([5.9120073318, 7.7018079758])\n",
            "Iter 90; theta =  tensor([5.9334392548, 7.7273707390])\n",
            "Iter 91; theta =  tensor([5.9544487000, 7.7524304390])\n",
            "Iter 92; theta =  tensor([5.9750442505, 7.7769966125])\n",
            "Iter 93; theta =  tensor([5.9952340126, 7.8010787964])\n",
            "Iter 94; theta =  tensor([6.0150260925, 7.8246870041])\n",
            "Iter 95; theta =  tensor([6.0344285965, 7.8478302956])\n",
            "Iter 96; theta =  tensor([6.0534486771, 7.8705177307])\n",
            "Iter 97; theta =  tensor([6.0720939636, 7.8927583694])\n",
            "Iter 98; theta =  tensor([6.0903720856, 7.9145612717])\n",
            "Iter 99; theta =  tensor([6.1082901955, 7.9359350204])\n",
            "Iter 100; theta =  tensor([6.1258554459, 7.9568877220])\n",
            "Iter 101; theta =  tensor([6.1430745125, 7.9774279594])\n",
            "Iter 102; theta =  tensor([6.1599545479, 7.9975633621])\n",
            "Iter 103; theta =  tensor([6.1765022278, 8.0173025131])\n",
            "Iter 104; theta =  tensor([6.1927237511, 8.0366525650])\n",
            "Iter 105; theta =  tensor([6.2086257935, 8.0556221008])\n",
            "Iter 106; theta =  tensor([6.2242145538, 8.0742177963])\n",
            "Iter 107; theta =  tensor([6.2394962311, 8.0924472809])\n",
            "Iter 108; theta =  tensor([6.2544770241, 8.1103181839])\n",
            "Iter 109; theta =  tensor([6.2691626549, 8.1278371811])\n",
            "Iter 110; theta =  tensor([6.2835588455, 8.1450109482])\n",
            "Iter 111; theta =  tensor([6.2976713181, 8.1618471146])\n",
            "Iter 112; theta =  tensor([6.3115057945, 8.1783514023])\n",
            "Iter 113; theta =  tensor([6.3250679970, 8.1945304871])\n",
            "Iter 114; theta =  tensor([6.3383631706, 8.2103910446])\n",
            "Iter 115; theta =  tensor([6.3513960838, 8.2259397507])\n",
            "Iter 116; theta =  tensor([6.3641724586, 8.2411823273])\n",
            "Iter 117; theta =  tensor([6.3766970634, 8.2561244965])\n",
            "Iter 118; theta =  tensor([6.3889751434, 8.2707719803])\n",
            "Iter 119; theta =  tensor([6.4010114670, 8.2851314545])\n",
            "Iter 120; theta =  tensor([6.4128103256, 8.2992076874])\n",
            "Iter 121; theta =  tensor([6.4243769646, 8.3130073547])\n",
            "Iter 122; theta =  tensor([6.4357156754, 8.3265352249])\n",
            "Iter 123; theta =  tensor([6.4468312263, 8.3397970200])\n",
            "Iter 124; theta =  tensor([6.4577279091, 8.3527975082])\n",
            "Iter 125; theta =  tensor([6.4684095383, 8.3655414581])\n",
            "Iter 126; theta =  tensor([6.4788808823, 8.3780345917])\n",
            "Iter 127; theta =  tensor([6.4891462326, 8.3902816772])\n",
            "Iter 128; theta =  tensor([6.4992094040, 8.4022874832])\n",
            "Iter 129; theta =  tensor([6.5090742111, 8.4140567780])\n",
            "Iter 130; theta =  tensor([6.5187444687, 8.4255943298])\n",
            "Iter 131; theta =  tensor([6.5282244682, 8.4369049072])\n",
            "Iter 132; theta =  tensor([6.5375175476, 8.4479932785])\n",
            "Iter 133; theta =  tensor([6.5466275215, 8.4588632584])\n",
            "Iter 134; theta =  tensor([6.5555582047, 8.4695186615])\n",
            "Iter 135; theta =  tensor([6.5643129349, 8.4799642563])\n",
            "Iter 136; theta =  tensor([6.5728950500, 8.4902048111])\n",
            "Iter 137; theta =  tensor([6.5813083649, 8.5002431870])\n",
            "Iter 138; theta =  tensor([6.5895557404, 8.5100841522])\n",
            "Iter 139; theta =  tensor([6.5976409912, 8.5197315216])\n",
            "Iter 140; theta =  tensor([6.6055669785, 8.5291881561])\n",
            "Iter 141; theta =  tensor([6.6133365631, 8.5384588242])\n",
            "Iter 142; theta =  tensor([6.6209530830, 8.5475473404])\n",
            "Iter 143; theta =  tensor([6.6284198761, 8.5564565659])\n",
            "Iter 144; theta =  tensor([6.6357393265, 8.5651903152])\n",
            "Iter 145; theta =  tensor([6.6429147720, 8.5737524033])\n",
            "Iter 146; theta =  tensor([6.6499485970, 8.5821456909])\n",
            "Iter 147; theta =  tensor([6.6568441391, 8.5903739929])\n",
            "Iter 148; theta =  tensor([6.6636037827, 8.5984401703])\n",
            "Iter 149; theta =  tensor([6.6702303886, 8.6063470840])\n",
            "Iter 150; theta =  tensor([6.6767263412, 8.6140985489])\n",
            "Iter 151; theta =  tensor([6.6830945015, 8.6216974258])\n",
            "Iter 152; theta =  tensor([6.6893367767, 8.6291465759])\n",
            "Iter 153; theta =  tensor([6.6954565048, 8.6364488602])\n",
            "Iter 154; theta =  tensor([6.7014555931, 8.6436080933])\n",
            "Iter 155; theta =  tensor([6.7073364258, 8.6506261826])\n",
            "Iter 156; theta =  tensor([6.7131013870, 8.6575059891])\n",
            "Iter 157; theta =  tensor([6.7187528610, 8.6642503738])\n",
            "Iter 158; theta =  tensor([6.7242927551, 8.6708612442])\n",
            "Iter 159; theta =  tensor([6.7297239304, 8.6773424149])\n",
            "Iter 160; theta =  tensor([6.7350478172, 8.6836957932])\n",
            "Iter 161; theta =  tensor([6.7402667999, 8.6899242401])\n",
            "Iter 162; theta =  tensor([6.7453832626, 8.6960296631])\n",
            "Iter 163; theta =  tensor([6.7503986359, 8.7020149231])\n",
            "Iter 164; theta =  tensor([6.7553153038, 8.7078828812])\n",
            "Iter 165; theta =  tensor([6.7601351738, 8.7136354446])\n",
            "Iter 166; theta =  tensor([6.7648601532, 8.7192745209])\n",
            "Iter 167; theta =  tensor([6.7694921494, 8.7248020172])\n",
            "Iter 168; theta =  tensor([6.7740325928, 8.7302207947])\n",
            "Iter 169; theta =  tensor([6.7784838676, 8.7355327606])\n",
            "Iter 170; theta =  tensor([6.7828474045, 8.7407407761])\n",
            "Iter 171; theta =  tensor([6.7871251106, 8.7458457947])\n",
            "Iter 172; theta =  tensor([6.7913184166, 8.7508506775])\n",
            "Iter 173; theta =  tensor([6.7954292297, 8.7557563782])\n",
            "Iter 174; theta =  tensor([6.7994589806, 8.7605657578])\n",
            "Iter 175; theta =  tensor([6.8034090996, 8.7652807236])\n",
            "Iter 176; theta =  tensor([6.8072814941, 8.7699022293])\n",
            "Iter 177; theta =  tensor([6.8110775948, 8.7744331360])\n",
            "Iter 178; theta =  tensor([6.8147988319, 8.7788743973])\n",
            "Iter 179; theta =  tensor([6.8184471130, 8.7832288742])\n",
            "Iter 180; theta =  tensor([6.8220233917, 8.7874975204])\n",
            "Iter 181; theta =  tensor([6.8255290985, 8.7916822433])\n",
            "Iter 182; theta =  tensor([6.8289656639, 8.7957839966])\n",
            "Iter 183; theta =  tensor([6.8323345184, 8.7998056412])\n",
            "Iter 184; theta =  tensor([6.8356370926, 8.8037481308])\n",
            "Iter 185; theta =  tensor([6.8388748169, 8.8076124191])\n",
            "Iter 186; theta =  tensor([6.8420486450, 8.8114004135])\n",
            "Iter 187; theta =  tensor([6.8451600075, 8.8151140213])\n",
            "Iter 188; theta =  tensor([6.8482098579, 8.8187541962])\n",
            "Iter 189; theta =  tensor([6.8511996269, 8.8223228455])\n",
            "Iter 190; theta =  tensor([6.8541307449, 8.8258218765])\n",
            "Iter 191; theta =  tensor([6.8570041656, 8.8292512894])\n",
            "Iter 192; theta =  tensor([6.8598208427, 8.8326139450])\n",
            "Iter 193; theta =  tensor([6.8625822067, 8.8359098434])\n",
            "Iter 194; theta =  tensor([6.8652892113, 8.8391408920])\n",
            "Iter 195; theta =  tensor([6.8679428101, 8.8423080444])\n",
            "Iter 196; theta =  tensor([6.8705439568, 8.8454132080])\n",
            "Iter 197; theta =  tensor([6.8730940819, 8.8484573364])\n",
            "Iter 198; theta =  tensor([6.8755936623, 8.8514413834])\n",
            "Iter 199; theta =  tensor([6.8780441284, 8.8543663025])\n",
            "Iter 200; theta =  tensor([6.8804464340, 8.8572340012])\n",
            "Iter 201; theta =  tensor([6.8828015327, 8.8600454330])\n",
            "Iter 202; theta =  tensor([6.8851099014, 8.8628015518])\n",
            "Iter 203; theta =  tensor([6.8873729706, 8.8655033112])\n",
            "Iter 204; theta =  tensor([6.8895916939, 8.8681516647])\n",
            "Iter 205; theta =  tensor([6.8917665482, 8.8707475662])\n",
            "Iter 206; theta =  tensor([6.8938984871, 8.8732929230])\n",
            "Iter 207; theta =  tensor([6.8959884644, 8.8757877350])\n",
            "Iter 208; theta =  tensor([6.8980374336, 8.8782339096])\n",
            "Iter 209; theta =  tensor([6.9000458717, 8.8806314468])\n",
            "Iter 210; theta =  tensor([6.9020147324, 8.8829822540])\n",
            "Iter 211; theta =  tensor([6.9039449692, 8.8852863312])\n",
            "Iter 212; theta =  tensor([6.9058370590, 8.8875455856])\n",
            "Iter 213; theta =  tensor([6.9076919556, 8.8897600174])\n",
            "Iter 214; theta =  tensor([6.9095101357, 8.8919305801])\n",
            "Iter 215; theta =  tensor([6.9112925529, 8.8940582275])\n",
            "Iter 216; theta =  tensor([6.9130396843, 8.8961439133])\n",
            "Iter 217; theta =  tensor([6.9147524834, 8.8981885910])\n",
            "Iter 218; theta =  tensor([6.9164319038, 8.9001932144])\n",
            "Iter 219; theta =  tensor([6.9180779457, 8.9021587372])\n",
            "Iter 220; theta =  tensor([6.9196915627, 8.9040851593])\n",
            "Iter 221; theta =  tensor([6.9212737083, 8.9059734344])\n",
            "Iter 222; theta =  tensor([6.9228243828, 8.9078245163])\n",
            "Iter 223; theta =  tensor([6.9243445396, 8.9096393585])\n",
            "Iter 224; theta =  tensor([6.9258346558, 8.9114189148])\n",
            "Iter 225; theta =  tensor([6.9272956848, 8.9131631851])\n",
            "Iter 226; theta =  tensor([6.9287276268, 8.9148731232])\n",
            "Iter 227; theta =  tensor([6.9301314354, 8.9165496826])\n",
            "Iter 228; theta =  tensor([6.9315075874, 8.9181928635])\n",
            "Iter 229; theta =  tensor([6.9328565598, 8.9198036194])\n",
            "Iter 230; theta =  tensor([6.9341793060, 8.9213829041])\n",
            "Iter 231; theta =  tensor([6.9354758263, 8.9229307175])\n",
            "Iter 232; theta =  tensor([6.9367465973, 8.9244480133])\n",
            "Iter 233; theta =  tensor([6.9379925728, 8.9259357452])\n",
            "Iter 234; theta =  tensor([6.9392142296, 8.9273939133])\n",
            "Iter 235; theta =  tensor([6.9404115677, 8.9288234711])\n",
            "Iter 236; theta =  tensor([6.9415855408, 8.9302253723])\n",
            "Iter 237; theta =  tensor([6.9427361488, 8.9315996170])\n",
            "Iter 238; theta =  tensor([6.9438643456, 8.9329462051])\n",
            "Iter 239; theta =  tensor([6.9449701309, 8.9342670441])\n",
            "Iter 240; theta =  tensor([6.9460539818, 8.9355611801])\n",
            "Iter 241; theta =  tensor([6.9471163750, 8.9368305206])\n",
            "Iter 242; theta =  tensor([6.9481582642, 8.9380741119])\n",
            "Iter 243; theta =  tensor([6.9491796494, 8.9392938614])\n",
            "Iter 244; theta =  tensor([6.9501805305, 8.9404888153])\n",
            "Iter 245; theta =  tensor([6.9511618614, 8.9416608810])\n",
            "Iter 246; theta =  tensor([6.9521236420, 8.9428100586])\n",
            "Iter 247; theta =  tensor([6.9530668259, 8.9439363480])\n",
            "Iter 248; theta =  tensor([6.9539914131, 8.9450407028])\n",
            "Iter 249; theta =  tensor([6.9548978806, 8.9461231232])\n",
            "Iter 250; theta =  tensor([6.9557862282, 8.9471836090])\n",
            "Iter 251; theta =  tensor([6.9566569328, 8.9482240677])\n",
            "Iter 252; theta =  tensor([6.9575104713, 8.9492435455])\n",
            "Iter 253; theta =  tensor([6.9583473206, 8.9502429962])\n",
            "Iter 254; theta =  tensor([6.9591679573, 8.9512224197])\n",
            "Iter 255; theta =  tensor([6.9599723816, 8.9521827698])\n",
            "Iter 256; theta =  tensor([6.9607610703, 8.9531240463])\n",
            "Iter 257; theta =  tensor([6.9615340233, 8.9540472031])\n",
            "Iter 258; theta =  tensor([6.9622917175, 8.9549522400])\n",
            "Iter 259; theta =  tensor([6.9630346298, 8.9558391571])\n",
            "Iter 260; theta =  tensor([6.9637627602, 8.9567089081])\n",
            "Iter 261; theta =  tensor([6.9644765854, 8.9575614929])\n",
            "Iter 262; theta =  tensor([6.9651761055, 8.9583969116])\n",
            "Iter 263; theta =  tensor([6.9658622742, 8.9592161179])\n",
            "Iter 264; theta =  tensor([6.9665346146, 8.9600191116])\n",
            "Iter 265; theta =  tensor([6.9671936035, 8.9608068466])\n",
            "Iter 266; theta =  tensor([6.9678397179, 8.9615783691])\n",
            "Iter 267; theta =  tensor([6.9684734344, 8.9623346329])\n",
            "Iter 268; theta =  tensor([6.9690942764, 8.9630765915])\n",
            "Iter 269; theta =  tensor([6.9697031975, 8.9638032913])\n",
            "Iter 270; theta =  tensor([6.9703001976, 8.9645156860])\n",
            "Iter 271; theta =  tensor([6.9708852768, 8.9652147293])\n",
            "Iter 272; theta =  tensor([6.9714589119, 8.9658994675])\n",
            "Iter 273; theta =  tensor([6.9720211029, 8.9665708542])\n",
            "Iter 274; theta =  tensor([6.9725723267, 8.9672288895])\n",
            "Iter 275; theta =  tensor([6.9731125832, 8.9678745270])\n",
            "Iter 276; theta =  tensor([6.9736423492, 8.9685068130])\n",
            "Iter 277; theta =  tensor([6.9741616249, 8.9691267014])\n",
            "Iter 278; theta =  tensor([6.9746704102, 8.9697341919])\n",
            "Iter 279; theta =  tensor([6.9751691818, 8.9703302383])\n",
            "Iter 280; theta =  tensor([6.9756584167, 8.9709148407])\n",
            "Iter 281; theta =  tensor([6.9761381149, 8.9714879990])\n",
            "Iter 282; theta =  tensor([6.9766082764, 8.9720497131])\n",
            "Iter 283; theta =  tensor([6.9770689011, 8.9725999832])\n",
            "Iter 284; theta =  tensor([6.9775204659, 8.9731397629])\n",
            "Iter 285; theta =  tensor([6.9779634476, 8.9736690521])\n",
            "Iter 286; theta =  tensor([6.9783973694, 8.9741878510])\n",
            "Iter 287; theta =  tensor([6.9788227081, 8.9746961594])\n",
            "Iter 288; theta =  tensor([6.9792399406, 8.9751939774])\n",
            "Iter 289; theta =  tensor([6.9796490669, 8.9756822586])\n",
            "Iter 290; theta =  tensor([6.9800500870, 8.9761610031])\n",
            "Iter 291; theta =  tensor([6.9804430008, 8.9766302109])\n",
            "Iter 292; theta =  tensor([6.9808282852, 8.9770908356])\n",
            "Iter 293; theta =  tensor([6.9812059402, 8.9775419235])\n",
            "Iter 294; theta =  tensor([6.9815759659, 8.9779844284])\n",
            "Iter 295; theta =  tensor([6.9819388390, 8.9784183502])\n",
            "Iter 296; theta =  tensor([6.9822945595, 8.9788436890])\n",
            "Iter 297; theta =  tensor([6.9826431274, 8.9792604446])\n",
            "Iter 298; theta =  tensor([6.9829850197, 8.9796686172])\n",
            "Iter 299; theta =  tensor([6.9833202362, 8.9800691605])\n",
            "Iter 300; theta =  tensor([6.9836487770, 8.9804620743])\n",
            "Iter 301; theta =  tensor([6.9839706421, 8.9808464050])\n",
            "Iter 302; theta =  tensor([6.9842863083, 8.9812231064])\n",
            "Iter 303; theta =  tensor([6.9845957756, 8.9815931320])\n",
            "Iter 304; theta =  tensor([6.9848990440, 8.9819555283])\n",
            "Iter 305; theta =  tensor([6.9851965904, 8.9823112488])\n",
            "Iter 306; theta =  tensor([6.9854884148, 8.9826593399])\n",
            "Iter 307; theta =  tensor([6.9857740402, 8.9830007553])\n",
            "Iter 308; theta =  tensor([6.9860544205, 8.9833354950])\n",
            "Iter 309; theta =  tensor([6.9863290787, 8.9836635590])\n",
            "Iter 310; theta =  tensor([6.9865984917, 8.9839849472])\n",
            "Iter 311; theta =  tensor([6.9868626595, 8.9843006134])\n",
            "Iter 312; theta =  tensor([6.9871215820, 8.9846096039])\n",
            "Iter 313; theta =  tensor([6.9873752594, 8.9849128723])\n",
            "Iter 314; theta =  tensor([6.9876241684, 8.9852104187])\n",
            "Iter 315; theta =  tensor([6.9878678322, 8.9855012894])\n",
            "Iter 316; theta =  tensor([6.9881067276, 8.9857864380])\n",
            "Iter 317; theta =  tensor([6.9883408546, 8.9860658646])\n",
            "Iter 318; theta =  tensor([6.9885706902, 8.9863405228])\n",
            "Iter 319; theta =  tensor([6.9887957573, 8.9866094589])\n",
            "Iter 320; theta =  tensor([6.9890165329, 8.9868726730])\n",
            "Iter 321; theta =  tensor([6.9892330170, 8.9871311188])\n",
            "Iter 322; theta =  tensor([6.9894452095, 8.9873847961])\n",
            "Iter 323; theta =  tensor([6.9896531105, 8.9876327515])\n",
            "Iter 324; theta =  tensor([6.9898567200, 8.9878759384])\n"
          ]
        }
      ],
      "source": [
        "# Testando com derivada autograd. Sua função deve retornar algo perto de 7 e 9\n",
        "theta = gd(derivada_torch, media_erros_quadrados, X, y)\n",
        "#cada iteração impressa no terminal é uma \"epoch\" do modelo. "
      ]
    },
    {
      "cell_type": "code",
      "execution_count": 65,
      "metadata": {
        "id": "-YZwD4GZonbo"
      },
      "outputs": [
        {
          "data": {
            "text/plain": [
              "tensor([6.9872307777, 8.9908800125], requires_grad=True)"
            ]
          },
          "execution_count": 65,
          "metadata": {},
          "output_type": "execute_result"
        }
      ],
      "source": [
        "theta"
      ]
    },
    {
      "cell_type": "code",
      "execution_count": 66,
      "metadata": {
        "id": "p9DuRmmjonbr"
      },
      "outputs": [
        {
          "name": "stdout",
          "output_type": "stream",
          "text": [
            "Iter 0; theta =  tensor([0.9532710910, 1.1003383398], requires_grad=True)\n",
            "Iter 1; theta =  tensor([1.0108392239, 1.1823592186])\n",
            "Iter 2; theta =  tensor([1.0678617954, 1.2635266781])\n",
            "Iter 3; theta =  tensor([1.1243438721, 1.3438494205])\n",
            "Iter 4; theta =  tensor([1.1802905798, 1.4233363867])\n",
            "Iter 5; theta =  tensor([1.2357070446, 1.5019962788])\n",
            "Iter 6; theta =  tensor([1.2905981541, 1.5798376799])\n",
            "Iter 7; theta =  tensor([1.3449689150, 1.6568691730])\n",
            "Iter 8; theta =  tensor([1.3988243341, 1.7330991030])\n",
            "Iter 9; theta =  tensor([1.4521691799, 1.8085359335])\n",
            "Iter 10; theta =  tensor([1.5050082207, 1.8831878901])\n",
            "Iter 11; theta =  tensor([1.5573462248, 1.9570631981])\n",
            "Iter 12; theta =  tensor([1.6091879606, 2.0301699638])\n",
            "Iter 13; theta =  tensor([1.6605381966, 2.1025161743])\n",
            "Iter 14; theta =  tensor([1.7114014626, 2.1741096973])\n",
            "Iter 15; theta =  tensor([1.7617822886, 2.2449584007])\n",
            "Iter 16; theta =  tensor([1.8116853237, 2.3150701523])\n",
            "Iter 17; theta =  tensor([1.8611150980, 2.3844525814])\n",
            "Iter 18; theta =  tensor([1.9100760221, 2.4531133175])\n",
            "Iter 19; theta =  tensor([1.9585725069, 2.5210597515])\n",
            "Iter 20; theta =  tensor([2.0066089630, 2.5882995129])\n",
            "Iter 21; theta =  tensor([2.0541896820, 2.6548397541])\n",
            "Iter 22; theta =  tensor([2.1013190746, 2.7206878662])\n",
            "Iter 23; theta =  tensor([2.1480014324, 2.7858510017])\n",
            "Iter 24; theta =  tensor([2.1942408085, 2.8503365517])\n",
            "Iter 25; theta =  tensor([2.2400414944, 2.9141514301])\n",
            "Iter 26; theta =  tensor([2.2854075432, 2.9773025513])\n",
            "Iter 27; theta =  tensor([2.3303432465, 3.0397968292])\n",
            "Iter 28; theta =  tensor([2.3748524189, 3.1016411781])\n",
            "Iter 29; theta =  tensor([2.4189391136, 3.1628425121])\n",
            "Iter 30; theta =  tensor([2.4626073837, 3.2234072685])\n",
            "Iter 31; theta =  tensor([2.5058612823, 3.2833421230])\n",
            "Iter 32; theta =  tensor([2.5487046242, 3.3426537514])\n",
            "Iter 33; theta =  tensor([2.5911412239, 3.4013485909])\n",
            "Iter 34; theta =  tensor([2.6331751347, 3.4594330788])\n",
            "Iter 35; theta =  tensor([2.6748099327, 3.5169136524])\n",
            "Iter 36; theta =  tensor([2.7160494328, 3.5737965107])\n",
            "Iter 37; theta =  tensor([2.7568974495, 3.6300880909])\n",
            "Iter 38; theta =  tensor([2.7973577976, 3.6857943535])\n",
            "Iter 39; theta =  tensor([2.8374338150, 3.7409214973])\n",
            "Iter 40; theta =  tensor([2.8771293163, 3.7954754829])\n",
            "Iter 41; theta =  tensor([2.9164478779, 3.8494622707])\n",
            "Iter 42; theta =  tensor([2.9553930759, 3.9028875828])\n",
            "Iter 43; theta =  tensor([2.9939684868, 3.9557576180])\n",
            "Iter 44; theta =  tensor([3.0321774483, 4.0080780983])\n",
            "Iter 45; theta =  tensor([3.0700235367, 4.0598545074])\n",
            "Iter 46; theta =  tensor([3.1075103283, 4.1110925674])\n",
            "Iter 47; theta =  tensor([3.1446409225, 4.1617980003])\n",
            "Iter 48; theta =  tensor([3.1814188957, 4.2119765282])\n",
            "Iter 49; theta =  tensor([3.2178475857, 4.2616333961])\n",
            "Iter 50; theta =  tensor([3.2539300919, 4.3107743263])\n",
            "Iter 51; theta =  tensor([3.2896697521, 4.3594040871])\n",
            "Iter 52; theta =  tensor([3.3250699043, 4.4075284004])\n",
            "Iter 53; theta =  tensor([3.3601336479, 4.4551525116])\n",
            "Iter 54; theta =  tensor([3.3948643208, 4.5022816658])\n",
            "Iter 55; theta =  tensor([3.4292650223, 4.5489211082])\n",
            "Iter 56; theta =  tensor([3.4633388519, 4.5950760841])\n",
            "Iter 57; theta =  tensor([3.4970889091, 4.6407513618])\n",
            "Iter 58; theta =  tensor([3.5305180550, 4.6859517097])\n",
            "Iter 59; theta =  tensor([3.5636296272, 4.7306823730])\n",
            "Iter 60; theta =  tensor([3.5964264870, 4.7749481201])\n",
            "Iter 61; theta =  tensor([3.6289117336, 4.8187537193])\n",
            "Iter 62; theta =  tensor([3.6610879898, 4.8621044159])\n",
            "Iter 63; theta =  tensor([3.6929585934, 4.9050045013])\n",
            "Iter 64; theta =  tensor([3.7245261669, 4.9474587440])\n",
            "Iter 65; theta =  tensor([3.7557935715, 4.9894719124])\n",
            "Iter 66; theta =  tensor([3.7867636681, 5.0310487747])\n",
            "Iter 67; theta =  tensor([3.8174393177, 5.0721936226])\n",
            "Iter 68; theta =  tensor([3.8478233814, 5.1129107475])\n",
            "Iter 69; theta =  tensor([3.8779184818, 5.1532049179])\n",
            "Iter 70; theta =  tensor([3.9077274799, 5.1930804253])\n",
            "Iter 71; theta =  tensor([3.9372529984, 5.2325415611])\n",
            "Iter 72; theta =  tensor([3.9664978981, 5.2715926170])\n",
            "Iter 73; theta =  tensor([3.9954645634, 5.3102383614])\n",
            "Iter 74; theta =  tensor([4.0241556168, 5.3484826088])\n",
            "Iter 75; theta =  tensor([4.0525741577, 5.3863291740])\n",
            "Iter 76; theta =  tensor([4.0807223320, 5.4237828255])\n",
            "Iter 77; theta =  tensor([4.1086025238, 5.4608473778])\n",
            "Iter 78; theta =  tensor([4.1362175941, 5.4975271225])\n",
            "Iter 79; theta =  tensor([4.1635699272, 5.5338258743])\n",
            "Iter 80; theta =  tensor([4.1906619072, 5.5697474480])\n",
            "Iter 81; theta =  tensor([4.2174963951, 5.6052956581])\n",
            "Iter 82; theta =  tensor([4.2440757751, 5.6404747963])\n",
            "Iter 83; theta =  tensor([4.2704019547, 5.6752886772])\n",
            "Iter 84; theta =  tensor([4.2964777946, 5.7097406387])\n",
            "Iter 85; theta =  tensor([4.3223056793, 5.7438349724])\n",
            "Iter 86; theta =  tensor([4.3478875160, 5.7775750160])\n",
            "Iter 87; theta =  tensor([4.3732261658, 5.8109650612])\n",
            "Iter 88; theta =  tensor([4.3983235359, 5.8440079689])\n",
            "Iter 89; theta =  tensor([4.4231820107, 5.8767080307])\n",
            "Iter 90; theta =  tensor([4.4478039742, 5.9090685844])\n",
            "Iter 91; theta =  tensor([4.4721913338, 5.9410929680])\n",
            "Iter 92; theta =  tensor([4.4963469505, 5.9727845192])\n",
            "Iter 93; theta =  tensor([4.5202727318, 6.0041470528])\n",
            "Iter 94; theta =  tensor([4.5439705849, 6.0351839066])\n",
            "Iter 95; theta =  tensor([4.5674428940, 6.0658984184])\n",
            "Iter 96; theta =  tensor([4.5906915665, 6.0962944031])\n",
            "Iter 97; theta =  tensor([4.6137189865, 6.1263747215])\n",
            "Iter 98; theta =  tensor([4.6365270615, 6.1561427116])\n",
            "Iter 99; theta =  tensor([4.6591181755, 6.1856017113])\n",
            "Iter 100; theta =  tensor([4.6814942360, 6.2147545815])\n",
            "Iter 101; theta =  tensor([4.7036571503, 6.2436046600])\n",
            "Iter 102; theta =  tensor([4.7256088257, 6.2721552849])\n",
            "Iter 103; theta =  tensor([4.7473516464, 6.3004097939])\n",
            "Iter 104; theta =  tensor([4.7688875198, 6.3283710480])\n",
            "Iter 105; theta =  tensor([4.7902183533, 6.3560419083])\n",
            "Iter 106; theta =  tensor([4.8113460541, 6.3834252357])\n",
            "Iter 107; theta =  tensor([4.8322725296, 6.4105243683])\n",
            "Iter 108; theta =  tensor([4.8529996872, 6.4373421669])\n",
            "Iter 109; theta =  tensor([4.8735294342, 6.4638819695])\n",
            "Iter 110; theta =  tensor([4.8938632011, 6.4901461601])\n",
            "Iter 111; theta =  tensor([4.9140033722, 6.5161375999])\n",
            "Iter 112; theta =  tensor([4.9339518547, 6.5418591499])\n",
            "Iter 113; theta =  tensor([4.9537100792, 6.5673141479])\n",
            "Iter 114; theta =  tensor([4.9732799530, 6.5925045013])\n",
            "Iter 115; theta =  tensor([4.9926633835, 6.6174335480])\n",
            "Iter 116; theta =  tensor([5.0118622780, 6.6421041489])\n",
            "Iter 117; theta =  tensor([5.0308785439, 6.6665186882])\n",
            "Iter 118; theta =  tensor([5.0497131348, 6.6906795502])\n",
            "Iter 119; theta =  tensor([5.0683684349, 6.7145895958])\n",
            "Iter 120; theta =  tensor([5.0868458748, 6.7382516861])\n",
            "Iter 121; theta =  tensor([5.1051473618, 6.7616682053])\n",
            "Iter 122; theta =  tensor([5.1232743263, 6.7848420143])\n",
            "Iter 123; theta =  tensor([5.1412286758, 6.8077750206])\n",
            "Iter 124; theta =  tensor([5.1590118408, 6.8304700851])\n",
            "Iter 125; theta =  tensor([5.1766257286, 6.8529295921])\n",
            "Iter 126; theta =  tensor([5.1940712929, 6.8751564026])\n",
            "Iter 127; theta =  tensor([5.2113509178, 6.8971524239])\n",
            "Iter 128; theta =  tensor([5.2284655571, 6.9189200401])\n",
            "Iter 129; theta =  tensor([5.2454171181, 6.9404621124])\n",
            "Iter 130; theta =  tensor([5.2622070312, 6.9617805481])\n",
            "Iter 131; theta =  tensor([5.2788367271, 6.9828777313])\n",
            "Iter 132; theta =  tensor([5.2953081131, 7.0037560463])\n",
            "Iter 133; theta =  tensor([5.3116226196, 7.0244178772])\n",
            "Iter 134; theta =  tensor([5.3277812004, 7.0448656082])\n",
            "Iter 135; theta =  tensor([5.3437857628, 7.0651011467])\n",
            "Iter 136; theta =  tensor([5.3596377373, 7.0851264000])\n",
            "Iter 137; theta =  tensor([5.3753385544, 7.1049442291])\n",
            "Iter 138; theta =  tensor([5.3908896446, 7.1245565414])\n",
            "Iter 139; theta =  tensor([5.4062924385, 7.1439652443])\n",
            "Iter 140; theta =  tensor([5.4215483665, 7.1631727219])\n",
            "Iter 141; theta =  tensor([5.4366588593, 7.1821808815])\n",
            "Iter 142; theta =  tensor([5.4516253471, 7.2009921074])\n",
            "Iter 143; theta =  tensor([5.4664487839, 7.2196078300])\n",
            "Iter 144; theta =  tensor([5.4811310768, 7.2380309105])\n",
            "Iter 145; theta =  tensor([5.4956731796, 7.2562627792])\n",
            "Iter 146; theta =  tensor([5.5100765228, 7.2743053436])\n",
            "Iter 147; theta =  tensor([5.5243425369, 7.2921609879])\n",
            "Iter 148; theta =  tensor([5.5384721756, 7.3098316193])\n",
            "Iter 149; theta =  tensor([5.5524673462, 7.3273186684])\n",
            "Iter 150; theta =  tensor([5.5663290024, 7.3446245193])\n",
            "Iter 151; theta =  tensor([5.5800580978, 7.3617510796])\n",
            "Iter 152; theta =  tensor([5.5936560631, 7.3786997795])\n",
            "Iter 153; theta =  tensor([5.6071243286, 7.3954730034])\n",
            "Iter 154; theta =  tensor([5.6204643250, 7.4120721817])\n",
            "Iter 155; theta =  tensor([5.6336770058, 7.4284992218])\n",
            "Iter 156; theta =  tensor([5.6467633247, 7.4447560310])\n",
            "Iter 157; theta =  tensor([5.6597247124, 7.4608440399])\n",
            "Iter 158; theta =  tensor([5.6725625992, 7.4767651558])\n",
            "Iter 159; theta =  tensor([5.6852779388, 7.4925212860])\n",
            "Iter 160; theta =  tensor([5.6978716850, 7.5081143379])\n",
            "Iter 161; theta =  tensor([5.7103452682, 7.5235457420])\n",
            "Iter 162; theta =  tensor([5.7227001190, 7.5388169289])\n",
            "Iter 163; theta =  tensor([5.7349367142, 7.5539298058])\n",
            "Iter 164; theta =  tensor([5.7470564842, 7.5688862801])\n",
            "Iter 165; theta =  tensor([5.7590608597, 7.5836873055])\n",
            "Iter 166; theta =  tensor([5.7709503174, 7.5983352661])\n",
            "Iter 167; theta =  tensor([5.7827262878, 7.6128311157])\n",
            "Iter 168; theta =  tensor([5.7943897247, 7.6271767616])\n",
            "Iter 169; theta =  tensor([5.8059420586, 7.6413736343])\n",
            "Iter 170; theta =  tensor([5.8173842430, 7.6554236412])\n",
            "Iter 171; theta =  tensor([5.8287167549, 7.6693277359])\n",
            "Iter 172; theta =  tensor([5.8399410248, 7.6830878258])\n",
            "Iter 173; theta =  tensor([5.8510584831, 7.6967053413])\n",
            "Iter 174; theta =  tensor([5.8620696068, 7.7101817131])\n",
            "Iter 175; theta =  tensor([5.8729753494, 7.7235183716])\n",
            "Iter 176; theta =  tensor([5.8837771416, 7.7367167473])\n",
            "Iter 177; theta =  tensor([5.8944759369, 7.7497782707])\n",
            "Iter 178; theta =  tensor([5.9050722122, 7.7627043724])\n",
            "Iter 179; theta =  tensor([5.9155673981, 7.7754969597])\n",
            "Iter 180; theta =  tensor([5.9259624481, 7.7881569862])\n",
            "Iter 181; theta =  tensor([5.9362583160, 7.8006854057])\n",
            "Iter 182; theta =  tensor([5.9464554787, 7.8130841255])\n",
            "Iter 183; theta =  tensor([5.9565553665, 7.8253545761])\n",
            "Iter 184; theta =  tensor([5.9665589333, 7.8374977112])\n",
            "Iter 185; theta =  tensor([5.9764666557, 7.8495149612])\n",
            "Iter 186; theta =  tensor([5.9862799644, 7.8614077568])\n",
            "Iter 187; theta =  tensor([5.9959993362, 7.8731775284])\n",
            "Iter 188; theta =  tensor([6.0056257248, 7.8848252296])\n",
            "Iter 189; theta =  tensor([6.0151600838, 7.8963522911])\n",
            "Iter 190; theta =  tensor([6.0246033669, 7.9077596664])\n",
            "Iter 191; theta =  tensor([6.0339565277, 7.9190492630])\n",
            "Iter 192; theta =  tensor([6.0432200432, 7.9302215576])\n",
            "Iter 193; theta =  tensor([6.0523953438, 7.9412784576])\n",
            "Iter 194; theta =  tensor([6.0614829063, 7.9522204399])\n",
            "Iter 195; theta =  tensor([6.0704836845, 7.9630494118])\n",
            "Iter 196; theta =  tensor([6.0793981552, 7.9737658501])\n",
            "Iter 197; theta =  tensor([6.0882277489, 7.9843716621])\n",
            "Iter 198; theta =  tensor([6.0969729424, 7.9948673248])\n",
            "Iter 199; theta =  tensor([6.1056342125, 8.0052547455])\n",
            "Iter 200; theta =  tensor([6.1142129898, 8.0155344009])\n",
            "Iter 201; theta =  tensor([6.1227097511, 8.0257072449])\n",
            "Iter 202; theta =  tensor([6.1311249733, 8.0357751846])\n",
            "Iter 203; theta =  tensor([6.1394600868, 8.0457382202])\n",
            "Iter 204; theta =  tensor([6.1477150917, 8.0555982590])\n",
            "Iter 205; theta =  tensor([6.1558914185, 8.0653562546])\n",
            "Iter 206; theta =  tensor([6.1639895439, 8.0750131607])\n",
            "Iter 207; theta =  tensor([6.1720099449, 8.0845699310])\n",
            "Iter 208; theta =  tensor([6.1799540520, 8.0940275192])\n",
            "Iter 209; theta =  tensor([6.1878218651, 8.1033878326])\n",
            "Iter 210; theta =  tensor([6.1956148148, 8.1126508713])\n",
            "Iter 211; theta =  tensor([6.2033329010, 8.1218185425])\n",
            "Iter 212; theta =  tensor([6.2109770775, 8.1308908463])\n",
            "Iter 213; theta =  tensor([6.2185482979, 8.1398696899])\n",
            "Iter 214; theta =  tensor([6.2260470390, 8.1487550735])\n",
            "Iter 215; theta =  tensor([6.2334742546, 8.1575489044])\n",
            "Iter 216; theta =  tensor([6.2408304214, 8.1662511826])\n",
            "Iter 217; theta =  tensor([6.2481160164, 8.1748638153])\n",
            "Iter 218; theta =  tensor([6.2553319931, 8.1833868027])\n",
            "Iter 219; theta =  tensor([6.2624788284, 8.1918220520])\n",
            "Iter 220; theta =  tensor([6.2695574760, 8.2001695633])\n",
            "Iter 221; theta =  tensor([6.2765684128, 8.2084302902])\n",
            "Iter 222; theta =  tensor([6.2835121155, 8.2166061401])\n",
            "Iter 223; theta =  tensor([6.2903895378, 8.2246971130])\n",
            "Iter 224; theta =  tensor([6.2972011566, 8.2327041626])\n",
            "Iter 225; theta =  tensor([6.3039474487, 8.2406282425])\n",
            "Iter 226; theta =  tensor([6.3106293678, 8.2484703064])\n",
            "Iter 227; theta =  tensor([6.3172473907, 8.2562313080])\n",
            "Iter 228; theta =  tensor([6.3238019943, 8.2639122009])\n",
            "Iter 229; theta =  tensor([6.3302936554, 8.2715139389])\n",
            "Iter 230; theta =  tensor([6.3367233276, 8.2790365219])\n",
            "Iter 231; theta =  tensor([6.3430914879, 8.2864809036])\n",
            "Iter 232; theta =  tensor([6.3493986130, 8.2938489914])\n",
            "Iter 233; theta =  tensor([6.3556456566, 8.3011407852])\n",
            "Iter 234; theta =  tensor([6.3618326187, 8.3083572388])\n",
            "Iter 235; theta =  tensor([6.3679604530, 8.3154983521])\n",
            "Iter 236; theta =  tensor([6.3740296364, 8.3225660324])\n",
            "Iter 237; theta =  tensor([6.3800406456, 8.3295602798])\n",
            "Iter 238; theta =  tensor([6.3859939575, 8.3364820480])\n",
            "Iter 239; theta =  tensor([6.3918905258, 8.3433322906])\n",
            "Iter 240; theta =  tensor([6.3977308273, 8.3501119614])\n",
            "Iter 241; theta =  tensor([6.4035148621, 8.3568210602])\n",
            "Iter 242; theta =  tensor([6.4092435837, 8.3634605408])\n",
            "Iter 243; theta =  tensor([6.4149174690, 8.3700313568])\n",
            "Iter 244; theta =  tensor([6.4205369949, 8.3765344620])\n",
            "Iter 245; theta =  tensor([6.4261026382, 8.3829698563])\n",
            "Iter 246; theta =  tensor([6.4316153526, 8.3893394470])\n",
            "Iter 247; theta =  tensor([6.4370751381, 8.3956432343])\n",
            "Iter 248; theta =  tensor([6.4424824715, 8.4018812180])\n",
            "Iter 249; theta =  tensor([6.4478383064, 8.4080543518])\n",
            "Iter 250; theta =  tensor([6.4531426430, 8.4141645432])\n",
            "Iter 251; theta =  tensor([6.4583964348, 8.4202108383])\n",
            "Iter 252; theta =  tensor([6.4635996819, 8.4261951447])\n",
            "Iter 253; theta =  tensor([6.4687528610, 8.4321174622])\n",
            "Iter 254; theta =  tensor([6.4738569260, 8.4379777908])\n",
            "Iter 255; theta =  tensor([6.4789118767, 8.4437780380])\n",
            "Iter 256; theta =  tensor([6.4839186668, 8.4495182037])\n",
            "Iter 257; theta =  tensor([6.4888772964, 8.4551992416])\n",
            "Iter 258; theta =  tensor([6.4937887192, 8.4608211517])\n",
            "Iter 259; theta =  tensor([6.4986529350, 8.4663848877])\n",
            "Iter 260; theta =  tensor([6.5034704208, 8.4718914032])\n",
            "Iter 261; theta =  tensor([6.5082421303, 8.4773406982])\n",
            "Iter 262; theta =  tensor([6.5129680634, 8.4827337265])\n",
            "Iter 263; theta =  tensor([6.5176486969, 8.4880714417])\n",
            "Iter 264; theta =  tensor([6.5222845078, 8.4933538437])\n",
            "Iter 265; theta =  tensor([6.5268754959, 8.4985809326])\n",
            "Iter 266; theta =  tensor([6.5314226151, 8.5037546158])\n",
            "Iter 267; theta =  tensor([6.5359263420, 8.5088748932])\n",
            "Iter 268; theta =  tensor([6.5403866768, 8.5139417648])\n",
            "Iter 269; theta =  tensor([6.5448045731, 8.5189561844])\n",
            "Iter 270; theta =  tensor([6.5491800308, 8.5239191055])\n",
            "Iter 271; theta =  tensor([6.5535135269, 8.5288305283])\n",
            "Iter 272; theta =  tensor([6.5578055382, 8.5336914062])\n",
            "Iter 273; theta =  tensor([6.5620565414, 8.5385017395])\n",
            "Iter 274; theta =  tensor([6.5662665367, 8.5432624817])\n",
            "Iter 275; theta =  tensor([6.5704364777, 8.5479736328])\n",
            "Iter 276; theta =  tensor([6.5745663643, 8.5526361465])\n",
            "Iter 277; theta =  tensor([6.5786566734, 8.5572509766])\n",
            "Iter 278; theta =  tensor([6.5827074051, 8.5618181229])\n",
            "Iter 279; theta =  tensor([6.5867195129, 8.5663375854])\n",
            "Iter 280; theta =  tensor([6.5906929970, 8.5708103180])\n",
            "Iter 281; theta =  tensor([6.5946283340, 8.5752372742])\n",
            "Iter 282; theta =  tensor([6.5985260010, 8.5796184540])\n",
            "Iter 283; theta =  tensor([6.6023864746, 8.5839538574])\n",
            "Iter 284; theta =  tensor([6.6062097549, 8.5882444382])\n",
            "Iter 285; theta =  tensor([6.6099963188, 8.5924911499])\n",
            "Iter 286; theta =  tensor([6.6137466431, 8.5966939926])\n",
            "Iter 287; theta =  tensor([6.6174612045, 8.6008529663])\n",
            "Iter 288; theta =  tensor([6.6211400032, 8.6049690247])\n",
            "Iter 289; theta =  tensor([6.6247835159, 8.6090421677])\n",
            "Iter 290; theta =  tensor([6.6283922195, 8.6130733490])\n",
            "Iter 291; theta =  tensor([6.6319661140, 8.6170635223])\n",
            "Iter 292; theta =  tensor([6.6355061531, 8.6210117340])\n",
            "Iter 293; theta =  tensor([6.6390118599, 8.6249189377])\n",
            "Iter 294; theta =  tensor([6.6424841881, 8.6287860870])\n",
            "Iter 295; theta =  tensor([6.6459231377, 8.6326131821])\n",
            "Iter 296; theta =  tensor([6.6493291855, 8.6364011765])\n",
            "Iter 297; theta =  tensor([6.6527023315, 8.6401500702])\n",
            "Iter 298; theta =  tensor([6.6560430527, 8.6438598633])\n",
            "Iter 299; theta =  tensor([6.6593518257, 8.6475315094])\n",
            "Iter 300; theta =  tensor([6.6626291275, 8.6511650085])\n",
            "Iter 301; theta =  tensor([6.6658749580, 8.6547613144])\n",
            "Iter 302; theta =  tensor([6.6690893173, 8.6583204269])\n",
            "Iter 303; theta =  tensor([6.6722731590, 8.6618423462])\n",
            "Iter 304; theta =  tensor([6.6754264832, 8.6653280258])\n",
            "Iter 305; theta =  tensor([6.6785492897, 8.6687774658])\n",
            "Iter 306; theta =  tensor([6.6816420555, 8.6721916199])\n",
            "Iter 307; theta =  tensor([6.6847052574, 8.6755704880])\n",
            "Iter 308; theta =  tensor([6.6877393723, 8.6789140701])\n",
            "Iter 309; theta =  tensor([6.6907439232, 8.6822233200])\n",
            "Iter 310; theta =  tensor([6.6937198639, 8.6854982376])\n",
            "Iter 311; theta =  tensor([6.6966671944, 8.6887397766])\n",
            "Iter 312; theta =  tensor([6.6995863914, 8.6919479370])\n",
            "Iter 313; theta =  tensor([6.7024774551, 8.6951227188])\n",
            "Iter 314; theta =  tensor([6.7053408623, 8.6982650757])\n",
            "Iter 315; theta =  tensor([6.7081766129, 8.7013750076])\n",
            "Iter 316; theta =  tensor([6.7109851837, 8.7044525146])\n",
            "Iter 317; theta =  tensor([6.7137670517, 8.7074985504])\n",
            "Iter 318; theta =  tensor([6.7165222168, 8.7105131149])\n",
            "Iter 319; theta =  tensor([6.7192506790, 8.7134962082])\n",
            "Iter 320; theta =  tensor([6.7219529152, 8.7164487839])\n",
            "Iter 321; theta =  tensor([6.7246294022, 8.7193708420])\n",
            "Iter 322; theta =  tensor([6.7272801399, 8.7222623825])\n",
            "Iter 323; theta =  tensor([6.7299056053, 8.7251243591])\n",
            "Iter 324; theta =  tensor([6.7325057983, 8.7279567719])\n",
            "Iter 325; theta =  tensor([6.7350807190, 8.7307596207])\n",
            "Iter 326; theta =  tensor([6.7376313210, 8.7335338593])\n",
            "Iter 327; theta =  tensor([6.7401571274, 8.7362794876])\n",
            "Iter 328; theta =  tensor([6.7426586151, 8.7389965057])\n",
            "Iter 329; theta =  tensor([6.7451362610, 8.7416849136])\n",
            "Iter 330; theta =  tensor([6.7475900650, 8.7443456650])\n",
            "Iter 331; theta =  tensor([6.7500205040, 8.7469797134])\n",
            "Iter 332; theta =  tensor([6.7524275780, 8.7495861053])\n",
            "Iter 333; theta =  tensor([6.7548112869, 8.7521657944])\n",
            "Iter 334; theta =  tensor([6.7571721077, 8.7547187805])\n",
            "Iter 335; theta =  tensor([6.7595105171, 8.7572450638])\n",
            "Iter 336; theta =  tensor([6.7618265152, 8.7597455978])\n",
            "Iter 337; theta =  tensor([6.7641201019, 8.7622203827])\n",
            "Iter 338; theta =  tensor([6.7663917542, 8.7646694183])\n",
            "Iter 339; theta =  tensor([6.7686414719, 8.7670936584])\n",
            "Iter 340; theta =  tensor([6.7708697319, 8.7694921494])\n",
            "Iter 341; theta =  tensor([6.7730765343, 8.7718658447])\n",
            "Iter 342; theta =  tensor([6.7752618790, 8.7742156982])\n",
            "Iter 343; theta =  tensor([6.7774262428, 8.7765407562])\n",
            "Iter 344; theta =  tensor([6.7795701027, 8.7788419724])\n",
            "Iter 345; theta =  tensor([6.7816934586, 8.7811193466])\n",
            "Iter 346; theta =  tensor([6.7837963104, 8.7833728790])\n",
            "Iter 347; theta =  tensor([6.7858786583, 8.7856035233])\n",
            "Iter 348; theta =  tensor([6.7879409790, 8.7878112793])\n",
            "Iter 349; theta =  tensor([6.7899837494, 8.7899961472])\n",
            "Iter 350; theta =  tensor([6.7920069695, 8.7921581268])\n",
            "Iter 351; theta =  tensor([6.7940106392, 8.7942981720])\n",
            "Iter 352; theta =  tensor([6.7959952354, 8.7964162827])\n",
            "Iter 353; theta =  tensor([6.7979607582, 8.7985124588])\n",
            "Iter 354; theta =  tensor([6.7999072075, 8.8005867004])\n",
            "Iter 355; theta =  tensor([6.8018350601, 8.8026399612])\n",
            "Iter 356; theta =  tensor([6.8037443161, 8.8046722412])\n",
            "Iter 357; theta =  tensor([6.8056349754, 8.8066835403])\n",
            "Iter 358; theta =  tensor([6.8075075150, 8.8086738586])\n",
            "Iter 359; theta =  tensor([6.8093624115, 8.8106431961])\n",
            "Iter 360; theta =  tensor([6.8111991882, 8.8125925064])\n",
            "Iter 361; theta =  tensor([6.8130183220, 8.8145217896])\n",
            "Iter 362; theta =  tensor([6.8148202896, 8.8164310455])\n",
            "Iter 363; theta =  tensor([6.8166046143, 8.8183202744])\n",
            "Iter 364; theta =  tensor([6.8183717728, 8.8201904297])\n",
            "Iter 365; theta =  tensor([6.8201222420, 8.8220415115])\n",
            "Iter 366; theta =  tensor([6.8218555450, 8.8238735199])\n",
            "Iter 367; theta =  tensor([6.8235721588, 8.8256864548])\n",
            "Iter 368; theta =  tensor([6.8252725601, 8.8274803162])\n",
            "Iter 369; theta =  tensor([6.8269567490, 8.8292560577])\n",
            "Iter 370; theta =  tensor([6.8286247253, 8.8310136795])\n",
            "Iter 371; theta =  tensor([6.8302764893, 8.8327531815])\n",
            "Iter 372; theta =  tensor([6.8319125175, 8.8344745636])\n",
            "Iter 373; theta =  tensor([6.8335328102, 8.8361778259])\n",
            "Iter 374; theta =  tensor([6.8351373672, 8.8378639221])\n",
            "Iter 375; theta =  tensor([6.8367266655, 8.8395328522])\n",
            "Iter 376; theta =  tensor([6.8383007050, 8.8411836624])\n",
            "Iter 377; theta =  tensor([6.8398594856, 8.8428182602])\n",
            "Iter 378; theta =  tensor([6.8414030075, 8.8444356918])\n",
            "Iter 379; theta =  tensor([6.8429317474, 8.8460359573])\n",
            "Iter 380; theta =  tensor([6.8444457054, 8.8476200104])\n",
            "Iter 381; theta =  tensor([6.8459453583, 8.8491878510])\n",
            "Iter 382; theta =  tensor([6.8474307060, 8.8507394791])\n",
            "Iter 383; theta =  tensor([6.8489017487, 8.8522748947])\n",
            "Iter 384; theta =  tensor([6.8503584862, 8.8537950516])\n",
            "Iter 385; theta =  tensor([6.8518013954, 8.8552989960])\n",
            "Iter 386; theta =  tensor([6.8532304764, 8.8567876816])\n",
            "Iter 387; theta =  tensor([6.8546457291, 8.8582611084])\n",
            "Iter 388; theta =  tensor([6.8560471535, 8.8597192764])\n",
            "Iter 389; theta =  tensor([6.8574352264, 8.8611621857])\n",
            "Iter 390; theta =  tensor([6.8588099480, 8.8625907898])\n",
            "Iter 391; theta =  tensor([6.8601713181, 8.8640041351])\n",
            "Iter 392; theta =  tensor([6.8615198135, 8.8654031754])\n",
            "Iter 393; theta =  tensor([6.8628554344, 8.8667879105])\n",
            "Iter 394; theta =  tensor([6.8641781807, 8.8681583405])\n",
            "Iter 395; theta =  tensor([6.8654880524, 8.8695144653])\n",
            "Iter 396; theta =  tensor([6.8667850494, 8.8708562851])\n",
            "Iter 397; theta =  tensor([6.8680696487, 8.8721847534])\n",
            "Iter 398; theta =  tensor([6.8693418503, 8.8734989166])\n",
            "Iter 399; theta =  tensor([6.8706021309, 8.8747997284])\n",
            "Iter 400; theta =  tensor([6.8718500137, 8.8760871887])\n",
            "Iter 401; theta =  tensor([6.8730859756, 8.8773612976])\n",
            "Iter 402; theta =  tensor([6.8743100166, 8.8786220551])\n",
            "Iter 403; theta =  tensor([6.8755221367, 8.8798704147])\n",
            "Iter 404; theta =  tensor([6.8767228127, 8.8811054230])\n",
            "Iter 405; theta =  tensor([6.8779120445, 8.8823280334])\n",
            "Iter 406; theta =  tensor([6.8790898323, 8.8835382462])\n",
            "Iter 407; theta =  tensor([6.8802561760, 8.8847360611])\n",
            "Iter 408; theta =  tensor([6.8814110756, 8.8859214783])\n",
            "Iter 409; theta =  tensor([6.8825550079, 8.8870944977])\n",
            "Iter 410; theta =  tensor([6.8836879730, 8.8882551193])\n",
            "Iter 411; theta =  tensor([6.8848099709, 8.8894042969])\n",
            "Iter 412; theta =  tensor([6.8859214783, 8.8905410767])\n",
            "Iter 413; theta =  tensor([6.8870220184, 8.8916664124])\n",
            "Iter 414; theta =  tensor([6.8881120682, 8.8927803040])\n",
            "Iter 415; theta =  tensor([6.8891916275, 8.8938827515])\n",
            "Iter 416; theta =  tensor([6.8902606964, 8.8949737549])\n",
            "Iter 417; theta =  tensor([6.8913197517, 8.8960533142])\n",
            "Iter 418; theta =  tensor([6.8923683167, 8.8971214294])\n",
            "Iter 419; theta =  tensor([6.8934068680, 8.8981790543])\n",
            "Iter 420; theta =  tensor([6.8944354057, 8.8992261887])\n",
            "Iter 421; theta =  tensor([6.8954539299, 8.9002618790])\n",
            "Iter 422; theta =  tensor([6.8964629173, 8.9012870789])\n",
            "Iter 423; theta =  tensor([6.8974618912, 8.9023017883])\n",
            "Iter 424; theta =  tensor([6.8984513283, 8.9033060074])\n",
            "Iter 425; theta =  tensor([6.8994312286, 8.9042997360])\n",
            "Iter 426; theta =  tensor([6.9004015923, 8.9052829742])\n",
            "Iter 427; theta =  tensor([6.9013628960, 8.9062566757])\n",
            "Iter 428; theta =  tensor([6.9023146629, 8.9072198868])\n",
            "Iter 429; theta =  tensor([6.9032573700, 8.9081735611])\n",
            "Iter 430; theta =  tensor([6.9041910172, 8.9091176987])\n",
            "Iter 431; theta =  tensor([6.9051156044, 8.9100513458])\n",
            "Iter 432; theta =  tensor([6.9060316086, 8.9109754562])\n",
            "Iter 433; theta =  tensor([6.9069385529, 8.9118900299])\n",
            "Iter 434; theta =  tensor([6.9078369141, 8.9127950668])\n",
            "Iter 435; theta =  tensor([6.9087266922, 8.9136915207])\n",
            "Iter 436; theta =  tensor([6.9096078873, 8.9145784378])\n",
            "Iter 437; theta =  tensor([6.9104804993, 8.9154558182])\n",
            "Iter 438; theta =  tensor([6.9113445282, 8.9163246155])\n",
            "Iter 439; theta =  tensor([6.9122004509, 8.9171848297])\n",
            "Iter 440; theta =  tensor([6.9130482674, 8.9180355072])\n",
            "Iter 441; theta =  tensor([6.9138875008, 8.9188776016])\n",
            "Iter 442; theta =  tensor([6.9147186279, 8.9197111130])\n",
            "Iter 443; theta =  tensor([6.9155421257, 8.9205360413])\n",
            "Iter 444; theta =  tensor([6.9163575172, 8.9213523865])\n",
            "Iter 445; theta =  tensor([6.9171652794, 8.9221601486])\n",
            "Iter 446; theta =  tensor([6.9179649353, 8.9229602814])\n",
            "Iter 447; theta =  tensor([6.9187569618, 8.9237518311])\n",
            "Iter 448; theta =  tensor([6.9195413589, 8.9245347977])\n",
            "Iter 449; theta =  tensor([6.9203181267, 8.9253101349])\n",
            "Iter 450; theta =  tensor([6.9210877419, 8.9260778427])\n",
            "Iter 451; theta =  tensor([6.9218497276, 8.9268369675])\n",
            "Iter 452; theta =  tensor([6.9226045609, 8.9275884628])\n",
            "Iter 453; theta =  tensor([6.9233517647, 8.9283323288])\n",
            "Iter 454; theta =  tensor([6.9240918159, 8.9290685654])\n",
            "Iter 455; theta =  tensor([6.9248247147, 8.9297971725])\n",
            "Iter 456; theta =  tensor([6.9255509377, 8.9305181503])\n",
            "Iter 457; theta =  tensor([6.9262700081, 8.9312314987])\n",
            "Iter 458; theta =  tensor([6.9269819260, 8.9319381714])\n",
            "Iter 459; theta =  tensor([6.9276871681, 8.9326372147])\n",
            "Iter 460; theta =  tensor([6.9283857346, 8.9333286285])\n",
            "Iter 461; theta =  tensor([6.9290776253, 8.9340133667])\n",
            "Iter 462; theta =  tensor([6.9297628403, 8.9346914291])\n",
            "Iter 463; theta =  tensor([6.9304413795, 8.9353618622])\n",
            "Iter 464; theta =  tensor([6.9311132431, 8.9360256195])\n",
            "Iter 465; theta =  tensor([6.9317784309, 8.9366827011])\n",
            "Iter 466; theta =  tensor([6.9324374199, 8.9373331070])\n",
            "Iter 467; theta =  tensor([6.9330902100, 8.9379768372])\n",
            "Iter 468; theta =  tensor([6.9337363243, 8.9386138916])\n",
            "Iter 469; theta =  tensor([6.9343762398, 8.9392442703])\n",
            "Iter 470; theta =  tensor([6.9350099564, 8.9398679733])\n",
            "Iter 471; theta =  tensor([6.9356379509, 8.9404850006])\n",
            "Iter 472; theta =  tensor([6.9362597466, 8.9410963058])\n",
            "Iter 473; theta =  tensor([6.9368753433, 8.9417009354])\n",
            "Iter 474; theta =  tensor([6.9374852180, 8.9422998428])\n",
            "Iter 475; theta =  tensor([6.9380893707, 8.9428920746])\n",
            "Iter 476; theta =  tensor([6.9386873245, 8.9434785843])\n",
            "Iter 477; theta =  tensor([6.9392795563, 8.9440584183])\n",
            "Iter 478; theta =  tensor([6.9398660660, 8.9446325302])\n",
            "Iter 479; theta =  tensor([6.9404468536, 8.9452009201])\n",
            "Iter 480; theta =  tensor([6.9410223961, 8.9457635880])\n",
            "Iter 481; theta =  tensor([6.9415922165, 8.9463205338])\n",
            "Iter 482; theta =  tensor([6.9421567917, 8.9468717575])\n",
            "Iter 483; theta =  tensor([6.9427156448, 8.9474172592])\n",
            "Iter 484; theta =  tensor([6.9432692528, 8.9479570389])\n",
            "Iter 485; theta =  tensor([6.9438176155, 8.9484910965])\n",
            "Iter 486; theta =  tensor([6.9443607330, 8.9490194321])\n",
            "Iter 487; theta =  tensor([6.9448986053, 8.9495429993])\n",
            "Iter 488; theta =  tensor([6.9454312325, 8.9500608444])\n",
            "Iter 489; theta =  tensor([6.9459586143, 8.9505729675])\n",
            "Iter 490; theta =  tensor([6.9464807510, 8.9510803223])\n",
            "Iter 491; theta =  tensor([6.9469981194, 8.9515819550])\n",
            "Iter 492; theta =  tensor([6.9475102425, 8.9520788193])\n",
            "Iter 493; theta =  tensor([6.9480175972, 8.9525709152])\n",
            "Iter 494; theta =  tensor([6.9485201836, 8.9530572891])\n",
            "Iter 495; theta =  tensor([6.9490175247, 8.9535388947])\n",
            "Iter 496; theta =  tensor([6.9495100975, 8.9540157318])\n",
            "Iter 497; theta =  tensor([6.9499979019, 8.9544878006])\n",
            "Iter 498; theta =  tensor([6.9504814148, 8.9549551010])\n",
            "Iter 499; theta =  tensor([6.9509601593, 8.9554176331])\n",
            "Iter 500; theta =  tensor([6.9514341354, 8.9558753967])\n",
            "Iter 501; theta =  tensor([6.9519038200, 8.9563283920])\n",
            "Iter 502; theta =  tensor([6.9523687363, 8.9567766190])\n",
            "Iter 503; theta =  tensor([6.9528293610, 8.9572200775])\n",
            "Iter 504; theta =  tensor([6.9532852173, 8.9576587677])\n",
            "Iter 505; theta =  tensor([6.9537367821, 8.9580926895])\n",
            "Iter 506; theta =  tensor([6.9541840553, 8.9585227966])\n",
            "Iter 507; theta =  tensor([6.9546270370, 8.9589481354])\n",
            "Iter 508; theta =  tensor([6.9550657272, 8.9593696594])\n",
            "Iter 509; theta =  tensor([6.9555001259, 8.9597864151])\n",
            "Iter 510; theta =  tensor([6.9559302330, 8.9601993561])\n",
            "Iter 511; theta =  tensor([6.9563565254, 8.9606075287])\n",
            "Iter 512; theta =  tensor([6.9567785263, 8.9610118866])\n",
            "Iter 513; theta =  tensor([6.9571962357, 8.9614114761])\n",
            "Iter 514; theta =  tensor([6.9576101303, 8.9618072510])\n",
            "Iter 515; theta =  tensor([6.9580202103, 8.9621992111])\n",
            "Iter 516; theta =  tensor([6.9584259987, 8.9625873566])\n",
            "Iter 517; theta =  tensor([6.9588279724, 8.9629707336])\n",
            "Iter 518; theta =  tensor([6.9592261314, 8.9633502960])\n",
            "Iter 519; theta =  tensor([6.9596204758, 8.9637260437])\n",
            "Iter 520; theta =  tensor([6.9600110054, 8.9640979767])\n",
            "Iter 521; theta =  tensor([6.9603977203, 8.9644660950])\n",
            "Iter 522; theta =  tensor([6.9607806206, 8.9648303986])\n",
            "Iter 523; theta =  tensor([6.9611597061, 8.9651908875])\n",
            "Iter 524; theta =  tensor([6.9615354538, 8.9655475616])\n",
            "Iter 525; theta =  tensor([6.9619073868, 8.9659004211])\n",
            "Iter 526; theta =  tensor([6.9622759819, 8.9662504196])\n",
            "Iter 527; theta =  tensor([6.9626407623, 8.9665966034])\n",
            "Iter 528; theta =  tensor([6.9630022049, 8.9669389725])\n",
            "Iter 529; theta =  tensor([6.9633598328, 8.9672775269])\n",
            "Iter 530; theta =  tensor([6.9637141228, 8.9676132202])\n",
            "Iter 531; theta =  tensor([6.9640650749, 8.9679450989])\n",
            "Iter 532; theta =  tensor([6.9644126892, 8.9682741165])\n",
            "Iter 533; theta =  tensor([6.9647569656, 8.9685993195])\n",
            "Iter 534; theta =  tensor([6.9650979042, 8.9689216614])\n",
            "Iter 535; theta =  tensor([6.9654355049, 8.9692401886])\n",
            "Iter 536; theta =  tensor([6.9657697678, 8.9695558548])\n",
            "Iter 537; theta =  tensor([6.9661006927, 8.9698677063])\n",
            "Iter 538; theta =  tensor([6.9664287567, 8.9701766968])\n",
            "Iter 539; theta =  tensor([6.9667534828, 8.9704828262])\n",
            "Iter 540; theta =  tensor([6.9670753479, 8.9707851410])\n",
            "Iter 541; theta =  tensor([6.9673938751, 8.9710845947])\n",
            "Iter 542; theta =  tensor([6.9677095413, 8.9713811874])\n",
            "Iter 543; theta =  tensor([6.9680218697, 8.9716749191])\n",
            "Iter 544; theta =  tensor([6.9683313370, 8.9719648361])\n",
            "Iter 545; theta =  tensor([6.9686379433, 8.9722518921])\n",
            "Iter 546; theta =  tensor([6.9689412117, 8.9725360870])\n",
            "Iter 547; theta =  tensor([6.9692416191, 8.9728174210])\n",
            "Iter 548; theta =  tensor([6.9695391655, 8.9730958939])\n",
            "Iter 549; theta =  tensor([6.9698338509, 8.9733715057])\n",
            "Iter 550; theta =  tensor([6.9701256752, 8.9736442566])\n",
            "Iter 551; theta =  tensor([6.9704146385, 8.9739141464])\n",
            "Iter 552; theta =  tensor([6.9707007408, 8.9741811752])\n",
            "Iter 553; theta =  tensor([6.9709844589, 8.9744453430])\n",
            "Iter 554; theta =  tensor([6.9712653160, 8.9747076035])\n",
            "Iter 555; theta =  tensor([6.9715433121, 8.9749670029])\n",
            "Iter 556; theta =  tensor([6.9718189240, 8.9752235413])\n",
            "Iter 557; theta =  tensor([6.9720916748, 8.9754772186])\n",
            "Iter 558; theta =  tensor([6.9723615646, 8.9757280350])\n",
            "Iter 559; theta =  tensor([6.9726290703, 8.9759769440])\n",
            "Iter 560; theta =  tensor([6.9728941917, 8.9762229919])\n",
            "Iter 561; theta =  tensor([6.9731564522, 8.9764661789])\n",
            "Iter 562; theta =  tensor([6.9734163284, 8.9767074585])\n",
            "Iter 563; theta =  tensor([6.9736738205, 8.9769458771])\n",
            "Iter 564; theta =  tensor([6.9739284515, 8.9771823883])\n",
            "Iter 565; theta =  tensor([6.9741806984, 8.9774160385])\n",
            "Iter 566; theta =  tensor([6.9744305611, 8.9776477814])\n",
            "Iter 567; theta =  tensor([6.9746780396, 8.9778766632])\n",
            "Iter 568; theta =  tensor([6.9749231339, 8.9781036377])\n",
            "Iter 569; theta =  tensor([6.9751658440, 8.9783277512])\n",
            "Iter 570; theta =  tensor([6.9754061699, 8.9785499573])\n",
            "Iter 571; theta =  tensor([6.9756441116, 8.9787693024])\n",
            "Iter 572; theta =  tensor([6.9758796692, 8.9789867401])\n",
            "Iter 573; theta =  tensor([6.9761133194, 8.9792022705])\n",
            "Iter 574; theta =  tensor([6.9763445854, 8.9794149399])\n",
            "Iter 575; theta =  tensor([6.9765734673, 8.9796257019])\n",
            "Iter 576; theta =  tensor([6.9768004417, 8.9798345566])\n",
            "Iter 577; theta =  tensor([6.9770250320, 8.9800415039])\n",
            "Iter 578; theta =  tensor([6.9772472382, 8.9802455902])\n",
            "Iter 579; theta =  tensor([6.9774675369, 8.9804477692])\n",
            "Iter 580; theta =  tensor([6.9776854515, 8.9806480408])\n",
            "Iter 581; theta =  tensor([6.9779014587, 8.9808464050])\n",
            "Iter 582; theta =  tensor([6.9781155586, 8.9810428619])\n",
            "Iter 583; theta =  tensor([6.9783272743, 8.9812374115])\n",
            "Iter 584; theta =  tensor([6.9785370827, 8.9814291000])\n",
            "Iter 585; theta =  tensor([6.9787449837, 8.9816188812])\n",
            "Iter 586; theta =  tensor([6.9789509773, 8.9818067551])\n",
            "Iter 587; theta =  tensor([6.9791545868, 8.9819927216])\n",
            "Iter 588; theta =  tensor([6.9793562889, 8.9821767807])\n",
            "Iter 589; theta =  tensor([6.9795560837, 8.9823589325])\n",
            "Iter 590; theta =  tensor([6.9797539711, 8.9825391769])\n",
            "Iter 591; theta =  tensor([6.9799499512, 8.9827175140])\n",
            "Iter 592; theta =  tensor([6.9801440239, 8.9828948975])\n",
            "Iter 593; theta =  tensor([6.9803361893, 8.9830703735])\n",
            "Iter 594; theta =  tensor([6.9805264473, 8.9832439423])\n",
            "Iter 595; theta =  tensor([6.9807147980, 8.9834156036])\n",
            "Iter 596; theta =  tensor([6.9809017181, 8.9835853577])\n",
            "Iter 597; theta =  tensor([6.9810867310, 8.9837532043])\n",
            "Iter 598; theta =  tensor([6.9812698364, 8.9839191437])\n",
            "Iter 599; theta =  tensor([6.9814510345, 8.9840841293])\n",
            "Iter 600; theta =  tensor([6.9816308022, 8.9842472076])\n",
            "Iter 601; theta =  tensor([6.9818086624, 8.9844083786])\n",
            "Iter 602; theta =  tensor([6.9819850922, 8.9845676422])\n",
            "Iter 603; theta =  tensor([6.9821596146, 8.9847259521])\n",
            "Iter 604; theta =  tensor([6.9823322296, 8.9848823547])\n",
            "Iter 605; theta =  tensor([6.9825034142, 8.9850368500])\n",
            "Iter 606; theta =  tensor([6.9826726913, 8.9851903915])\n",
            "Iter 607; theta =  tensor([6.9828405380, 8.9853420258])\n",
            "Iter 608; theta =  tensor([6.9830069542, 8.9854917526])\n"
          ]
        }
      ],
      "source": [
        "# Testando com derivada manual. Sua função deve retornar algo perto de 7 e 9\n",
        "theta = gd(derivada_navera, media_erros_quadrados, X, y)"
      ]
    },
    {
      "cell_type": "code",
      "execution_count": 32,
      "metadata": {
        "id": "Z6SbuwB7onbt"
      },
      "outputs": [
        {
          "data": {
            "text/plain": [
              "tensor([6.9852523804, 8.9826107025], requires_grad=True)"
            ]
          },
          "execution_count": 32,
          "metadata": {},
          "output_type": "execute_result"
        }
      ],
      "source": [
        "theta"
      ]
    },
    {
      "attachments": {},
      "cell_type": "markdown",
      "metadata": {
        "id": "BQY5_lJvonbv"
      },
      "source": [
        "12. Altere a função de Gradiente Descendente para funcionar com minibatches. Em outras palavras, não compute o erro usando todos os dados de X. Use um `slice` de tamanho do minibatch. Uma ideia é seguir o pseudocódigo abaixo.\n",
        "\n",
        "```python\n",
        "index = np.arange(len(X))\n",
        "while True:\n",
        "    minib = np.random.choice(index, minibatchsize) # aqui estou usando numpy para selection minibatch elementos\n",
        "    X_batch = X[minib]\n",
        "```"
      ]
    },
    {
      "cell_type": "code",
      "execution_count": 76,
      "metadata": {
        "id": "LOyf2F26onbv",
        "scrolled": true
      },
      "outputs": [
        {
          "name": "stdout",
          "output_type": "stream",
          "text": [
            "[ 91 808 428 489 635 941 786 418  88 540 390 336 708 735 179 589 267  43\n",
            " 930 110 887  39 895 229 253 891 763 189 684 461 792 150 152 200 558 504\n",
            " 983 164 140 861 554 195 213 368 461 384 880 564 881 236]\n"
          ]
        },
        {
          "data": {
            "text/plain": [
              "tensor([[ 1.0000000000,  0.4333291948],\n",
              "        [ 1.0000000000, -0.0738926008],\n",
              "        [ 1.0000000000,  0.2971858084],\n",
              "        [ 1.0000000000,  0.1915854514],\n",
              "        [ 1.0000000000,  0.4669107497],\n",
              "        [ 1.0000000000,  0.2104868442],\n",
              "        [ 1.0000000000,  0.8185428977],\n",
              "        [ 1.0000000000,  0.1994014978],\n",
              "        [ 1.0000000000, -0.7953934073],\n",
              "        [ 1.0000000000,  0.7726532817],\n",
              "        [ 1.0000000000, -1.4111599922],\n",
              "        [ 1.0000000000, -1.0469597578],\n",
              "        [ 1.0000000000, -0.4144256711],\n",
              "        [ 1.0000000000, -0.9461408257],\n",
              "        [ 1.0000000000, -0.4604700804],\n",
              "        [ 1.0000000000,  0.5776293278],\n",
              "        [ 1.0000000000, -1.9389501810],\n",
              "        [ 1.0000000000,  0.8925039172],\n",
              "        [ 1.0000000000,  0.2204968035],\n",
              "        [ 1.0000000000, -1.1230382919],\n",
              "        [ 1.0000000000, -0.0724260211],\n",
              "        [ 1.0000000000,  0.1776871830],\n",
              "        [ 1.0000000000, -1.2966889143],\n",
              "        [ 1.0000000000, -0.8757321835],\n",
              "        [ 1.0000000000,  0.9388884902],\n",
              "        [ 1.0000000000,  0.0676770434],\n",
              "        [ 1.0000000000,  0.0338086188],\n",
              "        [ 1.0000000000,  0.2446376681],\n",
              "        [ 1.0000000000, -0.9436286092],\n",
              "        [ 1.0000000000, -1.7854238749],\n",
              "        [ 1.0000000000,  1.3745963573],\n",
              "        [ 1.0000000000,  1.7461103201],\n",
              "        [ 1.0000000000, -1.0167622566],\n",
              "        [ 1.0000000000, -0.7126050591],\n",
              "        [ 1.0000000000, -0.3410305679],\n",
              "        [ 1.0000000000, -0.2732818425],\n",
              "        [ 1.0000000000,  0.6201128960],\n",
              "        [ 1.0000000000,  2.1669554710],\n",
              "        [ 1.0000000000, -1.5448671579],\n",
              "        [ 1.0000000000,  1.1393982172],\n",
              "        [ 1.0000000000, -1.1358373165],\n",
              "        [ 1.0000000000, -0.6534170508],\n",
              "        [ 1.0000000000,  0.3129270375],\n",
              "        [ 1.0000000000,  0.5017385483],\n",
              "        [ 1.0000000000, -1.7854238749],\n",
              "        [ 1.0000000000, -1.8499407768],\n",
              "        [ 1.0000000000, -0.8948337436],\n",
              "        [ 1.0000000000,  0.8306335211],\n",
              "        [ 1.0000000000,  0.4815075696],\n",
              "        [ 1.0000000000, -0.8421145082]])"
            ]
          },
          "execution_count": 76,
          "metadata": {},
          "output_type": "execute_result"
        }
      ],
      "source": [
        "# Exemplo abaixo\n",
        "index = np.arange(len(X))\n",
        "mb = np.random.choice(index, 50) # Escolhe 50 índices aleatórios\n",
        "print(mb)\n",
        "X[mb]"
      ]
    },
    {
      "cell_type": "code",
      "execution_count": 81,
      "metadata": {
        "id": "WbssWxyCWBNY"
      },
      "outputs": [],
      "source": [
        "def minibatch_gd(d_fun, loss_fun, X, y, lambda_=0.01, tol=0.00001,\n",
        "                 max_iter=10000, batch_size=10):\n",
        "    '''\n",
        "    Executa Gradiente Descendente. Aqui:\n",
        "    \n",
        "    Parâmetros\n",
        "    ----------\n",
        "    d_fun : é uma função de derivadas\n",
        "    loss_fun : é uma função de perda\n",
        "    X : é um vetor de fatores explanatórios.\n",
        "        Copie seu código de intercepto da primeira aula.\n",
        "        para adicionar o intercepto em X.\n",
        "    y : é a resposta\n",
        "    lambda : é a taxa de aprendizad\n",
        "    tol : é a tolerância, define quando o algoritmo vai parar.\n",
        "    max_ter : é a segunda forma de parada, mesmo sem convergir\n",
        "              paramos depois de max_iter iterações.\n",
        "    batch_size : tamanho do batch\n",
        "    '''\n",
        "    theta = torch.randn(X.shape[1]).double()\n",
        "    theta.requires_grad_(True)\n",
        "    print('Iter {}; theta = '.format(0), theta)\n",
        "    old_err_sq = np.inf\n",
        "    i = 0\n",
        "    \n",
        "    index = np.arange(len(X))\n",
        "    while True:\n",
        "        theta.requires_grad_(True)\n",
        "        # pega o mini batch\n",
        "        mb = np.random.choice(index, batch_size)\n",
        "        Xmb = X[mb]\n",
        "        ymb = y[mb]\n",
        "        \n",
        "        # Computar as derivadas\n",
        "        grad = d_fun(Xmb, theta, ymb)\n",
        "        # Atualizar\n",
        "        with torch.no_grad():\n",
        "            theta_novo = theta - lambda_ * grad\n",
        "        \n",
        "        # Parar quando o erro convergir\n",
        "        err_sq = loss_fun(Xmb, theta, ymb)\n",
        "        if torch.abs(old_err_sq - err_sq) <= tol:\n",
        "            break\n",
        "        \n",
        "        # Atualizar parâmetros e erro\n",
        "        theta = theta_novo\n",
        "        old_err_sq = err_sq\n",
        "        \n",
        "        # Informação de debug\n",
        "        print('Iter {}; theta = '.format(i+1), theta)\n",
        "        i += 1\n",
        "        if i == max_iter:\n",
        "            break\n",
        "    return theta"
      ]
    },
    {
      "cell_type": "code",
      "execution_count": 82,
      "metadata": {
        "id": "Q5gzuUW4onb3"
      },
      "outputs": [
        {
          "name": "stdout",
          "output_type": "stream",
          "text": [
            "Iter 0; theta =  tensor([-1.3188720942,  2.3184990883], dtype=torch.float64, requires_grad=True)\n",
            "Iter 1; theta =  tensor([-1.1756541491,  2.4030607605], dtype=torch.float64)\n",
            "Iter 2; theta =  tensor([-1.0063174486,  2.4806043005], dtype=torch.float64)\n",
            "Iter 3; theta =  tensor([-0.9129659319,  2.5527530479], dtype=torch.float64)\n",
            "Iter 4; theta =  tensor([-0.7943879175,  2.6801480675], dtype=torch.float64)\n",
            "Iter 5; theta =  tensor([-0.5944870996,  2.9293785286], dtype=torch.float64)\n",
            "Iter 6; theta =  tensor([-0.4278093576,  3.0842931843], dtype=torch.float64)\n",
            "Iter 7; theta =  tensor([-0.2974652243,  3.1809904766], dtype=torch.float64)\n",
            "Iter 8; theta =  tensor([-0.1377519560,  3.2853139877], dtype=torch.float64)\n",
            "Iter 9; theta =  tensor([-0.0054841089,  3.4161867714], dtype=torch.float64)\n",
            "Iter 10; theta =  tensor([0.2224461508, 3.6997494888], dtype=torch.float64)\n",
            "Iter 11; theta =  tensor([0.3237919569, 3.8276137543], dtype=torch.float64)\n",
            "Iter 12; theta =  tensor([0.4538153505, 3.9570262527], dtype=torch.float64)\n",
            "Iter 13; theta =  tensor([0.6170461893, 4.1176368713], dtype=torch.float64)\n",
            "Iter 14; theta =  tensor([0.7339593363, 4.2153925896], dtype=torch.float64)\n",
            "Iter 15; theta =  tensor([0.9026479769, 4.3360717201], dtype=torch.float64)\n",
            "Iter 16; theta =  tensor([1.0631204271, 4.4861308479], dtype=torch.float64)\n",
            "Iter 17; theta =  tensor([1.2039475489, 4.6521649361], dtype=torch.float64)\n",
            "Iter 18; theta =  tensor([1.3206321764, 4.7335720348], dtype=torch.float64)\n",
            "Iter 19; theta =  tensor([1.4558336115, 4.8299270248], dtype=torch.float64)\n",
            "Iter 20; theta =  tensor([1.5609584284, 4.9004331779], dtype=torch.float64)\n",
            "Iter 21; theta =  tensor([1.6788122225, 5.0363649845], dtype=torch.float64)\n",
            "Iter 22; theta =  tensor([1.7605040216, 5.0642940307], dtype=torch.float64)\n",
            "Iter 23; theta =  tensor([1.8593511152, 5.1554556346], dtype=torch.float64)\n",
            "Iter 24; theta =  tensor([2.0056692076, 5.2785921264], dtype=torch.float64)\n",
            "Iter 25; theta =  tensor([2.1038650942, 5.3790086055], dtype=torch.float64)\n",
            "Iter 26; theta =  tensor([2.1678207684, 5.3986445940], dtype=torch.float64)\n",
            "Iter 27; theta =  tensor([2.2576267624, 5.4570090711], dtype=torch.float64)\n",
            "Iter 28; theta =  tensor([2.3696358681, 5.5105867422], dtype=torch.float64)\n",
            "Iter 29; theta =  tensor([2.4503377914, 5.5411023724], dtype=torch.float64)\n",
            "Iter 30; theta =  tensor([2.5583673668, 5.6238437283], dtype=torch.float64)\n",
            "Iter 31; theta =  tensor([2.6431013203, 5.7424414265], dtype=torch.float64)\n",
            "Iter 32; theta =  tensor([2.7562360668, 5.8198289931], dtype=torch.float64)\n",
            "Iter 33; theta =  tensor([2.8562988186, 5.8886739504], dtype=torch.float64)\n",
            "Iter 34; theta =  tensor([2.9675441360, 5.9830787718], dtype=torch.float64)\n",
            "Iter 35; theta =  tensor([3.0529582977, 6.0241563761], dtype=torch.float64)\n",
            "Iter 36; theta =  tensor([3.1432633781, 6.0755125439], dtype=torch.float64)\n",
            "Iter 37; theta =  tensor([3.2459745407, 6.2026449597], dtype=torch.float64)\n",
            "Iter 38; theta =  tensor([3.3454048157, 6.3089251339], dtype=torch.float64)\n",
            "Iter 39; theta =  tensor([3.3905266666, 6.3157944739], dtype=torch.float64)\n",
            "Iter 40; theta =  tensor([3.4587140179, 6.3435849917], dtype=torch.float64)\n",
            "Iter 41; theta =  tensor([3.5304561234, 6.3595848358], dtype=torch.float64)\n",
            "Iter 42; theta =  tensor([3.5752437401, 6.3806512725], dtype=torch.float64)\n",
            "Iter 43; theta =  tensor([3.6472223759, 6.4461433780], dtype=torch.float64)\n",
            "Iter 44; theta =  tensor([3.7030474758, 6.4923228633], dtype=torch.float64)\n",
            "Iter 45; theta =  tensor([3.7834842968, 6.5643108690], dtype=torch.float64)\n",
            "Iter 46; theta =  tensor([3.8147733903, 6.5828979504], dtype=torch.float64)\n",
            "Iter 47; theta =  tensor([3.8885921025, 6.6248574555], dtype=torch.float64)\n",
            "Iter 48; theta =  tensor([3.9484335446, 6.6731450188], dtype=torch.float64)\n",
            "Iter 49; theta =  tensor([3.9837054610, 6.6842388332], dtype=torch.float64)\n",
            "Iter 50; theta =  tensor([4.0764862704, 6.8019269836], dtype=torch.float64)\n",
            "Iter 51; theta =  tensor([4.1281148648, 6.8135049856], dtype=torch.float64)\n",
            "Iter 52; theta =  tensor([4.2106333852, 6.8795473659], dtype=torch.float64)\n",
            "Iter 53; theta =  tensor([4.2614880872, 6.9344572532], dtype=torch.float64)\n",
            "Iter 54; theta =  tensor([4.3073052812, 6.9482630491], dtype=torch.float64)\n",
            "Iter 55; theta =  tensor([4.3787587094, 6.9970063591], dtype=torch.float64)\n",
            "Iter 56; theta =  tensor([4.4187383819, 7.0343667364], dtype=torch.float64)\n",
            "Iter 57; theta =  tensor([4.4495887303, 7.0713593674], dtype=torch.float64)\n",
            "Iter 58; theta =  tensor([4.4851007438, 7.0775415957], dtype=torch.float64)\n",
            "Iter 59; theta =  tensor([4.5381893992, 7.0986897099], dtype=torch.float64)\n",
            "Iter 60; theta =  tensor([4.5941774631, 7.1441381276], dtype=torch.float64)\n",
            "Iter 61; theta =  tensor([4.6253349757, 7.1389393461], dtype=torch.float64)\n",
            "Iter 62; theta =  tensor([4.6851433730, 7.1869691932], dtype=torch.float64)\n",
            "Iter 63; theta =  tensor([4.7233344769, 7.2153163898], dtype=torch.float64)\n",
            "Iter 64; theta =  tensor([4.7683819604, 7.2427768981], dtype=torch.float64)\n",
            "Iter 65; theta =  tensor([4.8012405658, 7.2607467961], dtype=torch.float64)\n",
            "Iter 66; theta =  tensor([4.8477601171, 7.2802005053], dtype=torch.float64)\n",
            "Iter 67; theta =  tensor([4.8814470148, 7.2917709255], dtype=torch.float64)\n",
            "Iter 68; theta =  tensor([4.9166820526, 7.3090363348], dtype=torch.float64)\n",
            "Iter 69; theta =  tensor([4.9416288328, 7.3257061517], dtype=torch.float64)\n",
            "Iter 70; theta =  tensor([4.9969489717, 7.4207202470], dtype=torch.float64)\n",
            "Iter 71; theta =  tensor([5.0180095673, 7.4211380515], dtype=torch.float64)\n",
            "Iter 72; theta =  tensor([5.0700773811, 7.4937108646], dtype=torch.float64)\n",
            "Iter 73; theta =  tensor([5.1080989218, 7.5196976624], dtype=torch.float64)\n",
            "Iter 74; theta =  tensor([5.1530288124, 7.5423360715], dtype=torch.float64)\n",
            "Iter 75; theta =  tensor([5.2068148804, 7.5779663930], dtype=torch.float64)\n",
            "Iter 76; theta =  tensor([5.2341099072, 7.5954769740], dtype=torch.float64)\n",
            "Iter 77; theta =  tensor([5.2626598454, 7.6014477906], dtype=torch.float64)\n",
            "Iter 78; theta =  tensor([5.2867544603, 7.6074979249], dtype=torch.float64)\n",
            "Iter 79; theta =  tensor([5.3284649134, 7.6520599262], dtype=torch.float64)\n",
            "Iter 80; theta =  tensor([5.3637625790, 7.6744923798], dtype=torch.float64)\n",
            "Iter 81; theta =  tensor([5.4026340556, 7.6940369049], dtype=torch.float64)\n",
            "Iter 82; theta =  tensor([5.4314828205, 7.7065622810], dtype=torch.float64)\n",
            "Iter 83; theta =  tensor([5.4772410011, 7.7475829319], dtype=torch.float64)\n",
            "Iter 84; theta =  tensor([5.5075380373, 7.7663790552], dtype=torch.float64)\n",
            "Iter 85; theta =  tensor([5.5343133283, 7.7714973620], dtype=torch.float64)\n",
            "Iter 86; theta =  tensor([5.5708595586, 7.7906173710], dtype=torch.float64)\n",
            "Iter 87; theta =  tensor([5.5990917134, 7.7990449134], dtype=torch.float64)\n",
            "Iter 88; theta =  tensor([5.6297262311, 7.8222105113], dtype=torch.float64)\n",
            "Iter 89; theta =  tensor([5.6454471707, 7.8466115943], dtype=torch.float64)\n",
            "Iter 90; theta =  tensor([5.6676886225, 7.8639817492], dtype=torch.float64)\n",
            "Iter 91; theta =  tensor([5.6748905814, 7.8708409790], dtype=torch.float64)\n",
            "Iter 92; theta =  tensor([5.7045841277, 7.8978084425], dtype=torch.float64)\n",
            "Iter 93; theta =  tensor([5.7288396466, 7.9178167275], dtype=torch.float64)\n",
            "Iter 94; theta =  tensor([5.7517551982, 7.9301657895], dtype=torch.float64)\n",
            "Iter 95; theta =  tensor([5.7703435290, 7.9397683326], dtype=torch.float64)\n",
            "Iter 96; theta =  tensor([5.7870809400, 7.9491510228], dtype=torch.float64)\n",
            "Iter 97; theta =  tensor([5.8089933956, 7.9744062356], dtype=torch.float64)\n",
            "Iter 98; theta =  tensor([5.8303804243, 7.9840240333], dtype=torch.float64)\n",
            "Iter 99; theta =  tensor([5.8589518917, 8.0063313816], dtype=torch.float64)\n",
            "Iter 100; theta =  tensor([5.8795104563, 8.0298003910], dtype=torch.float64)\n",
            "Iter 101; theta =  tensor([5.9144310009, 8.0601762436], dtype=torch.float64)\n",
            "Iter 102; theta =  tensor([5.9448294985, 8.0891603372], dtype=torch.float64)\n",
            "Iter 103; theta =  tensor([5.9677628648, 8.1093832967], dtype=torch.float64)\n",
            "Iter 104; theta =  tensor([5.9788551795, 8.1137912566], dtype=torch.float64)\n",
            "Iter 105; theta =  tensor([6.0044633996, 8.1455819613], dtype=torch.float64)\n",
            "Iter 106; theta =  tensor([6.0304264724, 8.1773629696], dtype=torch.float64)\n",
            "Iter 107; theta =  tensor([6.0506546390, 8.1874961812], dtype=torch.float64)\n",
            "Iter 108; theta =  tensor([6.0711332262, 8.1980211944], dtype=torch.float64)\n",
            "Iter 109; theta =  tensor([6.0868642247, 8.2154139370], dtype=torch.float64)\n",
            "Iter 110; theta =  tensor([6.1037778115, 8.2331350703], dtype=torch.float64)\n",
            "Iter 111; theta =  tensor([6.1273682284, 8.2561067647], dtype=torch.float64)\n",
            "Iter 112; theta =  tensor([6.1508792377, 8.2705906589], dtype=torch.float64)\n",
            "Iter 113; theta =  tensor([6.1683549976, 8.2896226723], dtype=torch.float64)\n",
            "Iter 114; theta =  tensor([6.1817563891, 8.2997679526], dtype=torch.float64)\n",
            "Iter 115; theta =  tensor([6.1934539831, 8.3013315458], dtype=torch.float64)\n",
            "Iter 116; theta =  tensor([6.2147276843, 8.3172857279], dtype=torch.float64)\n",
            "Iter 117; theta =  tensor([6.2316482890, 8.3285768325], dtype=torch.float64)\n",
            "Iter 118; theta =  tensor([6.2431017339, 8.3403483421], dtype=torch.float64)\n",
            "Iter 119; theta =  tensor([6.2539230764, 8.3466087360], dtype=torch.float64)\n",
            "Iter 120; theta =  tensor([6.2696890211, 8.3566685385], dtype=torch.float64)\n",
            "Iter 121; theta =  tensor([6.2828866982, 8.3691249675], dtype=torch.float64)\n",
            "Iter 122; theta =  tensor([6.3005790639, 8.3803488214], dtype=torch.float64)\n",
            "Iter 123; theta =  tensor([6.3108516169, 8.3840880508], dtype=torch.float64)\n",
            "Iter 124; theta =  tensor([6.3264934731, 8.3960913164], dtype=torch.float64)\n",
            "Iter 125; theta =  tensor([6.3443763161, 8.4112481064], dtype=torch.float64)\n",
            "Iter 126; theta =  tensor([6.3544752133, 8.4196480615], dtype=torch.float64)\n",
            "Iter 127; theta =  tensor([6.3666034603, 8.4360757119], dtype=torch.float64)\n",
            "Iter 128; theta =  tensor([6.3764356530, 8.4425377227], dtype=torch.float64)\n",
            "Iter 129; theta =  tensor([6.3900713217, 8.4538499738], dtype=torch.float64)\n",
            "Iter 130; theta =  tensor([6.3967041528, 8.4568121783], dtype=torch.float64)\n",
            "Iter 131; theta =  tensor([6.4008574027, 8.4607383931], dtype=torch.float64)\n",
            "Iter 132; theta =  tensor([6.4136197060, 8.4694250245], dtype=torch.float64)\n",
            "Iter 133; theta =  tensor([6.4210378927, 8.4782909865], dtype=torch.float64)\n",
            "Iter 134; theta =  tensor([6.4325784200, 8.4859522993], dtype=torch.float64)\n",
            "Iter 135; theta =  tensor([6.4437176722, 8.4960036666], dtype=torch.float64)\n",
            "Iter 136; theta =  tensor([6.4572595018, 8.5099921364], dtype=torch.float64)\n",
            "Iter 137; theta =  tensor([6.4796330088, 8.5510942406], dtype=torch.float64)\n",
            "Iter 138; theta =  tensor([6.4887899619, 8.5559031237], dtype=torch.float64)\n",
            "Iter 139; theta =  tensor([6.4985299283, 8.5601685048], dtype=torch.float64)\n",
            "Iter 140; theta =  tensor([6.5090823394, 8.5675231827], dtype=torch.float64)\n",
            "Iter 141; theta =  tensor([6.5214712268, 8.5771293832], dtype=torch.float64)\n",
            "Iter 142; theta =  tensor([6.5338506371, 8.5905308080], dtype=torch.float64)\n",
            "Iter 143; theta =  tensor([6.5413608783, 8.5986718179], dtype=torch.float64)\n",
            "Iter 144; theta =  tensor([6.5485440063, 8.6046129645], dtype=torch.float64)\n",
            "Iter 145; theta =  tensor([6.5607870829, 8.6114412630], dtype=torch.float64)\n",
            "Iter 146; theta =  tensor([6.5684510130, 8.6174261678], dtype=torch.float64)\n",
            "Iter 147; theta =  tensor([6.5793468934, 8.6314466751], dtype=torch.float64)\n",
            "Iter 148; theta =  tensor([6.5864796251, 8.6352906210], dtype=torch.float64)\n",
            "Iter 149; theta =  tensor([6.5969777638, 8.6439541794], dtype=torch.float64)\n",
            "Iter 150; theta =  tensor([6.6058627605, 8.6553548480], dtype=torch.float64)\n",
            "Iter 151; theta =  tensor([6.6155176091, 8.6692133594], dtype=torch.float64)\n",
            "Iter 152; theta =  tensor([6.6239390838, 8.6785207821], dtype=torch.float64)\n",
            "Iter 153; theta =  tensor([6.6321170861, 8.6816659973], dtype=torch.float64)\n",
            "Iter 154; theta =  tensor([6.6376805830, 8.6849929205], dtype=torch.float64)\n",
            "Iter 155; theta =  tensor([6.6461764157, 8.6943885420], dtype=torch.float64)\n",
            "Iter 156; theta =  tensor([6.6530784714, 8.6975868458], dtype=torch.float64)\n",
            "Iter 157; theta =  tensor([6.6571202615, 8.7009534449], dtype=torch.float64)\n",
            "Iter 158; theta =  tensor([6.6654071870, 8.7110613079], dtype=torch.float64)\n",
            "Iter 159; theta =  tensor([6.6745140043, 8.7188058729], dtype=torch.float64)\n",
            "Iter 160; theta =  tensor([6.6825441793, 8.7297118253], dtype=torch.float64)\n",
            "Iter 161; theta =  tensor([6.6891216686, 8.7318855888], dtype=torch.float64)\n",
            "Iter 162; theta =  tensor([6.6960712615, 8.7362594629], dtype=torch.float64)\n",
            "Iter 163; theta =  tensor([6.7052996871, 8.7455846400], dtype=torch.float64)\n",
            "Iter 164; theta =  tensor([6.7076711719, 8.7482841576], dtype=torch.float64)\n",
            "Iter 165; theta =  tensor([6.7141347699, 8.7507832272], dtype=torch.float64)\n",
            "Iter 166; theta =  tensor([6.7215260909, 8.7547369830], dtype=torch.float64)\n",
            "Iter 167; theta =  tensor([6.7256764017, 8.7570951144], dtype=torch.float64)\n",
            "Iter 168; theta =  tensor([6.7296046613, 8.7572952591], dtype=torch.float64)\n",
            "Iter 169; theta =  tensor([6.7366476826, 8.7640629421], dtype=torch.float64)\n",
            "Iter 170; theta =  tensor([6.7437025623, 8.7727169000], dtype=torch.float64)\n",
            "Iter 171; theta =  tensor([6.7473328967, 8.7747808027], dtype=torch.float64)\n",
            "Iter 172; theta =  tensor([6.7540040906, 8.7803526724], dtype=torch.float64)\n",
            "Iter 173; theta =  tensor([6.7583600189, 8.7815582730], dtype=torch.float64)\n",
            "Iter 174; theta =  tensor([6.7658951701, 8.7895008494], dtype=torch.float64)\n",
            "Iter 175; theta =  tensor([6.7705392568, 8.7916689392], dtype=torch.float64)\n",
            "Iter 176; theta =  tensor([6.7747768383, 8.7982201435], dtype=torch.float64)\n",
            "Iter 177; theta =  tensor([6.7804049133, 8.8041809876], dtype=torch.float64)\n",
            "Iter 178; theta =  tensor([6.7851284669, 8.8094929572], dtype=torch.float64)\n",
            "Iter 179; theta =  tensor([6.7879236402, 8.8122676490], dtype=torch.float64)\n",
            "Iter 180; theta =  tensor([6.7921521224, 8.8164876817], dtype=torch.float64)\n",
            "Iter 181; theta =  tensor([6.7957060291, 8.8182007738], dtype=torch.float64)\n",
            "Iter 182; theta =  tensor([6.8004705305, 8.8227782451], dtype=torch.float64)\n",
            "Iter 183; theta =  tensor([6.8034034415, 8.8265462928], dtype=torch.float64)\n",
            "Iter 184; theta =  tensor([6.8076046278, 8.8294922100], dtype=torch.float64)\n",
            "Iter 185; theta =  tensor([6.8123778494, 8.8324089651], dtype=torch.float64)\n",
            "Iter 186; theta =  tensor([6.8157524116, 8.8336815271], dtype=torch.float64)\n",
            "Iter 187; theta =  tensor([6.8211130418, 8.8388206628], dtype=torch.float64)\n",
            "Iter 188; theta =  tensor([6.8246684177, 8.8415600357], dtype=torch.float64)\n",
            "Iter 189; theta =  tensor([6.8275519954, 8.8424517178], dtype=torch.float64)\n",
            "Iter 190; theta =  tensor([6.8326364355, 8.8469365483], dtype=torch.float64)\n",
            "Iter 191; theta =  tensor([6.8370475434, 8.8514592111], dtype=torch.float64)\n",
            "Iter 192; theta =  tensor([6.8431328319, 8.8584407919], dtype=torch.float64)\n",
            "Iter 193; theta =  tensor([6.8451400678, 8.8591826412], dtype=torch.float64)\n",
            "Iter 194; theta =  tensor([6.8476976167, 8.8595138294], dtype=torch.float64)\n",
            "Iter 195; theta =  tensor([6.8510265847, 8.8624754426], dtype=torch.float64)\n",
            "Iter 196; theta =  tensor([6.8550365122, 8.8655413181], dtype=torch.float64)\n",
            "Iter 197; theta =  tensor([6.8573756684, 8.8661967624], dtype=torch.float64)\n",
            "Iter 198; theta =  tensor([6.8599612881, 8.8676017768], dtype=torch.float64)\n",
            "Iter 199; theta =  tensor([6.8632623650, 8.8707312984], dtype=torch.float64)\n",
            "Iter 200; theta =  tensor([6.8666794439, 8.8744451726], dtype=torch.float64)\n",
            "Iter 201; theta =  tensor([6.8700324918, 8.8771088368], dtype=torch.float64)\n",
            "Iter 202; theta =  tensor([6.8734396411, 8.8804980994], dtype=torch.float64)\n",
            "Iter 203; theta =  tensor([6.8767528756, 8.8863855029], dtype=torch.float64)\n",
            "Iter 204; theta =  tensor([6.8800978558, 8.8900637758], dtype=torch.float64)\n",
            "Iter 205; theta =  tensor([6.8822589496, 8.8910846341], dtype=torch.float64)\n",
            "Iter 206; theta =  tensor([6.8842500079, 8.8926043518], dtype=torch.float64)\n",
            "Iter 207; theta =  tensor([6.8871550620, 8.8952800499], dtype=torch.float64)\n",
            "Iter 208; theta =  tensor([6.8883223465, 8.8975198381], dtype=torch.float64)\n",
            "Iter 209; theta =  tensor([6.8910191101, 8.8990200100], dtype=torch.float64)\n",
            "Iter 210; theta =  tensor([6.8931101277, 8.9005084788], dtype=torch.float64)\n",
            "Iter 211; theta =  tensor([6.8952857727, 8.9023550472], dtype=torch.float64)\n",
            "Iter 212; theta =  tensor([6.8966941693, 8.9038961119], dtype=torch.float64)\n",
            "Iter 213; theta =  tensor([6.8990022883, 8.9055186402], dtype=torch.float64)\n",
            "Iter 214; theta =  tensor([6.9011086512, 8.9065145957], dtype=torch.float64)\n",
            "Iter 215; theta =  tensor([6.9036009626, 8.9077271074], dtype=torch.float64)\n",
            "Iter 216; theta =  tensor([6.9057826091, 8.9106679690], dtype=torch.float64)\n",
            "Iter 217; theta =  tensor([6.9087329946, 8.9141631657], dtype=torch.float64)\n",
            "Iter 218; theta =  tensor([6.9114024864, 8.9165113881], dtype=torch.float64)\n",
            "Iter 219; theta =  tensor([6.9137537123, 8.9179821351], dtype=torch.float64)\n",
            "Iter 220; theta =  tensor([6.9149634846, 8.9193124448], dtype=torch.float64)\n",
            "Iter 221; theta =  tensor([6.9164948542, 8.9196023191], dtype=torch.float64)\n",
            "Iter 222; theta =  tensor([6.9181617258, 8.9204841851], dtype=torch.float64)\n",
            "Iter 223; theta =  tensor([6.9190287789, 8.9207468786], dtype=torch.float64)\n",
            "Iter 224; theta =  tensor([6.9205755032, 8.9227467145], dtype=torch.float64)\n",
            "Iter 225; theta =  tensor([6.9221305235, 8.9244983402], dtype=torch.float64)\n",
            "Iter 226; theta =  tensor([6.9242347888, 8.9257519090], dtype=torch.float64)\n",
            "Iter 227; theta =  tensor([6.9251103858, 8.9279660461], dtype=torch.float64)\n",
            "Iter 228; theta =  tensor([6.9273185339, 8.9296431518], dtype=torch.float64)\n",
            "Iter 229; theta =  tensor([6.9287911806, 8.9302277027], dtype=torch.float64)\n",
            "Iter 230; theta =  tensor([6.9305906133, 8.9324546591], dtype=torch.float64)\n",
            "Iter 231; theta =  tensor([6.9317492055, 8.9325935833], dtype=torch.float64)\n",
            "Iter 232; theta =  tensor([6.9332001876, 8.9344847225], dtype=torch.float64)\n",
            "Iter 233; theta =  tensor([6.9350476017, 8.9357763319], dtype=torch.float64)\n",
            "Iter 234; theta =  tensor([6.9361934910, 8.9366110385], dtype=torch.float64)\n",
            "Iter 235; theta =  tensor([6.9378758975, 8.9386525163], dtype=torch.float64)\n",
            "Iter 236; theta =  tensor([6.9386275169, 8.9402862688], dtype=torch.float64)\n",
            "Iter 237; theta =  tensor([6.9396945035, 8.9410732682], dtype=torch.float64)\n",
            "Iter 238; theta =  tensor([6.9407602812, 8.9423195923], dtype=torch.float64)\n",
            "Iter 239; theta =  tensor([6.9413232047, 8.9426373619], dtype=torch.float64)\n",
            "Iter 240; theta =  tensor([6.9426298052, 8.9437975398], dtype=torch.float64)\n",
            "Iter 241; theta =  tensor([6.9442491663, 8.9455181841], dtype=torch.float64)\n",
            "Iter 242; theta =  tensor([6.9450469254, 8.9467796556], dtype=torch.float64)\n",
            "Iter 243; theta =  tensor([6.9456807402, 8.9471318105], dtype=torch.float64)\n",
            "Iter 244; theta =  tensor([6.9470875386, 8.9484002963], dtype=torch.float64)\n",
            "Iter 245; theta =  tensor([6.9489168938, 8.9507197000], dtype=torch.float64)\n",
            "Iter 246; theta =  tensor([6.9495638764, 8.9512249533], dtype=torch.float64)\n",
            "Iter 247; theta =  tensor([6.9507820838, 8.9519289858], dtype=torch.float64)\n",
            "Iter 248; theta =  tensor([6.9524212087, 8.9538103967], dtype=torch.float64)\n",
            "Iter 249; theta =  tensor([6.9534054607, 8.9543697279], dtype=torch.float64)\n",
            "Iter 250; theta =  tensor([6.9549087293, 8.9561768382], dtype=torch.float64)\n",
            "Iter 251; theta =  tensor([6.9556485298, 8.9566385267], dtype=torch.float64)\n",
            "Iter 252; theta =  tensor([6.9570556420, 8.9580399073], dtype=torch.float64)\n",
            "Iter 253; theta =  tensor([6.9583993214, 8.9598517635], dtype=torch.float64)\n",
            "Iter 254; theta =  tensor([6.9590481928, 8.9605681483], dtype=torch.float64)\n",
            "Iter 255; theta =  tensor([6.9598823012, 8.9608809489], dtype=torch.float64)\n",
            "Iter 256; theta =  tensor([6.9605940360, 8.9617723234], dtype=torch.float64)\n",
            "Iter 257; theta =  tensor([6.9613247203, 8.9623024046], dtype=torch.float64)\n",
            "Iter 258; theta =  tensor([6.9619767579, 8.9629200102], dtype=torch.float64)\n",
            "Iter 259; theta =  tensor([6.9627550072, 8.9633429949], dtype=torch.float64)\n",
            "Iter 260; theta =  tensor([6.9637095437, 8.9640644324], dtype=torch.float64)\n",
            "Iter 261; theta =  tensor([6.9642637434, 8.9643475222], dtype=torch.float64)\n",
            "Iter 262; theta =  tensor([6.9651365147, 8.9648994443], dtype=torch.float64)\n",
            "Iter 263; theta =  tensor([6.9656674824, 8.9652077204], dtype=torch.float64)\n",
            "Iter 264; theta =  tensor([6.9663434487, 8.9659459457], dtype=torch.float64)\n",
            "Iter 265; theta =  tensor([6.9672696191, 8.9668053708], dtype=torch.float64)\n",
            "Iter 266; theta =  tensor([6.9675894218, 8.9669704953], dtype=torch.float64)\n",
            "Iter 267; theta =  tensor([6.9683901292, 8.9675579653], dtype=torch.float64)\n",
            "Iter 268; theta =  tensor([6.9692186204, 8.9684811520], dtype=torch.float64)\n",
            "Iter 269; theta =  tensor([6.9698483067, 8.9689708663], dtype=torch.float64)\n",
            "Iter 270; theta =  tensor([6.9701610066, 8.9695083838], dtype=torch.float64)\n",
            "Iter 271; theta =  tensor([6.9706245057, 8.9697928157], dtype=torch.float64)\n",
            "Iter 272; theta =  tensor([6.9711705052, 8.9701216846], dtype=torch.float64)\n",
            "Iter 273; theta =  tensor([6.9716884772, 8.9706117643], dtype=torch.float64)\n",
            "Iter 274; theta =  tensor([6.9724093501, 8.9710255743], dtype=torch.float64)\n",
            "Iter 275; theta =  tensor([6.9731597964, 8.9717254709], dtype=torch.float64)\n",
            "Iter 276; theta =  tensor([6.9736690070, 8.9723978472], dtype=torch.float64)\n",
            "Iter 277; theta =  tensor([6.9738971164, 8.9726476212], dtype=torch.float64)\n",
            "Iter 278; theta =  tensor([6.9746879661, 8.9738188187], dtype=torch.float64)\n",
            "Iter 279; theta =  tensor([6.9751860072, 8.9746434723], dtype=torch.float64)\n",
            "Iter 280; theta =  tensor([6.9760687625, 8.9758772592], dtype=torch.float64)\n",
            "Iter 281; theta =  tensor([6.9766850936, 8.9764373554], dtype=torch.float64)\n",
            "Iter 282; theta =  tensor([6.9774207093, 8.9773680632], dtype=torch.float64)\n",
            "Iter 283; theta =  tensor([6.9778697888, 8.9779037787], dtype=torch.float64)\n",
            "Iter 284; theta =  tensor([6.9780596520, 8.9782786549], dtype=torch.float64)\n",
            "Iter 285; theta =  tensor([6.9783250205, 8.9788005478], dtype=torch.float64)\n",
            "Iter 286; theta =  tensor([6.9786681392, 8.9791832687], dtype=torch.float64)\n",
            "Iter 287; theta =  tensor([6.9790466621, 8.9794137543], dtype=torch.float64)\n",
            "Iter 288; theta =  tensor([6.9794438808, 8.9795761758], dtype=torch.float64)\n",
            "Iter 289; theta =  tensor([6.9799387343, 8.9801238997], dtype=torch.float64)\n",
            "Iter 290; theta =  tensor([6.9804914687, 8.9804255102], dtype=torch.float64)\n",
            "Iter 291; theta =  tensor([6.9807908032, 8.9807261634], dtype=torch.float64)\n",
            "Iter 292; theta =  tensor([6.9809938948, 8.9810388245], dtype=torch.float64)\n",
            "Iter 293; theta =  tensor([6.9812578356, 8.9814361383], dtype=torch.float64)\n",
            "Iter 294; theta =  tensor([6.9815776751, 8.9816489137], dtype=torch.float64)\n",
            "Iter 295; theta =  tensor([6.9820838358, 8.9819901831], dtype=torch.float64)\n",
            "Iter 296; theta =  tensor([6.9824266179, 8.9821298573], dtype=torch.float64)\n",
            "Iter 297; theta =  tensor([6.9827566750, 8.9825530892], dtype=torch.float64)\n",
            "Iter 298; theta =  tensor([6.9832307809, 8.9829970015], dtype=torch.float64)\n",
            "Iter 299; theta =  tensor([6.9835863107, 8.9837133278], dtype=torch.float64)\n",
            "Iter 300; theta =  tensor([6.9839672082, 8.9840799169], dtype=torch.float64)\n",
            "Iter 301; theta =  tensor([6.9843228410, 8.9842544222], dtype=torch.float64)\n",
            "Iter 302; theta =  tensor([6.9845693010, 8.9843906876], dtype=torch.float64)\n",
            "Iter 303; theta =  tensor([6.9848499230, 8.9845391290], dtype=torch.float64)\n",
            "Iter 304; theta =  tensor([6.9852395666, 8.9850453941], dtype=torch.float64)\n",
            "Iter 305; theta =  tensor([6.9855497153, 8.9852343459], dtype=torch.float64)\n",
            "Iter 306; theta =  tensor([6.9858848546, 8.9854508273], dtype=torch.float64)\n",
            "Iter 307; theta =  tensor([6.9861651023, 8.9855766084], dtype=torch.float64)\n",
            "Iter 308; theta =  tensor([6.9864566167, 8.9858158846], dtype=torch.float64)\n",
            "Iter 309; theta =  tensor([6.9866684936, 8.9858513771], dtype=torch.float64)\n",
            "Iter 310; theta =  tensor([6.9870917543, 8.9862316310], dtype=torch.float64)\n",
            "Iter 311; theta =  tensor([6.9874879078, 8.9867014299], dtype=torch.float64)\n",
            "Iter 312; theta =  tensor([6.9876891145, 8.9868304842], dtype=torch.float64)\n",
            "Iter 313; theta =  tensor([6.9879376315, 8.9870565757], dtype=torch.float64)\n",
            "Iter 314; theta =  tensor([6.9881658052, 8.9871142279], dtype=torch.float64)\n"
          ]
        },
        {
          "data": {
            "text/plain": [
              "tensor([6.9881658052, 8.9871142279], dtype=torch.float64, requires_grad=True)"
            ]
          },
          "execution_count": 82,
          "metadata": {},
          "output_type": "execute_result"
        }
      ],
      "source": [
        "# Sua função deve retornar algo perto de 7 e 9\n",
        "minibatch_gd(derivada_torch, media_erros_quadrados, X, y)"
      ]
    },
    {
      "attachments": {},
      "cell_type": "markdown",
      "metadata": {},
      "source": [
        "Ao mudar o erro tolerado passado como parâmentro da função acima, o algoritmo de gradient descent deve passar por mais epochs até chegar numa estimativa razoável. Isto é: quanto mais exigente for o algoritmo, maior o número de iter na execução da função."
      ]
    },
    {
      "attachments": {},
      "cell_type": "markdown",
      "metadata": {
        "id": "khoTY_BZonb7"
      },
      "source": [
        "## Conjunto de Problemas 3: Logistic from Scratch"
      ]
    },
    {
      "attachments": {},
      "cell_type": "markdown",
      "metadata": {
        "id": "puVaL8Kuonb8"
      },
      "source": [
        "12. Repita o mesmo processo para a Logística. Lembrando que a mesma tem a seguinte forma:\n",
        "\n",
        "$$f(x_i) = \\frac{1}{1 + e^{-(1 + \\theta_1 x_{i1} + \\theta_2 x_{i2} + \\cdots \\theta_k x_{ik})}}$$\n",
        "\n",
        "Implemente a função logística."
      ]
    },
    {
      "cell_type": "code",
      "execution_count": 85,
      "metadata": {
        "id": "9gMYzjfDWBNh"
      },
      "outputs": [],
      "source": [
        "def logistic(X, theta):\n",
        "    return 1 / (1 + torch.exp(-torch.matmul(X, theta))).float()"
      ]
    },
    {
      "cell_type": "code",
      "execution_count": 86,
      "metadata": {
        "id": "t-AsqWqHWBNk"
      },
      "outputs": [],
      "source": [
        "# testes, não apague!\n",
        "X_teste = torch.randn(1000, 20000)\n",
        "theta = torch.randn(20000)\n",
        "y_hat_teste = logistic(X_teste, theta)\n",
        "assert_equal(True, (y_hat_teste >= 0).numpy().all())\n",
        "assert_equal(True, (y_hat_teste <= 1).numpy().all())"
      ]
    },
    {
      "attachments": {},
      "cell_type": "markdown",
      "metadata": {
        "id": "xcOzTSYqoncA"
      },
      "source": [
        "Usando a logística acima implemente uma função logistica_prever que retorna 0 ou 1. Use o limiar dado na função. "
      ]
    },
    {
      "cell_type": "code",
      "execution_count": 87,
      "metadata": {
        "id": "7IzJAoDYoncB"
      },
      "outputs": [],
      "source": [
        "def logistica_prever(X, theta, limiar=0.5):\n",
        "    return (logistic(X, theta) >= limiar).float()"
      ]
    },
    {
      "cell_type": "code",
      "execution_count": 88,
      "metadata": {
        "id": "WeNGI7IFWBNs"
      },
      "outputs": [],
      "source": [
        "# testes, não apague!\n",
        "X_teste = torch.randn(1000, 20000)\n",
        "theta = torch.randn(20000)\n",
        "y_hat_teste = logistica_prever(X_teste, theta)\n",
        "for yi in y_hat_teste.numpy():\n",
        "    assert(yi in {0, 1})"
      ]
    },
    {
      "attachments": {},
      "cell_type": "markdown",
      "metadata": {
        "id": "34WQX2AloncI"
      },
      "source": [
        "Agora, implemente uma função de entropia cruzada da logística. A mesma, é proporcional ao inverso da verossimilhança. Para entender a derivação entre as duas faça uso dos [Slides](https://docs.google.com/presentation/d/1yGPETPe8o7PPOP6_CF38LHr3vpxgTEnF5LjP-1pkGIc/edit?usp=sharing). \n",
        "\n",
        "Sendo:\n",
        "\n",
        "$$ll(x_i,y_i~|~\\theta) = y_i \\log f(x_i\\theta) + (1-y_i) \\log (1-f(x_i\\theta))$$\n",
        "\n",
        "A verossimilhança para uma observação. A entropia cruzada é a media da negação do termo para todos os exemplos:\n",
        "\n",
        "$$L(\\theta) = -n^{-1}\\sum_i \\big((1-y_i)\\log (1-f_{\\theta}(x_i)) + y_i\\log (f_{\\theta}(x_i))\\big)$$\n",
        "\n",
        "`dica: use torch.clamp(logistic(X, theta), min = 0.001, max = 0.999)`. A função remove os 0 e 1s da logistic, evitando assim o valor log(0)."
      ]
    },
    {
      "cell_type": "code",
      "execution_count": 89,
      "metadata": {
        "id": "z5XRS87bWBNw"
      },
      "outputs": [],
      "source": [
        "def cross_entropy_mean(X, theta, y):\n",
        "    logit = logistic(X, theta)\n",
        "    logit = torch.clamp(logit, min=0.00001, max = 0.99999)\n",
        "    return -(y * torch.log(logit) + (1 - y) * torch.log(1 - logit)).mean()"
      ]
    },
    {
      "attachments": {},
      "cell_type": "markdown",
      "metadata": {},
      "source": [
        "A entropia cruzada significa a distância entre o dado real e o dado previsto pelo modelo. Serve como a função de erro do modelo, substituindo a função de erro quadrático utilizada previamente. Quanto maior a entropia, maior a distância entre a solução real e a sugerida pelo modelo. A partir daqui, implementamos um modelo que aprende baseado na aproximação função logística utilizando do erro calculado pela entropia cruzada entre previsão e real."
      ]
    },
    {
      "cell_type": "code",
      "execution_count": 90,
      "metadata": {
        "id": "MC_fPXj0oncM"
      },
      "outputs": [],
      "source": [
        "# testes, não apague!\n",
        "from sklearn import datasets\n",
        "state = np.random.seed(20190187)\n",
        "\n",
        "X, y = datasets.make_blobs(n_samples=200, n_features=2, centers=2)\n",
        "X = torch.tensor(X).double()\n",
        "y = torch.tensor(y).double()\n",
        "\n",
        "for _ in range(100):\n",
        "    theta = torch.randn(2,1).double()\n",
        "    assert(cross_entropy_mean(X, theta, y) >= 0)"
      ]
    },
    {
      "attachments": {},
      "cell_type": "markdown",
      "metadata": {
        "id": "_1E_BSkhoncO"
      },
      "source": [
        "Agora implemente a derivada."
      ]
    },
    {
      "cell_type": "code",
      "execution_count": 91,
      "metadata": {
        "id": "iJqaZncSWBN2"
      },
      "outputs": [],
      "source": [
        "def derivada_torch_logit(X, theta, y):\n",
        "    e = cross_entropy_mean(X, theta, y)\n",
        "    e.backward()\n",
        "    return theta.grad"
      ]
    },
    {
      "attachments": {},
      "cell_type": "markdown",
      "metadata": {
        "id": "D4kELMG4oncS"
      },
      "source": [
        "A partir daqui basta executar código."
      ]
    },
    {
      "cell_type": "code",
      "execution_count": 93,
      "metadata": {
        "id": "QZP6mlFIoncT"
      },
      "outputs": [
        {
          "data": {
            "text/plain": [
              "<matplotlib.collections.PathCollection at 0x289dded00>"
            ]
          },
          "execution_count": 93,
          "metadata": {},
          "output_type": "execute_result"
        },
        {
          "data": {
            "image/png": "[encoded data removed]",
            "text/plain": [
              "<Figure size 1200x800 with 1 Axes>"
            ]
          },
          "metadata": {},
          "output_type": "display_data"
        }
      ],
      "source": [
        "plt.scatter(X.numpy()[:, 0], X.numpy()[:, 1], s=80, edgecolors='k')"
      ]
    },
    {
      "attachments": {},
      "cell_type": "markdown",
      "metadata": {
        "id": "XlRLH5sMoncW"
      },
      "source": [
        "13. Assim como foi feito na primeira aula, abaixo testamos o seu código com um toy dataset."
      ]
    },
    {
      "cell_type": "code",
      "execution_count": 94,
      "metadata": {
        "id": "_mY_Dfj8oncW"
      },
      "outputs": [],
      "source": [
        "# Use essa função antes de executar o GD\n",
        "def add_intercept(X):\n",
        "    Xn = torch.zeros(X.shape[0], X.shape[1] + 1).double()\n",
        "    Xn[:, 0]  = 1.0\n",
        "    Xn[:, 1:] = X\n",
        "    return Xn"
      ]
    },
    {
      "cell_type": "code",
      "execution_count": 97,
      "metadata": {
        "id": "jT4OCJwYoncb"
      },
      "outputs": [
        {
          "name": "stdout",
          "output_type": "stream",
          "text": [
            "Iter 0; theta =  tensor([ 1.4894741774, -1.8465216160,  2.7510371208], dtype=torch.float64,\n",
            "       requires_grad=True)\n",
            "Iter 1; theta =  tensor([ 1.4894735961, -1.8465239187,  2.7510375798], dtype=torch.float64)\n",
            "Iter 2; theta =  tensor([ 1.4894732676, -1.8465253210,  2.7510378806], dtype=torch.float64)\n",
            "Iter 3; theta =  tensor([ 1.4893981197, -1.8468233589,  2.7509643857], dtype=torch.float64)\n",
            "Iter 4; theta =  tensor([ 1.4893974630, -1.8468266196,  2.7509644141], dtype=torch.float64)\n",
            "Iter 5; theta =  tensor([ 1.4893963576, -1.8468314248,  2.7509647925], dtype=torch.float64)\n",
            "Iter 6; theta =  tensor([ 1.4893962389, -1.8468319913,  2.7509648665], dtype=torch.float64)\n",
            "Iter 7; theta =  tensor([ 1.4893743295, -1.8469094548,  2.7509563158], dtype=torch.float64)\n",
            "Iter 8; theta =  tensor([ 1.4893743046, -1.8469095503,  2.7509563611], dtype=torch.float64)\n",
            "Iter 9; theta =  tensor([ 1.4893726160, -1.8469154747,  2.7509574491], dtype=torch.float64)\n",
            "Iter 10; theta =  tensor([ 1.4893722245, -1.8469171058,  2.7509578664], dtype=torch.float64)\n",
            "Iter 11; theta =  tensor([ 1.4893716496, -1.8469199394,  2.7509578933], dtype=torch.float64)\n",
            "tensor([ 1.4893716496, -1.8469199394,  2.7509578933], dtype=torch.float64,\n",
            "       requires_grad=True)\n"
          ]
        }
      ],
      "source": [
        "Xn = add_intercept(X)\n",
        "theta = minibatch_gd(derivada_torch_logit, cross_entropy_mean, Xn, y)"
      ]
    },
    {
      "cell_type": "code",
      "execution_count": 96,
      "metadata": {
        "id": "47Iaopm_onch"
      },
      "outputs": [
        {
          "name": "stdout",
          "output_type": "stream",
          "text": [
            "tensor([True, True, True, True, True, True, True, True, True, True, True, True,\n",
            "        True, True, True, True, True, True, True, True, True, True, True, True,\n",
            "        True, True, True, True, True, True, True, True, True, True, True, True,\n",
            "        True, True, True, True, True, True, True, True, True, True, True, True,\n",
            "        True, True, True, True, True, True, True, True, True, True, True, True,\n",
            "        True, True, True, True, True, True, True, True, True, True, True, True,\n",
            "        True, True, True, True, True, True, True, True, True, True, True, True,\n",
            "        True, True, True, True, True, True, True, True, True, True, True, True,\n",
            "        True, True, True, True, True, True, True, True, True, True, True, True,\n",
            "        True, True, True, True, True, True, True, True, True, True, True, True,\n",
            "        True, True, True, True, True, True, True, True, True, True, True, True,\n",
            "        True, True, True, True, True, True, True, True, True, True, True, True,\n",
            "        True, True, True, True, True, True, True, True, True, True, True, True,\n",
            "        True, True, True, True, True, True, True, True, True, True, True, True,\n",
            "        True, True, True, True, True, True, True, True, True, True, True, True,\n",
            "        True, True, True, True, True, True, True, True, True, True, True, True,\n",
            "        True, True, True, True, True, True, True, True])\n",
            "tensor(1., dtype=torch.float64)\n"
          ]
        }
      ],
      "source": [
        "y_p = logistica_prever(Xn, theta)\n",
        "print(y == y_p.int().double())\n",
        "print((y == y_p.int().double()).double().mean())"
      ]
    }
  ],
  "metadata": {
    "colab": {
      "collapsed_sections": [],
      "name": "02-Linear e Logistica.ipynb",
      "provenance": []
    },
    "kernelspec": {
      "display_name": "Python 3",
      "language": "python",
      "name": "python3"
    },
    "language_info": {
      "codemirror_mode": {
        "name": "ipython",
        "version": 3
      },
      "file_extension": ".py",
      "mimetype": "text/x-python",
      "name": "python",
      "nbconvert_exporter": "python",
      "pygments_lexer": "ipython3",
      "version": "3.9.6"
    }
  },
  "nbformat": 4,
  "nbformat_minor": 0
}
