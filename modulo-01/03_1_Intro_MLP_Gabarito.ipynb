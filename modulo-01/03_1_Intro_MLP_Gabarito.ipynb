{
  "nbformat": 4,
  "nbformat_minor": 0,
  "metadata": {
    "colab": {
      "name": "03_1_Intro_MLP_Gabarito.ipynb",
      "provenance": [],
      "collapsed_sections": [
        "NG-mVsVuE0if",
        "3f-q6bCNzEmx"
      ]
    },
    "kernelspec": {
      "name": "python3",
      "display_name": "Python 3"
    },
    "accelerator": "GPU"
  },
  "cells": [
    {
      "cell_type": "markdown",
      "metadata": {
        "id": "NG-mVsVuE0if"
      },
      "source": [
        "# Preâmbulo\n",
        "\n",
        "Imports, funções, downloads e instalação do Pytorch."
      ]
    },
    {
      "cell_type": "code",
      "metadata": {
        "id": "fEHmMCjR4PJw"
      },
      "source": [
        "# Basic imports.\n",
        "import os\n",
        "import time\n",
        "import numpy as np\n",
        "import torch\n",
        "\n",
        "import torch\n",
        "from torch.autograd import Variable\n",
        "import torch.nn.functional as F\n",
        "\n",
        "from torch import nn\n",
        "from torch import optim\n",
        "\n",
        "from torch.utils.data import DataLoader\n",
        "from torch.utils import data\n",
        "from torch.backends import cudnn\n",
        "\n",
        "from torchvision import models\n",
        "from torchvision import datasets\n",
        "from torchvision import transforms\n",
        "\n",
        "from skimage import io\n",
        "\n",
        "from sklearn import metrics\n",
        "\n",
        "from matplotlib import pyplot as plt\n",
        "\n",
        "%matplotlib inline\n",
        "\n",
        "cudnn.benchmark = True"
      ],
      "execution_count": null,
      "outputs": []
    },
    {
      "cell_type": "markdown",
      "metadata": {
        "id": "oQa4-lUw7Rmp"
      },
      "source": [
        "## Casting para o dispositivo correto\n",
        "\n",
        "Como usaremos processamento vetorial principalmente em GPUs para aprendizado profundo, primeiramente é possível verificar se há uma GPU disponível com o trecho de código abaixo, armazenando os tensores nos dispositivos apropriados."
      ]
    },
    {
      "cell_type": "code",
      "metadata": {
        "id": "yX0bBEM863sY",
        "colab": {
          "base_uri": "https://localhost:8080/"
        },
        "outputId": "57150e11-9cb5-4d13-c7cd-faec53022458"
      },
      "source": [
        "# Checking if GPU/CUDA is available.\n",
        "if torch.cuda.is_available():\n",
        "    device = torch.device('cuda')\n",
        "else:\n",
        "    device = torch.device('cpu')\n",
        "\n",
        "print(device)"
      ],
      "execution_count": null,
      "outputs": [
        {
          "output_type": "stream",
          "text": [
            "cuda\n"
          ],
          "name": "stdout"
        }
      ]
    },
    {
      "cell_type": "markdown",
      "metadata": {
        "id": "1x5UK0uib2tk"
      },
      "source": [
        "# Intro MLP\n",
        "\n",
        "## O perceptron e a camada `nn.Linear`\n",
        "\n",
        "A camada Linear do Pytorch ([nn.Linear](https://pytorch.org/docs/stable/nn.html#torch.nn.Linear)) é responsável por aplicar uma transformação linear no dado de entrada. Esta camada recebe como parâmetro a dimensão (número de *features*) da entrada e da saída (que na verdade, representa o número de neurônios dessa camada). Por padrão o bias já é incluído. **Um** perceptron pode ser facilmente representado como a seguir, desconsiderando a função de ativação:\n",
        "\n",
        "```\n",
        "perceptron = nn.Linear(in_dimension, 1)\n",
        "```\n",
        "Mas de uma forma geral, uma camada Linear com diversas *features* de entrada e diversas *features* de saída pode ser representada como:\n",
        "```\n",
        "nn.Linear(in_features, out_features)\n",
        "```\n",
        "![](./figs/nn_linear.png)"
      ]
    },
    {
      "cell_type": "code",
      "metadata": {
        "id": "OlQA_vtGg8bf",
        "colab": {
          "base_uri": "https://localhost:8080/"
        },
        "outputId": "2f06dbae-457d-4ef7-c1da-051e72bea15e"
      },
      "source": [
        "linear = nn.Linear(2,3)\n",
        "print(linear)"
      ],
      "execution_count": null,
      "outputs": [
        {
          "output_type": "stream",
          "text": [
            "Linear(in_features=2, out_features=3, bias=True)\n"
          ],
          "name": "stdout"
        }
      ]
    },
    {
      "cell_type": "markdown",
      "metadata": {
        "id": "6AhNyLrLmFcT"
      },
      "source": [
        "Como é possível ver no código abaixo, o Pytorch já inicia os pesos da camada aleatoriamente."
      ]
    },
    {
      "cell_type": "code",
      "metadata": {
        "id": "fLOlOhQVmPuj",
        "colab": {
          "base_uri": "https://localhost:8080/"
        },
        "outputId": "dd253d2a-0424-4776-f3d8-a3b858bc8c0e"
      },
      "source": [
        "for p in linear.parameters():\n",
        "  print(p)"
      ],
      "execution_count": null,
      "outputs": [
        {
          "output_type": "stream",
          "text": [
            "Parameter containing:\n",
            "tensor([[-0.1371,  0.4394],\n",
            "        [ 0.3149,  0.4315],\n",
            "        [-0.5239, -0.6747]], requires_grad=True)\n",
            "Parameter containing:\n",
            "tensor([ 0.2386, -0.3142,  0.4806], requires_grad=True)\n"
          ],
          "name": "stdout"
        }
      ]
    },
    {
      "cell_type": "markdown",
      "metadata": {
        "id": "aAEaJGtDoZD7"
      },
      "source": [
        "O **forward** consiste em passar seu dado de entrada pela rede, gerando um resultado ao final. Considerando a camada linear instanciada anteriormente, o resultado do forward é o mesmo do somatório da multiplicação de seus pesos pelas respectivas entradas juntamente com o bias:\n",
        "\n",
        "w1\\*x1 + w2\\*x2 + ... + wn\\*xn + b\n",
        "\n",
        "No Pytorch, realizamos o **forward** chamando a função onde nossa rede/modelo está instanciada, conforme exemplo abaixo."
      ]
    },
    {
      "cell_type": "code",
      "metadata": {
        "id": "Ibb8t7zpmpUI",
        "colab": {
          "base_uri": "https://localhost:8080/"
        },
        "outputId": "28fac2dd-1370-4a2d-c9f3-d2ea1284fa21"
      },
      "source": [
        "perceptron = nn.Linear(2,1)\n",
        "X = torch.FloatTensor([2,3]) # dado de entrada de exemplo considerando o perceptron definido como nn.Linear(2,1)\n",
        "print('Pytorch: ', perceptron(X))\n",
        "\n",
        "# acessamos os pesos do modelo com .weight e o bias com .bias\n",
        "print('Manual: ', torch.mul(X, perceptron.weight).sum() + perceptron.bias)"
      ],
      "execution_count": null,
      "outputs": [
        {
          "output_type": "stream",
          "text": [
            "Pytorch:  tensor([1.1275], grad_fn=<AddBackward0>)\n",
            "Manual:  tensor([1.1275], grad_fn=<AddBackward0>)\n"
          ],
          "name": "stdout"
        }
      ]
    },
    {
      "cell_type": "markdown",
      "metadata": {
        "id": "x8LMX6OMrEbw"
      },
      "source": [
        "## Exemplo Perceptron simples\n",
        "\n",
        "O código abaixo cria um perceptron simples usando `nn.Linear` e implemente o fluxo de treinamento para esse preceptron, ou seja, faz o forward nessa camada, calcula a loss, e otimiza a camada. Invista um pouco de tempo para entender a célula abaixo pois usaremos essa ideia para implementar a função de treino mais a frente."
      ]
    },
    {
      "cell_type": "code",
      "metadata": {
        "id": "YPJ9s5ckoA5T",
        "colab": {
          "base_uri": "https://localhost:8080/"
        },
        "outputId": "afb29944-9e25-4a02-a784-9c807834ca8c"
      },
      "source": [
        "def loss_fn(predict, label):  # definindo a loss\n",
        "    return torch.pow(label - predict, 2)\n",
        "\n",
        "perceptron = nn.Linear(1,1) # Camada linear com 1 feature de entrada (mais o bias) e uma de saída\n",
        "perceptron.to(device) # casting do perceptron para GPU\n",
        "learning_rate = 0.01\n",
        "print('Parametros iniciais: ', list(perceptron.parameters()))\n",
        "\n",
        "dataset = [] # dados de exemplo que seguem a função y = 2x+3\n",
        "for x in range(10):\n",
        "    dataset.append((x, 2*x+3))\n",
        "\n",
        "for epoch in range(101):\n",
        "    epoch_loss = 0\n",
        "    for iteration, data in enumerate(dataset):\n",
        "        X, y = data\n",
        "        X, y = torch.FloatTensor([X]).to(device), torch.FloatTensor([y]).to(device) # conversão para Tensor\n",
        "  \n",
        "        y_pred = perceptron(X)  # forward\n",
        "        loss = loss_fn(y_pred, y)  # calcula a loss\n",
        "\n",
        "        epoch_loss += loss.item()\n",
        "        loss.backward()\n",
        "        with torch.no_grad():\n",
        "            for param in perceptron.parameters():\n",
        "                param -= learning_rate * param.grad  # atualização dos parametros (pesos e bias) com base no gradiente\n",
        "                param.grad.zero_()  # resetando o gradiente\n",
        "\n",
        "    if epoch % 10 == 0:\n",
        "        print(\"Epoch {} - loss: {}\".format(epoch, epoch_loss))\n",
        "print('Parametros finais: ', list(perceptron.parameters()))"
      ],
      "execution_count": null,
      "outputs": [
        {
          "output_type": "stream",
          "text": [
            "Parametros iniciais:  [Parameter containing:\n",
            "tensor([[-0.0700]], device='cuda:0', requires_grad=True), Parameter containing:\n",
            "tensor([-0.9873], device='cuda:0', requires_grad=True)]\n",
            "Epoch 0 - loss: 288.4102809987962\n",
            "Epoch 10 - loss: 10.214067387394607\n",
            "Epoch 20 - loss: 3.5298936692997813\n",
            "Epoch 30 - loss: 1.219899281160906\n",
            "Epoch 40 - loss: 0.42158502485835925\n",
            "Epoch 50 - loss: 0.14569592762563843\n",
            "Epoch 60 - loss: 0.05035081384994555\n",
            "Epoch 70 - loss: 0.01740083147888072\n",
            "Epoch 80 - loss: 0.006013804901158437\n",
            "Epoch 90 - loss: 0.0020783275831490755\n",
            "Epoch 100 - loss: 0.0007182354429460247\n",
            "Parametros finais:  [Parameter containing:\n",
            "tensor([[2.0016]], device='cuda:0', requires_grad=True), Parameter containing:\n",
            "tensor([2.9845], device='cuda:0', requires_grad=True)]\n"
          ],
          "name": "stdout"
        }
      ]
    },
    {
      "cell_type": "code",
      "metadata": {
        "id": "e9uRk8mAwGIB",
        "colab": {
          "base_uri": "https://localhost:8080/"
        },
        "outputId": "098dc427-de94-4598-a206-b74a14b4b6b4"
      },
      "source": [
        "print(perceptron(torch.FloatTensor([20]).to(device))) # forward do valor 20 para conferir resultado, saida deve ser aproximadamente = 2x+3 = 2*20+3 = 43"
      ],
      "execution_count": null,
      "outputs": [
        {
          "output_type": "stream",
          "text": [
            "tensor([43.0172], device='cuda:0', grad_fn=<AddBackward0>)\n"
          ],
          "name": "stdout"
        }
      ]
    },
    {
      "cell_type": "markdown",
      "metadata": {
        "id": "3f-q6bCNzEmx"
      },
      "source": [
        "## O módulo `nn.Sequential`\n",
        "\n",
        "Na prática, criaremos redes com diversas camadas. O bloco `nn.Sequential` permite agrupar as camadas de forma sequencial para que o forward seja realizado na ordem desejada. Veja um exemplo para um *Multilayer Perceptron (MLP)* abaixo."
      ]
    },
    {
      "cell_type": "code",
      "metadata": {
        "id": "LCK_OkqCzdUW",
        "colab": {
          "base_uri": "https://localhost:8080/"
        },
        "outputId": "cd4000e5-4932-4078-be8e-2f3c373eb728"
      },
      "source": [
        "in_features = 28\n",
        "hidden_1 = 64\n",
        "hidden_2 = 32\n",
        "out_features = 8\n",
        "\n",
        "MLP = nn.Sequential(nn.Linear(in_features, hidden_1), nn.ReLU(), \n",
        "                    nn.Linear(hidden_1, hidden_2), nn.ReLU(), \n",
        "                    nn.Linear(hidden_2, out_features))\n",
        "print(MLP)"
      ],
      "execution_count": null,
      "outputs": [
        {
          "output_type": "stream",
          "text": [
            "Sequential(\n",
            "  (0): Linear(in_features=28, out_features=64, bias=True)\n",
            "  (1): ReLU()\n",
            "  (2): Linear(in_features=64, out_features=32, bias=True)\n",
            "  (3): ReLU()\n",
            "  (4): Linear(in_features=32, out_features=8, bias=True)\n",
            ")\n"
          ],
          "name": "stdout"
        }
      ]
    },
    {
      "cell_type": "code",
      "metadata": {
        "id": "mkhjCepK0kjJ",
        "colab": {
          "base_uri": "https://localhost:8080/"
        },
        "outputId": "42cb74f0-80bb-4a14-c70b-ef0d444af37b"
      },
      "source": [
        "test_data = torch.randn((10,28)) # 10 dados de input aleatórios com 28 features\n",
        "output = MLP(test_data) # forward da rede\n",
        "print(output.size())"
      ],
      "execution_count": null,
      "outputs": [
        {
          "output_type": "stream",
          "text": [
            "torch.Size([10, 8])\n"
          ],
          "name": "stdout"
        }
      ]
    },
    {
      "cell_type": "markdown",
      "metadata": {
        "id": "E9LoXL0cUYMT"
      },
      "source": [
        "## Sua vez\r\n",
        "\r\n",
        "Vamos agora treinar um MLP simples em dados aleatórios. A célula abaixo define as dimensões de entrada e saída e gera os dados aleatórios."
      ]
    },
    {
      "cell_type": "code",
      "metadata": {
        "id": "Vi3Zh8fQ4X_3",
        "colab": {
          "base_uri": "https://localhost:8080/"
        },
        "outputId": "5b5562a5-d04a-4ca2-a048-e3914b6a40d8"
      },
      "source": [
        "# N is batch size; D_in is input dimension;\n",
        "# H is hidden dimension; D_out is output dimension.\n",
        "N, D_in, H, D_out = 64, 1000, 100, 10\n",
        "\n",
        "# Create random Tensors to hold inputs and outputs\n",
        "x = torch.randn(N, D_in)\n",
        "y = torch.randn(N, D_out)\n",
        "\n",
        "# Casting tensors to the appropriate device.\n",
        "x = x.to(device)\n",
        "y = y.to(device)\n",
        "\n",
        "# Printing sizes of tensors.\n",
        "print('x: ', x.size())\n",
        "print('y: ', y.size())"
      ],
      "execution_count": null,
      "outputs": [
        {
          "output_type": "stream",
          "text": [
            "x:  torch.Size([64, 1000])\n",
            "y:  torch.Size([64, 10])\n"
          ],
          "name": "stdout"
        }
      ]
    },
    {
      "cell_type": "markdown",
      "metadata": {
        "id": "ZMDN1viW-0Eg"
      },
      "source": [
        "Modifique o código abaixo para criar um módulo `nn.Sequential` de nome **model** que representa um MLP com, pelo menos, uma camada escondida (seguindo os valores N, D_in, H e D_out definidos anteriormente), **usando um ReLU como função de ativação entre as camadas**.\n"
      ]
    },
    {
      "cell_type": "code",
      "metadata": {
        "id": "zYO7HWC29Ahy",
        "colab": {
          "base_uri": "https://localhost:8080/"
        },
        "outputId": "4cade123-a7bb-47f2-c04a-94e3db07b361"
      },
      "source": [
        "model = nn.Sequential(nn.Linear(D_in, H), nn.ReLU(), \n",
        "                      nn.Linear(H, H), nn.ReLU(), \n",
        "                      nn.Linear(H, D_out))\n",
        "\n",
        "model.to(device)  # sempre eh necessario fazer o casting da rede para joga-la para GPU\n",
        "print(model)"
      ],
      "execution_count": null,
      "outputs": [
        {
          "output_type": "stream",
          "text": [
            "Sequential(\n",
            "  (0): Linear(in_features=1000, out_features=100, bias=True)\n",
            "  (1): ReLU()\n",
            "  (2): Linear(in_features=100, out_features=100, bias=True)\n",
            "  (3): ReLU()\n",
            "  (4): Linear(in_features=100, out_features=10, bias=True)\n",
            ")\n"
          ],
          "name": "stdout"
        }
      ]
    },
    {
      "cell_type": "markdown",
      "metadata": {
        "id": "BWrn_MUHBz7o"
      },
      "source": [
        "Abaixo, definimos uma loss e um otimizador usando o Torch. Não se preocupem como isso agora, pois iremos ver em detalhes como definir e usar diferentes losses and otimizadores com o Torch."
      ]
    },
    {
      "cell_type": "code",
      "metadata": {
        "id": "1oQ2T8jm9BE9"
      },
      "source": [
        "# Use the nn package to define our loss function.\n",
        "loss_mse = nn.MSELoss(reduction='sum').to(device)"
      ],
      "execution_count": null,
      "outputs": []
    },
    {
      "cell_type": "code",
      "metadata": {
        "id": "Oa5DcYBf82iD"
      },
      "source": [
        "# Use the optim package to define an Optimizer that will update the weights of\n",
        "# the model for us. Here we will use SGD; the optim package contains many other\n",
        "# optimization algorithms. The first argument tells the\n",
        "# optimizer which Tensors it should update.\n",
        "learning_rate = 1e-4\n",
        "\n",
        "optimizer = optim.SGD(model.parameters(), lr=learning_rate)"
      ],
      "execution_count": null,
      "outputs": []
    },
    {
      "cell_type": "markdown",
      "metadata": {
        "id": "JPQtOnNr-kAG"
      },
      "source": [
        "Implemente abaixo a forward e cálculo da loss como feito anteriormente. Estude essa função, pois usaremos esse fluxo de treino mais a frente."
      ]
    },
    {
      "cell_type": "code",
      "metadata": {
        "id": "dsMFRIDv80I3",
        "colab": {
          "base_uri": "https://localhost:8080/"
        },
        "outputId": "74768666-e130-481b-8956-751e95571cbc"
      },
      "source": [
        "# Creating list of losses for each epoch.\n",
        "loss_list = []\n",
        "\n",
        "# Iterating over epochs.\n",
        "for epoch in range(500):\n",
        "\n",
        "    preds = model(x)\n",
        "    loss = loss_mse(preds, y)\n",
        "\n",
        "    if (epoch + 1) % 10 == 0:\n",
        "        print('Epoch ' + str(epoch + 1) + ': loss = ' + str(loss.item()))\n",
        "    \n",
        "    # Updating list of losses for printing.\n",
        "    loss_list.append(loss.item())\n",
        "\n",
        "    # Before the backward pass, use the optimizer object to zero all of the\n",
        "    # gradients for the variables it will update (which are the learnable\n",
        "    # weights of the model). This is because by default, gradients are\n",
        "    # accumulated in buffers( i.e, not overwritten) whenever .backward()\n",
        "    # is called. Checkout docs of torch.autograd.backward for more details.\n",
        "    optimizer.zero_grad()\n",
        "\n",
        "    # Backward pass: compute gradient of the loss with respect to model\n",
        "    # parameters\n",
        "    loss.backward()\n",
        "\n",
        "    # Calling the step function on an Optimizer makes an update to its\n",
        "    # parameters\n",
        "    optimizer.step()"
      ],
      "execution_count": null,
      "outputs": [
        {
          "output_type": "stream",
          "text": [
            "Epoch 10: loss = 550.152099609375\n",
            "Epoch 20: loss = 491.513916015625\n",
            "Epoch 30: loss = 432.72039794921875\n",
            "Epoch 40: loss = 369.6939697265625\n",
            "Epoch 50: loss = 302.154541015625\n",
            "Epoch 60: loss = 234.55767822265625\n",
            "Epoch 70: loss = 173.6392822265625\n",
            "Epoch 80: loss = 124.05020141601562\n",
            "Epoch 90: loss = 86.89012145996094\n",
            "Epoch 100: loss = 60.46564483642578\n",
            "Epoch 110: loss = 42.45393371582031\n",
            "Epoch 120: loss = 30.2360897064209\n",
            "Epoch 130: loss = 21.7821102142334\n",
            "Epoch 140: loss = 15.816312789916992\n",
            "Epoch 150: loss = 11.538751602172852\n",
            "Epoch 160: loss = 8.483081817626953\n",
            "Epoch 170: loss = 6.273039817810059\n",
            "Epoch 180: loss = 4.66347599029541\n",
            "Epoch 190: loss = 3.4928414821624756\n",
            "Epoch 200: loss = 2.6250698566436768\n",
            "Epoch 210: loss = 1.9842159748077393\n",
            "Epoch 220: loss = 1.5087389945983887\n",
            "Epoch 230: loss = 1.1542065143585205\n",
            "Epoch 240: loss = 0.8890576362609863\n",
            "Epoch 250: loss = 0.6898928880691528\n",
            "Epoch 260: loss = 0.5392681360244751\n",
            "Epoch 270: loss = 0.42409276962280273\n",
            "Epoch 280: loss = 0.335199773311615\n",
            "Epoch 290: loss = 0.2661093473434448\n",
            "Epoch 300: loss = 0.21211205422878265\n",
            "Epoch 310: loss = 0.16978974640369415\n",
            "Epoch 320: loss = 0.13644874095916748\n",
            "Epoch 330: loss = 0.11003081500530243\n",
            "Epoch 340: loss = 0.08895178139209747\n",
            "Epoch 350: loss = 0.07213261723518372\n",
            "Epoch 360: loss = 0.058642297983169556\n",
            "Epoch 370: loss = 0.04778995364904404\n",
            "Epoch 380: loss = 0.039043128490448\n",
            "Epoch 390: loss = 0.031970176845788956\n",
            "Epoch 400: loss = 0.026224011555314064\n",
            "Epoch 410: loss = 0.02154373750090599\n",
            "Epoch 420: loss = 0.017732135951519012\n",
            "Epoch 430: loss = 0.014622428454458714\n",
            "Epoch 440: loss = 0.012082861736416817\n",
            "Epoch 450: loss = 0.010000703856348991\n",
            "Epoch 460: loss = 0.008289535529911518\n",
            "Epoch 470: loss = 0.006880117114633322\n",
            "Epoch 480: loss = 0.005713226739317179\n",
            "Epoch 490: loss = 0.004750893451273441\n",
            "Epoch 500: loss = 0.0039548263885080814\n"
          ],
          "name": "stdout"
        }
      ]
    },
    {
      "cell_type": "code",
      "metadata": {
        "id": "toQyqq98-68X",
        "colab": {
          "base_uri": "https://localhost:8080/",
          "height": 483
        },
        "outputId": "50b50842-2de6-43ab-a461-c4baba47160e"
      },
      "source": [
        "fig, ax = plt.subplots(1, 1, figsize=(16, 8))\n",
        "\n",
        "ax.plot(np.asarray(loss_list))\n",
        "\n",
        "plt.show()"
      ],
      "execution_count": null,
      "outputs": [
        {
          "output_type": "display_data",
          "data": {
            "image/png": "[encoded data removed]",
            "text/plain": [
              "<Figure size 1152x576 with 1 Axes>"
            ]
          },
          "metadata": {
            "tags": [],
            "needs_background": "light"
          }
        }
      ]
    },
    {
      "cell_type": "markdown",
      "metadata": {
        "id": "dfb4zBjO0Lua"
      },
      "source": [
        "Informação sobre outras camadas lineares, como nn.Bilinear e nn.Identity, podem ser vistas na documentação: https://pytorch.org/docs/stable/nn.html#linear-layers"
      ]
    }
  ]
}